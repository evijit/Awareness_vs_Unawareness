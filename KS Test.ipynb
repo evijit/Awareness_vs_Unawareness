{
 "cells": [
  {
   "cell_type": "code",
   "execution_count": 12,
   "metadata": {},
   "outputs": [],
   "source": [
    "import pandas as pd\n",
    "import json\n",
    "import os\n",
    "import numpy as np\n",
    "from scipy import stats\n",
    "from sklearn.metrics import f1_score,accuracy_score,recall_score\n",
    "import traceback\n",
    "from scipy.stats import ks_2samp,mannwhitneyu"
   ]
  },
  {
   "cell_type": "code",
   "execution_count": 2,
   "metadata": {},
   "outputs": [],
   "source": [
    "path = 'data/datasets/uci_adult/'"
   ]
  },
  {
   "cell_type": "code",
   "execution_count": 3,
   "metadata": {},
   "outputs": [],
   "source": [
    "train_df = pd.read_csv(path+'train.csv',header=None)\n",
    "\n",
    "train_df.columns = ['age', 'workclass', 'fnlwgt','education', 'education-num', 'marital-status',\n",
    "       'occupation', 'relationship', 'race', 'sex', 'capital-gain',\n",
    "       'capital-loss', 'hours-per-week', 'native-country','income']\n",
    "\n",
    "train_df.index = train_df['sex']\n",
    "\n",
    "train_df = train_df.apply(lambda x: x.str.strip() if x.dtype == \"object\" else x)\n",
    "\n",
    "test_df = pd.read_csv(path+'test.csv',header=None)\n",
    "\n",
    "test_df.columns = ['age', 'workclass', 'fnlwgt','education', 'education-num', 'marital-status',\n",
    "       'occupation', 'relationship', 'race', 'sex', 'capital-gain',\n",
    "       'capital-loss', 'hours-per-week', 'native-country','income']\n",
    "\n",
    "test_df.index = test_df['sex']\n",
    "\n",
    "test_df = test_df.apply(lambda x: x.str.strip() if x.dtype == \"object\" else x)"
   ]
  },
  {
   "cell_type": "code",
   "execution_count": 7,
   "metadata": {},
   "outputs": [],
   "source": [
    "cols = ['age', 'workclass', 'fnlwgt','education', 'education-num', 'marital-status',\n",
    "       'occupation', 'relationship', 'race', 'sex', 'capital-gain',\n",
    "       'capital-loss', 'hours-per-week', 'native-country','income']"
   ]
  },
  {
   "cell_type": "code",
   "execution_count": 10,
   "metadata": {},
   "outputs": [
    {
     "name": "stdout",
     "output_type": "stream",
     "text": [
      "variable KS pval\n",
      "age 0.008194210323058115 0.4573203269241335\n",
      "workclass 0.006475259324421279 0.750401158106466\n",
      "fnlwgt 0.007542447847754652 0.5647969450167365\n",
      "education 0.005443203981902789 0.9028488905354747\n",
      "education-num 0.0037327830366160053 0.9980346348782434\n",
      "marital-status 0.007020364064978302 0.655840216139059\n",
      "occupation 0.00318747079807824 0.9998843582829667\n",
      "relationship 0.005291739887752445 0.9198788528581092\n",
      "race 0.002307773677372449 0.9999999926420625\n",
      "sex 0.002170296833463259 0.9999999994919626\n",
      "capital-gain 0.0027345668420516445 0.9999974102143717\n",
      "capital-loss 0.0007663673827088546 1.0\n",
      "hours-per-week 0.004634461738854095 0.9730467134410624\n",
      "native-country 0.00451727253841698 0.9790057898180077\n",
      "income 0.004583281418753304 0.9757724105832832\n"
     ]
    }
   ],
   "source": [
    "print('variable','KS','pval')\n",
    "for col in cols:\n",
    "    data1 = train_df[col]\n",
    "    data2 = test_df[col]\n",
    "    test = ks_2samp(data1,data2)\n",
    "    print(col,test[0],test[1])"
   ]
  },
  {
   "cell_type": "code",
   "execution_count": 15,
   "metadata": {},
   "outputs": [
    {
     "name": "stdout",
     "output_type": "stream",
     "text": [
      "variable MWU pval\n",
      "age 263609580.5 0.322386498480865\n",
      "workclass 264116149.5 0.42914082317083846\n",
      "fnlwgt 265895013.0 0.5710329444894349\n",
      "education 265508042.0 0.7558756830552512\n",
      "education-num 265720948.0 0.6458211852991997\n",
      "marital-status 263114180.0 0.1538431009812363\n",
      "occupation 264504813.0 0.7025383744494734\n",
      "relationship 265100810.0 0.9783964145376182\n",
      "race 264399624.0 0.4603391700174476\n",
      "sex 265638085.5 0.6310172251285283\n",
      "capital-gain 265617613.0 0.4288841219273798\n",
      "capital-loss 265002545.5 0.9106557212806763\n",
      "hours-per-week 265848592.5 0.5722321445103872\n",
      "native-country 264276882.0 0.30954423274791387\n",
      "income 266277678.0 0.2630656323051428\n"
     ]
    }
   ],
   "source": [
    "print('variable','MWU','pval')\n",
    "for col in cols:\n",
    "    data1 = train_df[col]\n",
    "    data2 = test_df[col]\n",
    "    test = mannwhitneyu(data1,data2,alternative='two-sided')\n",
    "    print(col,test[0],test[1])"
   ]
  },
  {
   "cell_type": "code",
   "execution_count": null,
   "metadata": {},
   "outputs": [],
   "source": []
  }
 ],
 "metadata": {
  "kernelspec": {
   "display_name": "Python [conda env:py37]",
   "language": "python",
   "name": "conda-env-py37-py"
  },
  "language_info": {
   "codemirror_mode": {
    "name": "ipython",
    "version": 3
   },
   "file_extension": ".py",
   "mimetype": "text/x-python",
   "name": "python",
   "nbconvert_exporter": "python",
   "pygments_lexer": "ipython3",
   "version": "3.7.11"
  }
 },
 "nbformat": 4,
 "nbformat_minor": 4
}
