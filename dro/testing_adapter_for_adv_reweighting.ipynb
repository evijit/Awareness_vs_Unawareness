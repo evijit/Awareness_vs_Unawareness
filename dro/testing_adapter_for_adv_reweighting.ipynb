{
  "nbformat": 4,
  "nbformat_minor": 0,
  "metadata": {
    "colab": {
      "name": "FairMLStuff.ipynb",
      "provenance": [],
      "collapsed_sections": [
        "mOCm9dqy5uMo",
        "3dHs5H_Z-npi",
        "QxTMS03mERul"
      ]
    },
    "kernelspec": {
      "name": "python3",
      "display_name": "Python 3"
    },
    "language_info": {
      "name": "python"
    }
  },
  "cells": [
    {
      "cell_type": "markdown",
      "source": [
        "# Testing Usage of Adapter Adversarial Reweighting\n",
        "\n",
        "This notebooks is based off of: https://github.com/Trusted-AI/AIF360/blob/master/examples/demo_adversarial_debiasing.ipynb"
      ],
      "metadata": {
        "id": "IeHIefWT5ikn"
      }
    },
    {
      "cell_type": "markdown",
      "source": [
        "## Imports & Configs"
      ],
      "metadata": {
        "id": "mOCm9dqy5uMo"
      }
    },
    {
      "cell_type": "code",
      "source": [
        "%matplotlib inline\n",
        "# Load all necessary packages\n",
        "import sys\n",
        "sys.path.append(\"../\")\n",
        "from aif360.datasets import BinaryLabelDataset\n",
        "from aif360.datasets import AdultDataset, GermanDataset, CompasDataset\n",
        "from aif360.metrics import BinaryLabelDatasetMetric\n",
        "from aif360.metrics import ClassificationMetric\n",
        "from aif360.metrics.utils import compute_boolean_conditioning_vector\n",
        "\n",
        "from aif360.algorithms.preprocessing.optim_preproc_helpers.data_preproc_functions import load_preproc_data_adult, load_preproc_data_compas, load_preproc_data_german\n",
        "\n",
        "from sklearn.linear_model import LogisticRegression\n",
        "from sklearn.preprocessing import StandardScaler, MaxAbsScaler\n",
        "from sklearn.metrics import accuracy_score\n",
        "\n",
        "from IPython.display import Markdown, display\n",
        "import matplotlib.pyplot as plt\n",
        "\n",
        "import tensorflow.compat.v1 as tf\n",
        "tf.disable_eager_execution()"
      ],
      "metadata": {
        "id": "XU8xdqSS4RA1"
      },
      "execution_count": 2,
      "outputs": []
    },
    {
      "cell_type": "code",
      "source": [
        "from aif360.algorithms.inprocessing.adversarial_debiasing import AdversarialDebiasing"
      ],
      "metadata": {
        "id": "K_YtzW5m6EXq"
      },
      "execution_count": 3,
      "outputs": []
    },
    {
      "cell_type": "code",
      "source": [
        "from adversarial_reweighting_adapter import AdversarialReweightingAdapter"
      ],
      "metadata": {
        "id": "623LIUPT59i0"
      },
      "execution_count": 4,
      "outputs": []
    },
    {
      "cell_type": "markdown",
      "source": [
        "## Loading Dataset"
      ],
      "metadata": {
        "id": "3dHs5H_Z-npi"
      }
    },
    {
      "cell_type": "code",
      "source": [
        "# Get the dataset and split into train and test\n",
        "dataset_orig = load_preproc_data_adult()\n",
        "\n",
        "privileged_groups = [{'sex': 1}]\n",
        "unprivileged_groups = [{'sex': 0}]\n",
        "\n",
        "dataset_orig_train, dataset_orig_test = dataset_orig.split([0.7], shuffle=True)"
      ],
      "metadata": {
        "id": "ctAPrXvI6W83"
      },
      "execution_count": 5,
      "outputs": []
    },
    {
      "cell_type": "code",
      "source": [
        "# print out some labels, names, etc.\n",
        "display(Markdown(\"#### Training Dataset shape\"))\n",
        "print(dataset_orig_train.features.shape)\n",
        "display(Markdown(\"#### Favorable and unfavorable labels\"))\n",
        "print(dataset_orig_train.favorable_label, dataset_orig_train.unfavorable_label)\n",
        "display(Markdown(\"#### Protected attribute names\"))\n",
        "print(dataset_orig_train.protected_attribute_names)\n",
        "display(Markdown(\"#### Privileged and unprivileged protected attribute values\"))\n",
        "print(dataset_orig_train.privileged_protected_attributes, \n",
        "      dataset_orig_train.unprivileged_protected_attributes)\n",
        "display(Markdown(\"#### Dataset feature names\"))\n",
        "print(dataset_orig_train.feature_names)"
      ],
      "metadata": {
        "colab": {
          "base_uri": "https://localhost:8080/",
          "height": 326
        },
        "id": "CywI8PXx_wsE",
        "outputId": "3a145d0a-5528-44fe-82db-61fb2403adb4"
      },
      "execution_count": 6,
      "outputs": [
        {
          "output_type": "display_data",
          "data": {
            "text/plain": [
              "<IPython.core.display.Markdown object>"
            ],
            "text/markdown": "#### Training Dataset shape"
          },
          "metadata": {}
        },
        {
          "output_type": "stream",
          "name": "stdout",
          "text": [
            "(34189, 18)\n"
          ]
        },
        {
          "output_type": "display_data",
          "data": {
            "text/plain": [
              "<IPython.core.display.Markdown object>"
            ],
            "text/markdown": "#### Favorable and unfavorable labels"
          },
          "metadata": {}
        },
        {
          "output_type": "stream",
          "name": "stdout",
          "text": [
            "1.0 0.0\n"
          ]
        },
        {
          "output_type": "display_data",
          "data": {
            "text/plain": [
              "<IPython.core.display.Markdown object>"
            ],
            "text/markdown": "#### Protected attribute names"
          },
          "metadata": {}
        },
        {
          "output_type": "stream",
          "name": "stdout",
          "text": [
            "['sex', 'race']\n"
          ]
        },
        {
          "output_type": "display_data",
          "data": {
            "text/plain": [
              "<IPython.core.display.Markdown object>"
            ],
            "text/markdown": "#### Privileged and unprivileged protected attribute values"
          },
          "metadata": {}
        },
        {
          "output_type": "stream",
          "name": "stdout",
          "text": [
            "[array([1.]), array([1.])] [array([0.]), array([0.])]\n"
          ]
        },
        {
          "output_type": "display_data",
          "data": {
            "text/plain": [
              "<IPython.core.display.Markdown object>"
            ],
            "text/markdown": "#### Dataset feature names"
          },
          "metadata": {}
        },
        {
          "output_type": "stream",
          "name": "stdout",
          "text": [
            "['race', 'sex', 'Age (decade)=10', 'Age (decade)=20', 'Age (decade)=30', 'Age (decade)=40', 'Age (decade)=50', 'Age (decade)=60', 'Age (decade)=>=70', 'Education Years=6', 'Education Years=7', 'Education Years=8', 'Education Years=9', 'Education Years=10', 'Education Years=11', 'Education Years=12', 'Education Years=<6', 'Education Years=>12']\n"
          ]
        }
      ]
    },
    {
      "cell_type": "code",
      "source": [
        "# Metric for the original dataset\n",
        "metric_orig_train = BinaryLabelDatasetMetric(dataset_orig_train, \n",
        "                                             unprivileged_groups=unprivileged_groups,\n",
        "                                             privileged_groups=privileged_groups)\n",
        "display(Markdown(\"#### Original training dataset\"))\n",
        "print(\"Train set: Difference in mean outcomes between unprivileged and privileged groups = %f\" % metric_orig_train.mean_difference())\n",
        "metric_orig_test = BinaryLabelDatasetMetric(dataset_orig_test, \n",
        "                                             unprivileged_groups=unprivileged_groups,\n",
        "                                             privileged_groups=privileged_groups)\n",
        "print(\"Test set: Difference in mean outcomes between unprivileged and privileged groups = %f\" % metric_orig_test.mean_difference())\n"
      ],
      "metadata": {
        "colab": {
          "base_uri": "https://localhost:8080/",
          "height": 112
        },
        "id": "mizv_3dWD2yb",
        "outputId": "fcb18425-282d-4f28-a835-95b0c88b33a8"
      },
      "execution_count": 7,
      "outputs": [
        {
          "output_type": "display_data",
          "data": {
            "text/plain": [
              "<IPython.core.display.Markdown object>"
            ],
            "text/markdown": "#### Original training dataset"
          },
          "metadata": {}
        },
        {
          "output_type": "stream",
          "name": "stdout",
          "text": [
            "Train set: Difference in mean outcomes between unprivileged and privileged groups = -0.189703\n",
            "Test set: Difference in mean outcomes between unprivileged and privileged groups = -0.205752\n"
          ]
        }
      ]
    },
    {
      "cell_type": "code",
      "source": [
        "# min_max_scaler = MaxAbsScaler()\n",
        "# dataset_orig_train.features = min_max_scaler.fit_transform(dataset_orig_train.features)\n",
        "# dataset_orig_test.features = min_max_scaler.transform(dataset_orig_test.features)\n",
        "# metric_scaled_train = BinaryLabelDatasetMetric(dataset_orig_train, \n",
        "#                              unprivileged_groups=unprivileged_groups,\n",
        "#                              privileged_groups=privileged_groups)\n",
        "# display(Markdown(\"#### Scaled dataset - Verify that the scaling does not affect the group label statistics\"))\n",
        "# print(\"Train set: Difference in mean outcomes between unprivileged and privileged groups = %f\" % metric_scaled_train.mean_difference())\n",
        "# metric_scaled_test = BinaryLabelDatasetMetric(dataset_orig_test, \n",
        "#                              unprivileged_groups=unprivileged_groups,\n",
        "#                              privileged_groups=privileged_groups)\n",
        "# print(\"Test set: Difference in mean outcomes between unprivileged and privileged groups = %f\" % metric_scaled_test.mean_difference())"
      ],
      "metadata": {
        "id": "05jA5mb3D-Ok"
      },
      "execution_count": 8,
      "outputs": []
    },
    {
      "cell_type": "markdown",
      "source": [
        "## Baseline model"
      ],
      "metadata": {
        "id": "QxTMS03mERul"
      }
    },
    {
      "cell_type": "code",
      "source": [
        "# Load post-processing algorithm that equalizes the odds\n",
        "# Learn parameters with debias set to False\n",
        "sess = tf.Session()\n",
        "plain_model = AdversarialDebiasing(\n",
        "    privileged_groups = privileged_groups,\n",
        "    unprivileged_groups = unprivileged_groups,\n",
        "    scope_name='plain_classifier',\n",
        "    debias=False,\n",
        "    sess=sess\n",
        ")"
      ],
      "metadata": {
        "colab": {
          "base_uri": "https://localhost:8080/"
        },
        "id": "u8S5EZohETbm",
        "outputId": "42ae4d67-4590-4759-8aa1-26cf691cfb56"
      },
      "execution_count": 9,
      "outputs": [
        {
          "output_type": "stream",
          "name": "stderr",
          "text": [
            "2022-04-06 19:08:14.353095: I tensorflow/core/platform/cpu_feature_guard.cc:142] Your CPU supports instructions that this TensorFlow binary was not compiled to use: AVX2 FMA\n",
            "2022-04-06 19:08:14.400927: I tensorflow/compiler/xla/service/service.cc:168] XLA service 0x7f9d2797a620 initialized for platform Host (this does not guarantee that XLA will be used). Devices:\n",
            "2022-04-06 19:08:14.400950: I tensorflow/compiler/xla/service/service.cc:176]   StreamExecutor device (0): Host, Default Version\n"
          ]
        }
      ]
    },
    {
      "cell_type": "code",
      "source": [
        "plain_model.fit(dataset_orig_train)"
      ],
      "metadata": {
        "colab": {
          "base_uri": "https://localhost:8080/"
        },
        "id": "2BYwiymtEZ9X",
        "outputId": "1b7c79c5-c576-40dd-c3d9-9dae5e76a658"
      },
      "execution_count": 10,
      "outputs": [
        {
          "output_type": "stream",
          "name": "stdout",
          "text": [
            "WARNING:tensorflow:From /Users/pablokvitca/opt/miniconda3/envs/fairml-demo-free-comp/lib/python3.7/site-packages/aif360/algorithms/inprocessing/adversarial_debiasing.py:89: calling dropout (from tensorflow.python.ops.nn_ops) with keep_prob is deprecated and will be removed in a future version.\n",
            "Instructions for updating:\n",
            "Please use `rate` instead of `keep_prob`. Rate should be set to `rate = 1 - keep_prob`.\n",
            "WARNING:tensorflow:From /Users/pablokvitca/opt/miniconda3/envs/fairml-demo-free-comp/lib/python3.7/site-packages/tensorflow_core/python/ops/nn_impl.py:183: where (from tensorflow.python.ops.array_ops) is deprecated and will be removed in a future version.\n",
            "Instructions for updating:\n",
            "Use tf.where in 2.0, which has the same broadcast rule as np.where\n",
            "epoch 0; iter: 0; batch classifier loss: 0.661927\n",
            "epoch 0; iter: 200; batch classifier loss: 0.401323\n",
            "epoch 1; iter: 0; batch classifier loss: 0.457101\n",
            "epoch 1; iter: 200; batch classifier loss: 0.441656\n",
            "epoch 2; iter: 0; batch classifier loss: 0.399996\n",
            "epoch 2; iter: 200; batch classifier loss: 0.395545\n",
            "epoch 3; iter: 0; batch classifier loss: 0.470467\n",
            "epoch 3; iter: 200; batch classifier loss: 0.418490\n",
            "epoch 4; iter: 0; batch classifier loss: 0.461544\n",
            "epoch 4; iter: 200; batch classifier loss: 0.466973\n",
            "epoch 5; iter: 0; batch classifier loss: 0.405223\n",
            "epoch 5; iter: 200; batch classifier loss: 0.374264\n",
            "epoch 6; iter: 0; batch classifier loss: 0.488470\n",
            "epoch 6; iter: 200; batch classifier loss: 0.333958\n",
            "epoch 7; iter: 0; batch classifier loss: 0.456750\n",
            "epoch 7; iter: 200; batch classifier loss: 0.389998\n",
            "epoch 8; iter: 0; batch classifier loss: 0.375725\n",
            "epoch 8; iter: 200; batch classifier loss: 0.431657\n",
            "epoch 9; iter: 0; batch classifier loss: 0.424003\n",
            "epoch 9; iter: 200; batch classifier loss: 0.400408\n",
            "epoch 10; iter: 0; batch classifier loss: 0.441164\n",
            "epoch 10; iter: 200; batch classifier loss: 0.475318\n",
            "epoch 11; iter: 0; batch classifier loss: 0.458114\n",
            "epoch 11; iter: 200; batch classifier loss: 0.401134\n",
            "epoch 12; iter: 0; batch classifier loss: 0.465997\n",
            "epoch 12; iter: 200; batch classifier loss: 0.479321\n",
            "epoch 13; iter: 0; batch classifier loss: 0.507802\n",
            "epoch 13; iter: 200; batch classifier loss: 0.345313\n",
            "epoch 14; iter: 0; batch classifier loss: 0.450311\n",
            "epoch 14; iter: 200; batch classifier loss: 0.436190\n",
            "epoch 15; iter: 0; batch classifier loss: 0.401227\n",
            "epoch 15; iter: 200; batch classifier loss: 0.475379\n",
            "epoch 16; iter: 0; batch classifier loss: 0.393006\n",
            "epoch 16; iter: 200; batch classifier loss: 0.414854\n",
            "epoch 17; iter: 0; batch classifier loss: 0.395067\n",
            "epoch 17; iter: 200; batch classifier loss: 0.393161\n",
            "epoch 18; iter: 0; batch classifier loss: 0.410435\n",
            "epoch 18; iter: 200; batch classifier loss: 0.438905\n",
            "epoch 19; iter: 0; batch classifier loss: 0.466375\n",
            "epoch 19; iter: 200; batch classifier loss: 0.391662\n",
            "epoch 20; iter: 0; batch classifier loss: 0.407705\n",
            "epoch 20; iter: 200; batch classifier loss: 0.396461\n",
            "epoch 21; iter: 0; batch classifier loss: 0.373477\n",
            "epoch 21; iter: 200; batch classifier loss: 0.421026\n",
            "epoch 22; iter: 0; batch classifier loss: 0.491531\n",
            "epoch 22; iter: 200; batch classifier loss: 0.511894\n",
            "epoch 23; iter: 0; batch classifier loss: 0.393738\n",
            "epoch 23; iter: 200; batch classifier loss: 0.392990\n",
            "epoch 24; iter: 0; batch classifier loss: 0.412441\n",
            "epoch 24; iter: 200; batch classifier loss: 0.381128\n",
            "epoch 25; iter: 0; batch classifier loss: 0.381606\n",
            "epoch 25; iter: 200; batch classifier loss: 0.380595\n",
            "epoch 26; iter: 0; batch classifier loss: 0.346880\n",
            "epoch 26; iter: 200; batch classifier loss: 0.406916\n",
            "epoch 27; iter: 0; batch classifier loss: 0.534999\n",
            "epoch 27; iter: 200; batch classifier loss: 0.433140\n",
            "epoch 28; iter: 0; batch classifier loss: 0.487361\n",
            "epoch 28; iter: 200; batch classifier loss: 0.430113\n",
            "epoch 29; iter: 0; batch classifier loss: 0.400779\n",
            "epoch 29; iter: 200; batch classifier loss: 0.469883\n",
            "epoch 30; iter: 0; batch classifier loss: 0.471272\n",
            "epoch 30; iter: 200; batch classifier loss: 0.406711\n",
            "epoch 31; iter: 0; batch classifier loss: 0.442584\n",
            "epoch 31; iter: 200; batch classifier loss: 0.419222\n",
            "epoch 32; iter: 0; batch classifier loss: 0.418213\n",
            "epoch 32; iter: 200; batch classifier loss: 0.397845\n",
            "epoch 33; iter: 0; batch classifier loss: 0.391445\n",
            "epoch 33; iter: 200; batch classifier loss: 0.335221\n",
            "epoch 34; iter: 0; batch classifier loss: 0.402560\n",
            "epoch 34; iter: 200; batch classifier loss: 0.428205\n",
            "epoch 35; iter: 0; batch classifier loss: 0.389418\n",
            "epoch 35; iter: 200; batch classifier loss: 0.459086\n",
            "epoch 36; iter: 0; batch classifier loss: 0.392181\n",
            "epoch 36; iter: 200; batch classifier loss: 0.392885\n",
            "epoch 37; iter: 0; batch classifier loss: 0.459729\n",
            "epoch 37; iter: 200; batch classifier loss: 0.465977\n",
            "epoch 38; iter: 0; batch classifier loss: 0.416719\n",
            "epoch 38; iter: 200; batch classifier loss: 0.448313\n",
            "epoch 39; iter: 0; batch classifier loss: 0.434831\n",
            "epoch 39; iter: 200; batch classifier loss: 0.424897\n",
            "epoch 40; iter: 0; batch classifier loss: 0.515096\n",
            "epoch 40; iter: 200; batch classifier loss: 0.459735\n",
            "epoch 41; iter: 0; batch classifier loss: 0.380464\n",
            "epoch 41; iter: 200; batch classifier loss: 0.444493\n",
            "epoch 42; iter: 0; batch classifier loss: 0.496894\n",
            "epoch 42; iter: 200; batch classifier loss: 0.420188\n",
            "epoch 43; iter: 0; batch classifier loss: 0.410189\n",
            "epoch 43; iter: 200; batch classifier loss: 0.442034\n",
            "epoch 44; iter: 0; batch classifier loss: 0.401619\n",
            "epoch 44; iter: 200; batch classifier loss: 0.361376\n",
            "epoch 45; iter: 0; batch classifier loss: 0.400727\n",
            "epoch 45; iter: 200; batch classifier loss: 0.501395\n",
            "epoch 46; iter: 0; batch classifier loss: 0.494796\n",
            "epoch 46; iter: 200; batch classifier loss: 0.445747\n",
            "epoch 47; iter: 0; batch classifier loss: 0.443781\n",
            "epoch 47; iter: 200; batch classifier loss: 0.401883\n",
            "epoch 48; iter: 0; batch classifier loss: 0.354258\n",
            "epoch 48; iter: 200; batch classifier loss: 0.426867\n",
            "epoch 49; iter: 0; batch classifier loss: 0.409922\n",
            "epoch 49; iter: 200; batch classifier loss: 0.391106\n"
          ]
        },
        {
          "output_type": "execute_result",
          "data": {
            "text/plain": [
              "<aif360.algorithms.inprocessing.adversarial_debiasing.AdversarialDebiasing at 0x7f9d1bbb9e50>"
            ]
          },
          "metadata": {},
          "execution_count": 10
        }
      ]
    },
    {
      "cell_type": "code",
      "source": [
        "# Apply the plain model to test data\n",
        "dataset_nodebiasing_train = plain_model.predict(dataset_orig_train)\n",
        "dataset_nodebiasing_test = plain_model.predict(dataset_orig_test)"
      ],
      "metadata": {
        "id": "40VnGI6FElfH"
      },
      "execution_count": 11,
      "outputs": []
    },
    {
      "cell_type": "code",
      "source": [
        "# Metrics for the dataset from plain model (without debiasing)\n",
        "display(Markdown(\"#### Plain model - without debiasing - dataset metrics\"))\n",
        "metric_dataset_nodebiasing_train = BinaryLabelDatasetMetric(dataset_nodebiasing_train, \n",
        "                                             unprivileged_groups=unprivileged_groups,\n",
        "                                             privileged_groups=privileged_groups)\n",
        "\n",
        "print(\"Train set: Difference in mean outcomes between unprivileged and privileged groups = %f\" % metric_dataset_nodebiasing_train.mean_difference())\n",
        "\n",
        "metric_dataset_nodebiasing_test = BinaryLabelDatasetMetric(dataset_nodebiasing_test, \n",
        "                                             unprivileged_groups=unprivileged_groups,\n",
        "                                             privileged_groups=privileged_groups)\n",
        "\n",
        "print(\"Test set: Difference in mean outcomes between unprivileged and privileged groups = %f\" % metric_dataset_nodebiasing_test.mean_difference())\n",
        "\n",
        "display(Markdown(\"#### Plain model - without debiasing - classification metrics\"))\n",
        "classified_metric_nodebiasing_test = ClassificationMetric(dataset_orig_test, \n",
        "                                                 dataset_nodebiasing_test,\n",
        "                                                 unprivileged_groups=unprivileged_groups,\n",
        "                                                 privileged_groups=privileged_groups)\n",
        "print(\"Test set: Classification accuracy = %f\" % classified_metric_nodebiasing_test.accuracy())\n",
        "TPR = classified_metric_nodebiasing_test.true_positive_rate()\n",
        "TNR = classified_metric_nodebiasing_test.true_negative_rate()\n",
        "bal_acc_nodebiasing_test = 0.5*(TPR+TNR)\n",
        "print(\"Test set: Balanced classification accuracy = %f\" % bal_acc_nodebiasing_test)\n",
        "print(\"Test set: Disparate impact = %f\" % classified_metric_nodebiasing_test.disparate_impact())\n",
        "print(\"Test set: Equal opportunity difference = %f\" % classified_metric_nodebiasing_test.equal_opportunity_difference())\n",
        "print(\"Test set: Average odds difference = %f\" % classified_metric_nodebiasing_test.average_odds_difference())\n",
        "print(\"Test set: Theil_index = %f\" % classified_metric_nodebiasing_test.theil_index())"
      ],
      "metadata": {
        "colab": {
          "base_uri": "https://localhost:8080/",
          "height": 260
        },
        "id": "k9Ekspv6EpTZ",
        "outputId": "948ab58e-01da-41d1-c20d-1b871b8bfc56"
      },
      "execution_count": 12,
      "outputs": [
        {
          "output_type": "display_data",
          "data": {
            "text/plain": [
              "<IPython.core.display.Markdown object>"
            ],
            "text/markdown": "#### Plain model - without debiasing - dataset metrics"
          },
          "metadata": {}
        },
        {
          "output_type": "stream",
          "name": "stdout",
          "text": [
            "Train set: Difference in mean outcomes between unprivileged and privileged groups = -0.216255\n",
            "Test set: Difference in mean outcomes between unprivileged and privileged groups = -0.221813\n"
          ]
        },
        {
          "output_type": "display_data",
          "data": {
            "text/plain": [
              "<IPython.core.display.Markdown object>"
            ],
            "text/markdown": "#### Plain model - without debiasing - classification metrics"
          },
          "metadata": {}
        },
        {
          "output_type": "stream",
          "name": "stdout",
          "text": [
            "Test set: Classification accuracy = 0.802225\n",
            "Test set: Balanced classification accuracy = 0.664768\n",
            "Test set: Disparate impact = 0.000000\n",
            "Test set: Equal opportunity difference = -0.464849\n",
            "Test set: Average odds difference = -0.288294\n",
            "Test set: Theil_index = 0.178652\n"
          ]
        }
      ]
    },
    {
      "cell_type": "code",
      "source": [
        "sess.close()\n",
        "tf.reset_default_graph()"
      ],
      "metadata": {
        "id": "EVfWvkfKEvKG"
      },
      "execution_count": 13,
      "outputs": []
    },
    {
      "cell_type": "markdown",
      "source": [
        "## Adversarial Reweighting Model"
      ],
      "metadata": {
        "id": "oehbyeC7E27h"
      }
    },
    {
      "cell_type": "code",
      "source": [
        "from group_agnostic_fairness.data_utils.uci_adult_input import UCIAdultInput"
      ],
      "metadata": {
        "id": "cXp1HT8CFwWm"
      },
      "execution_count": 14,
      "outputs": []
    },
    {
      "cell_type": "code",
      "source": [
        "FLAGS_dataset_base_dir = './group_agnostic_fairness/data/uci_adult'\n",
        "FLAGS_train_file = f'{FLAGS_dataset_base_dir}/adult.data'\n",
        "FLAGS_test_file = f'{FLAGS_dataset_base_dir}/adult.test'"
      ],
      "metadata": {
        "id": "OYI37d0HFz_G"
      },
      "execution_count": 15,
      "outputs": []
    },
    {
      "cell_type": "code",
      "source": [
        "adult_dataset_input = UCIAdultInput(\n",
        "    dataset_base_dir=FLAGS_dataset_base_dir,\n",
        "    train_file=FLAGS_train_file,\n",
        "    test_file=FLAGS_test_file\n",
        ")"
      ],
      "metadata": {
        "id": "rNfEWK5BE_-1"
      },
      "execution_count": 16,
      "outputs": []
    },
    {
      "cell_type": "code",
      "source": [
        "sess = tf.Session()"
      ],
      "metadata": {
        "id": "6UoylO9wGT3s"
      },
      "execution_count": 17,
      "outputs": []
    },
    {
      "cell_type": "code",
      "source": [
        "model_output_dir = \"./adv_reweighted_run_model\""
      ],
      "metadata": {
        "id": "HNafY4y9Gq1-"
      },
      "execution_count": 18,
      "outputs": []
    },
    {
      "cell_type": "code",
      "source": [
        "reweighted_model = AdversarialReweightingAdapter(\n",
        "    adult_dataset_input.feature_names,\n",
        "    adult_dataset_input.target_column_name,\n",
        "    model_output_dir,\n",
        "    adult_dataset_input\n",
        ")"
      ],
      "metadata": {
        "colab": {
          "base_uri": "https://localhost:8080/",
          "height": 561
        },
        "id": "F9k9xFD5E2AX",
        "outputId": "61b00017-3be1-4a77-a947-1fa8bfdbc997"
      },
      "execution_count": 19,
      "outputs": [
        {
          "output_type": "error",
          "ename": "UnparsedFlagAccessError",
          "evalue": "ignored",
          "traceback": [
            "\u001b[0;31m---------------------------------------------------------------------------\u001b[0m",
            "\u001b[0;31mUnparsedFlagAccessError\u001b[0m                   Traceback (most recent call last)",
            "\u001b[0;32m/var/folders/tv/5x2dppvx0q35zy5077krck6m0000gn/T/ipykernel_61173/776097845.py\u001b[0m in \u001b[0;36m<module>\u001b[0;34m\u001b[0m\n\u001b[1;32m      3\u001b[0m     \u001b[0madult_dataset_input\u001b[0m\u001b[0;34m.\u001b[0m\u001b[0mtarget_column_name\u001b[0m\u001b[0;34m,\u001b[0m\u001b[0;34m\u001b[0m\u001b[0;34m\u001b[0m\u001b[0m\n\u001b[1;32m      4\u001b[0m     \u001b[0mmodel_output_dir\u001b[0m\u001b[0;34m,\u001b[0m\u001b[0;34m\u001b[0m\u001b[0;34m\u001b[0m\u001b[0m\n\u001b[0;32m----> 5\u001b[0;31m     \u001b[0madult_dataset_input\u001b[0m\u001b[0;34m\u001b[0m\u001b[0;34m\u001b[0m\u001b[0m\n\u001b[0m\u001b[1;32m      6\u001b[0m )\n",
            "\u001b[0;32m~/Projects/Academic/NEU/FAIRAI/comparing-demographic-free-to-aware/adversarial_reweighting_adapter.py\u001b[0m in \u001b[0;36m__init__\u001b[0;34m(self, feature_columns, label_column_name, model_dir, dataset_input, print_dir)\u001b[0m\n\u001b[1;32m    195\u001b[0m         _feature_columns, _, self.protected_groups, _label_column_name = (\n\u001b[1;32m    196\u001b[0m             dataset_input.get_feature_columns(\n\u001b[0;32m--> 197\u001b[0;31m                 \u001b[0membedding_dimension\u001b[0m\u001b[0;34m=\u001b[0m\u001b[0mFLAGS\u001b[0m\u001b[0;34m.\u001b[0m\u001b[0membedding_dimension\u001b[0m\u001b[0;34m,\u001b[0m\u001b[0;34m\u001b[0m\u001b[0;34m\u001b[0m\u001b[0m\n\u001b[0m\u001b[1;32m    198\u001b[0m                 \u001b[0minclude_sensitive_columns\u001b[0m\u001b[0;34m=\u001b[0m\u001b[0mFLAGS\u001b[0m\u001b[0;34m.\u001b[0m\u001b[0minclude_sensitive_columns\u001b[0m\u001b[0;34m\u001b[0m\u001b[0;34m\u001b[0m\u001b[0m\n\u001b[1;32m    199\u001b[0m             )\n",
            "\u001b[0;32m~/opt/miniconda3/envs/fairml-demo-free-comp/lib/python3.7/site-packages/absl/flags/_flagvalues.py\u001b[0m in \u001b[0;36m__getattr__\u001b[0;34m(self, name)\u001b[0m\n\u001b[1;32m    497\u001b[0m         \u001b[0;31m# get too much noise.\u001b[0m\u001b[0;34m\u001b[0m\u001b[0;34m\u001b[0m\u001b[0;34m\u001b[0m\u001b[0m\n\u001b[1;32m    498\u001b[0m         \u001b[0mlogging\u001b[0m\u001b[0;34m.\u001b[0m\u001b[0merror\u001b[0m\u001b[0;34m(\u001b[0m\u001b[0merror_message\u001b[0m\u001b[0;34m)\u001b[0m\u001b[0;34m\u001b[0m\u001b[0;34m\u001b[0m\u001b[0m\n\u001b[0;32m--> 499\u001b[0;31m       \u001b[0;32mraise\u001b[0m \u001b[0m_exceptions\u001b[0m\u001b[0;34m.\u001b[0m\u001b[0mUnparsedFlagAccessError\u001b[0m\u001b[0;34m(\u001b[0m\u001b[0merror_message\u001b[0m\u001b[0;34m)\u001b[0m\u001b[0;34m\u001b[0m\u001b[0;34m\u001b[0m\u001b[0m\n\u001b[0m\u001b[1;32m    500\u001b[0m \u001b[0;34m\u001b[0m\u001b[0m\n\u001b[1;32m    501\u001b[0m   \u001b[0;32mdef\u001b[0m \u001b[0m__setattr__\u001b[0m\u001b[0;34m(\u001b[0m\u001b[0mself\u001b[0m\u001b[0;34m,\u001b[0m \u001b[0mname\u001b[0m\u001b[0;34m,\u001b[0m \u001b[0mvalue\u001b[0m\u001b[0;34m)\u001b[0m\u001b[0;34m:\u001b[0m\u001b[0;34m\u001b[0m\u001b[0;34m\u001b[0m\u001b[0m\n",
            "\u001b[0;31mUnparsedFlagAccessError\u001b[0m: Trying to access flag --embedding_dimension before flags were parsed."
          ]
        }
      ]
    },
    {
      "cell_type": "code",
      "source": [
        ""
      ],
      "metadata": {
        "id": "MKRo2ivzHHRi"
      },
      "execution_count": null,
      "outputs": []
    }
  ]
}