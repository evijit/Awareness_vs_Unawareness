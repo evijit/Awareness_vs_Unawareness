{
 "cells": [
  {
   "cell_type": "code",
   "execution_count": 4,
   "metadata": {},
   "outputs": [],
   "source": [
    "import json,os\n",
    "from glob import glob\n",
    "\n",
    "\n",
    "def writejson(path,arr,name):\n",
    "    try:\n",
    "        os.mkdir(path+'preds/')\n",
    "    except:\n",
    "        pass\n",
    "    f = open(path+'preds/'+name,'w')\n",
    "    json.dump(arr.tolist(),f)\n",
    "    f.close()"
   ]
  },
  {
   "cell_type": "markdown",
   "metadata": {},
   "source": [
    "## The test set of this has to be fixed"
   ]
  },
  {
   "cell_type": "code",
   "execution_count": 5,
   "metadata": {},
   "outputs": [],
   "source": [
    "path = 'data/datasets/uci_adult/'\n",
    "synthfols = glob(\"data/datasets/uci_adult/synthetic/*_version0/\")\n",
    "paths = [path]\n",
    "paths.extend(synthfols)"
   ]
  },
  {
   "cell_type": "code",
   "execution_count": 6,
   "metadata": {},
   "outputs": [],
   "source": [
    "def task(path):  \n",
    "    if os.path.exists(path+'preds/noisylabels_peerloss_pred') == False:\n",
    "        os.system('python3 fair-classification-with-noisy-labels/run.py --path '+path)\n",
    "    return path,\"Done\""
   ]
  },
  {
   "cell_type": "code",
   "execution_count": null,
   "metadata": {
    "scrolled": true
   },
   "outputs": [
    {
     "name": "stdout",
     "output_type": "stream",
     "text": [
      "[[1. 0.]\n",
      " [0. 1.]]\n",
      "[DEBUG][EST] Estimating Group 0\n",
      "[DEBUG] Estimated Noise Matrix [[0.7807947  0.02164578]\n",
      " [0.2192053  0.97835422]].\n",
      "[DEBUG][EST] Estimating Group 1\n",
      "[DEBUG] Estimated Noise Matrix [[0.79915829 0.06182872]\n",
      " [0.20084171 0.93817128]].\n",
      "True error rate is [[0.0, 0.0], [0.0, 0.0]].\n",
      "Estimated error rate is [[0.21920529801324506, 0.021645780387345548], [0.2008417114800094, 0.0618287208046826]].\n"
     ]
    },
    {
     "name": "stderr",
     "output_type": "stream",
     "text": [
      "RuntimeError: module compiled against API version 0xe but this version of numpy is 0xd\n"
     ]
    },
    {
     "name": "stdout",
     "output_type": "stream",
     "text": [
      "[[1. 0.]\n",
      " [0. 1.]]\n",
      "[DEBUG][EST] Estimating Group 0\n",
      "[DEBUG] Estimated Noise Matrix [[0.78189749 0.02128892]\n",
      " [0.21810251 0.97871108]].\n",
      "[DEBUG][EST] Estimating Group 1\n",
      "[DEBUG] Estimated Noise Matrix [[0.79796098 0.06185567]\n",
      " [0.20203902 0.93814433]].\n",
      "True error rate is [[0.0, 0.0], [0.0, 0.0]].\n",
      "Estimated error rate is [[0.21810250817884402, 0.021288921071687228], [0.2020390157827664, 0.061855670103092786]].\n"
     ]
    },
    {
     "name": "stderr",
     "output_type": "stream",
     "text": [
      "RuntimeError: module compiled against API version 0xe but this version of numpy is 0xd\n"
     ]
    },
    {
     "name": "stdout",
     "output_type": "stream",
     "text": [
      "[[1. 0.]\n",
      " [0. 1.]]\n",
      "[DEBUG][EST] Estimating Group 0\n",
      "[DEBUG] Estimated Noise Matrix [[0.8122449 0.0171327]\n",
      " [0.1877551 0.9828673]].\n",
      "[DEBUG][EST] Estimating Group 1\n",
      "[DEBUG] Estimated Noise Matrix [[0.79499596 0.07281376]\n",
      " [0.20500404 0.92718624]].\n",
      "True error rate is [[0.0, 0.0], [0.0, 0.0]].\n",
      "Estimated error rate is [[0.18775510204081636, 0.017132697591724533], [0.20500403551251012, 0.0728137577753385]].\n",
      "[[1. 0.]\n",
      " [0. 1.]]\n",
      "[DEBUG][EST] Estimating Group 0\n",
      "[DEBUG] Estimated Noise Matrix [[0.80412931 0.01898964]\n",
      " [0.19587069 0.98101036]].\n",
      "[DEBUG][EST] Estimating Group 1\n",
      "[DEBUG] Estimated Noise Matrix [[0.78436764 0.06798705]\n",
      " [0.21563236 0.93201295]].\n",
      "True error rate is [[0.0, 0.0], [0.0, 0.0]].\n",
      "Estimated error rate is [[0.1958706873132301, 0.01898963542799159], [0.2156323644933229, 0.06798705008569794]].\n"
     ]
    },
    {
     "name": "stderr",
     "output_type": "stream",
     "text": [
      "RuntimeError: module compiled against API version 0xe but this version of numpy is 0xd\n",
      "RuntimeError: module compiled against API version 0xe but this version of numpy is 0xd\n"
     ]
    },
    {
     "name": "stdout",
     "output_type": "stream",
     "text": [
      "[[1. 0.]\n",
      " [0. 1.]]\n",
      "[DEBUG][EST] Estimating Group 0\n",
      "[DEBUG] Estimated Noise Matrix [[0.91604513 0.04908616]\n",
      " [0.08395487 0.95091384]].\n",
      "[DEBUG][EST] Estimating Group 1\n",
      "[DEBUG] Estimated Noise Matrix [[0.80030381 0.06224467]\n",
      " [0.19969619 0.93775533]].\n",
      "True error rate is [[0.0, 0.0], [0.0, 0.0]].\n",
      "Estimated error rate is [[0.08395486708739719, 0.04908616187989556], [0.19969619069876143, 0.06224466636404902]].\n"
     ]
    },
    {
     "name": "stderr",
     "output_type": "stream",
     "text": [
      "RuntimeError: module compiled against API version 0xe but this version of numpy is 0xd\n"
     ]
    },
    {
     "name": "stdout",
     "output_type": "stream",
     "text": [
      "[[1. 0.]\n",
      " [0. 1.]]\n",
      "[DEBUG][EST] Estimating Group 0\n",
      "[DEBUG] Estimated Noise Matrix [[0.83929931 0.03265744]\n",
      " [0.16070069 0.96734256]].\n",
      "[DEBUG][EST] Estimating Group 1\n",
      "[DEBUG] Estimated Noise Matrix [[0.79547063 0.06510814]\n",
      " [0.20452937 0.93489186]].\n",
      "True error rate is [[0.0, 0.0], [0.0, 0.0]].\n",
      "Estimated error rate is [[0.16070068545316074, 0.03265743809709498], [0.2045293701344657, 0.06510813710542662]].\n"
     ]
    },
    {
     "name": "stderr",
     "output_type": "stream",
     "text": [
      "RuntimeError: module compiled against API version 0xe but this version of numpy is 0xd\n"
     ]
    },
    {
     "name": "stdout",
     "output_type": "stream",
     "text": [
      "[INFO][RUN] Clean\n",
      "Running fairness constraint: 0.05, Training Accuracy: 85.37, Test Accuracy: 85.78, Training Violation: 7.33, Test Violation: 13.22, Time cost: 10.071791410446167\n",
      "[INFO][RUN] Surrogate Loss.\n"
     ]
    },
    {
     "name": "stderr",
     "output_type": "stream",
     "text": [
      "Traceback (most recent call last):\n",
      "  File \"fair-classification-with-noisy-labels/run.py\", line 377, in <module>\n",
      "    sl_result = run_surrogate(tolerance, est=True)\n",
      "  File \"fair-classification-with-noisy-labels/run.py\", line 345, in run_surrogate\n",
      "    sweep.fit(X_train, Y_noised, sensitive_features=A_train)\n",
      "  File \"/home/avijit/anaconda3/envs/noisy/lib/python3.7/site-packages/fairlearn/reductions/_exponentiated_gradient/exponentiated_gradient.py\", line 87, in fit\n",
      "    X, y, enforce_binary_labels=is_classification_reduction, **kwargs)\n",
      "  File \"/home/avijit/anaconda3/envs/noisy/lib/python3.7/site-packages/fairlearn/_input_validation.py\", line 75, in _validate_and_reformat_input\n",
      "    sensitive_features = check_array(sensitive_features, ensure_2d=False, dtype=None)\n",
      "  File \"/home/avijit/anaconda3/envs/noisy/lib/python3.7/site-packages/sklearn/utils/validation.py\", line 73, in inner_f\n",
      "    return f(**kwargs)\n",
      "  File \"/home/avijit/anaconda3/envs/noisy/lib/python3.7/site-packages/sklearn/utils/validation.py\", line 646, in check_array\n",
      "    allow_nan=force_all_finite == 'allow-nan')\n",
      "  File \"/home/avijit/anaconda3/envs/noisy/lib/python3.7/site-packages/sklearn/utils/validation.py\", line 100, in _assert_all_finite\n",
      "    msg_dtype if msg_dtype is not None else X.dtype)\n",
      "ValueError: Input contains NaN, infinity or a value too large for dtype('float64').\n"
     ]
    },
    {
     "name": "stdout",
     "output_type": "stream",
     "text": [
      "('data/datasets/uci_adult/synthetic/female_baserate0.1_version0/', 'Done')\n",
      "[INFO][RUN] Clean\n",
      "Running fairness constraint: 0.05, Training Accuracy: 83.27, Test Accuracy: 83.32, Training Violation: 7.25, Test Violation: 5.96, Time cost: 8.61246395111084\n",
      "[INFO][RUN] Surrogate Loss.\n"
     ]
    },
    {
     "name": "stderr",
     "output_type": "stream",
     "text": [
      "Traceback (most recent call last):\n",
      "  File \"fair-classification-with-noisy-labels/run.py\", line 377, in <module>\n",
      "    sl_result = run_surrogate(tolerance, est=True)\n",
      "  File \"fair-classification-with-noisy-labels/run.py\", line 345, in run_surrogate\n",
      "    sweep.fit(X_train, Y_noised, sensitive_features=A_train)\n",
      "  File \"/home/avijit/anaconda3/envs/noisy/lib/python3.7/site-packages/fairlearn/reductions/_exponentiated_gradient/exponentiated_gradient.py\", line 87, in fit\n",
      "    X, y, enforce_binary_labels=is_classification_reduction, **kwargs)\n",
      "  File \"/home/avijit/anaconda3/envs/noisy/lib/python3.7/site-packages/fairlearn/_input_validation.py\", line 75, in _validate_and_reformat_input\n",
      "    sensitive_features = check_array(sensitive_features, ensure_2d=False, dtype=None)\n",
      "  File \"/home/avijit/anaconda3/envs/noisy/lib/python3.7/site-packages/sklearn/utils/validation.py\", line 73, in inner_f\n",
      "    return f(**kwargs)\n",
      "  File \"/home/avijit/anaconda3/envs/noisy/lib/python3.7/site-packages/sklearn/utils/validation.py\", line 646, in check_array\n",
      "    allow_nan=force_all_finite == 'allow-nan')\n",
      "  File \"/home/avijit/anaconda3/envs/noisy/lib/python3.7/site-packages/sklearn/utils/validation.py\", line 100, in _assert_all_finite\n",
      "    msg_dtype if msg_dtype is not None else X.dtype)\n",
      "ValueError: Input contains NaN, infinity or a value too large for dtype('float64').\n"
     ]
    },
    {
     "name": "stdout",
     "output_type": "stream",
     "text": [
      "('data/datasets/uci_adult/synthetic/female_baserate0.3_version0/', 'Done')\n",
      "[INFO][RUN] Clean\n",
      "Running fairness constraint: 0.05, Training Accuracy: 83.11, Test Accuracy: 82.68, Training Violation: 8.89, Test Violation: 9.07, Time cost: 10.721767902374268\n",
      "[INFO][RUN] Surrogate Loss.\n"
     ]
    },
    {
     "name": "stderr",
     "output_type": "stream",
     "text": [
      "Traceback (most recent call last):\n",
      "  File \"fair-classification-with-noisy-labels/run.py\", line 377, in <module>\n",
      "    sl_result = run_surrogate(tolerance, est=True)\n",
      "  File \"fair-classification-with-noisy-labels/run.py\", line 345, in run_surrogate\n",
      "    sweep.fit(X_train, Y_noised, sensitive_features=A_train)\n",
      "  File \"/home/avijit/anaconda3/envs/noisy/lib/python3.7/site-packages/fairlearn/reductions/_exponentiated_gradient/exponentiated_gradient.py\", line 87, in fit\n",
      "    X, y, enforce_binary_labels=is_classification_reduction, **kwargs)\n",
      "  File \"/home/avijit/anaconda3/envs/noisy/lib/python3.7/site-packages/fairlearn/_input_validation.py\", line 75, in _validate_and_reformat_input\n",
      "    sensitive_features = check_array(sensitive_features, ensure_2d=False, dtype=None)\n",
      "  File \"/home/avijit/anaconda3/envs/noisy/lib/python3.7/site-packages/sklearn/utils/validation.py\", line 73, in inner_f\n",
      "    return f(**kwargs)\n",
      "  File \"/home/avijit/anaconda3/envs/noisy/lib/python3.7/site-packages/sklearn/utils/validation.py\", line 646, in check_array\n",
      "    allow_nan=force_all_finite == 'allow-nan')\n",
      "  File \"/home/avijit/anaconda3/envs/noisy/lib/python3.7/site-packages/sklearn/utils/validation.py\", line 100, in _assert_all_finite\n",
      "    msg_dtype if msg_dtype is not None else X.dtype)\n",
      "ValueError: Input contains NaN, infinity or a value too large for dtype('float64').\n"
     ]
    },
    {
     "name": "stdout",
     "output_type": "stream",
     "text": [
      "('data/datasets/uci_adult/synthetic/female_baserate0.4_version0/', 'Done')\n",
      "[INFO][RUN] Clean\n",
      "Running fairness constraint: 0.05, Training Accuracy: 84.33, Test Accuracy: 83.81, Training Violation: 3.38, Test Violation: 2.82, Time cost: 13.90065336227417\n",
      "[INFO][RUN] Surrogate Loss.\n"
     ]
    },
    {
     "name": "stderr",
     "output_type": "stream",
     "text": [
      "Traceback (most recent call last):\n",
      "  File \"fair-classification-with-noisy-labels/run.py\", line 377, in <module>\n",
      "    sl_result = run_surrogate(tolerance, est=True)\n",
      "  File \"fair-classification-with-noisy-labels/run.py\", line 345, in run_surrogate\n",
      "    sweep.fit(X_train, Y_noised, sensitive_features=A_train)\n",
      "  File \"/home/avijit/anaconda3/envs/noisy/lib/python3.7/site-packages/fairlearn/reductions/_exponentiated_gradient/exponentiated_gradient.py\", line 87, in fit\n",
      "    X, y, enforce_binary_labels=is_classification_reduction, **kwargs)\n",
      "  File \"/home/avijit/anaconda3/envs/noisy/lib/python3.7/site-packages/fairlearn/_input_validation.py\", line 75, in _validate_and_reformat_input\n",
      "    sensitive_features = check_array(sensitive_features, ensure_2d=False, dtype=None)\n",
      "  File \"/home/avijit/anaconda3/envs/noisy/lib/python3.7/site-packages/sklearn/utils/validation.py\", line 73, in inner_f\n",
      "    return f(**kwargs)\n",
      "  File \"/home/avijit/anaconda3/envs/noisy/lib/python3.7/site-packages/sklearn/utils/validation.py\", line 646, in check_array\n",
      "    allow_nan=force_all_finite == 'allow-nan')\n",
      "  File \"/home/avijit/anaconda3/envs/noisy/lib/python3.7/site-packages/sklearn/utils/validation.py\", line 100, in _assert_all_finite\n",
      "    msg_dtype if msg_dtype is not None else X.dtype)\n",
      "ValueError: Input contains NaN, infinity or a value too large for dtype('float64').\n"
     ]
    },
    {
     "name": "stdout",
     "output_type": "stream",
     "text": [
      "[INFO][RUN] Clean\n",
      "Running fairness constraint: 0.05, Training Accuracy: 89.85, Test Accuracy: 89.35, Training Violation: 5.41, Test Violation: 6.05, Time cost: 18.636563777923584\n",
      "[INFO][RUN] Surrogate Loss.\n",
      "[[1. 0.]\n",
      " [0. 1.]]\n",
      "[DEBUG][EST] Estimating Group 0\n",
      "[DEBUG] Estimated Noise Matrix [[0.93036425 0.06105064]\n",
      " [0.06963575 0.93894936]].\n",
      "[DEBUG][EST] Estimating Group 1\n",
      "[DEBUG] Estimated Noise Matrix [[0.80472385 0.06180532]\n",
      " [0.19527615 0.93819468]].\n",
      "True error rate is [[0.0, 0.0], [0.0, 0.0]].\n",
      "Estimated error rate is [[0.0696357514539333, 0.06105063890203499], [0.19527615412143629, 0.0618053216571236]].\n",
      "('data/datasets/uci_adult/synthetic/female_baserate0.2_version0/', 'Done')\n"
     ]
    },
    {
     "name": "stderr",
     "output_type": "stream",
     "text": [
      "RuntimeError: module compiled against API version 0xe but this version of numpy is 0xd\n"
     ]
    },
    {
     "name": "stdout",
     "output_type": "stream",
     "text": [
      "[INFO][RUN] Clean\n",
      "Running fairness constraint: 0.05, Training Accuracy: 87.37, Test Accuracy: 86.62, Training Violation: 7.64, Test Violation: 4.33, Time cost: 10.718986988067627\n",
      "[INFO][RUN] Surrogate Loss.\n",
      "[[1. 0.]\n",
      " [0. 1.]]\n",
      "[DEBUG][EST] Estimating Group 0\n",
      "[DEBUG] Estimated Noise Matrix [[0.94110032 0.08187135]\n",
      " [0.05889968 0.91812865]].\n",
      "[DEBUG][EST] Estimating Group 1\n",
      "[DEBUG] Estimated Noise Matrix [[0.79853693 0.06220531]\n",
      " [0.20146307 0.93779469]].\n",
      "True error rate is [[0.0, 0.0], [0.0, 0.0]].\n",
      "Estimated error rate is [[0.0588996763754045, 0.08187134502923976], [0.20146307477937764, 0.06220530591376472]].\n"
     ]
    },
    {
     "name": "stderr",
     "output_type": "stream",
     "text": [
      "RuntimeError: module compiled against API version 0xe but this version of numpy is 0xd\n"
     ]
    },
    {
     "name": "stdout",
     "output_type": "stream",
     "text": [
      "[[1. 0.]\n",
      " [0. 1.]]\n",
      "[DEBUG][EST] Estimating Group 0\n",
      "[DEBUG] Estimated Noise Matrix [[0.95632133 0.08481787]\n",
      " [0.04367867 0.91518213]].\n",
      "[DEBUG][EST] Estimating Group 1\n",
      "[DEBUG] Estimated Noise Matrix [[0.79839086 0.06480903]\n",
      " [0.20160914 0.93519097]].\n",
      "True error rate is [[0.0, 0.0], [0.0, 0.0]].\n",
      "Estimated error rate is [[0.04367866549604915, 0.08481786758840737], [0.20160914179104472, 0.06480903467453603]].\n"
     ]
    },
    {
     "name": "stderr",
     "output_type": "stream",
     "text": [
      "RuntimeError: module compiled against API version 0xe but this version of numpy is 0xd\n"
     ]
    },
    {
     "name": "stdout",
     "output_type": "stream",
     "text": [
      "[[1. 0.]\n",
      " [0. 1.]]\n",
      "[DEBUG][EST] Estimating Group 0\n",
      "[DEBUG] Estimated Noise Matrix [[0.9711835  0.10074774]\n",
      " [0.0288165  0.89925226]].\n",
      "[DEBUG][EST] Estimating Group 1\n",
      "[DEBUG] Estimated Noise Matrix [[0.80073801 0.06234628]\n",
      " [0.19926199 0.93765372]].\n",
      "True error rate is [[0.0, 0.0], [0.0, 0.0]].\n",
      "Estimated error rate is [[0.02881649961449495, 0.10074773711137353], [0.19926199261992616, 0.06234627924269287]].\n"
     ]
    },
    {
     "name": "stderr",
     "output_type": "stream",
     "text": [
      "RuntimeError: module compiled against API version 0xe but this version of numpy is 0xd\n"
     ]
    },
    {
     "name": "stdout",
     "output_type": "stream",
     "text": [
      "[INFO][RUN] Clean\n",
      "Running fairness constraint: 0.05, Training Accuracy: 82.64, Test Accuracy: 82.2, Training Violation: 9.39, Test Violation: 10.94, Time cost: 11.306433200836182\n",
      "[INFO][RUN] Surrogate Loss.\n"
     ]
    },
    {
     "name": "stderr",
     "output_type": "stream",
     "text": [
      "Traceback (most recent call last):\n",
      "  File \"fair-classification-with-noisy-labels/run.py\", line 377, in <module>\n",
      "    sl_result = run_surrogate(tolerance, est=True)\n",
      "  File \"fair-classification-with-noisy-labels/run.py\", line 345, in run_surrogate\n",
      "    sweep.fit(X_train, Y_noised, sensitive_features=A_train)\n",
      "  File \"/home/avijit/anaconda3/envs/noisy/lib/python3.7/site-packages/fairlearn/reductions/_exponentiated_gradient/exponentiated_gradient.py\", line 87, in fit\n",
      "    X, y, enforce_binary_labels=is_classification_reduction, **kwargs)\n",
      "  File \"/home/avijit/anaconda3/envs/noisy/lib/python3.7/site-packages/fairlearn/_input_validation.py\", line 75, in _validate_and_reformat_input\n",
      "    sensitive_features = check_array(sensitive_features, ensure_2d=False, dtype=None)\n",
      "  File \"/home/avijit/anaconda3/envs/noisy/lib/python3.7/site-packages/sklearn/utils/validation.py\", line 73, in inner_f\n",
      "    return f(**kwargs)\n",
      "  File \"/home/avijit/anaconda3/envs/noisy/lib/python3.7/site-packages/sklearn/utils/validation.py\", line 646, in check_array\n",
      "    allow_nan=force_all_finite == 'allow-nan')\n",
      "  File \"/home/avijit/anaconda3/envs/noisy/lib/python3.7/site-packages/sklearn/utils/validation.py\", line 100, in _assert_all_finite\n",
      "    msg_dtype if msg_dtype is not None else X.dtype)\n",
      "ValueError: Input contains NaN, infinity or a value too large for dtype('float64').\n"
     ]
    },
    {
     "name": "stdout",
     "output_type": "stream",
     "text": [
      "('data/datasets/uci_adult/synthetic/female_baserate0.5_version0/', 'Done')\n",
      "[INFO][RUN] Clean\n",
      "Running fairness constraint: 0.05, Training Accuracy: 82.45, Test Accuracy: 82.8, Training Violation: 9.58, Test Violation: 10.04, Time cost: 9.726747989654541\n",
      "[INFO][RUN] Surrogate Loss.\n"
     ]
    },
    {
     "name": "stderr",
     "output_type": "stream",
     "text": [
      "Traceback (most recent call last):\n",
      "  File \"fair-classification-with-noisy-labels/run.py\", line 377, in <module>\n",
      "    sl_result = run_surrogate(tolerance, est=True)\n",
      "  File \"fair-classification-with-noisy-labels/run.py\", line 345, in run_surrogate\n",
      "    sweep.fit(X_train, Y_noised, sensitive_features=A_train)\n",
      "  File \"/home/avijit/anaconda3/envs/noisy/lib/python3.7/site-packages/fairlearn/reductions/_exponentiated_gradient/exponentiated_gradient.py\", line 87, in fit\n",
      "    X, y, enforce_binary_labels=is_classification_reduction, **kwargs)\n",
      "  File \"/home/avijit/anaconda3/envs/noisy/lib/python3.7/site-packages/fairlearn/_input_validation.py\", line 75, in _validate_and_reformat_input\n",
      "    sensitive_features = check_array(sensitive_features, ensure_2d=False, dtype=None)\n",
      "  File \"/home/avijit/anaconda3/envs/noisy/lib/python3.7/site-packages/sklearn/utils/validation.py\", line 73, in inner_f\n",
      "    return f(**kwargs)\n",
      "  File \"/home/avijit/anaconda3/envs/noisy/lib/python3.7/site-packages/sklearn/utils/validation.py\", line 646, in check_array\n",
      "    allow_nan=force_all_finite == 'allow-nan')\n",
      "  File \"/home/avijit/anaconda3/envs/noisy/lib/python3.7/site-packages/sklearn/utils/validation.py\", line 100, in _assert_all_finite\n",
      "    msg_dtype if msg_dtype is not None else X.dtype)\n",
      "ValueError: Input contains NaN, infinity or a value too large for dtype('float64').\n"
     ]
    },
    {
     "name": "stdout",
     "output_type": "stream",
     "text": [
      "('data/datasets/uci_adult/synthetic/female_baserate0.6_version0/', 'Done')\n",
      "[INFO][RUN] Clean\n",
      "Running fairness constraint: 0.05, Training Accuracy: 82.58, Test Accuracy: 82.11, Training Violation: 11.23, Test Violation: 12.08, Time cost: 8.392390966415405\n",
      "[INFO][RUN] Surrogate Loss.\n"
     ]
    },
    {
     "name": "stderr",
     "output_type": "stream",
     "text": [
      "Traceback (most recent call last):\n",
      "  File \"fair-classification-with-noisy-labels/run.py\", line 377, in <module>\n",
      "    sl_result = run_surrogate(tolerance, est=True)\n",
      "  File \"fair-classification-with-noisy-labels/run.py\", line 345, in run_surrogate\n",
      "    sweep.fit(X_train, Y_noised, sensitive_features=A_train)\n",
      "  File \"/home/avijit/anaconda3/envs/noisy/lib/python3.7/site-packages/fairlearn/reductions/_exponentiated_gradient/exponentiated_gradient.py\", line 87, in fit\n",
      "    X, y, enforce_binary_labels=is_classification_reduction, **kwargs)\n",
      "  File \"/home/avijit/anaconda3/envs/noisy/lib/python3.7/site-packages/fairlearn/_input_validation.py\", line 75, in _validate_and_reformat_input\n",
      "    sensitive_features = check_array(sensitive_features, ensure_2d=False, dtype=None)\n",
      "  File \"/home/avijit/anaconda3/envs/noisy/lib/python3.7/site-packages/sklearn/utils/validation.py\", line 73, in inner_f\n",
      "    return f(**kwargs)\n",
      "  File \"/home/avijit/anaconda3/envs/noisy/lib/python3.7/site-packages/sklearn/utils/validation.py\", line 646, in check_array\n",
      "    allow_nan=force_all_finite == 'allow-nan')\n",
      "  File \"/home/avijit/anaconda3/envs/noisy/lib/python3.7/site-packages/sklearn/utils/validation.py\", line 100, in _assert_all_finite\n",
      "    msg_dtype if msg_dtype is not None else X.dtype)\n",
      "ValueError: Input contains NaN, infinity or a value too large for dtype('float64').\n"
     ]
    },
    {
     "name": "stdout",
     "output_type": "stream",
     "text": [
      "('data/datasets/uci_adult/synthetic/female_baserate0.7_version0/', 'Done')\n",
      "[INFO][RUN] Clean\n",
      "Running fairness constraint: 0.05, Training Accuracy: 82.48, Test Accuracy: 82.85, Training Violation: 12.38, Test Violation: 11.98, Time cost: 3.1173348426818848\n",
      "[INFO][RUN] Surrogate Loss.\n",
      "[[1. 0.]\n",
      " [0. 1.]]\n",
      "[DEBUG][EST] Estimating Group 0\n",
      "[DEBUG] Estimated Noise Matrix [[0.98075271 0.14554374]\n",
      " [0.01924729 0.85445626]].\n",
      "[DEBUG][EST] Estimating Group 1\n",
      "[DEBUG] Estimated Noise Matrix [[0.80057703 0.06326589]\n",
      " [0.19942297 0.93673411]].\n",
      "True error rate is [[0.0, 0.0], [0.0, 0.0]].\n",
      "Estimated error rate is [[0.019247293349372696, 0.14554374488961574], [0.19942296595499132, 0.06326588771729835]].\n"
     ]
    },
    {
     "name": "stderr",
     "output_type": "stream",
     "text": [
      "RuntimeError: module compiled against API version 0xe but this version of numpy is 0xd\n"
     ]
    },
    {
     "name": "stdout",
     "output_type": "stream",
     "text": [
      "['data/datasets/uci', 'adult/synthetic/gender', 'flip', 'labels0.1', 'version0/']\n",
      "[[0.98502674 0.03936478]\n",
      " [0.01497326 0.96063522]]\n",
      "[DEBUG][EST] Estimating Group 0\n",
      "[DEBUG] Estimated Noise Matrix [[0.48769406 0.11089551]\n",
      " [0.51230594 0.88910449]].\n",
      "[DEBUG][EST] Estimating Group 1\n",
      "[DEBUG] Estimated Noise Matrix [[0.8026592  0.06079772]\n",
      " [0.1973408  0.93920228]].\n",
      "True error rate is [[0.0, 0.0], [0.0, 0.0]].\n",
      "Estimated error rate is [[0.5123059447179099, 0.11089550790724745], [0.19734079776067182, 0.06079772079772083]].\n"
     ]
    },
    {
     "name": "stderr",
     "output_type": "stream",
     "text": [
      "RuntimeError: module compiled against API version 0xe but this version of numpy is 0xd\n"
     ]
    },
    {
     "name": "stdout",
     "output_type": "stream",
     "text": [
      "['data/datasets/uci', 'adult/synthetic/gender', 'flip', 'labels0.2', 'version0/']\n",
      "[[0.96748663 0.07896508]\n",
      " [0.03251337 0.92103492]]\n",
      "[DEBUG][EST] Estimating Group 0\n",
      "[DEBUG] Estimated Noise Matrix [[0.44473607 0.2044275 ]\n",
      " [0.55526393 0.7955725 ]].\n",
      "[DEBUG][EST] Estimating Group 1\n",
      "[DEBUG] Estimated Noise Matrix [[0.80091292 0.06201155]\n",
      " [0.19908708 0.93798845]].\n",
      "True error rate is [[0.0, 0.0], [0.0, 0.0]].\n",
      "Estimated error rate is [[0.5552639253426654, 0.204427497087173], [0.1990870786516854, 0.06201155283724091]].\n"
     ]
    },
    {
     "name": "stderr",
     "output_type": "stream",
     "text": [
      "RuntimeError: module compiled against API version 0xe but this version of numpy is 0xd\n"
     ]
    },
    {
     "name": "stdout",
     "output_type": "stream",
     "text": [
      "[INFO][RUN] Clean\n",
      "Running fairness constraint: 0.05, Training Accuracy: 83.05, Test Accuracy: 83.22, Training Violation: 14.43, Test Violation: 14.43, Time cost: 7.630059719085693\n",
      "[INFO][RUN] Surrogate Loss.\n"
     ]
    },
    {
     "name": "stderr",
     "output_type": "stream",
     "text": [
      "Traceback (most recent call last):\n",
      "  File \"fair-classification-with-noisy-labels/run.py\", line 377, in <module>\n",
      "    sl_result = run_surrogate(tolerance, est=True)\n",
      "  File \"fair-classification-with-noisy-labels/run.py\", line 345, in run_surrogate\n",
      "    sweep.fit(X_train, Y_noised, sensitive_features=A_train)\n",
      "  File \"/home/avijit/anaconda3/envs/noisy/lib/python3.7/site-packages/fairlearn/reductions/_exponentiated_gradient/exponentiated_gradient.py\", line 87, in fit\n",
      "    X, y, enforce_binary_labels=is_classification_reduction, **kwargs)\n",
      "  File \"/home/avijit/anaconda3/envs/noisy/lib/python3.7/site-packages/fairlearn/_input_validation.py\", line 75, in _validate_and_reformat_input\n",
      "    sensitive_features = check_array(sensitive_features, ensure_2d=False, dtype=None)\n",
      "  File \"/home/avijit/anaconda3/envs/noisy/lib/python3.7/site-packages/sklearn/utils/validation.py\", line 73, in inner_f\n",
      "    return f(**kwargs)\n",
      "  File \"/home/avijit/anaconda3/envs/noisy/lib/python3.7/site-packages/sklearn/utils/validation.py\", line 646, in check_array\n",
      "    allow_nan=force_all_finite == 'allow-nan')\n",
      "  File \"/home/avijit/anaconda3/envs/noisy/lib/python3.7/site-packages/sklearn/utils/validation.py\", line 100, in _assert_all_finite\n",
      "    msg_dtype if msg_dtype is not None else X.dtype)\n",
      "ValueError: Input contains NaN, infinity or a value too large for dtype('float64').\n"
     ]
    },
    {
     "name": "stdout",
     "output_type": "stream",
     "text": [
      "('data/datasets/uci_adult/synthetic/female_baserate0.9_version0/', 'Done')\n",
      "[INFO][RUN] Clean\n",
      "Running fairness constraint: 0.05, Training Accuracy: 85.34, Test Accuracy: 85.31, Training Violation: 7.13, Test Violation: 5.83, Time cost: 3.9146578311920166\n",
      "[INFO][RUN] Surrogate Loss.\n",
      "['data/datasets/uci', 'adult/synthetic/gender', 'flip', 'labels0.3', 'version0/']\n",
      "[[0.95582888 0.11681583]\n",
      " [0.04417112 0.88318417]]\n",
      "[DEBUG][EST] Estimating Group 0\n",
      "[DEBUG] Estimated Noise Matrix [[0.43126308 0.3016185 ]\n",
      " [0.56873692 0.6983815 ]].\n",
      "[DEBUG][EST] Estimating Group 1\n",
      "[DEBUG] Estimated Noise Matrix [[0.80221316 0.06038317]\n",
      " [0.19778684 0.93961683]].\n",
      "True error rate is [[0.0, 0.0], [0.0, 0.0]].\n",
      "Estimated error rate is [[0.5687369155617585, 0.3016184971098266], [0.1977868375072801, 0.060383167978104724]].\n"
     ]
    },
    {
     "name": "stderr",
     "output_type": "stream",
     "text": [
      "RuntimeError: module compiled against API version 0xe but this version of numpy is 0xd\n"
     ]
    },
    {
     "name": "stdout",
     "output_type": "stream",
     "text": [
      "[INFO][RUN] Clean\n",
      "Running fairness constraint: 0.05, Training Accuracy: 85.32, Test Accuracy: 85.52, Training Violation: 6.49, Test Violation: 8.84, Time cost: 3.375389337539673\n",
      "[INFO][RUN] Surrogate Loss.\n",
      "[INFO][RUN] Clean\n",
      "Running fairness constraint: 0.05, Training Accuracy: 85.39, Test Accuracy: 85.1, Training Violation: 7.07, Test Violation: 6.04, Time cost: 2.387014627456665\n",
      "[INFO][RUN] Surrogate Loss.\n",
      "Running fairness constraint: 0.05, Training Accuracy: 86.17, Test Accuracy: 85.66, Training Violation: 7.0, Test Violation: 5.59, Time cost: 2869.7358949184418\n",
      "[INFO][RUN] Peer Loss with alpha = 0.1\n"
     ]
    },
    {
     "name": "stderr",
     "output_type": "stream",
     "text": [
      "Traceback (most recent call last):\n",
      "  File \"fair-classification-with-noisy-labels/run.py\", line 378, in <module>\n",
      "    pl_result = run_peerloss(tolerance, est=True, alpha=0.1)\n",
      "  File \"fair-classification-with-noisy-labels/run.py\", line 275, in run_peerloss\n",
      "    sweep = ExponentiatedGradient(PeerLoss(A_train, delta=delta, alpha=alpha),\n",
      "  File \"/home/avijit/projects/Awareness_vs_Unawareness/fair-classification-with-noisy-labels/PeerLoss.py\", line 90, in __init__\n",
      "    self.A[i] = 1./delta[A[i]]\n",
      "TypeError: list indices must be integers or slices, not numpy.float64\n"
     ]
    },
    {
     "name": "stdout",
     "output_type": "stream",
     "text": [
      "('data/datasets/uci_adult/synthetic/female_groupsize0.5_version0/', 'Done')\n",
      "['data/datasets/uci', 'adult/synthetic/gender', 'flip', 'labels0.4', 'version0/']\n",
      "[[0.93679144 0.15355629]\n",
      " [0.06320856 0.84644371]]\n",
      "[DEBUG][EST] Estimating Group 0\n",
      "[DEBUG] Estimated Noise Matrix [[0.43810589 0.40399365]\n",
      " [0.56189411 0.59600635]].\n",
      "[DEBUG][EST] Estimating Group 1\n",
      "[DEBUG] Estimated Noise Matrix [[0.79924909 0.06275889]\n",
      " [0.20075091 0.93724111]].\n",
      "True error rate is [[0.0, 0.0], [0.0, 0.0]].\n",
      "Estimated error rate is [[0.5618941088739746, 0.40399365247289076], [0.20075090930423556, 0.06275889462634054]].\n"
     ]
    },
    {
     "name": "stderr",
     "output_type": "stream",
     "text": [
      "RuntimeError: module compiled against API version 0xe but this version of numpy is 0xd\n"
     ]
    },
    {
     "name": "stdout",
     "output_type": "stream",
     "text": [
      "[INFO][RUN] Clean\n",
      "Running fairness constraint: 0.05, Training Accuracy: 85.29, Test Accuracy: 85.54, Training Violation: 5.34, Test Violation: 11.71, Time cost: 14.068267583847046\n",
      "[INFO][RUN] Surrogate Loss.\n",
      "Running fairness constraint: 0.05, Training Accuracy: 89.17, Test Accuracy: 88.55, Training Violation: 7.52, Test Violation: 8.3, Time cost: 4326.68003988266\n",
      "[INFO][RUN] Peer Loss with alpha = 0.1\n"
     ]
    },
    {
     "name": "stderr",
     "output_type": "stream",
     "text": [
      "Traceback (most recent call last):\n",
      "  File \"fair-classification-with-noisy-labels/run.py\", line 378, in <module>\n",
      "    pl_result = run_peerloss(tolerance, est=True, alpha=0.1)\n",
      "  File \"fair-classification-with-noisy-labels/run.py\", line 275, in run_peerloss\n",
      "    sweep = ExponentiatedGradient(PeerLoss(A_train, delta=delta, alpha=alpha),\n",
      "  File \"/home/avijit/projects/Awareness_vs_Unawareness/fair-classification-with-noisy-labels/PeerLoss.py\", line 90, in __init__\n",
      "    self.A[i] = 1./delta[A[i]]\n",
      "TypeError: list indices must be integers or slices, not numpy.float64\n"
     ]
    },
    {
     "name": "stdout",
     "output_type": "stream",
     "text": [
      "('data/datasets/uci_adult/synthetic/female_groupsize0.7_version0/', 'Done')\n",
      "['data/datasets/uci', 'adult/synthetic/gender', 'flip', 'labels0.5', 'version0/']\n",
      "[[0.92513369 0.19716035]\n",
      " [0.07486631 0.80283965]]\n",
      "[DEBUG][EST] Estimating Group 0\n",
      "[DEBUG] Estimated Noise Matrix [[0.508035   0.50581049]\n",
      " [0.491965   0.49418951]].\n",
      "[DEBUG][EST] Estimating Group 1\n",
      "[DEBUG] Estimated Noise Matrix [[0.80063254 0.0619797 ]\n",
      " [0.19936746 0.9380203 ]].\n",
      "True error rate is [[0.0, 0.0], [0.0, 0.0]].\n",
      "Estimated error rate is [[0.4919649960222753, 0.5058104886769964], [0.19936745929483424, 0.06197970122020757]].\n"
     ]
    },
    {
     "name": "stderr",
     "output_type": "stream",
     "text": [
      "RuntimeError: module compiled against API version 0xe but this version of numpy is 0xd\n"
     ]
    },
    {
     "name": "stdout",
     "output_type": "stream",
     "text": [
      "[INFO][RUN] Clean\n",
      "Running fairness constraint: 0.05, Training Accuracy: 85.26, Test Accuracy: 85.44, Training Violation: 7.02, Test Violation: 6.52, Time cost: 20.2745099067688\n",
      "[INFO][RUN] Surrogate Loss.\n"
     ]
    }
   ],
   "source": [
    "from multiprocessing.pool import ThreadPool as Pool\n",
    "\n",
    "pool = Pool(10)\n",
    "for result in pool.imap_unordered(task, paths):\n",
    "    print(result)"
   ]
  },
  {
   "cell_type": "markdown",
   "metadata": {},
   "source": [
    "#### FairAdapt (Preproc.)"
   ]
  },
  {
   "cell_type": "code",
   "execution_count": null,
   "metadata": {},
   "outputs": [],
   "source": [
    "# XY_df = pd.concat([X_train, y_train], axis=1)\n",
    "# adj_mat = pd.DataFrame(\n",
    "#     np.zeros((len(train_df.columns), len(train_df.columns)), dtype=int),\n",
    "#     index=train_df.columns.values,\n",
    "#     columns=train_df.columns.values\n",
    "# )\n",
    "\n",
    "# # Construct the adjacency matrix of the causal graph\n",
    "# adj_mat.at[\n",
    "#     [\"sex\", \"age\", \"native-country\"],\n",
    "#     [\"marital-status\", \"education-num\", \"workclass\", \"hours-per-week\",\n",
    "#      \"occupation\", \"annual-income\"]\n",
    "# ] = 1\n",
    "# adj_mat.at[\n",
    "#     \"marital-status\",\n",
    "#     [\"education-num\", \"workclass\", \"hours-per-week\", \"occupation\",\n",
    "#      \"annual-income\"]\n",
    "# ] = 1\n",
    "# adj_mat.at[\n",
    "#     \"education-num\",\n",
    "#     [\"workclass\", \"hours-per-week\", \"occupation\", \"annual-income\"]\n",
    "# ] = 1\n",
    "# adj_mat.at[\n",
    "#     [\"workclass\", \"hours-per-week\", \"occupation\"],\n",
    "#     \"annual-income\"\n",
    "# ] = 1\n",
    "\n",
    "# FA = FairAdapt(prot_attr='sex', adj_mat = adj_mat)\n",
    "\n",
    "\n",
    "# Xf_train, yf_train, Xf_test = FA.fit_transform(X_train, y_train, X_test)\n",
    "# # y_pred_advrew = clf.predict(X_test)\n",
    "# # writejson(y_pred_advrew,'adv_rew_pred.json')\n",
    "\n",
    "\n",
    "#### TAKING TOO LONG TO PROCESS #####"
   ]
  },
  {
   "cell_type": "code",
   "execution_count": 139,
   "metadata": {},
   "outputs": [
    {
     "data": {
      "text/plain": [
       "{'age',\n",
       " 'capital-gain',\n",
       " 'capital-loss',\n",
       " 'education-num',\n",
       " 'fnlwgt',\n",
       " 'hours-per-week'}"
      ]
     },
     "execution_count": 139,
     "metadata": {},
     "output_type": "execute_result"
    }
   ],
   "source": [
    "set(X_train.columns).intersection(set(X_test.columns))"
   ]
  },
  {
   "cell_type": "code",
   "execution_count": 136,
   "metadata": {},
   "outputs": [
    {
     "data": {
      "text/plain": [
       "Index(['workclass_?', 'workclass_Federal-gov', 'workclass_Local-gov',\n",
       "       'workclass_Never-worked', 'workclass_Private', 'workclass_Self-emp-inc',\n",
       "       'workclass_Self-emp-not-inc', 'workclass_State-gov',\n",
       "       'workclass_Without-pay', 'education_10th',\n",
       "       ...\n",
       "       'native-country_Trinadad&Tobago', 'native-country_United-States',\n",
       "       'native-country_Vietnam', 'native-country_Yugoslavia', 'age', 'fnlwgt',\n",
       "       'education-num', 'capital-gain', 'capital-loss', 'hours-per-week'],\n",
       "      dtype='object', length=107)"
      ]
     },
     "execution_count": 136,
     "metadata": {},
     "output_type": "execute_result"
    }
   ],
   "source": [
    "X_test.columns"
   ]
  },
  {
   "cell_type": "code",
   "execution_count": null,
   "metadata": {},
   "outputs": [],
   "source": [
    "print('still runnung')"
   ]
  },
  {
   "cell_type": "code",
   "execution_count": null,
   "metadata": {},
   "outputs": [],
   "source": []
  }
 ],
 "metadata": {
  "kernelspec": {
   "display_name": "Python [conda env:noisy]",
   "language": "python",
   "name": "conda-env-noisy-py"
  },
  "language_info": {
   "codemirror_mode": {
    "name": "ipython",
    "version": 3
   },
   "file_extension": ".py",
   "mimetype": "text/x-python",
   "name": "python",
   "nbconvert_exporter": "python",
   "pygments_lexer": "ipython3",
   "version": "3.7.15"
  }
 },
 "nbformat": 4,
 "nbformat_minor": 4
}
