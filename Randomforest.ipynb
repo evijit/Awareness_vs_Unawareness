{
 "cells": [
  {
   "cell_type": "code",
   "execution_count": 1,
   "metadata": {},
   "outputs": [],
   "source": [
    "from sklearn.ensemble import RandomForestClassifier\n",
    "from sklearn.compose import make_column_transformer\n",
    "from sklearn.preprocessing import OneHotEncoder\n",
    "import pandas as pd"
   ]
  },
  {
   "cell_type": "code",
   "execution_count": 2,
   "metadata": {},
   "outputs": [],
   "source": [
    "import json,os\n",
    "from glob import glob\n",
    "import traceback\n",
    "\n",
    "\n",
    "def writejson(path,arr,name):\n",
    "    try:\n",
    "        os.mkdir(path+'preds/')\n",
    "    except:\n",
    "        pass\n",
    "    f = open(path+'preds/'+name,'w')\n",
    "    json.dump(arr.tolist(),f)\n",
    "    f.close()"
   ]
  },
  {
   "cell_type": "code",
   "execution_count": 3,
   "metadata": {},
   "outputs": [],
   "source": [
    "paths  = ['data/datasets/publiccov_ca/', 'data/datasets/employment_ca/', 'data/datasets/law_school/', 'data/datasets/diabetes/']\n",
    "cnames = [['AGEP', 'SCHL', 'MAR', 'SEX', 'DIS', 'ESP', 'CIT', 'MIG', 'MIL', 'ANC',\n",
    "       'NATIVITY', 'DEAR', 'DEYE', 'DREM', 'PINCP', 'ESR', 'FER', 'RAC1P',\n",
    "       'PUBCOV'],\n",
    "          ['AGEP', 'SCHL', 'MAR', 'RELP', 'DIS', 'ESP', 'CIT', 'MIG', 'MIL', 'ANC',\n",
    "       'NATIVITY', 'DEAR', 'DEYE', 'DREM', 'SEX', 'RAC1P', 'ESR'],\n",
    "          ['zfygpa', 'zgpa', 'DOB_yr', 'weighted_lsat_ugpa', 'cluster_tier',\n",
    "       'family_income', 'lsat', 'ugpa', 'isPartTime', 'sex', 'race',\n",
    "       'pass_bar'],\n",
    "          ['race', 'sex', 'age', 'admissiontypeid', 'dischargedispositionid',\n",
    "       'admissionsourceid', 'timeinhospital', 'numlabprocedures',\n",
    "       'numprocedures', 'nummedications', 'numberoutpatient',\n",
    "       'numberemergency', 'numberinpatient', 'diag1', 'diag2', 'diag3',\n",
    "       'numberdiagnoses', 'maxgluserum', 'A1Cresult', 'metformin',\n",
    "       'glimepiride', 'glipizide', 'glyburide', 'pioglitazone',\n",
    "       'rosiglitazone', 'insulin', 'change', 'diabetesMed', 'readmitted']\n",
    "]"
   ]
  },
  {
   "cell_type": "code",
   "execution_count": 5,
   "metadata": {},
   "outputs": [],
   "source": [
    "def task(path,cols,num):\n",
    "    \n",
    "#     if os.path.exists(path+'preds/baseline_pred.json') == False:\n",
    "    print(path,num)\n",
    "    \n",
    "    ss = \"\"\n",
    "    if 'SEX' in cols:\n",
    "        ss = 'SEX'\n",
    "    else:\n",
    "        ss = 'sex'\n",
    "        \n",
    "    tgt = cols[-1]\n",
    "\n",
    "    train_df = pd.read_csv(path+'train.csv',header=None)\n",
    "\n",
    "    train_df.columns =  cols\n",
    "\n",
    "\n",
    "    train_df.index = train_df[ss]\n",
    "\n",
    "    train_df = train_df.apply(lambda x: x.str.strip() if x.dtype == \"object\" else x)\n",
    "\n",
    "    test_df = pd.read_csv(path+'test.csv',header=None)\n",
    "\n",
    "    test_df.columns =  cols\n",
    "\n",
    "    test_df.index = test_df[ss]\n",
    "\n",
    "    test_df = test_df.apply(lambda x: x.str.strip() if x.dtype == \"object\" else x)\n",
    "    \n",
    "\n",
    "\n",
    "    X_train = train_df.drop([tgt],axis=1)\n",
    "    X_test = test_df.drop([tgt],axis=1)\n",
    "\n",
    "    y_train = pd.Series(train_df[tgt])\n",
    "    y_test = pd.Series(test_df[tgt])\n",
    "\n",
    "    y_train = pd.Series(y_train.factorize(sort=True)[0], index=y_train.index)\n",
    "    y_test = pd.Series(y_test.factorize(sort=True)[0], index=y_test.index)\n",
    "\n",
    "    X_merged = pd.concat([X_train,X_test])\n",
    "\n",
    "    ohe = make_column_transformer(\n",
    "        (OneHotEncoder(sparse=False), X_merged.dtypes == 'object'),\n",
    "        remainder='passthrough', verbose_feature_names_out=False)\n",
    "\n",
    "    X_merged_temp  = pd.DataFrame(ohe.fit_transform(X_merged), columns=ohe.get_feature_names_out(), index=X_merged.index)\n",
    "\n",
    "    X_train  = pd.DataFrame(ohe.transform(X_train), columns=ohe.get_feature_names_out(), index=X_train.index)\n",
    "    X_test = pd.DataFrame(ohe.transform(X_test), columns=ohe.get_feature_names_out(), index=X_test.index)\n",
    "    \n",
    "\n",
    "    #### BASELINE\n",
    "    try:\n",
    "        clf = RandomForestClassifier()\n",
    "        y_pred_baseline = clf.fit(X_train, y_train).predict(X_test)\n",
    "        writejson(path,y_pred_baseline,'randomforest_pred'+'_'+str(num)+'.json')\n",
    "    except:\n",
    "        traceback.print_exc()\n",
    "    \n",
    "    return path,\"Done\"\n"
   ]
  },
  {
   "cell_type": "code",
   "execution_count": 9,
   "metadata": {},
   "outputs": [
    {
     "data": {
      "text/plain": [
       "'publiccov_ca'"
      ]
     },
     "execution_count": 9,
     "metadata": {},
     "output_type": "execute_result"
    }
   ],
   "source": [
    "s = 'data/datasets/publiccov_ca/'\n",
    "\n",
    "s.split('/')[-2]"
   ]
  },
  {
   "cell_type": "code",
   "execution_count": 6,
   "metadata": {},
   "outputs": [
    {
     "name": "stdout",
     "output_type": "stream",
     "text": [
      "data/datasets/publiccov_ca/ 0\n",
      "data/datasets/publiccov_ca/ 1\n",
      "data/datasets/publiccov_ca/ 2\n",
      "data/datasets/publiccov_ca/ 3\n",
      "data/datasets/publiccov_ca/ 4\n",
      "data/datasets/publiccov_ca/ 5\n",
      "data/datasets/publiccov_ca/ 6\n",
      "data/datasets/publiccov_ca/ 7\n",
      "data/datasets/publiccov_ca/ 8\n",
      "data/datasets/publiccov_ca/ 9\n",
      "data/datasets/employment_ca/ 0\n",
      "data/datasets/employment_ca/ 1\n",
      "data/datasets/employment_ca/ 2\n",
      "data/datasets/employment_ca/ 3\n",
      "data/datasets/employment_ca/ 4\n",
      "data/datasets/employment_ca/ 5\n",
      "data/datasets/employment_ca/ 6\n",
      "data/datasets/employment_ca/ 7\n",
      "data/datasets/employment_ca/ 8\n",
      "data/datasets/employment_ca/ 9\n",
      "data/datasets/law_school/ 0\n",
      "data/datasets/law_school/ 1\n",
      "data/datasets/law_school/ 2\n",
      "data/datasets/law_school/ 3\n",
      "data/datasets/law_school/ 4\n",
      "data/datasets/law_school/ 5\n",
      "data/datasets/law_school/ 6\n",
      "data/datasets/law_school/ 7\n",
      "data/datasets/law_school/ 8\n",
      "data/datasets/law_school/ 9\n",
      "data/datasets/diabetes/ 0\n",
      "data/datasets/diabetes/ 1\n",
      "data/datasets/diabetes/ 2\n",
      "data/datasets/diabetes/ 3\n",
      "data/datasets/diabetes/ 4\n",
      "data/datasets/diabetes/ 5\n",
      "data/datasets/diabetes/ 6\n",
      "data/datasets/diabetes/ 7\n",
      "data/datasets/diabetes/ 8\n",
      "data/datasets/diabetes/ 9\n"
     ]
    }
   ],
   "source": [
    "for path,cols in zip(paths,cnames):\n",
    "    for i in range(10):\n",
    "        try:\n",
    "            task(path,cols,i)\n",
    "        except:\n",
    "            traceback.print_exc()"
   ]
  },
  {
   "cell_type": "code",
   "execution_count": null,
   "metadata": {},
   "outputs": [],
   "source": []
  }
 ],
 "metadata": {
  "kernelspec": {
   "display_name": "Python [conda env:pablo]",
   "language": "python",
   "name": "conda-env-pablo-py"
  },
  "language_info": {
   "codemirror_mode": {
    "name": "ipython",
    "version": 3
   },
   "file_extension": ".py",
   "mimetype": "text/x-python",
   "name": "python",
   "nbconvert_exporter": "python",
   "pygments_lexer": "ipython3",
   "version": "3.7.5"
  }
 },
 "nbformat": 4,
 "nbformat_minor": 4
}
