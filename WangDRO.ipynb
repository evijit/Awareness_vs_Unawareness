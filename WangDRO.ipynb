{
 "cells": [
  {
   "cell_type": "code",
   "execution_count": 1,
   "metadata": {},
   "outputs": [],
   "source": [
    "import os,sys,json\n",
    "from glob import glob\n",
    "\n",
    "os.chdir('/home/avijit/projects/Awareness_vs_Unawareness')\n",
    "sys.path.insert(0,\"/home/avijit/projects/Awareness_vs_Unawareness/robustfairnesscode\")"
   ]
  },
  {
   "cell_type": "code",
   "execution_count": 2,
   "metadata": {},
   "outputs": [
    {
     "name": "stdout",
     "output_type": "stream",
     "text": [
      "WARNING:tensorflow:From /home/avijit/projects/Awareness_vs_Unawareness/robustfairnesscode/dro_training.py:20: The name tf.ConfigProto is deprecated. Please use tf.compat.v1.ConfigProto instead.\n",
      "\n"
     ]
    }
   ],
   "source": [
    "import warnings\n",
    "warnings.filterwarnings('ignore')\n",
    "\n",
    "from robustfairnesscode import data, losses, optimization, model, utils, dro_training, softweights_training\n",
    "import tensorflow as tf\n",
    "import numpy as np\n",
    "import pandas as pd\n",
    "from sklearn.compose import make_column_transformer\n",
    "from sklearn.preprocessing import OneHotEncoder"
   ]
  },
  {
   "cell_type": "code",
   "execution_count": null,
   "metadata": {},
   "outputs": [],
   "source": []
  },
  {
   "cell_type": "code",
   "execution_count": 3,
   "metadata": {},
   "outputs": [],
   "source": [
    "def writejson(path,arr,name):\n",
    "    try:\n",
    "        os.mkdir(path+'preds/')\n",
    "    except:\n",
    "        pass\n",
    "    f = open(path+'preds/'+name,'w')\n",
    "    json.dump(arr,f)\n",
    "    f.close()"
   ]
  },
  {
   "cell_type": "code",
   "execution_count": 4,
   "metadata": {},
   "outputs": [],
   "source": [
    "path = 'data/datasets/uci_adult/'\n",
    "synthfols = glob(\"data/datasets/uci_adult/synthetic/*/\")\n",
    "paths = [path]\n",
    "paths.extend(synthfols)"
   ]
  },
  {
   "cell_type": "code",
   "execution_count": 5,
   "metadata": {},
   "outputs": [],
   "source": [
    "def task(path):\n",
    "    \n",
    "    print(path)\n",
    "\n",
    "    if os.path.exists(path+'preds/Softweights_pred.json') == False:\n",
    "    \n",
    "        train_df = pd.read_csv(path+'train.csv',header=None)\n",
    "\n",
    "        test_df = pd.read_csv(path+'test.csv',header=None)\n",
    "\n",
    "        train_df.columns = ['age', 'workclass', 'fnlwgt','education', 'education-num', 'marital-status',\n",
    "               'occupation', 'relationship', 'race', 'sex', 'capital-gain',\n",
    "               'capital-loss', 'hours-per-week', 'native-country','income']\n",
    "\n",
    "        test_df.columns = ['age', 'workclass', 'fnlwgt','education', 'education-num', 'marital-status',\n",
    "               'occupation', 'relationship', 'race', 'sex', 'capital-gain',\n",
    "               'capital-loss', 'hours-per-week', 'native-country','income']\n",
    "\n",
    "        #test_df.index = test_df['sex']\n",
    "\n",
    "        test_df = test_df.apply(lambda x: x.str.strip() if x.dtype == \"object\" else x)\n",
    "\n",
    "        # train_df['sex'] = train_df['sex'].map({'Male': 1, 'Female': 0})\n",
    "        # test_df['sex'] = test_df['sex'].map({'Male': 1, 'Female': 0})\n",
    "\n",
    "        X_train = train_df.drop(['income'],axis=1)\n",
    "        X_test = test_df.drop(['income'],axis=1)\n",
    "\n",
    "        y_train = pd.Series(train_df['income'])\n",
    "        y_test = pd.Series(test_df['income'])\n",
    "\n",
    "\n",
    "        y_train = pd.Series(y_train.factorize(sort=True)[0], index=y_train.index)\n",
    "        y_test = pd.Series(y_test.factorize(sort=True)[0], index=y_test.index)\n",
    "\n",
    "        X_merged = pd.concat([X_train,X_test])\n",
    "\n",
    "        ohe = make_column_transformer(\n",
    "            (OneHotEncoder(sparse=False), X_merged.dtypes == 'object'),\n",
    "            remainder='passthrough', verbose_feature_names_out=False)\n",
    "\n",
    "        X_merged_temp  = pd.DataFrame(ohe.fit_transform(X_merged), columns=ohe.get_feature_names_out(), index=X_merged.index)\n",
    "\n",
    "        train_df  = pd.DataFrame(ohe.transform(X_train), columns=ohe.get_feature_names_out(), index=X_train.index)\n",
    "        test_df = pd.DataFrame(ohe.transform(X_test), columns=ohe.get_feature_names_out(), index=X_test.index)\n",
    "\n",
    "        train_df['income'] = y_train\n",
    "        test_df['income'] = y_test\n",
    "\n",
    "        print(train_df.columns)\n",
    "\n",
    "        LABEL_COLUMN = \"income\"\n",
    "        FEATURE_NAMES = list(train_df.columns)\n",
    "        FEATURE_NAMES.remove(LABEL_COLUMN)\n",
    "        PROTECTED_COLUMNS = ['sex_Female','sex_Male']\n",
    "\n",
    "        PROXY_COLUMNS = PROTECTED_COLUMNS \n",
    "\n",
    "\n",
    "        val = dro_training.get_results_for_learning_rates(train_df, test_df, FEATURE_NAMES, \n",
    "                                                          PROTECTED_COLUMNS, PROXY_COLUMNS, LABEL_COLUMN, num_loops = 10,constraint='tpr_and_fpr')\n",
    "\n",
    "        vall = [float(v) for v in val[0]]\n",
    "\n",
    "        val_m = [0 if i < 0 else 1 for i in vall]\n",
    "\n",
    "        writejson(path,val_m,'DRO_pred.json')\n",
    "\n",
    "        val2 = softweights_training.get_results_for_learning_rates(train_df, test_df, FEATURE_NAMES, \n",
    "                                                                   PROTECTED_COLUMNS, PROXY_COLUMNS, LABEL_COLUMN, num_loops = 10, constraint='tpr_and_fpr')\n",
    "\n",
    "        val2l = [float(v) for v in val2[0]]\n",
    "\n",
    "        val_m2 = [0 if i < 0 else 1 for i in val2l]\n",
    "\n",
    "        writejson(path,val_m2,'Softweights_pred.json')\n",
    "\n",
    "        return path, 'DRO and SW done'"
   ]
  },
  {
   "cell_type": "code",
   "execution_count": null,
   "metadata": {},
   "outputs": [],
   "source": []
  },
  {
   "cell_type": "code",
   "execution_count": 10,
   "metadata": {
    "scrolled": true
   },
   "outputs": [
    {
     "name": "stdout",
     "output_type": "stream",
     "text": [
      "data/datasets/uci_adult/\n",
      "data/datasets/uci_adult/synthetic/gender_flip_labels0.8_version8/\n",
      "data/datasets/uci_adult/synthetic/gender_flip_labels0.8_version9/\n",
      "data/datasets/uci_adult/synthetic/gender_flip_labels0.9_version6/\n",
      "data/datasets/uci_adult/synthetic/gender_flip_labels0.9_version7/\n",
      "data/datasets/uci_adult/synthetic/gender_flip_labels0.9_version8/\n",
      "data/datasets/uci_adult/synthetic/gender_flip_labels0.9_version9/\n",
      "data/datasets/uci_adult/synthetic/gender_flip_labels1.0_version0/\n",
      "data/datasets/uci_adult/synthetic/gender_flip_labels1.0_version1/\n",
      "data/datasets/uci_adult/synthetic/gender_flip_labels1.0_version2/\n",
      "data/datasets/uci_adult/synthetic/gender_flip_labels1.0_version3/\n",
      "data/datasets/uci_adult/synthetic/gender_flip_labels1.0_version4/\n",
      "data/datasets/uci_adult/synthetic/gender_flip_labels1.0_version5/\n",
      "data/datasets/uci_adult/synthetic/gender_flip_labels1.0_version6/\n",
      "data/datasets/uci_adult/synthetic/gender_flip_labels1.0_version7/\n",
      "data/datasets/uci_adult/synthetic/gender_flip_labels1.0_version8/\n",
      "data/datasets/uci_adult/synthetic/gender_flip_labels1.0_version9/\n",
      "data/datasets/uci_adult/synthetic/gender_flip_labels0.6_version0/\n",
      "data/datasets/uci_adult/synthetic/gender_flip_labels0.6_version1/\n",
      "data/datasets/uci_adult/synthetic/gender_flip_labels0.6_version2/\n",
      "data/datasets/uci_adult/synthetic/gender_flip_labels0.6_version3/\n",
      "data/datasets/uci_adult/synthetic/gender_flip_labels0.6_version4/\n",
      "data/datasets/uci_adult/synthetic/gender_flip_labels0.6_version5/\n",
      "data/datasets/uci_adult/synthetic/gender_flip_labels0.6_version6/\n",
      "data/datasets/uci_adult/synthetic/gender_flip_labels0.6_version7/\n",
      "data/datasets/uci_adult/synthetic/gender_flip_labels0.6_version8/\n",
      "data/datasets/uci_adult/synthetic/gender_flip_labels0.6_version9/\n",
      "data/datasets/uci_adult/synthetic/gender_flip_labels0.7_version0/\n",
      "data/datasets/uci_adult/synthetic/gender_flip_labels0.7_version1/\n",
      "data/datasets/uci_adult/synthetic/gender_flip_labels0.7_version2/\n",
      "data/datasets/uci_adult/synthetic/gender_flip_labels0.7_version3/\n",
      "data/datasets/uci_adult/synthetic/gender_flip_labels0.7_version4/\n",
      "data/datasets/uci_adult/synthetic/gender_flip_labels0.7_version5/\n",
      "data/datasets/uci_adult/synthetic/gender_flip_labels0.7_version6/\n",
      "data/datasets/uci_adult/synthetic/gender_flip_labels0.7_version7/\n",
      "data/datasets/uci_adult/synthetic/gender_flip_labels0.7_version8/\n",
      "data/datasets/uci_adult/synthetic/gender_flip_labels0.7_version9/\n",
      "data/datasets/uci_adult/synthetic/gender_flip_labels0.8_version0/\n",
      "data/datasets/uci_adult/synthetic/gender_flip_labels0.8_version1/\n",
      "data/datasets/uci_adult/synthetic/gender_flip_labels0.8_version2/\n",
      "data/datasets/uci_adult/synthetic/gender_flip_labels0.8_version3/\n",
      "data/datasets/uci_adult/synthetic/gender_flip_labels0.8_version4/\n",
      "data/datasets/uci_adult/synthetic/gender_flip_labels0.8_version5/\n",
      "data/datasets/uci_adult/synthetic/gender_flip_labels0.8_version6/\n",
      "data/datasets/uci_adult/synthetic/gender_flip_labels0.8_version7/\n",
      "data/datasets/uci_adult/synthetic/gender_flip_labels0.9_version0/\n",
      "data/datasets/uci_adult/synthetic/gender_flip_labels0.9_version2/\n",
      "data/datasets/uci_adult/synthetic/gender_flip_labels0.9_version4/\n",
      "data/datasets/uci_adult/synthetic/gender_flip_labels0.1_version0/\n",
      "data/datasets/uci_adult/synthetic/gender_flip_labels0.1_version1/\n",
      "data/datasets/uci_adult/synthetic/gender_flip_labels0.1_version2/\n",
      "data/datasets/uci_adult/synthetic/gender_flip_labels0.1_version3/\n",
      "data/datasets/uci_adult/synthetic/gender_flip_labels0.1_version4/\n",
      "data/datasets/uci_adult/synthetic/gender_flip_labels0.1_version5/\n",
      "data/datasets/uci_adult/synthetic/gender_flip_labels0.1_version6/\n",
      "data/datasets/uci_adult/synthetic/gender_flip_labels0.1_version7/\n",
      "data/datasets/uci_adult/synthetic/gender_flip_labels0.1_version8/\n",
      "data/datasets/uci_adult/synthetic/gender_flip_labels0.1_version9/\n",
      "data/datasets/uci_adult/synthetic/gender_flip_labels0.2_version0/\n",
      "data/datasets/uci_adult/synthetic/gender_flip_labels0.2_version1/\n",
      "data/datasets/uci_adult/synthetic/gender_flip_labels0.2_version2/\n",
      "data/datasets/uci_adult/synthetic/gender_flip_labels0.2_version3/\n",
      "data/datasets/uci_adult/synthetic/gender_flip_labels0.2_version4/\n",
      "data/datasets/uci_adult/synthetic/gender_flip_labels0.2_version5/\n",
      "data/datasets/uci_adult/synthetic/gender_flip_labels0.2_version6/\n",
      "data/datasets/uci_adult/synthetic/gender_flip_labels0.2_version7/\n",
      "data/datasets/uci_adult/synthetic/gender_flip_labels0.2_version8/\n",
      "data/datasets/uci_adult/synthetic/gender_flip_labels0.2_version9/\n",
      "data/datasets/uci_adult/synthetic/gender_flip_labels0.3_version0/\n",
      "data/datasets/uci_adult/synthetic/gender_flip_labels0.3_version1/\n",
      "data/datasets/uci_adult/synthetic/gender_flip_labels0.3_version2/\n",
      "data/datasets/uci_adult/synthetic/gender_flip_labels0.3_version3/\n",
      "data/datasets/uci_adult/synthetic/gender_flip_labels0.3_version4/\n",
      "data/datasets/uci_adult/synthetic/gender_flip_labels0.3_version5/\n",
      "data/datasets/uci_adult/synthetic/gender_flip_labels0.3_version6/\n",
      "data/datasets/uci_adult/synthetic/gender_flip_labels0.3_version7/\n",
      "data/datasets/uci_adult/synthetic/gender_flip_labels0.3_version8/\n",
      "data/datasets/uci_adult/synthetic/gender_flip_labels0.3_version9/\n",
      "data/datasets/uci_adult/synthetic/gender_flip_labels0.4_version0/\n",
      "data/datasets/uci_adult/synthetic/gender_flip_labels0.4_version1/\n",
      "data/datasets/uci_adult/synthetic/gender_flip_labels0.4_version2/\n",
      "data/datasets/uci_adult/synthetic/gender_flip_labels0.4_version3/\n",
      "data/datasets/uci_adult/synthetic/gender_flip_labels0.4_version4/\n",
      "data/datasets/uci_adult/synthetic/gender_flip_labels0.4_version5/\n",
      "data/datasets/uci_adult/synthetic/gender_flip_labels0.4_version6/\n",
      "data/datasets/uci_adult/synthetic/gender_flip_labels0.4_version7/\n",
      "data/datasets/uci_adult/synthetic/gender_flip_labels0.4_version8/\n",
      "data/datasets/uci_adult/synthetic/gender_flip_labels0.4_version9/\n",
      "data/datasets/uci_adult/synthetic/gender_flip_labels0.5_version0/\n",
      "data/datasets/uci_adult/synthetic/gender_flip_labels0.5_version1/\n",
      "data/datasets/uci_adult/synthetic/gender_flip_labels0.5_version2/\n",
      "data/datasets/uci_adult/synthetic/gender_flip_labels0.5_version3/\n",
      "data/datasets/uci_adult/synthetic/gender_flip_labels0.5_version4/\n",
      "data/datasets/uci_adult/synthetic/gender_flip_labels0.5_version5/\n",
      "data/datasets/uci_adult/synthetic/gender_flip_labels0.5_version6/\n",
      "data/datasets/uci_adult/synthetic/gender_flip_labels0.5_version7/\n",
      "data/datasets/uci_adult/synthetic/gender_flip_labels0.5_version8/\n",
      "data/datasets/uci_adult/synthetic/gender_flip_labels0.5_version9/\n",
      "data/datasets/uci_adult/synthetic/gender_flip_labels0.9_version1/\n",
      "data/datasets/uci_adult/synthetic/gender_flip_labels0.9_version3/\n",
      "data/datasets/uci_adult/synthetic/gender_flip_labels0.9_version5/\n"
     ]
    }
   ],
   "source": [
    "for path in paths:\n",
    "    try:\n",
    "        task(path)\n",
    "    except:\n",
    "        pass"
   ]
  },
  {
   "cell_type": "code",
   "execution_count": 1,
   "metadata": {},
   "outputs": [],
   "source": [
    "# from multiprocessing.pool import ThreadPool as Pool\n",
    "\n",
    "# pool = Pool(10)\n",
    "# for result in pool.imap_unordered(task, paths):\n",
    "#     print(result)"
   ]
  },
  {
   "cell_type": "code",
   "execution_count": null,
   "metadata": {},
   "outputs": [],
   "source": []
  },
  {
   "cell_type": "code",
   "execution_count": null,
   "metadata": {},
   "outputs": [],
   "source": []
  },
  {
   "cell_type": "code",
   "execution_count": null,
   "metadata": {},
   "outputs": [],
   "source": []
  },
  {
   "cell_type": "code",
   "execution_count": null,
   "metadata": {},
   "outputs": [],
   "source": [
    "#   Args:\n",
    "#     predictions: numpy array of floats representing predictions. Predictions are treated \n",
    "#       as positive classification if value is >0, and negative classification if value is <= 0.\n",
    "#     labels: numpy array of floats representing labels. labels are also treated as positive \n",
    "#       classification if value is >0, and negative classification if value is <= 0."
   ]
  },
  {
   "cell_type": "code",
   "execution_count": null,
   "metadata": {
    "scrolled": true
   },
   "outputs": [],
   "source": []
  },
  {
   "cell_type": "code",
   "execution_count": null,
   "metadata": {},
   "outputs": [],
   "source": []
  },
  {
   "cell_type": "code",
   "execution_count": null,
   "metadata": {},
   "outputs": [],
   "source": []
  },
  {
   "cell_type": "code",
   "execution_count": null,
   "metadata": {},
   "outputs": [],
   "source": []
  },
  {
   "cell_type": "code",
   "execution_count": null,
   "metadata": {},
   "outputs": [],
   "source": []
  }
 ],
 "metadata": {
  "kernelspec": {
   "display_name": "Python [conda env:oscar]",
   "language": "python",
   "name": "conda-env-oscar-py"
  },
  "language_info": {
   "codemirror_mode": {
    "name": "ipython",
    "version": 3
   },
   "file_extension": ".py",
   "mimetype": "text/x-python",
   "name": "python",
   "nbconvert_exporter": "python",
   "pygments_lexer": "ipython3",
   "version": "3.7.9"
  }
 },
 "nbformat": 4,
 "nbformat_minor": 4
}
