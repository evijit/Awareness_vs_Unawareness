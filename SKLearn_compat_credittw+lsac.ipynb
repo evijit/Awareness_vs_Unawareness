{
 "cells": [
  {
   "cell_type": "code",
   "execution_count": 1,
   "metadata": {},
   "outputs": [
    {
     "name": "stderr",
     "output_type": "stream",
     "text": [
      "2023-02-28 12:45:38.595335: I tensorflow/core/platform/cpu_feature_guard.cc:193] This TensorFlow binary is optimized with oneAPI Deep Neural Network Library (oneDNN) to use the following CPU instructions in performance-critical operations:  AVX2 AVX512F AVX512_VNNI FMA\n",
      "To enable them in other operations, rebuild TensorFlow with the appropriate compiler flags.\n",
      "2023-02-28 12:45:38.752314: I tensorflow/core/util/port.cc:104] oneDNN custom operations are on. You may see slightly different numerical results due to floating-point round-off errors from different computation orders. To turn them off, set the environment variable `TF_ENABLE_ONEDNN_OPTS=0`.\n",
      "2023-02-28 12:45:41.092798: W tensorflow/compiler/xla/stream_executor/platform/default/dso_loader.cc:64] Could not load dynamic library 'libnvinfer.so.7'; dlerror: libnvinfer.so.7: cannot open shared object file: No such file or directory\n",
      "2023-02-28 12:45:41.092931: W tensorflow/compiler/xla/stream_executor/platform/default/dso_loader.cc:64] Could not load dynamic library 'libnvinfer_plugin.so.7'; dlerror: libnvinfer_plugin.so.7: cannot open shared object file: No such file or directory\n",
      "2023-02-28 12:45:41.092947: W tensorflow/compiler/tf2tensorrt/utils/py_utils.cc:38] TF-TRT Warning: Cannot dlopen some TensorRT libraries. If you would like to use Nvidia GPU with TensorRT, please make sure the missing libraries mentioned above are installed properly.\n"
     ]
    }
   ],
   "source": [
    "%matplotlib inline\n",
    "import matplotlib.pyplot as plt\n",
    "import numpy as np\n",
    "import pandas as pd\n",
    "import tensorflow.compat.v1 as tf\n",
    "tf.disable_eager_execution()\n",
    "tf.logging.set_verbosity(tf.logging.ERROR)\n",
    "\n",
    "import warnings\n",
    "warnings.filterwarnings('ignore')\n",
    "\n",
    "from sklearn.compose import make_column_transformer\n",
    "from sklearn.linear_model import LogisticRegression\n",
    "from sklearn.metrics import accuracy_score\n",
    "from sklearn.model_selection import GridSearchCV, train_test_split\n",
    "from sklearn.preprocessing import OneHotEncoder\n",
    "\n",
    "from aif360.sklearn.preprocessing import Reweighing, ReweighingMeta, FairAdapt, LearnedFairRepresentations\n",
    "from aif360.sklearn.inprocessing import AdversarialDebiasing, ExponentiatedGradientReduction, GridSearchReduction\n",
    "from aif360.sklearn.postprocessing import CalibratedEqualizedOdds, RejectOptionClassifier, PostProcessingMeta, RejectOptionClassifierCV\n",
    "from aif360.sklearn.datasets import fetch_adult\n",
    "from aif360.sklearn.metrics import disparate_impact_ratio, average_odds_error, generalized_fpr\n",
    "from aif360.sklearn.metrics import generalized_fnr, difference\n",
    "\n",
    "# from glob import glob\n",
    "# import json,os"
   ]
  },
  {
   "cell_type": "code",
   "execution_count": 2,
   "metadata": {},
   "outputs": [],
   "source": [
    "import json,os\n",
    "from glob import glob\n",
    "import traceback\n",
    "\n",
    "\n",
    "def writejson(path,arr,name):\n",
    "    try:\n",
    "        os.mkdir(path+'preds/')\n",
    "    except:\n",
    "        pass\n",
    "    f = open(path+'preds/'+name,'w')\n",
    "    json.dump(arr.tolist(),f)\n",
    "    f.close()"
   ]
  },
  {
   "cell_type": "code",
   "execution_count": 3,
   "metadata": {},
   "outputs": [],
   "source": [
    "path = 'data/datasets/credit_tw/'\n",
    "synthfols = glob(\"data/datasets/credit_tw/synthetic/*/\")\n",
    "paths = [path]\n",
    "paths.extend(synthfols)"
   ]
  },
  {
   "cell_type": "code",
   "execution_count": null,
   "metadata": {},
   "outputs": [],
   "source": []
  },
  {
   "cell_type": "code",
   "execution_count": 5,
   "metadata": {},
   "outputs": [],
   "source": [
    "def task1(path):\n",
    "    \n",
    "    if os.path.exists(path+'preds/rocv_pred_average_odds.json') == False:\n",
    "        print(path)\n",
    "\n",
    "        train_df = pd.read_csv(path+'train.csv',header=None)\n",
    "\n",
    "        train_df.columns = ['LIMIT_BAL', 'SEX', 'EDUCATION', 'MARRIAGE', 'AGE', 'PAY_0', 'PAY_2',\n",
    "           'PAY_3', 'PAY_4', 'PAY_5', 'PAY_6', 'BILL_AMT1', 'BILL_AMT2',\n",
    "           'BILL_AMT3', 'BILL_AMT4', 'BILL_AMT5', 'BILL_AMT6', 'PAY_AMT1',\n",
    "           'PAY_AMT2', 'PAY_AMT3', 'PAY_AMT4', 'PAY_AMT5', 'PAY_AMT6',\n",
    "           'DEFAULT_PAY']\n",
    "\n",
    "\n",
    "        train_df.index = train_df['SEX']\n",
    "\n",
    "        train_df = train_df.apply(lambda x: x.str.strip() if x.dtype == \"object\" else x)\n",
    "\n",
    "        test_df = pd.read_csv(path+'test.csv',header=None)\n",
    "\n",
    "        test_df.columns = ['LIMIT_BAL', 'SEX', 'EDUCATION', 'MARRIAGE', 'AGE', 'PAY_0', 'PAY_2',\n",
    "           'PAY_3', 'PAY_4', 'PAY_5', 'PAY_6', 'BILL_AMT1', 'BILL_AMT2',\n",
    "           'BILL_AMT3', 'BILL_AMT4', 'BILL_AMT5', 'BILL_AMT6', 'PAY_AMT1',\n",
    "           'PAY_AMT2', 'PAY_AMT3', 'PAY_AMT4', 'PAY_AMT5', 'PAY_AMT6',\n",
    "           'DEFAULT_PAY']\n",
    "\n",
    "\n",
    "\n",
    "        test_df.index = test_df['SEX']\n",
    "\n",
    "        test_df = test_df.apply(lambda x: x.str.strip() if x.dtype == \"object\" else x)\n",
    "\n",
    "\n",
    "\n",
    "        X_train = train_df.drop(['DEFAULT_PAY'],axis=1)\n",
    "        X_test = test_df.drop(['DEFAULT_PAY'],axis=1)\n",
    "\n",
    "        y_train = pd.Series(train_df['DEFAULT_PAY'])\n",
    "        y_test = pd.Series(test_df['DEFAULT_PAY'])\n",
    "\n",
    "        y_train = pd.Series(y_train.factorize(sort=True)[0], index=y_train.index)\n",
    "        y_test = pd.Series(y_test.factorize(sort=True)[0], index=y_test.index)\n",
    "\n",
    "        X_merged = pd.concat([X_train,X_test])\n",
    "\n",
    "        ohe = make_column_transformer(\n",
    "            (OneHotEncoder(sparse=False), X_merged.dtypes == 'object'),\n",
    "            remainder='passthrough', verbose_feature_names_out=False)\n",
    "\n",
    "        X_merged_temp  = pd.DataFrame(ohe.fit_transform(X_merged), columns=ohe.get_feature_names_out(), index=X_merged.index)\n",
    "\n",
    "        X_train  = pd.DataFrame(ohe.transform(X_train), columns=ohe.get_feature_names_out(), index=X_train.index)\n",
    "        X_test = pd.DataFrame(ohe.transform(X_test), columns=ohe.get_feature_names_out(), index=X_test.index)\n",
    "\n",
    "\n",
    "        #### BASELINE\n",
    "        try:\n",
    "            y_pred_baseline = LogisticRegression(solver='liblinear').fit(X_train, y_train).predict(X_test)\n",
    "            writejson(path,y_pred_baseline,'baseline_pred.json')    \n",
    "        except:\n",
    "            traceback.print_exc()\n",
    "\n",
    "\n",
    "        #### Adv. Reweighting (Preproc.)\n",
    "\n",
    "        try:\n",
    "            rew = ReweighingMeta(estimator=LogisticRegression(solver='liblinear'),\n",
    "                         reweigher=Reweighing('SEX'))\n",
    "            params = {'estimator__C': [1, 10]}\n",
    "\n",
    "            clf = GridSearchCV(rew, params, scoring='accuracy', cv=5)\n",
    "            clf.fit(X_train, y_train)\n",
    "            y_pred_advrew = clf.predict(X_test)\n",
    "            writejson(path,y_pred_advrew,'adv_rew_pred.json')  \n",
    "        except:\n",
    "            traceback.print_exc()\n",
    "\n",
    "\n",
    "\n",
    "        #### LearnedFairRepresentations (Preproc.)\n",
    "\n",
    "        try:\n",
    "            LFR = LearnedFairRepresentations(prot_attr='SEX')\n",
    "            LFR.fit(X_train, y_train)\n",
    "\n",
    "            y_pred_lfr = LFR.predict(X_test)\n",
    "            writejson(path,y_pred_lfr,'lfr_pred.json')  \n",
    "        except:\n",
    "            traceback.print_exc()\n",
    "\n",
    "        #### Adv Deb. (Inproc.)\n",
    "\n",
    "        try:\n",
    "            adv_deb = AdversarialDebiasing(prot_attr='SEX')\n",
    "            adv_deb.fit(X_train, y_train)\n",
    "            adv_deb.score(X_test, y_test)\n",
    "\n",
    "            y_pred_adv_deb = adv_deb.predict(X_test)\n",
    "            writejson(path,y_pred_adv_deb,'adv_deb_pred.json')\n",
    "\n",
    "            adv_deb.sess_.close() \n",
    "        except:\n",
    "            traceback.print_exc()\n",
    "\n",
    "\n",
    "\n",
    "        #### ExponentiatedGradientReduction. (Inproc.)\n",
    "\n",
    "        try:\n",
    "            consts = ['EqualizedOdds']#['DemographicParity','EqualizedOdds','TruePositiveRateParity','FalsePositiveRateParity','ErrorRateParity']\n",
    "            for const in consts:\n",
    "                EGR = ExponentiatedGradientReduction(prot_attr=['SEX_Female','SEX_Male'], estimator=LogisticRegression(solver='liblinear'), constraints = const)\n",
    "                EGR.fit(X_train, y_train)\n",
    "                print(const,EGR.score(X_test, y_test))\n",
    "                y_pred_egr = EGR.predict(X_test)\n",
    "                writejson(path,y_pred_egr,'egr_pred_'+const+'.json')\n",
    "        except:\n",
    "            traceback.print_exc()\n",
    "\n",
    "        #### GridSearchReduction. (Inproc.)\n",
    "\n",
    "        try:\n",
    "            consts = ['EqualizedOdds']#['DemographicParity','EqualizedOdds','TruePositiveRateParity','FalsePositiveRateParity','ErrorRateParity']\n",
    "            for const in consts:\n",
    "                GSR = GridSearchReduction(prot_attr=['SEX_Female','SEX_Male'], estimator=LogisticRegression(solver='liblinear'), constraints = const)\n",
    "                GSR.fit(X_train, y_train)\n",
    "                print(const,GSR.score(X_test, y_test))\n",
    "                y_pred_gsr = GSR.predict(X_test)\n",
    "                writejson(path,y_pred_gsr,'gsr_pred_'+const+'.json')\n",
    "        except:\n",
    "            traceback.print_exc()\n",
    "\n",
    "\n",
    "\n",
    "        X_train_temp = X_train.set_index(['SEX_Male'], drop = False)\n",
    "        y_train_temp = y_train.copy()\n",
    "        y_train_temp.index = X_train_temp.index\n",
    "\n",
    "        X_test_temp = X_test.set_index(['SEX_Male'], drop = False)\n",
    "        y_test_temp = y_test.copy()\n",
    "        y_test_temp.index = X_test_temp.index\n",
    "\n",
    "        #### Cal. Eq.Odds (Postproc.)\n",
    "\n",
    "        try:\n",
    "            consts = ['weighted']#['fnr','fpr','weighted']\n",
    "            for const in consts:\n",
    "                cal_eq_odds = CalibratedEqualizedOdds(prot_attr='SEX_Male', cost_constraint=const)\n",
    "                postproc = PostProcessingMeta(estimator=LogisticRegression(solver='liblinear'), postprocessor=cal_eq_odds)\n",
    "                postproc.fit(X_train_temp, y_train_temp)\n",
    "                print(accuracy_score(y_test_temp, postproc.predict(X_test_temp)))\n",
    "                y_pred_caleq = postproc.predict(X_test_temp)\n",
    "                writejson(path,y_pred_caleq,'caleq_pred_'+const+'.json')\n",
    "        except:\n",
    "            traceback.print_exc()\n",
    "\n",
    "        #### RejectOptionClassifier (Postproc.)\n",
    "\n",
    "        try:\n",
    "            consts = ['average_odds']#['statistical_parity', 'average_odds', 'equal_opportunity']\n",
    "            for const in consts:\n",
    "                rocv = PostProcessingMeta(LogisticRegression(solver='liblinear'), RejectOptionClassifierCV('SEX_Male', scoring=const))\n",
    "                rocv.fit(X_train_temp, y_train_temp)\n",
    "                print(accuracy_score(y_test_temp, rocv.predict(X_test_temp)))\n",
    "                y_pred_rocv = rocv.predict(X_test_temp)\n",
    "                writejson(path,y_pred_rocv,'rocv_pred_'+const+'.json')\n",
    "        except:\n",
    "            traceback.print_exc()  \n",
    "\n",
    "        return path,\"Done\"\n"
   ]
  },
  {
   "cell_type": "code",
   "execution_count": 6,
   "metadata": {},
   "outputs": [],
   "source": [
    "# task(path)"
   ]
  },
  {
   "cell_type": "code",
   "execution_count": 7,
   "metadata": {
    "scrolled": true
   },
   "outputs": [
    {
     "name": "stdout",
     "output_type": "stream",
     "text": [
      "data/datasets/credit_tw/synthetic/gender_flip_labels0.1_version6/\n"
     ]
    },
    {
     "name": "stderr",
     "output_type": "stream",
     "text": [
      "2023-02-26 19:44:33.701486: I tensorflow/core/platform/cpu_feature_guard.cc:193] This TensorFlow binary is optimized with oneAPI Deep Neural Network Library (oneDNN) to use the following CPU instructions in performance-critical operations:  AVX2 AVX512F AVX512_VNNI FMA\n",
      "To enable them in other operations, rebuild TensorFlow with the appropriate compiler flags.\n",
      "2023-02-26 19:44:35.189514: I tensorflow/core/common_runtime/gpu/gpu_device.cc:1613] Created device /job:localhost/replica:0/task:0/device:GPU:0 with 46704 MB memory:  -> device: 0, name: NVIDIA RTX A6000, pci bus id: 0000:b1:00.0, compute capability: 8.6\n",
      "2023-02-26 19:44:35.194250: I tensorflow/core/common_runtime/gpu/gpu_device.cc:1613] Created device /job:localhost/replica:0/task:0/device:GPU:1 with 46704 MB memory:  -> device: 1, name: NVIDIA RTX A6000, pci bus id: 0000:d9:00.0, compute capability: 8.6\n",
      "2023-02-26 19:44:35.758027: I tensorflow/compiler/mlir/mlir_graph_optimization_pass.cc:357] MLIR V1 optimization pass is not enabled\n",
      "2023-02-26 19:44:38.582707: I tensorflow/compiler/xla/stream_executor/cuda/cuda_blas.cc:630] TensorFloat-32 will be used for the matrix multiplication. This will only be logged once.\n"
     ]
    },
    {
     "name": "stdout",
     "output_type": "stream",
     "text": [
      "EqualizedOdds 0.79\n",
      "EqualizedOdds 0.8083333333333333\n",
      "0.7866666666666666\n",
      "0.7831666666666667\n",
      "data/datasets/credit_tw/synthetic/gender_flip_labels0.1_version7/\n"
     ]
    },
    {
     "name": "stderr",
     "output_type": "stream",
     "text": [
      "2023-02-26 19:47:01.359735: I tensorflow/core/common_runtime/gpu/gpu_device.cc:1613] Created device /job:localhost/replica:0/task:0/device:GPU:0 with 46704 MB memory:  -> device: 0, name: NVIDIA RTX A6000, pci bus id: 0000:b1:00.0, compute capability: 8.6\n",
      "2023-02-26 19:47:01.361158: I tensorflow/core/common_runtime/gpu/gpu_device.cc:1613] Created device /job:localhost/replica:0/task:0/device:GPU:1 with 46704 MB memory:  -> device: 1, name: NVIDIA RTX A6000, pci bus id: 0000:d9:00.0, compute capability: 8.6\n"
     ]
    },
    {
     "name": "stdout",
     "output_type": "stream",
     "text": [
      "EqualizedOdds 0.7721666666666667\n",
      "EqualizedOdds 0.7923333333333333\n",
      "0.7721666666666667\n",
      "0.7681666666666667\n",
      "data/datasets/credit_tw/synthetic/gender_flip_labels0.1_version8/\n"
     ]
    },
    {
     "name": "stderr",
     "output_type": "stream",
     "text": [
      "2023-02-26 19:49:30.330779: I tensorflow/core/common_runtime/gpu/gpu_device.cc:1613] Created device /job:localhost/replica:0/task:0/device:GPU:0 with 46704 MB memory:  -> device: 0, name: NVIDIA RTX A6000, pci bus id: 0000:b1:00.0, compute capability: 8.6\n",
      "2023-02-26 19:49:30.332381: I tensorflow/core/common_runtime/gpu/gpu_device.cc:1613] Created device /job:localhost/replica:0/task:0/device:GPU:1 with 46704 MB memory:  -> device: 1, name: NVIDIA RTX A6000, pci bus id: 0000:d9:00.0, compute capability: 8.6\n"
     ]
    },
    {
     "name": "stdout",
     "output_type": "stream",
     "text": [
      "EqualizedOdds 0.7763333333333333\n",
      "EqualizedOdds 0.802\n",
      "0.7766666666666666\n",
      "0.7735\n",
      "data/datasets/credit_tw/synthetic/gender_flip_labels0.1_version9/\n"
     ]
    },
    {
     "name": "stderr",
     "output_type": "stream",
     "text": [
      "2023-02-26 19:51:57.328027: I tensorflow/core/common_runtime/gpu/gpu_device.cc:1613] Created device /job:localhost/replica:0/task:0/device:GPU:0 with 46704 MB memory:  -> device: 0, name: NVIDIA RTX A6000, pci bus id: 0000:b1:00.0, compute capability: 8.6\n",
      "2023-02-26 19:51:57.340666: I tensorflow/core/common_runtime/gpu/gpu_device.cc:1613] Created device /job:localhost/replica:0/task:0/device:GPU:1 with 46704 MB memory:  -> device: 1, name: NVIDIA RTX A6000, pci bus id: 0000:d9:00.0, compute capability: 8.6\n"
     ]
    },
    {
     "name": "stdout",
     "output_type": "stream",
     "text": [
      "EqualizedOdds 0.7725\n",
      "EqualizedOdds 0.7725\n",
      "0.7725\n",
      "0.2685\n",
      "data/datasets/credit_tw/synthetic/gender_flip_labels0.2_version0/\n"
     ]
    },
    {
     "name": "stderr",
     "output_type": "stream",
     "text": [
      "2023-02-26 19:54:21.253856: I tensorflow/core/common_runtime/gpu/gpu_device.cc:1613] Created device /job:localhost/replica:0/task:0/device:GPU:0 with 46704 MB memory:  -> device: 0, name: NVIDIA RTX A6000, pci bus id: 0000:b1:00.0, compute capability: 8.6\n",
      "2023-02-26 19:54:21.255396: I tensorflow/core/common_runtime/gpu/gpu_device.cc:1613] Created device /job:localhost/replica:0/task:0/device:GPU:1 with 46704 MB memory:  -> device: 1, name: NVIDIA RTX A6000, pci bus id: 0000:d9:00.0, compute capability: 8.6\n"
     ]
    },
    {
     "name": "stdout",
     "output_type": "stream",
     "text": [
      "EqualizedOdds 0.7803333333333333\n",
      "EqualizedOdds 0.7803333333333333\n",
      "0.7803333333333333\n",
      "0.2675\n",
      "data/datasets/credit_tw/synthetic/gender_flip_labels0.2_version1/\n"
     ]
    },
    {
     "name": "stderr",
     "output_type": "stream",
     "text": [
      "2023-02-26 19:56:59.748865: I tensorflow/core/common_runtime/gpu/gpu_device.cc:1613] Created device /job:localhost/replica:0/task:0/device:GPU:0 with 46704 MB memory:  -> device: 0, name: NVIDIA RTX A6000, pci bus id: 0000:b1:00.0, compute capability: 8.6\n",
      "2023-02-26 19:56:59.753848: I tensorflow/core/common_runtime/gpu/gpu_device.cc:1613] Created device /job:localhost/replica:0/task:0/device:GPU:1 with 46704 MB memory:  -> device: 1, name: NVIDIA RTX A6000, pci bus id: 0000:d9:00.0, compute capability: 8.6\n"
     ]
    },
    {
     "name": "stdout",
     "output_type": "stream",
     "text": [
      "EqualizedOdds 0.7753333333333333\n",
      "EqualizedOdds 0.7986666666666666\n",
      "0.7753333333333333\n",
      "0.771\n",
      "data/datasets/credit_tw/synthetic/gender_flip_labels0.2_version3/\n"
     ]
    },
    {
     "name": "stderr",
     "output_type": "stream",
     "text": [
      "2023-02-26 20:01:47.945707: I tensorflow/core/common_runtime/gpu/gpu_device.cc:1613] Created device /job:localhost/replica:0/task:0/device:GPU:0 with 46704 MB memory:  -> device: 0, name: NVIDIA RTX A6000, pci bus id: 0000:b1:00.0, compute capability: 8.6\n",
      "2023-02-26 20:01:47.947127: I tensorflow/core/common_runtime/gpu/gpu_device.cc:1613] Created device /job:localhost/replica:0/task:0/device:GPU:1 with 46704 MB memory:  -> device: 1, name: NVIDIA RTX A6000, pci bus id: 0000:d9:00.0, compute capability: 8.6\n"
     ]
    },
    {
     "name": "stdout",
     "output_type": "stream",
     "text": [
      "EqualizedOdds 0.7766666666666666\n",
      "EqualizedOdds 0.7941666666666667\n",
      "0.7766666666666666\n",
      "0.26033333333333336\n",
      "data/datasets/credit_tw/synthetic/gender_flip_labels0.2_version4/\n",
      "EqualizedOdds 0.7858333333333334\n",
      "EqualizedOdds 0.7858333333333334\n",
      "0.7858333333333334\n",
      "0.2635\n",
      "data/datasets/credit_tw/synthetic/gender_flip_labels0.2_version5/\n"
     ]
    },
    {
     "name": "stderr",
     "output_type": "stream",
     "text": [
      "2023-02-26 20:06:58.301772: I tensorflow/core/common_runtime/gpu/gpu_device.cc:1613] Created device /job:localhost/replica:0/task:0/device:GPU:0 with 46704 MB memory:  -> device: 0, name: NVIDIA RTX A6000, pci bus id: 0000:b1:00.0, compute capability: 8.6\n",
      "2023-02-26 20:06:58.302045: I tensorflow/core/common_runtime/gpu/gpu_device.cc:1613] Created device /job:localhost/replica:0/task:0/device:GPU:1 with 46704 MB memory:  -> device: 1, name: NVIDIA RTX A6000, pci bus id: 0000:d9:00.0, compute capability: 8.6\n"
     ]
    },
    {
     "name": "stdout",
     "output_type": "stream",
     "text": [
      "EqualizedOdds 0.7861666666666667\n",
      "EqualizedOdds 0.7861666666666667\n",
      "0.7861666666666667\n",
      "0.25716666666666665\n",
      "data/datasets/credit_tw/synthetic/gender_flip_labels0.2_version6/\n"
     ]
    },
    {
     "name": "stderr",
     "output_type": "stream",
     "text": [
      "2023-02-26 20:09:30.148121: I tensorflow/core/common_runtime/gpu/gpu_device.cc:1613] Created device /job:localhost/replica:0/task:0/device:GPU:0 with 46704 MB memory:  -> device: 0, name: NVIDIA RTX A6000, pci bus id: 0000:b1:00.0, compute capability: 8.6\n",
      "2023-02-26 20:09:30.159211: I tensorflow/core/common_runtime/gpu/gpu_device.cc:1613] Created device /job:localhost/replica:0/task:0/device:GPU:1 with 46704 MB memory:  -> device: 1, name: NVIDIA RTX A6000, pci bus id: 0000:d9:00.0, compute capability: 8.6\n"
     ]
    },
    {
     "name": "stdout",
     "output_type": "stream",
     "text": [
      "EqualizedOdds 0.7818333333333334\n",
      "EqualizedOdds 0.7818333333333334\n",
      "0.7818333333333334\n",
      "0.7773333333333333\n",
      "data/datasets/credit_tw/synthetic/gender_flip_labels0.2_version7/\n",
      "EqualizedOdds 0.7716666666666666\n",
      "EqualizedOdds 0.7715\n",
      "0.7715\n",
      "0.7706666666666667\n",
      "data/datasets/credit_tw/synthetic/gender_flip_labels0.2_version8/\n"
     ]
    },
    {
     "name": "stderr",
     "output_type": "stream",
     "text": [
      "2023-02-26 20:14:23.851612: I tensorflow/core/common_runtime/gpu/gpu_device.cc:1613] Created device /job:localhost/replica:0/task:0/device:GPU:0 with 46704 MB memory:  -> device: 0, name: NVIDIA RTX A6000, pci bus id: 0000:b1:00.0, compute capability: 8.6\n",
      "2023-02-26 20:14:23.851900: I tensorflow/core/common_runtime/gpu/gpu_device.cc:1613] Created device /job:localhost/replica:0/task:0/device:GPU:1 with 46704 MB memory:  -> device: 1, name: NVIDIA RTX A6000, pci bus id: 0000:d9:00.0, compute capability: 8.6\n"
     ]
    },
    {
     "name": "stdout",
     "output_type": "stream",
     "text": [
      "EqualizedOdds 0.784\n",
      "0.7806666666666666\n",
      "0.2595\n",
      "data/datasets/credit_tw/synthetic/gender_flip_labels0.2_version9/\n"
     ]
    },
    {
     "name": "stderr",
     "output_type": "stream",
     "text": [
      "2023-02-26 20:16:49.986876: I tensorflow/core/common_runtime/gpu/gpu_device.cc:1613] Created device /job:localhost/replica:0/task:0/device:GPU:0 with 46704 MB memory:  -> device: 0, name: NVIDIA RTX A6000, pci bus id: 0000:b1:00.0, compute capability: 8.6\n",
      "2023-02-26 20:16:49.988251: I tensorflow/core/common_runtime/gpu/gpu_device.cc:1613] Created device /job:localhost/replica:0/task:0/device:GPU:1 with 46704 MB memory:  -> device: 1, name: NVIDIA RTX A6000, pci bus id: 0000:d9:00.0, compute capability: 8.6\n"
     ]
    },
    {
     "name": "stdout",
     "output_type": "stream",
     "text": [
      "EqualizedOdds 0.7803333333333333\n",
      "EqualizedOdds 0.8036666666666666\n",
      "0.7806666666666666\n",
      "0.2678333333333333\n",
      "data/datasets/credit_tw/synthetic/gender_flip_labels0.3_version0/\n"
     ]
    },
    {
     "name": "stderr",
     "output_type": "stream",
     "text": [
      "2023-02-26 20:19:13.046464: I tensorflow/core/common_runtime/gpu/gpu_device.cc:1613] Created device /job:localhost/replica:0/task:0/device:GPU:0 with 46704 MB memory:  -> device: 0, name: NVIDIA RTX A6000, pci bus id: 0000:b1:00.0, compute capability: 8.6\n",
      "2023-02-26 20:19:13.054524: I tensorflow/core/common_runtime/gpu/gpu_device.cc:1613] Created device /job:localhost/replica:0/task:0/device:GPU:1 with 46704 MB memory:  -> device: 1, name: NVIDIA RTX A6000, pci bus id: 0000:d9:00.0, compute capability: 8.6\n"
     ]
    },
    {
     "name": "stdout",
     "output_type": "stream",
     "text": [
      "EqualizedOdds 0.7796666666666666\n",
      "EqualizedOdds 0.7798333333333334\n",
      "0.7796666666666666\n",
      "0.7781666666666667\n",
      "data/datasets/credit_tw/synthetic/gender_flip_labels0.3_version1/\n"
     ]
    },
    {
     "name": "stderr",
     "output_type": "stream",
     "text": [
      "2023-02-26 20:21:37.830732: I tensorflow/core/common_runtime/gpu/gpu_device.cc:1613] Created device /job:localhost/replica:0/task:0/device:GPU:0 with 46704 MB memory:  -> device: 0, name: NVIDIA RTX A6000, pci bus id: 0000:b1:00.0, compute capability: 8.6\n",
      "2023-02-26 20:21:37.835934: I tensorflow/core/common_runtime/gpu/gpu_device.cc:1613] Created device /job:localhost/replica:0/task:0/device:GPU:1 with 46704 MB memory:  -> device: 1, name: NVIDIA RTX A6000, pci bus id: 0000:d9:00.0, compute capability: 8.6\n"
     ]
    },
    {
     "name": "stdout",
     "output_type": "stream",
     "text": [
      "EqualizedOdds 0.7758333333333334\n",
      "EqualizedOdds 0.8035\n",
      "0.776\n",
      "0.7806666666666666\n",
      "data/datasets/credit_tw/synthetic/gender_flip_labels0.3_version2/\n"
     ]
    },
    {
     "name": "stderr",
     "output_type": "stream",
     "text": [
      "2023-02-26 20:24:00.666066: I tensorflow/core/common_runtime/gpu/gpu_device.cc:1613] Created device /job:localhost/replica:0/task:0/device:GPU:0 with 46704 MB memory:  -> device: 0, name: NVIDIA RTX A6000, pci bus id: 0000:b1:00.0, compute capability: 8.6\n",
      "2023-02-26 20:24:00.668212: I tensorflow/core/common_runtime/gpu/gpu_device.cc:1613] Created device /job:localhost/replica:0/task:0/device:GPU:1 with 46704 MB memory:  -> device: 1, name: NVIDIA RTX A6000, pci bus id: 0000:d9:00.0, compute capability: 8.6\n"
     ]
    },
    {
     "name": "stdout",
     "output_type": "stream",
     "text": [
      "EqualizedOdds 0.7895\n",
      "EqualizedOdds 0.793\n",
      "0.7815\n",
      "0.7816666666666666\n",
      "data/datasets/credit_tw/synthetic/gender_flip_labels0.3_version3/\n"
     ]
    },
    {
     "name": "stderr",
     "output_type": "stream",
     "text": [
      "2023-02-26 20:26:29.318621: I tensorflow/core/common_runtime/gpu/gpu_device.cc:1613] Created device /job:localhost/replica:0/task:0/device:GPU:0 with 46704 MB memory:  -> device: 0, name: NVIDIA RTX A6000, pci bus id: 0000:b1:00.0, compute capability: 8.6\n",
      "2023-02-26 20:26:29.319339: I tensorflow/core/common_runtime/gpu/gpu_device.cc:1613] Created device /job:localhost/replica:0/task:0/device:GPU:1 with 46704 MB memory:  -> device: 1, name: NVIDIA RTX A6000, pci bus id: 0000:d9:00.0, compute capability: 8.6\n"
     ]
    },
    {
     "name": "stdout",
     "output_type": "stream",
     "text": [
      "EqualizedOdds 0.772\n",
      "EqualizedOdds 0.795\n",
      "0.772\n",
      "0.2733333333333333\n",
      "data/datasets/credit_tw/synthetic/gender_flip_labels0.3_version4/\n"
     ]
    },
    {
     "name": "stderr",
     "output_type": "stream",
     "text": [
      "2023-02-26 20:29:00.788768: I tensorflow/core/common_runtime/gpu/gpu_device.cc:1613] Created device /job:localhost/replica:0/task:0/device:GPU:0 with 46704 MB memory:  -> device: 0, name: NVIDIA RTX A6000, pci bus id: 0000:b1:00.0, compute capability: 8.6\n",
      "2023-02-26 20:29:00.795754: I tensorflow/core/common_runtime/gpu/gpu_device.cc:1613] Created device /job:localhost/replica:0/task:0/device:GPU:1 with 46704 MB memory:  -> device: 1, name: NVIDIA RTX A6000, pci bus id: 0000:d9:00.0, compute capability: 8.6\n"
     ]
    },
    {
     "name": "stdout",
     "output_type": "stream",
     "text": [
      "EqualizedOdds 0.777\n",
      "EqualizedOdds 0.7813333333333333\n",
      "0.7761666666666667\n",
      "0.267\n",
      "data/datasets/credit_tw/synthetic/gender_flip_labels0.3_version5/\n"
     ]
    },
    {
     "name": "stderr",
     "output_type": "stream",
     "text": [
      "2023-02-26 20:31:32.436638: I tensorflow/core/common_runtime/gpu/gpu_device.cc:1613] Created device /job:localhost/replica:0/task:0/device:GPU:0 with 46704 MB memory:  -> device: 0, name: NVIDIA RTX A6000, pci bus id: 0000:b1:00.0, compute capability: 8.6\n",
      "2023-02-26 20:31:32.437341: I tensorflow/core/common_runtime/gpu/gpu_device.cc:1613] Created device /job:localhost/replica:0/task:0/device:GPU:1 with 46704 MB memory:  -> device: 1, name: NVIDIA RTX A6000, pci bus id: 0000:d9:00.0, compute capability: 8.6\n"
     ]
    },
    {
     "name": "stdout",
     "output_type": "stream",
     "text": [
      "EqualizedOdds 0.7803333333333333\n",
      "EqualizedOdds 0.78\n",
      "0.78\n",
      "0.7791666666666667\n",
      "data/datasets/credit_tw/synthetic/gender_flip_labels0.3_version6/\n"
     ]
    },
    {
     "name": "stderr",
     "output_type": "stream",
     "text": [
      "2023-02-26 20:34:21.971707: I tensorflow/core/common_runtime/gpu/gpu_device.cc:1613] Created device /job:localhost/replica:0/task:0/device:GPU:0 with 46704 MB memory:  -> device: 0, name: NVIDIA RTX A6000, pci bus id: 0000:b1:00.0, compute capability: 8.6\n",
      "2023-02-26 20:34:21.972473: I tensorflow/core/common_runtime/gpu/gpu_device.cc:1613] Created device /job:localhost/replica:0/task:0/device:GPU:1 with 46704 MB memory:  -> device: 1, name: NVIDIA RTX A6000, pci bus id: 0000:d9:00.0, compute capability: 8.6\n"
     ]
    },
    {
     "name": "stdout",
     "output_type": "stream",
     "text": [
      "EqualizedOdds 0.7781666666666667\n",
      "EqualizedOdds 0.7781666666666667\n",
      "0.7781666666666667\n",
      "0.7758333333333334\n",
      "data/datasets/credit_tw/synthetic/gender_flip_labels0.3_version7/\n"
     ]
    },
    {
     "name": "stderr",
     "output_type": "stream",
     "text": [
      "2023-02-26 20:36:42.704159: I tensorflow/core/common_runtime/gpu/gpu_device.cc:1613] Created device /job:localhost/replica:0/task:0/device:GPU:0 with 46704 MB memory:  -> device: 0, name: NVIDIA RTX A6000, pci bus id: 0000:b1:00.0, compute capability: 8.6\n",
      "2023-02-26 20:36:42.705516: I tensorflow/core/common_runtime/gpu/gpu_device.cc:1613] Created device /job:localhost/replica:0/task:0/device:GPU:1 with 46704 MB memory:  -> device: 1, name: NVIDIA RTX A6000, pci bus id: 0000:d9:00.0, compute capability: 8.6\n"
     ]
    },
    {
     "name": "stdout",
     "output_type": "stream",
     "text": [
      "EqualizedOdds 0.7778333333333334\n",
      "EqualizedOdds 0.7778333333333334\n",
      "0.7778333333333334\n",
      "0.2628333333333333\n",
      "data/datasets/credit_tw/synthetic/gender_flip_labels0.3_version8/\n"
     ]
    },
    {
     "name": "stderr",
     "output_type": "stream",
     "text": [
      "2023-02-26 20:39:17.874201: I tensorflow/core/common_runtime/gpu/gpu_device.cc:1613] Created device /job:localhost/replica:0/task:0/device:GPU:0 with 46704 MB memory:  -> device: 0, name: NVIDIA RTX A6000, pci bus id: 0000:b1:00.0, compute capability: 8.6\n",
      "2023-02-26 20:39:17.874502: I tensorflow/core/common_runtime/gpu/gpu_device.cc:1613] Created device /job:localhost/replica:0/task:0/device:GPU:1 with 46704 MB memory:  -> device: 1, name: NVIDIA RTX A6000, pci bus id: 0000:d9:00.0, compute capability: 8.6\n"
     ]
    },
    {
     "name": "stdout",
     "output_type": "stream",
     "text": [
      "EqualizedOdds 0.7685\n",
      "EqualizedOdds 0.7895\n",
      "0.7683333333333333\n",
      "0.2665\n",
      "data/datasets/credit_tw/synthetic/gender_flip_labels0.3_version9/\n"
     ]
    },
    {
     "name": "stderr",
     "output_type": "stream",
     "text": [
      "2023-02-26 20:41:41.346091: I tensorflow/core/common_runtime/gpu/gpu_device.cc:1613] Created device /job:localhost/replica:0/task:0/device:GPU:0 with 46704 MB memory:  -> device: 0, name: NVIDIA RTX A6000, pci bus id: 0000:b1:00.0, compute capability: 8.6\n",
      "2023-02-26 20:41:41.346532: I tensorflow/core/common_runtime/gpu/gpu_device.cc:1613] Created device /job:localhost/replica:0/task:0/device:GPU:1 with 46704 MB memory:  -> device: 1, name: NVIDIA RTX A6000, pci bus id: 0000:d9:00.0, compute capability: 8.6\n"
     ]
    },
    {
     "name": "stdout",
     "output_type": "stream",
     "text": [
      "EqualizedOdds 0.7718333333333334\n",
      "EqualizedOdds 0.7928333333333333\n",
      "0.7718333333333334\n",
      "0.27366666666666667\n",
      "data/datasets/credit_tw/synthetic/gender_flip_labels0.4_version1/\n"
     ]
    },
    {
     "name": "stderr",
     "output_type": "stream",
     "text": [
      "2023-02-26 20:46:24.724328: I tensorflow/core/common_runtime/gpu/gpu_device.cc:1613] Created device /job:localhost/replica:0/task:0/device:GPU:0 with 46704 MB memory:  -> device: 0, name: NVIDIA RTX A6000, pci bus id: 0000:b1:00.0, compute capability: 8.6\n",
      "2023-02-26 20:46:24.725179: I tensorflow/core/common_runtime/gpu/gpu_device.cc:1613] Created device /job:localhost/replica:0/task:0/device:GPU:1 with 46704 MB memory:  -> device: 1, name: NVIDIA RTX A6000, pci bus id: 0000:d9:00.0, compute capability: 8.6\n"
     ]
    },
    {
     "name": "stdout",
     "output_type": "stream",
     "text": [
      "EqualizedOdds 0.7785\n",
      "EqualizedOdds 0.7801666666666667\n",
      "0.7785\n",
      "0.26916666666666667\n",
      "data/datasets/credit_tw/synthetic/gender_flip_labels0.4_version2/\n"
     ]
    },
    {
     "name": "stderr",
     "output_type": "stream",
     "text": [
      "2023-02-26 20:48:46.154228: I tensorflow/core/common_runtime/gpu/gpu_device.cc:1613] Created device /job:localhost/replica:0/task:0/device:GPU:0 with 46704 MB memory:  -> device: 0, name: NVIDIA RTX A6000, pci bus id: 0000:b1:00.0, compute capability: 8.6\n",
      "2023-02-26 20:48:46.155007: I tensorflow/core/common_runtime/gpu/gpu_device.cc:1613] Created device /job:localhost/replica:0/task:0/device:GPU:1 with 46704 MB memory:  -> device: 1, name: NVIDIA RTX A6000, pci bus id: 0000:d9:00.0, compute capability: 8.6\n"
     ]
    },
    {
     "name": "stdout",
     "output_type": "stream",
     "text": [
      "EqualizedOdds 0.786\n",
      "EqualizedOdds 0.7996666666666666\n",
      "0.7861666666666667\n",
      "0.254\n",
      "data/datasets/credit_tw/synthetic/gender_flip_labels0.4_version3/\n"
     ]
    },
    {
     "name": "stderr",
     "output_type": "stream",
     "text": [
      "2023-02-26 20:51:11.335685: I tensorflow/core/common_runtime/gpu/gpu_device.cc:1613] Created device /job:localhost/replica:0/task:0/device:GPU:0 with 46704 MB memory:  -> device: 0, name: NVIDIA RTX A6000, pci bus id: 0000:b1:00.0, compute capability: 8.6\n",
      "2023-02-26 20:51:11.340462: I tensorflow/core/common_runtime/gpu/gpu_device.cc:1613] Created device /job:localhost/replica:0/task:0/device:GPU:1 with 46704 MB memory:  -> device: 1, name: NVIDIA RTX A6000, pci bus id: 0000:d9:00.0, compute capability: 8.6\n"
     ]
    },
    {
     "name": "stdout",
     "output_type": "stream",
     "text": [
      "EqualizedOdds 0.7721666666666667\n",
      "EqualizedOdds 0.7723333333333333\n",
      "0.7721666666666667\n",
      "0.7713333333333333\n",
      "data/datasets/credit_tw/synthetic/gender_flip_labels0.4_version4/\n"
     ]
    },
    {
     "name": "stderr",
     "output_type": "stream",
     "text": [
      "2023-02-26 20:53:50.995010: I tensorflow/core/common_runtime/gpu/gpu_device.cc:1613] Created device /job:localhost/replica:0/task:0/device:GPU:0 with 46704 MB memory:  -> device: 0, name: NVIDIA RTX A6000, pci bus id: 0000:b1:00.0, compute capability: 8.6\n",
      "2023-02-26 20:53:50.996356: I tensorflow/core/common_runtime/gpu/gpu_device.cc:1613] Created device /job:localhost/replica:0/task:0/device:GPU:1 with 46704 MB memory:  -> device: 1, name: NVIDIA RTX A6000, pci bus id: 0000:d9:00.0, compute capability: 8.6\n"
     ]
    },
    {
     "name": "stdout",
     "output_type": "stream",
     "text": [
      "EqualizedOdds 0.787\n",
      "EqualizedOdds 0.8065\n",
      "0.787\n",
      "0.26033333333333336\n",
      "data/datasets/credit_tw/synthetic/gender_flip_labels0.4_version5/\n"
     ]
    },
    {
     "name": "stderr",
     "output_type": "stream",
     "text": [
      "2023-02-26 20:56:16.391466: I tensorflow/core/common_runtime/gpu/gpu_device.cc:1613] Created device /job:localhost/replica:0/task:0/device:GPU:0 with 46704 MB memory:  -> device: 0, name: NVIDIA RTX A6000, pci bus id: 0000:b1:00.0, compute capability: 8.6\n",
      "2023-02-26 20:56:16.398020: I tensorflow/core/common_runtime/gpu/gpu_device.cc:1613] Created device /job:localhost/replica:0/task:0/device:GPU:1 with 46704 MB memory:  -> device: 1, name: NVIDIA RTX A6000, pci bus id: 0000:d9:00.0, compute capability: 8.6\n"
     ]
    },
    {
     "name": "stdout",
     "output_type": "stream",
     "text": [
      "EqualizedOdds 0.7791666666666667\n",
      "EqualizedOdds 0.7948333333333333\n",
      "0.779\n",
      "0.2705\n",
      "data/datasets/credit_tw/synthetic/gender_flip_labels0.4_version6/\n"
     ]
    },
    {
     "name": "stderr",
     "output_type": "stream",
     "text": [
      "2023-02-26 20:58:50.471105: I tensorflow/core/common_runtime/gpu/gpu_device.cc:1613] Created device /job:localhost/replica:0/task:0/device:GPU:0 with 46704 MB memory:  -> device: 0, name: NVIDIA RTX A6000, pci bus id: 0000:b1:00.0, compute capability: 8.6\n",
      "2023-02-26 20:58:50.471796: I tensorflow/core/common_runtime/gpu/gpu_device.cc:1613] Created device /job:localhost/replica:0/task:0/device:GPU:1 with 46704 MB memory:  -> device: 1, name: NVIDIA RTX A6000, pci bus id: 0000:d9:00.0, compute capability: 8.6\n"
     ]
    },
    {
     "name": "stdout",
     "output_type": "stream",
     "text": [
      "EqualizedOdds 0.78\n",
      "EqualizedOdds 0.7805\n",
      "0.78\n",
      "0.27016666666666667\n",
      "data/datasets/credit_tw/synthetic/gender_flip_labels0.4_version8/\n"
     ]
    },
    {
     "name": "stderr",
     "output_type": "stream",
     "text": [
      "2023-02-26 21:03:47.859466: I tensorflow/core/common_runtime/gpu/gpu_device.cc:1613] Created device /job:localhost/replica:0/task:0/device:GPU:0 with 46704 MB memory:  -> device: 0, name: NVIDIA RTX A6000, pci bus id: 0000:b1:00.0, compute capability: 8.6\n",
      "2023-02-26 21:03:47.859847: I tensorflow/core/common_runtime/gpu/gpu_device.cc:1613] Created device /job:localhost/replica:0/task:0/device:GPU:1 with 46704 MB memory:  -> device: 1, name: NVIDIA RTX A6000, pci bus id: 0000:d9:00.0, compute capability: 8.6\n"
     ]
    },
    {
     "name": "stdout",
     "output_type": "stream",
     "text": [
      "EqualizedOdds 0.7776666666666666\n",
      "EqualizedOdds 0.7775\n",
      "0.7775\n",
      "0.26466666666666666\n",
      "data/datasets/credit_tw/synthetic/gender_flip_labels0.4_version9/\n"
     ]
    },
    {
     "name": "stderr",
     "output_type": "stream",
     "text": [
      "2023-02-26 21:06:22.415671: I tensorflow/core/common_runtime/gpu/gpu_device.cc:1613] Created device /job:localhost/replica:0/task:0/device:GPU:0 with 46704 MB memory:  -> device: 0, name: NVIDIA RTX A6000, pci bus id: 0000:b1:00.0, compute capability: 8.6\n",
      "2023-02-26 21:06:22.416122: I tensorflow/core/common_runtime/gpu/gpu_device.cc:1613] Created device /job:localhost/replica:0/task:0/device:GPU:1 with 46704 MB memory:  -> device: 1, name: NVIDIA RTX A6000, pci bus id: 0000:d9:00.0, compute capability: 8.6\n"
     ]
    },
    {
     "name": "stdout",
     "output_type": "stream",
     "text": [
      "EqualizedOdds 0.7765\n",
      "EqualizedOdds 0.79\n",
      "0.7766666666666666\n",
      "0.26566666666666666\n",
      "data/datasets/credit_tw/synthetic/gender_flip_labels0.5_version0/\n"
     ]
    },
    {
     "name": "stderr",
     "output_type": "stream",
     "text": [
      "2023-02-26 21:08:49.247810: I tensorflow/core/common_runtime/gpu/gpu_device.cc:1613] Created device /job:localhost/replica:0/task:0/device:GPU:0 with 46704 MB memory:  -> device: 0, name: NVIDIA RTX A6000, pci bus id: 0000:b1:00.0, compute capability: 8.6\n",
      "2023-02-26 21:08:49.248248: I tensorflow/core/common_runtime/gpu/gpu_device.cc:1613] Created device /job:localhost/replica:0/task:0/device:GPU:1 with 46704 MB memory:  -> device: 1, name: NVIDIA RTX A6000, pci bus id: 0000:d9:00.0, compute capability: 8.6\n"
     ]
    },
    {
     "name": "stdout",
     "output_type": "stream",
     "text": [
      "0.275\n",
      "data/datasets/credit_tw/synthetic/gender_flip_labels0.5_version1/\n"
     ]
    },
    {
     "name": "stderr",
     "output_type": "stream",
     "text": [
      "2023-02-26 21:11:25.968761: I tensorflow/core/common_runtime/gpu/gpu_device.cc:1613] Created device /job:localhost/replica:0/task:0/device:GPU:0 with 46704 MB memory:  -> device: 0, name: NVIDIA RTX A6000, pci bus id: 0000:b1:00.0, compute capability: 8.6\n",
      "2023-02-26 21:11:25.970413: I tensorflow/core/common_runtime/gpu/gpu_device.cc:1613] Created device /job:localhost/replica:0/task:0/device:GPU:1 with 46704 MB memory:  -> device: 1, name: NVIDIA RTX A6000, pci bus id: 0000:d9:00.0, compute capability: 8.6\n"
     ]
    },
    {
     "name": "stdout",
     "output_type": "stream",
     "text": [
      "EqualizedOdds 0.7745\n",
      "EqualizedOdds 0.775\n",
      "0.7746666666666666\n",
      "0.26566666666666666\n",
      "data/datasets/credit_tw/synthetic/gender_flip_labels0.5_version2/\n"
     ]
    },
    {
     "name": "stderr",
     "output_type": "stream",
     "text": [
      "2023-02-26 21:13:59.390673: I tensorflow/core/common_runtime/gpu/gpu_device.cc:1613] Created device /job:localhost/replica:0/task:0/device:GPU:0 with 46704 MB memory:  -> device: 0, name: NVIDIA RTX A6000, pci bus id: 0000:b1:00.0, compute capability: 8.6\n",
      "2023-02-26 21:13:59.394303: I tensorflow/core/common_runtime/gpu/gpu_device.cc:1613] Created device /job:localhost/replica:0/task:0/device:GPU:1 with 46704 MB memory:  -> device: 1, name: NVIDIA RTX A6000, pci bus id: 0000:d9:00.0, compute capability: 8.6\n"
     ]
    },
    {
     "name": "stdout",
     "output_type": "stream",
     "text": [
      "EqualizedOdds 0.7816666666666666\n",
      "EqualizedOdds 0.801\n",
      "0.7816666666666666\n",
      "0.272\n",
      "data/datasets/credit_tw/synthetic/gender_flip_labels0.5_version3/\n"
     ]
    },
    {
     "name": "stderr",
     "output_type": "stream",
     "text": [
      "2023-02-26 21:16:36.379447: I tensorflow/core/common_runtime/gpu/gpu_device.cc:1613] Created device /job:localhost/replica:0/task:0/device:GPU:0 with 46704 MB memory:  -> device: 0, name: NVIDIA RTX A6000, pci bus id: 0000:b1:00.0, compute capability: 8.6\n",
      "2023-02-26 21:16:36.388773: I tensorflow/core/common_runtime/gpu/gpu_device.cc:1613] Created device /job:localhost/replica:0/task:0/device:GPU:1 with 46704 MB memory:  -> device: 1, name: NVIDIA RTX A6000, pci bus id: 0000:d9:00.0, compute capability: 8.6\n"
     ]
    },
    {
     "name": "stdout",
     "output_type": "stream",
     "text": [
      "EqualizedOdds 0.7748333333333334\n",
      "EqualizedOdds 0.7735\n",
      "0.774\n",
      "0.276\n",
      "data/datasets/credit_tw/synthetic/gender_flip_labels0.5_version4/\n"
     ]
    },
    {
     "name": "stderr",
     "output_type": "stream",
     "text": [
      "2023-02-26 21:18:57.794886: I tensorflow/core/common_runtime/gpu/gpu_device.cc:1613] Created device /job:localhost/replica:0/task:0/device:GPU:0 with 46704 MB memory:  -> device: 0, name: NVIDIA RTX A6000, pci bus id: 0000:b1:00.0, compute capability: 8.6\n",
      "2023-02-26 21:18:57.799606: I tensorflow/core/common_runtime/gpu/gpu_device.cc:1613] Created device /job:localhost/replica:0/task:0/device:GPU:1 with 46704 MB memory:  -> device: 1, name: NVIDIA RTX A6000, pci bus id: 0000:d9:00.0, compute capability: 8.6\n"
     ]
    },
    {
     "name": "stdout",
     "output_type": "stream",
     "text": [
      "EqualizedOdds 0.775\n",
      "EqualizedOdds 0.775\n",
      "0.7751666666666667\n",
      "0.2695\n",
      "data/datasets/credit_tw/synthetic/gender_flip_labels0.5_version5/\n"
     ]
    },
    {
     "name": "stderr",
     "output_type": "stream",
     "text": [
      "2023-02-26 21:21:13.875534: I tensorflow/core/common_runtime/gpu/gpu_device.cc:1613] Created device /job:localhost/replica:0/task:0/device:GPU:0 with 46704 MB memory:  -> device: 0, name: NVIDIA RTX A6000, pci bus id: 0000:b1:00.0, compute capability: 8.6\n",
      "2023-02-26 21:21:13.876030: I tensorflow/core/common_runtime/gpu/gpu_device.cc:1613] Created device /job:localhost/replica:0/task:0/device:GPU:1 with 46704 MB memory:  -> device: 1, name: NVIDIA RTX A6000, pci bus id: 0000:d9:00.0, compute capability: 8.6\n"
     ]
    },
    {
     "name": "stdout",
     "output_type": "stream",
     "text": [
      "EqualizedOdds 0.7828333333333334\n",
      "EqualizedOdds 0.7821666666666667\n",
      "0.7823333333333333\n",
      "0.275\n",
      "data/datasets/credit_tw/synthetic/gender_flip_labels0.5_version6/\n"
     ]
    },
    {
     "name": "stderr",
     "output_type": "stream",
     "text": [
      "2023-02-26 21:23:46.916359: I tensorflow/core/common_runtime/gpu/gpu_device.cc:1613] Created device /job:localhost/replica:0/task:0/device:GPU:0 with 46704 MB memory:  -> device: 0, name: NVIDIA RTX A6000, pci bus id: 0000:b1:00.0, compute capability: 8.6\n",
      "2023-02-26 21:23:46.916907: I tensorflow/core/common_runtime/gpu/gpu_device.cc:1613] Created device /job:localhost/replica:0/task:0/device:GPU:1 with 46704 MB memory:  -> device: 1, name: NVIDIA RTX A6000, pci bus id: 0000:d9:00.0, compute capability: 8.6\n"
     ]
    },
    {
     "name": "stdout",
     "output_type": "stream",
     "text": [
      "EqualizedOdds 0.775\n",
      "EqualizedOdds 0.7748333333333334\n",
      "0.775\n",
      "0.269\n",
      "data/datasets/credit_tw/synthetic/gender_flip_labels0.5_version7/\n"
     ]
    },
    {
     "name": "stderr",
     "output_type": "stream",
     "text": [
      "2023-02-26 21:26:25.929184: I tensorflow/core/common_runtime/gpu/gpu_device.cc:1613] Created device /job:localhost/replica:0/task:0/device:GPU:0 with 46704 MB memory:  -> device: 0, name: NVIDIA RTX A6000, pci bus id: 0000:b1:00.0, compute capability: 8.6\n",
      "2023-02-26 21:26:25.929658: I tensorflow/core/common_runtime/gpu/gpu_device.cc:1613] Created device /job:localhost/replica:0/task:0/device:GPU:1 with 46704 MB memory:  -> device: 1, name: NVIDIA RTX A6000, pci bus id: 0000:d9:00.0, compute capability: 8.6\n",
      "2023-02-26 21:28:52.755903: I tensorflow/core/common_runtime/gpu/gpu_device.cc:1613] Created device /job:localhost/replica:0/task:0/device:GPU:0 with 46704 MB memory:  -> device: 0, name: NVIDIA RTX A6000, pci bus id: 0000:b1:00.0, compute capability: 8.6\n",
      "2023-02-26 21:28:52.756399: I tensorflow/core/common_runtime/gpu/gpu_device.cc:1613] Created device /job:localhost/replica:0/task:0/device:GPU:1 with 46704 MB memory:  -> device: 1, name: NVIDIA RTX A6000, pci bus id: 0000:d9:00.0, compute capability: 8.6\n"
     ]
    },
    {
     "name": "stdout",
     "output_type": "stream",
     "text": [
      "EqualizedOdds 0.7798333333333334\n",
      "EqualizedOdds 0.7953333333333333\n",
      "0.7798333333333334\n",
      "0.7796666666666666\n",
      "data/datasets/credit_tw/synthetic/gender_flip_labels0.5_version9/\n"
     ]
    },
    {
     "name": "stderr",
     "output_type": "stream",
     "text": [
      "2023-02-26 21:31:18.695363: I tensorflow/core/common_runtime/gpu/gpu_device.cc:1613] Created device /job:localhost/replica:0/task:0/device:GPU:0 with 46704 MB memory:  -> device: 0, name: NVIDIA RTX A6000, pci bus id: 0000:b1:00.0, compute capability: 8.6\n",
      "2023-02-26 21:31:18.696615: I tensorflow/core/common_runtime/gpu/gpu_device.cc:1613] Created device /job:localhost/replica:0/task:0/device:GPU:1 with 46704 MB memory:  -> device: 1, name: NVIDIA RTX A6000, pci bus id: 0000:d9:00.0, compute capability: 8.6\n"
     ]
    },
    {
     "name": "stdout",
     "output_type": "stream",
     "text": [
      "EqualizedOdds 0.7843333333333333\n",
      "EqualizedOdds 0.785\n",
      "0.7843333333333333\n",
      "0.7775\n",
      "data/datasets/credit_tw/synthetic/gender_flip_labels0.6_version0/\n"
     ]
    },
    {
     "name": "stderr",
     "output_type": "stream",
     "text": [
      "2023-02-26 21:33:49.911696: I tensorflow/core/common_runtime/gpu/gpu_device.cc:1613] Created device /job:localhost/replica:0/task:0/device:GPU:0 with 46704 MB memory:  -> device: 0, name: NVIDIA RTX A6000, pci bus id: 0000:b1:00.0, compute capability: 8.6\n",
      "2023-02-26 21:33:49.913144: I tensorflow/core/common_runtime/gpu/gpu_device.cc:1613] Created device /job:localhost/replica:0/task:0/device:GPU:1 with 46704 MB memory:  -> device: 1, name: NVIDIA RTX A6000, pci bus id: 0000:d9:00.0, compute capability: 8.6\n"
     ]
    },
    {
     "name": "stdout",
     "output_type": "stream",
     "text": [
      "EqualizedOdds 0.774\n",
      "EqualizedOdds 0.7985\n",
      "0.7741666666666667\n",
      "0.774\n",
      "data/datasets/credit_tw/synthetic/gender_flip_labels0.6_version1/\n"
     ]
    },
    {
     "name": "stderr",
     "output_type": "stream",
     "text": [
      "2023-02-26 21:36:12.586867: I tensorflow/core/common_runtime/gpu/gpu_device.cc:1613] Created device /job:localhost/replica:0/task:0/device:GPU:0 with 46704 MB memory:  -> device: 0, name: NVIDIA RTX A6000, pci bus id: 0000:b1:00.0, compute capability: 8.6\n",
      "2023-02-26 21:36:12.594512: I tensorflow/core/common_runtime/gpu/gpu_device.cc:1613] Created device /job:localhost/replica:0/task:0/device:GPU:1 with 46704 MB memory:  -> device: 1, name: NVIDIA RTX A6000, pci bus id: 0000:d9:00.0, compute capability: 8.6\n",
      "2023-02-26 21:38:44.054175: I tensorflow/core/common_runtime/gpu/gpu_device.cc:1613] Created device /job:localhost/replica:0/task:0/device:GPU:0 with 46704 MB memory:  -> device: 0, name: NVIDIA RTX A6000, pci bus id: 0000:b1:00.0, compute capability: 8.6\n",
      "2023-02-26 21:38:44.054465: I tensorflow/core/common_runtime/gpu/gpu_device.cc:1613] Created device /job:localhost/replica:0/task:0/device:GPU:1 with 46704 MB memory:  -> device: 1, name: NVIDIA RTX A6000, pci bus id: 0000:d9:00.0, compute capability: 8.6\n"
     ]
    },
    {
     "name": "stdout",
     "output_type": "stream",
     "text": [
      "EqualizedOdds 0.7761666666666667\n",
      "EqualizedOdds 0.7846666666666666\n",
      "0.7761666666666667\n",
      "0.27616666666666667\n",
      "data/datasets/credit_tw/synthetic/gender_flip_labels0.6_version3/\n"
     ]
    },
    {
     "name": "stderr",
     "output_type": "stream",
     "text": [
      "2023-02-26 21:41:12.148726: I tensorflow/core/common_runtime/gpu/gpu_device.cc:1613] Created device /job:localhost/replica:0/task:0/device:GPU:0 with 46704 MB memory:  -> device: 0, name: NVIDIA RTX A6000, pci bus id: 0000:b1:00.0, compute capability: 8.6\n",
      "2023-02-26 21:41:12.149112: I tensorflow/core/common_runtime/gpu/gpu_device.cc:1613] Created device /job:localhost/replica:0/task:0/device:GPU:1 with 46704 MB memory:  -> device: 1, name: NVIDIA RTX A6000, pci bus id: 0000:d9:00.0, compute capability: 8.6\n"
     ]
    },
    {
     "name": "stdout",
     "output_type": "stream",
     "text": [
      "EqualizedOdds 0.7776666666666666\n",
      "EqualizedOdds 0.7866666666666666\n",
      "0.7761666666666667\n",
      "0.27416666666666667\n",
      "data/datasets/credit_tw/synthetic/gender_flip_labels0.6_version4/\n"
     ]
    },
    {
     "name": "stderr",
     "output_type": "stream",
     "text": [
      "2023-02-26 21:43:50.831381: I tensorflow/core/common_runtime/gpu/gpu_device.cc:1613] Created device /job:localhost/replica:0/task:0/device:GPU:0 with 46704 MB memory:  -> device: 0, name: NVIDIA RTX A6000, pci bus id: 0000:b1:00.0, compute capability: 8.6\n",
      "2023-02-26 21:43:50.831873: I tensorflow/core/common_runtime/gpu/gpu_device.cc:1613] Created device /job:localhost/replica:0/task:0/device:GPU:1 with 46704 MB memory:  -> device: 1, name: NVIDIA RTX A6000, pci bus id: 0000:d9:00.0, compute capability: 8.6\n"
     ]
    },
    {
     "name": "stdout",
     "output_type": "stream",
     "text": [
      "EqualizedOdds 0.7783333333333333\n",
      "EqualizedOdds 0.7801666666666667\n",
      "0.7783333333333333\n",
      "0.2715\n",
      "data/datasets/credit_tw/synthetic/gender_flip_labels0.6_version5/\n"
     ]
    },
    {
     "name": "stderr",
     "output_type": "stream",
     "text": [
      "2023-02-26 21:46:17.436856: I tensorflow/core/common_runtime/gpu/gpu_device.cc:1613] Created device /job:localhost/replica:0/task:0/device:GPU:0 with 46704 MB memory:  -> device: 0, name: NVIDIA RTX A6000, pci bus id: 0000:b1:00.0, compute capability: 8.6\n",
      "2023-02-26 21:46:17.437325: I tensorflow/core/common_runtime/gpu/gpu_device.cc:1613] Created device /job:localhost/replica:0/task:0/device:GPU:1 with 46704 MB memory:  -> device: 1, name: NVIDIA RTX A6000, pci bus id: 0000:d9:00.0, compute capability: 8.6\n"
     ]
    },
    {
     "name": "stdout",
     "output_type": "stream",
     "text": [
      "EqualizedOdds 0.7793333333333333\n",
      "EqualizedOdds 0.8011666666666667\n",
      "0.7793333333333333\n",
      "0.7788333333333334\n",
      "data/datasets/credit_tw/synthetic/gender_flip_labels0.6_version6/\n"
     ]
    },
    {
     "name": "stderr",
     "output_type": "stream",
     "text": [
      "2023-02-26 21:49:00.460078: I tensorflow/core/common_runtime/gpu/gpu_device.cc:1613] Created device /job:localhost/replica:0/task:0/device:GPU:0 with 46704 MB memory:  -> device: 0, name: NVIDIA RTX A6000, pci bus id: 0000:b1:00.0, compute capability: 8.6\n",
      "2023-02-26 21:49:00.460397: I tensorflow/core/common_runtime/gpu/gpu_device.cc:1613] Created device /job:localhost/replica:0/task:0/device:GPU:1 with 46704 MB memory:  -> device: 1, name: NVIDIA RTX A6000, pci bus id: 0000:d9:00.0, compute capability: 8.6\n"
     ]
    },
    {
     "name": "stdout",
     "output_type": "stream",
     "text": [
      "EqualizedOdds 0.7818333333333334\n",
      "EqualizedOdds 0.7988333333333333\n",
      "0.7811666666666667\n",
      "0.7765\n",
      "data/datasets/credit_tw/synthetic/gender_flip_labels0.6_version7/\n"
     ]
    },
    {
     "name": "stderr",
     "output_type": "stream",
     "text": [
      "2023-02-26 21:51:34.798059: I tensorflow/core/common_runtime/gpu/gpu_device.cc:1613] Created device /job:localhost/replica:0/task:0/device:GPU:0 with 46704 MB memory:  -> device: 0, name: NVIDIA RTX A6000, pci bus id: 0000:b1:00.0, compute capability: 8.6\n",
      "2023-02-26 21:51:34.798397: I tensorflow/core/common_runtime/gpu/gpu_device.cc:1613] Created device /job:localhost/replica:0/task:0/device:GPU:1 with 46704 MB memory:  -> device: 1, name: NVIDIA RTX A6000, pci bus id: 0000:d9:00.0, compute capability: 8.6\n"
     ]
    },
    {
     "name": "stdout",
     "output_type": "stream",
     "text": [
      "EqualizedOdds 0.7786666666666666\n",
      "EqualizedOdds 0.7785\n",
      "0.7786666666666666\n",
      "0.2683333333333333\n",
      "data/datasets/credit_tw/synthetic/gender_flip_labels0.6_version8/\n"
     ]
    },
    {
     "name": "stderr",
     "output_type": "stream",
     "text": [
      "2023-02-26 21:54:10.586791: I tensorflow/core/common_runtime/gpu/gpu_device.cc:1613] Created device /job:localhost/replica:0/task:0/device:GPU:0 with 46704 MB memory:  -> device: 0, name: NVIDIA RTX A6000, pci bus id: 0000:b1:00.0, compute capability: 8.6\n",
      "2023-02-26 21:54:10.604444: I tensorflow/core/common_runtime/gpu/gpu_device.cc:1613] Created device /job:localhost/replica:0/task:0/device:GPU:1 with 46704 MB memory:  -> device: 1, name: NVIDIA RTX A6000, pci bus id: 0000:d9:00.0, compute capability: 8.6\n"
     ]
    },
    {
     "name": "stdout",
     "output_type": "stream",
     "text": [
      "EqualizedOdds 0.7783333333333333\n",
      "EqualizedOdds 0.7785\n",
      "0.7783333333333333\n",
      "0.2675\n",
      "data/datasets/credit_tw/synthetic/gender_flip_labels0.6_version9/\n",
      "EqualizedOdds 0.7653333333333333\n",
      "EqualizedOdds 0.7653333333333333\n",
      "0.7653333333333333\n",
      "0.2826666666666667\n",
      "data/datasets/credit_tw/synthetic/gender_flip_labels0.7_version0/\n"
     ]
    },
    {
     "name": "stderr",
     "output_type": "stream",
     "text": [
      "2023-02-26 21:58:51.614654: I tensorflow/core/common_runtime/gpu/gpu_device.cc:1613] Created device /job:localhost/replica:0/task:0/device:GPU:0 with 46704 MB memory:  -> device: 0, name: NVIDIA RTX A6000, pci bus id: 0000:b1:00.0, compute capability: 8.6\n",
      "2023-02-26 21:58:51.615023: I tensorflow/core/common_runtime/gpu/gpu_device.cc:1613] Created device /job:localhost/replica:0/task:0/device:GPU:1 with 46704 MB memory:  -> device: 1, name: NVIDIA RTX A6000, pci bus id: 0000:d9:00.0, compute capability: 8.6\n"
     ]
    },
    {
     "name": "stdout",
     "output_type": "stream",
     "text": [
      "EqualizedOdds 0.7748333333333334\n",
      "EqualizedOdds 0.8\n",
      "0.7748333333333334\n",
      "0.27516666666666667\n",
      "data/datasets/credit_tw/synthetic/gender_flip_labels0.7_version1/\n"
     ]
    },
    {
     "name": "stderr",
     "output_type": "stream",
     "text": [
      "2023-02-26 22:01:18.763741: I tensorflow/core/common_runtime/gpu/gpu_device.cc:1613] Created device /job:localhost/replica:0/task:0/device:GPU:0 with 46704 MB memory:  -> device: 0, name: NVIDIA RTX A6000, pci bus id: 0000:b1:00.0, compute capability: 8.6\n",
      "2023-02-26 22:01:18.764147: I tensorflow/core/common_runtime/gpu/gpu_device.cc:1613] Created device /job:localhost/replica:0/task:0/device:GPU:1 with 46704 MB memory:  -> device: 1, name: NVIDIA RTX A6000, pci bus id: 0000:d9:00.0, compute capability: 8.6\n"
     ]
    },
    {
     "name": "stdout",
     "output_type": "stream",
     "text": [
      "EqualizedOdds 0.782\n",
      "EqualizedOdds 0.8085\n",
      "0.7818333333333334\n",
      "0.2648333333333333\n",
      "data/datasets/credit_tw/synthetic/gender_flip_labels0.7_version2/\n"
     ]
    },
    {
     "name": "stderr",
     "output_type": "stream",
     "text": [
      "2023-02-26 22:03:53.486260: I tensorflow/core/common_runtime/gpu/gpu_device.cc:1613] Created device /job:localhost/replica:0/task:0/device:GPU:0 with 46704 MB memory:  -> device: 0, name: NVIDIA RTX A6000, pci bus id: 0000:b1:00.0, compute capability: 8.6\n",
      "2023-02-26 22:03:53.486607: I tensorflow/core/common_runtime/gpu/gpu_device.cc:1613] Created device /job:localhost/replica:0/task:0/device:GPU:1 with 46704 MB memory:  -> device: 1, name: NVIDIA RTX A6000, pci bus id: 0000:d9:00.0, compute capability: 8.6\n"
     ]
    },
    {
     "name": "stdout",
     "output_type": "stream",
     "text": [
      "EqualizedOdds 0.786\n",
      "EqualizedOdds 0.7855\n",
      "0.7853333333333333\n",
      "0.2608333333333333\n",
      "data/datasets/credit_tw/synthetic/gender_flip_labels0.7_version3/\n"
     ]
    },
    {
     "name": "stderr",
     "output_type": "stream",
     "text": [
      "2023-02-26 22:06:19.843494: I tensorflow/core/common_runtime/gpu/gpu_device.cc:1613] Created device /job:localhost/replica:0/task:0/device:GPU:0 with 46704 MB memory:  -> device: 0, name: NVIDIA RTX A6000, pci bus id: 0000:b1:00.0, compute capability: 8.6\n",
      "2023-02-26 22:06:19.843818: I tensorflow/core/common_runtime/gpu/gpu_device.cc:1613] Created device /job:localhost/replica:0/task:0/device:GPU:1 with 46704 MB memory:  -> device: 1, name: NVIDIA RTX A6000, pci bus id: 0000:d9:00.0, compute capability: 8.6\n"
     ]
    },
    {
     "name": "stdout",
     "output_type": "stream",
     "text": [
      "EqualizedOdds 0.7735\n",
      "EqualizedOdds 0.7748333333333334\n",
      "0.7735\n",
      "0.2791666666666667\n",
      "data/datasets/credit_tw/synthetic/gender_flip_labels0.7_version4/\n"
     ]
    },
    {
     "name": "stderr",
     "output_type": "stream",
     "text": [
      "2023-02-26 22:08:47.037582: I tensorflow/core/common_runtime/gpu/gpu_device.cc:1613] Created device /job:localhost/replica:0/task:0/device:GPU:0 with 46704 MB memory:  -> device: 0, name: NVIDIA RTX A6000, pci bus id: 0000:b1:00.0, compute capability: 8.6\n",
      "2023-02-26 22:08:47.038003: I tensorflow/core/common_runtime/gpu/gpu_device.cc:1613] Created device /job:localhost/replica:0/task:0/device:GPU:1 with 46704 MB memory:  -> device: 1, name: NVIDIA RTX A6000, pci bus id: 0000:d9:00.0, compute capability: 8.6\n"
     ]
    },
    {
     "name": "stdout",
     "output_type": "stream",
     "text": [
      "EqualizedOdds 0.7736666666666666\n",
      "EqualizedOdds 0.7733333333333333\n",
      "0.7733333333333333\n",
      "0.7715\n",
      "data/datasets/credit_tw/synthetic/gender_flip_labels0.7_version5/\n"
     ]
    },
    {
     "name": "stderr",
     "output_type": "stream",
     "text": [
      "2023-02-26 22:11:18.182830: I tensorflow/core/common_runtime/gpu/gpu_device.cc:1613] Created device /job:localhost/replica:0/task:0/device:GPU:0 with 46704 MB memory:  -> device: 0, name: NVIDIA RTX A6000, pci bus id: 0000:b1:00.0, compute capability: 8.6\n",
      "2023-02-26 22:11:18.183233: I tensorflow/core/common_runtime/gpu/gpu_device.cc:1613] Created device /job:localhost/replica:0/task:0/device:GPU:1 with 46704 MB memory:  -> device: 1, name: NVIDIA RTX A6000, pci bus id: 0000:d9:00.0, compute capability: 8.6\n"
     ]
    },
    {
     "name": "stdout",
     "output_type": "stream",
     "text": [
      "EqualizedOdds 0.7758333333333334\n",
      "EqualizedOdds 0.7758333333333334\n",
      "0.7758333333333334\n",
      "0.775\n",
      "data/datasets/credit_tw/synthetic/gender_flip_labels0.7_version7/\n"
     ]
    },
    {
     "name": "stderr",
     "output_type": "stream",
     "text": [
      "2023-02-26 22:16:12.669353: I tensorflow/core/common_runtime/gpu/gpu_device.cc:1613] Created device /job:localhost/replica:0/task:0/device:GPU:0 with 46704 MB memory:  -> device: 0, name: NVIDIA RTX A6000, pci bus id: 0000:b1:00.0, compute capability: 8.6\n",
      "2023-02-26 22:16:12.676671: I tensorflow/core/common_runtime/gpu/gpu_device.cc:1613] Created device /job:localhost/replica:0/task:0/device:GPU:1 with 46704 MB memory:  -> device: 1, name: NVIDIA RTX A6000, pci bus id: 0000:d9:00.0, compute capability: 8.6\n"
     ]
    },
    {
     "name": "stdout",
     "output_type": "stream",
     "text": [
      "EqualizedOdds 0.7788333333333334\n",
      "EqualizedOdds 0.796\n",
      "0.7786666666666666\n",
      "0.26866666666666666\n",
      "data/datasets/credit_tw/synthetic/gender_flip_labels0.7_version8/\n"
     ]
    },
    {
     "name": "stderr",
     "output_type": "stream",
     "text": [
      "2023-02-26 22:18:58.552480: I tensorflow/core/common_runtime/gpu/gpu_device.cc:1613] Created device /job:localhost/replica:0/task:0/device:GPU:0 with 46704 MB memory:  -> device: 0, name: NVIDIA RTX A6000, pci bus id: 0000:b1:00.0, compute capability: 8.6\n",
      "2023-02-26 22:18:58.552962: I tensorflow/core/common_runtime/gpu/gpu_device.cc:1613] Created device /job:localhost/replica:0/task:0/device:GPU:1 with 46704 MB memory:  -> device: 1, name: NVIDIA RTX A6000, pci bus id: 0000:d9:00.0, compute capability: 8.6\n"
     ]
    },
    {
     "name": "stdout",
     "output_type": "stream",
     "text": [
      "EqualizedOdds 0.7788333333333334\n",
      "EqualizedOdds 0.7815\n",
      "0.779\n",
      "0.7803333333333333\n",
      "data/datasets/credit_tw/synthetic/gender_flip_labels0.7_version9/\n"
     ]
    },
    {
     "name": "stderr",
     "output_type": "stream",
     "text": [
      "2023-02-26 22:21:23.935868: I tensorflow/core/common_runtime/gpu/gpu_device.cc:1613] Created device /job:localhost/replica:0/task:0/device:GPU:0 with 46704 MB memory:  -> device: 0, name: NVIDIA RTX A6000, pci bus id: 0000:b1:00.0, compute capability: 8.6\n",
      "2023-02-26 22:21:23.936379: I tensorflow/core/common_runtime/gpu/gpu_device.cc:1613] Created device /job:localhost/replica:0/task:0/device:GPU:1 with 46704 MB memory:  -> device: 1, name: NVIDIA RTX A6000, pci bus id: 0000:d9:00.0, compute capability: 8.6\n"
     ]
    },
    {
     "name": "stdout",
     "output_type": "stream",
     "text": [
      "EqualizedOdds 0.7795\n",
      "EqualizedOdds 0.796\n",
      "0.7796666666666666\n",
      "0.2708333333333333\n",
      "data/datasets/credit_tw/synthetic/gender_flip_labels0.8_version0/\n"
     ]
    },
    {
     "name": "stderr",
     "output_type": "stream",
     "text": [
      "2023-02-26 22:23:45.691108: I tensorflow/core/common_runtime/gpu/gpu_device.cc:1613] Created device /job:localhost/replica:0/task:0/device:GPU:0 with 46704 MB memory:  -> device: 0, name: NVIDIA RTX A6000, pci bus id: 0000:b1:00.0, compute capability: 8.6\n",
      "2023-02-26 22:23:45.705250: I tensorflow/core/common_runtime/gpu/gpu_device.cc:1613] Created device /job:localhost/replica:0/task:0/device:GPU:1 with 46704 MB memory:  -> device: 1, name: NVIDIA RTX A6000, pci bus id: 0000:d9:00.0, compute capability: 8.6\n"
     ]
    },
    {
     "name": "stdout",
     "output_type": "stream",
     "text": [
      "EqualizedOdds 0.7851666666666667\n",
      "EqualizedOdds 0.7923333333333333\n",
      "0.7851666666666667\n",
      "0.26916666666666667\n",
      "data/datasets/credit_tw/synthetic/gender_flip_labels0.8_version1/\n"
     ]
    },
    {
     "name": "stderr",
     "output_type": "stream",
     "text": [
      "2023-02-26 22:26:14.526076: I tensorflow/core/common_runtime/gpu/gpu_device.cc:1613] Created device /job:localhost/replica:0/task:0/device:GPU:0 with 46704 MB memory:  -> device: 0, name: NVIDIA RTX A6000, pci bus id: 0000:b1:00.0, compute capability: 8.6\n",
      "2023-02-26 22:26:14.526388: I tensorflow/core/common_runtime/gpu/gpu_device.cc:1613] Created device /job:localhost/replica:0/task:0/device:GPU:1 with 46704 MB memory:  -> device: 1, name: NVIDIA RTX A6000, pci bus id: 0000:d9:00.0, compute capability: 8.6\n"
     ]
    },
    {
     "name": "stdout",
     "output_type": "stream",
     "text": [
      "EqualizedOdds 0.7893333333333333\n",
      "EqualizedOdds 0.8091666666666667\n",
      "0.7895\n",
      "0.266\n",
      "data/datasets/credit_tw/synthetic/gender_flip_labels0.8_version2/\n"
     ]
    },
    {
     "name": "stderr",
     "output_type": "stream",
     "text": [
      "2023-02-26 22:28:40.331178: I tensorflow/core/common_runtime/gpu/gpu_device.cc:1613] Created device /job:localhost/replica:0/task:0/device:GPU:0 with 46704 MB memory:  -> device: 0, name: NVIDIA RTX A6000, pci bus id: 0000:b1:00.0, compute capability: 8.6\n",
      "2023-02-26 22:28:40.332452: I tensorflow/core/common_runtime/gpu/gpu_device.cc:1613] Created device /job:localhost/replica:0/task:0/device:GPU:1 with 46704 MB memory:  -> device: 1, name: NVIDIA RTX A6000, pci bus id: 0000:d9:00.0, compute capability: 8.6\n"
     ]
    },
    {
     "name": "stdout",
     "output_type": "stream",
     "text": [
      "EqualizedOdds 0.7711666666666667\n",
      "EqualizedOdds 0.7811666666666667\n",
      "0.7711666666666667\n",
      "0.2803333333333333\n",
      "data/datasets/credit_tw/synthetic/gender_flip_labels0.8_version3/\n"
     ]
    },
    {
     "name": "stderr",
     "output_type": "stream",
     "text": [
      "2023-02-26 22:31:14.045242: I tensorflow/core/common_runtime/gpu/gpu_device.cc:1613] Created device /job:localhost/replica:0/task:0/device:GPU:0 with 46704 MB memory:  -> device: 0, name: NVIDIA RTX A6000, pci bus id: 0000:b1:00.0, compute capability: 8.6\n",
      "2023-02-26 22:31:14.045933: I tensorflow/core/common_runtime/gpu/gpu_device.cc:1613] Created device /job:localhost/replica:0/task:0/device:GPU:1 with 46704 MB memory:  -> device: 1, name: NVIDIA RTX A6000, pci bus id: 0000:d9:00.0, compute capability: 8.6\n"
     ]
    },
    {
     "name": "stdout",
     "output_type": "stream",
     "text": [
      "EqualizedOdds 0.7821666666666667\n",
      "EqualizedOdds 0.7763333333333333\n",
      "0.7761666666666667\n",
      "0.2735\n",
      "data/datasets/credit_tw/synthetic/gender_flip_labels0.8_version4/\n"
     ]
    },
    {
     "name": "stderr",
     "output_type": "stream",
     "text": [
      "2023-02-26 22:33:30.263207: I tensorflow/core/common_runtime/gpu/gpu_device.cc:1613] Created device /job:localhost/replica:0/task:0/device:GPU:0 with 46704 MB memory:  -> device: 0, name: NVIDIA RTX A6000, pci bus id: 0000:b1:00.0, compute capability: 8.6\n",
      "2023-02-26 22:33:30.263573: I tensorflow/core/common_runtime/gpu/gpu_device.cc:1613] Created device /job:localhost/replica:0/task:0/device:GPU:1 with 46704 MB memory:  -> device: 1, name: NVIDIA RTX A6000, pci bus id: 0000:d9:00.0, compute capability: 8.6\n"
     ]
    },
    {
     "name": "stdout",
     "output_type": "stream",
     "text": [
      "EqualizedOdds 0.7811666666666667\n",
      "EqualizedOdds 0.7811666666666667\n",
      "0.7811666666666667\n",
      "0.7813333333333333\n",
      "data/datasets/credit_tw/synthetic/gender_flip_labels0.8_version5/\n"
     ]
    },
    {
     "name": "stderr",
     "output_type": "stream",
     "text": [
      "2023-02-26 22:35:59.722666: I tensorflow/core/common_runtime/gpu/gpu_device.cc:1613] Created device /job:localhost/replica:0/task:0/device:GPU:0 with 46704 MB memory:  -> device: 0, name: NVIDIA RTX A6000, pci bus id: 0000:b1:00.0, compute capability: 8.6\n",
      "2023-02-26 22:35:59.723130: I tensorflow/core/common_runtime/gpu/gpu_device.cc:1613] Created device /job:localhost/replica:0/task:0/device:GPU:1 with 46704 MB memory:  -> device: 1, name: NVIDIA RTX A6000, pci bus id: 0000:d9:00.0, compute capability: 8.6\n"
     ]
    },
    {
     "name": "stdout",
     "output_type": "stream",
     "text": [
      "EqualizedOdds 0.7723333333333333\n",
      "EqualizedOdds 0.7966666666666666\n",
      "0.7723333333333333\n",
      "0.2826666666666667\n",
      "data/datasets/credit_tw/synthetic/gender_flip_labels0.8_version6/\n"
     ]
    },
    {
     "name": "stderr",
     "output_type": "stream",
     "text": [
      "2023-02-26 22:38:24.029673: I tensorflow/core/common_runtime/gpu/gpu_device.cc:1613] Created device /job:localhost/replica:0/task:0/device:GPU:0 with 46704 MB memory:  -> device: 0, name: NVIDIA RTX A6000, pci bus id: 0000:b1:00.0, compute capability: 8.6\n",
      "2023-02-26 22:38:24.030055: I tensorflow/core/common_runtime/gpu/gpu_device.cc:1613] Created device /job:localhost/replica:0/task:0/device:GPU:1 with 46704 MB memory:  -> device: 1, name: NVIDIA RTX A6000, pci bus id: 0000:d9:00.0, compute capability: 8.6\n"
     ]
    },
    {
     "name": "stdout",
     "output_type": "stream",
     "text": [
      "EqualizedOdds 0.7831666666666667\n",
      "EqualizedOdds 0.7831666666666667\n",
      "0.783\n",
      "0.26866666666666666\n",
      "data/datasets/credit_tw/synthetic/gender_flip_labels0.8_version7/\n"
     ]
    },
    {
     "name": "stderr",
     "output_type": "stream",
     "text": [
      "2023-02-26 22:40:49.452134: I tensorflow/core/common_runtime/gpu/gpu_device.cc:1613] Created device /job:localhost/replica:0/task:0/device:GPU:0 with 46704 MB memory:  -> device: 0, name: NVIDIA RTX A6000, pci bus id: 0000:b1:00.0, compute capability: 8.6\n",
      "2023-02-26 22:40:49.463888: I tensorflow/core/common_runtime/gpu/gpu_device.cc:1613] Created device /job:localhost/replica:0/task:0/device:GPU:1 with 46704 MB memory:  -> device: 1, name: NVIDIA RTX A6000, pci bus id: 0000:d9:00.0, compute capability: 8.6\n"
     ]
    },
    {
     "name": "stdout",
     "output_type": "stream",
     "text": [
      "EqualizedOdds 0.7766666666666666\n",
      "EqualizedOdds 0.7928333333333333\n",
      "0.7766666666666666\n",
      "0.2803333333333333\n",
      "data/datasets/credit_tw/synthetic/gender_flip_labels0.8_version8/\n"
     ]
    },
    {
     "name": "stderr",
     "output_type": "stream",
     "text": [
      "2023-02-26 22:43:20.289787: I tensorflow/core/common_runtime/gpu/gpu_device.cc:1613] Created device /job:localhost/replica:0/task:0/device:GPU:0 with 46704 MB memory:  -> device: 0, name: NVIDIA RTX A6000, pci bus id: 0000:b1:00.0, compute capability: 8.6\n",
      "2023-02-26 22:43:20.300562: I tensorflow/core/common_runtime/gpu/gpu_device.cc:1613] Created device /job:localhost/replica:0/task:0/device:GPU:1 with 46704 MB memory:  -> device: 1, name: NVIDIA RTX A6000, pci bus id: 0000:d9:00.0, compute capability: 8.6\n"
     ]
    },
    {
     "name": "stdout",
     "output_type": "stream",
     "text": [
      "EqualizedOdds 0.779\n",
      "EqualizedOdds 0.7971666666666667\n",
      "0.7848333333333334\n",
      "0.2728333333333333\n",
      "data/datasets/credit_tw/synthetic/gender_flip_labels0.8_version9/\n"
     ]
    },
    {
     "name": "stderr",
     "output_type": "stream",
     "text": [
      "2023-02-26 22:45:59.572995: I tensorflow/core/common_runtime/gpu/gpu_device.cc:1613] Created device /job:localhost/replica:0/task:0/device:GPU:0 with 46704 MB memory:  -> device: 0, name: NVIDIA RTX A6000, pci bus id: 0000:b1:00.0, compute capability: 8.6\n",
      "2023-02-26 22:45:59.573383: I tensorflow/core/common_runtime/gpu/gpu_device.cc:1613] Created device /job:localhost/replica:0/task:0/device:GPU:1 with 46704 MB memory:  -> device: 1, name: NVIDIA RTX A6000, pci bus id: 0000:d9:00.0, compute capability: 8.6\n"
     ]
    },
    {
     "name": "stdout",
     "output_type": "stream",
     "text": [
      "EqualizedOdds 0.781\n",
      "EqualizedOdds 0.8086666666666666\n",
      "0.7808333333333334\n",
      "0.27166666666666667\n",
      "data/datasets/credit_tw/synthetic/gender_flip_labels0.9_version0/\n"
     ]
    },
    {
     "name": "stderr",
     "output_type": "stream",
     "text": [
      "2023-02-26 22:48:27.537376: I tensorflow/core/common_runtime/gpu/gpu_device.cc:1613] Created device /job:localhost/replica:0/task:0/device:GPU:0 with 46704 MB memory:  -> device: 0, name: NVIDIA RTX A6000, pci bus id: 0000:b1:00.0, compute capability: 8.6\n",
      "2023-02-26 22:48:27.537775: I tensorflow/core/common_runtime/gpu/gpu_device.cc:1613] Created device /job:localhost/replica:0/task:0/device:GPU:1 with 46704 MB memory:  -> device: 1, name: NVIDIA RTX A6000, pci bus id: 0000:d9:00.0, compute capability: 8.6\n"
     ]
    },
    {
     "name": "stdout",
     "output_type": "stream",
     "text": [
      "EqualizedOdds 0.7756666666666666\n",
      "EqualizedOdds 0.8048333333333333\n",
      "0.7758333333333334\n",
      "0.27666666666666667\n",
      "data/datasets/credit_tw/synthetic/gender_flip_labels0.9_version1/\n"
     ]
    },
    {
     "name": "stderr",
     "output_type": "stream",
     "text": [
      "2023-02-26 22:51:04.368674: I tensorflow/core/common_runtime/gpu/gpu_device.cc:1613] Created device /job:localhost/replica:0/task:0/device:GPU:0 with 46704 MB memory:  -> device: 0, name: NVIDIA RTX A6000, pci bus id: 0000:b1:00.0, compute capability: 8.6\n",
      "2023-02-26 22:51:04.369020: I tensorflow/core/common_runtime/gpu/gpu_device.cc:1613] Created device /job:localhost/replica:0/task:0/device:GPU:1 with 46704 MB memory:  -> device: 1, name: NVIDIA RTX A6000, pci bus id: 0000:d9:00.0, compute capability: 8.6\n"
     ]
    },
    {
     "name": "stdout",
     "output_type": "stream",
     "text": [
      "EqualizedOdds 0.782\n",
      "EqualizedOdds 0.799\n",
      "0.7818333333333334\n",
      "0.27166666666666667\n",
      "data/datasets/credit_tw/synthetic/gender_flip_labels0.9_version2/\n"
     ]
    },
    {
     "name": "stderr",
     "output_type": "stream",
     "text": [
      "2023-02-26 22:53:32.102714: I tensorflow/core/common_runtime/gpu/gpu_device.cc:1613] Created device /job:localhost/replica:0/task:0/device:GPU:0 with 46704 MB memory:  -> device: 0, name: NVIDIA RTX A6000, pci bus id: 0000:b1:00.0, compute capability: 8.6\n",
      "2023-02-26 22:53:32.122047: I tensorflow/core/common_runtime/gpu/gpu_device.cc:1613] Created device /job:localhost/replica:0/task:0/device:GPU:1 with 46704 MB memory:  -> device: 1, name: NVIDIA RTX A6000, pci bus id: 0000:d9:00.0, compute capability: 8.6\n"
     ]
    },
    {
     "name": "stdout",
     "output_type": "stream",
     "text": [
      "EqualizedOdds 0.7713333333333333\n",
      "EqualizedOdds 0.7831666666666667\n",
      "0.7705\n",
      "0.7696666666666667\n",
      "data/datasets/credit_tw/synthetic/gender_flip_labels0.9_version3/\n"
     ]
    },
    {
     "name": "stderr",
     "output_type": "stream",
     "text": [
      "2023-02-26 22:56:07.007885: I tensorflow/core/common_runtime/gpu/gpu_device.cc:1613] Created device /job:localhost/replica:0/task:0/device:GPU:0 with 46704 MB memory:  -> device: 0, name: NVIDIA RTX A6000, pci bus id: 0000:b1:00.0, compute capability: 8.6\n",
      "2023-02-26 22:56:07.008250: I tensorflow/core/common_runtime/gpu/gpu_device.cc:1613] Created device /job:localhost/replica:0/task:0/device:GPU:1 with 46704 MB memory:  -> device: 1, name: NVIDIA RTX A6000, pci bus id: 0000:d9:00.0, compute capability: 8.6\n"
     ]
    },
    {
     "name": "stdout",
     "output_type": "stream",
     "text": [
      "EqualizedOdds 0.785\n",
      "EqualizedOdds 0.785\n",
      "0.785\n",
      "0.27166666666666667\n",
      "data/datasets/credit_tw/synthetic/gender_flip_labels0.9_version4/\n"
     ]
    },
    {
     "name": "stderr",
     "output_type": "stream",
     "text": [
      "2023-02-26 22:58:38.905550: I tensorflow/core/common_runtime/gpu/gpu_device.cc:1613] Created device /job:localhost/replica:0/task:0/device:GPU:0 with 46704 MB memory:  -> device: 0, name: NVIDIA RTX A6000, pci bus id: 0000:b1:00.0, compute capability: 8.6\n",
      "2023-02-26 22:58:38.906184: I tensorflow/core/common_runtime/gpu/gpu_device.cc:1613] Created device /job:localhost/replica:0/task:0/device:GPU:1 with 46704 MB memory:  -> device: 1, name: NVIDIA RTX A6000, pci bus id: 0000:d9:00.0, compute capability: 8.6\n"
     ]
    },
    {
     "name": "stdout",
     "output_type": "stream",
     "text": [
      "EqualizedOdds 0.7781666666666667\n",
      "EqualizedOdds 0.7781666666666667\n",
      "0.7781666666666667\n",
      "0.7755\n",
      "data/datasets/credit_tw/synthetic/gender_flip_labels0.9_version6/\n"
     ]
    },
    {
     "name": "stderr",
     "output_type": "stream",
     "text": [
      "2023-02-26 23:03:33.163459: I tensorflow/core/common_runtime/gpu/gpu_device.cc:1613] Created device /job:localhost/replica:0/task:0/device:GPU:0 with 46704 MB memory:  -> device: 0, name: NVIDIA RTX A6000, pci bus id: 0000:b1:00.0, compute capability: 8.6\n",
      "2023-02-26 23:03:33.163868: I tensorflow/core/common_runtime/gpu/gpu_device.cc:1613] Created device /job:localhost/replica:0/task:0/device:GPU:1 with 46704 MB memory:  -> device: 1, name: NVIDIA RTX A6000, pci bus id: 0000:d9:00.0, compute capability: 8.6\n"
     ]
    },
    {
     "name": "stdout",
     "output_type": "stream",
     "text": [
      "EqualizedOdds 0.769\n",
      "EqualizedOdds 0.769\n",
      "0.769\n",
      "0.29283333333333333\n",
      "data/datasets/credit_tw/synthetic/gender_flip_labels0.9_version7/\n"
     ]
    },
    {
     "name": "stderr",
     "output_type": "stream",
     "text": [
      "2023-02-26 23:05:57.985167: I tensorflow/core/common_runtime/gpu/gpu_device.cc:1613] Created device /job:localhost/replica:0/task:0/device:GPU:0 with 46704 MB memory:  -> device: 0, name: NVIDIA RTX A6000, pci bus id: 0000:b1:00.0, compute capability: 8.6\n",
      "2023-02-26 23:05:57.985589: I tensorflow/core/common_runtime/gpu/gpu_device.cc:1613] Created device /job:localhost/replica:0/task:0/device:GPU:1 with 46704 MB memory:  -> device: 1, name: NVIDIA RTX A6000, pci bus id: 0000:d9:00.0, compute capability: 8.6\n"
     ]
    },
    {
     "name": "stdout",
     "output_type": "stream",
     "text": [
      "EqualizedOdds 0.7776666666666666\n",
      "EqualizedOdds 0.7775\n",
      "0.7775\n",
      "0.2695\n",
      "data/datasets/credit_tw/synthetic/gender_flip_labels0.9_version8/\n"
     ]
    },
    {
     "name": "stderr",
     "output_type": "stream",
     "text": [
      "2023-02-26 23:08:23.262630: I tensorflow/core/common_runtime/gpu/gpu_device.cc:1613] Created device /job:localhost/replica:0/task:0/device:GPU:0 with 46704 MB memory:  -> device: 0, name: NVIDIA RTX A6000, pci bus id: 0000:b1:00.0, compute capability: 8.6\n",
      "2023-02-26 23:08:23.270947: I tensorflow/core/common_runtime/gpu/gpu_device.cc:1613] Created device /job:localhost/replica:0/task:0/device:GPU:1 with 46704 MB memory:  -> device: 1, name: NVIDIA RTX A6000, pci bus id: 0000:d9:00.0, compute capability: 8.6\n"
     ]
    },
    {
     "name": "stdout",
     "output_type": "stream",
     "text": [
      "EqualizedOdds 0.7791666666666667\n",
      "EqualizedOdds 0.7791666666666667\n",
      "0.7791666666666667\n",
      "0.277\n",
      "data/datasets/credit_tw/synthetic/gender_flip_labels0.9_version9/\n"
     ]
    },
    {
     "name": "stderr",
     "output_type": "stream",
     "text": [
      "2023-02-26 23:10:49.626211: I tensorflow/core/common_runtime/gpu/gpu_device.cc:1613] Created device /job:localhost/replica:0/task:0/device:GPU:0 with 46704 MB memory:  -> device: 0, name: NVIDIA RTX A6000, pci bus id: 0000:b1:00.0, compute capability: 8.6\n",
      "2023-02-26 23:10:49.627437: I tensorflow/core/common_runtime/gpu/gpu_device.cc:1613] Created device /job:localhost/replica:0/task:0/device:GPU:1 with 46704 MB memory:  -> device: 1, name: NVIDIA RTX A6000, pci bus id: 0000:d9:00.0, compute capability: 8.6\n"
     ]
    },
    {
     "name": "stdout",
     "output_type": "stream",
     "text": [
      "EqualizedOdds 0.7751666666666667\n",
      "EqualizedOdds 0.7921666666666667\n",
      "0.7751666666666667\n",
      "0.2763333333333333\n",
      "data/datasets/credit_tw/synthetic/gender_flip_labels1.0_version0/\n"
     ]
    },
    {
     "name": "stderr",
     "output_type": "stream",
     "text": [
      "2023-02-26 23:13:20.579262: I tensorflow/core/common_runtime/gpu/gpu_device.cc:1613] Created device /job:localhost/replica:0/task:0/device:GPU:0 with 46704 MB memory:  -> device: 0, name: NVIDIA RTX A6000, pci bus id: 0000:b1:00.0, compute capability: 8.6\n",
      "2023-02-26 23:13:20.581513: I tensorflow/core/common_runtime/gpu/gpu_device.cc:1613] Created device /job:localhost/replica:0/task:0/device:GPU:1 with 46704 MB memory:  -> device: 1, name: NVIDIA RTX A6000, pci bus id: 0000:d9:00.0, compute capability: 8.6\n"
     ]
    },
    {
     "name": "stdout",
     "output_type": "stream",
     "text": [
      "EqualizedOdds 0.7766666666666666\n",
      "EqualizedOdds 0.8038333333333333\n",
      "0.7768333333333334\n",
      "0.282\n",
      "data/datasets/credit_tw/synthetic/gender_flip_labels1.0_version1/\n"
     ]
    },
    {
     "name": "stderr",
     "output_type": "stream",
     "text": [
      "2023-02-26 23:15:44.972602: I tensorflow/core/common_runtime/gpu/gpu_device.cc:1613] Created device /job:localhost/replica:0/task:0/device:GPU:0 with 46704 MB memory:  -> device: 0, name: NVIDIA RTX A6000, pci bus id: 0000:b1:00.0, compute capability: 8.6\n",
      "2023-02-26 23:15:44.972987: I tensorflow/core/common_runtime/gpu/gpu_device.cc:1613] Created device /job:localhost/replica:0/task:0/device:GPU:1 with 46704 MB memory:  -> device: 1, name: NVIDIA RTX A6000, pci bus id: 0000:d9:00.0, compute capability: 8.6\n"
     ]
    },
    {
     "name": "stdout",
     "output_type": "stream",
     "text": [
      "EqualizedOdds 0.7821666666666667\n",
      "EqualizedOdds 0.7821666666666667\n",
      "0.7823333333333333\n",
      "0.78\n",
      "data/datasets/credit_tw/synthetic/gender_flip_labels1.0_version2/\n"
     ]
    },
    {
     "name": "stderr",
     "output_type": "stream",
     "text": [
      "2023-02-26 23:18:20.594684: I tensorflow/core/common_runtime/gpu/gpu_device.cc:1613] Created device /job:localhost/replica:0/task:0/device:GPU:0 with 46704 MB memory:  -> device: 0, name: NVIDIA RTX A6000, pci bus id: 0000:b1:00.0, compute capability: 8.6\n",
      "2023-02-26 23:18:20.612444: I tensorflow/core/common_runtime/gpu/gpu_device.cc:1613] Created device /job:localhost/replica:0/task:0/device:GPU:1 with 46704 MB memory:  -> device: 1, name: NVIDIA RTX A6000, pci bus id: 0000:d9:00.0, compute capability: 8.6\n"
     ]
    },
    {
     "name": "stdout",
     "output_type": "stream",
     "text": [
      "EqualizedOdds 0.7725\n",
      "EqualizedOdds 0.7995\n",
      "0.7725\n",
      "0.769\n",
      "data/datasets/credit_tw/synthetic/gender_flip_labels1.0_version3/\n"
     ]
    },
    {
     "name": "stderr",
     "output_type": "stream",
     "text": [
      "2023-02-26 23:20:52.485205: I tensorflow/core/common_runtime/gpu/gpu_device.cc:1613] Created device /job:localhost/replica:0/task:0/device:GPU:0 with 46704 MB memory:  -> device: 0, name: NVIDIA RTX A6000, pci bus id: 0000:b1:00.0, compute capability: 8.6\n",
      "2023-02-26 23:20:52.485598: I tensorflow/core/common_runtime/gpu/gpu_device.cc:1613] Created device /job:localhost/replica:0/task:0/device:GPU:1 with 46704 MB memory:  -> device: 1, name: NVIDIA RTX A6000, pci bus id: 0000:d9:00.0, compute capability: 8.6\n"
     ]
    },
    {
     "name": "stdout",
     "output_type": "stream",
     "text": [
      "EqualizedOdds 0.7811666666666667\n",
      "EqualizedOdds 0.7821666666666667\n",
      "0.7811666666666667\n",
      "0.2771666666666667\n",
      "data/datasets/credit_tw/synthetic/gender_flip_labels1.0_version4/\n"
     ]
    },
    {
     "name": "stderr",
     "output_type": "stream",
     "text": [
      "2023-02-26 23:23:16.999330: I tensorflow/core/common_runtime/gpu/gpu_device.cc:1613] Created device /job:localhost/replica:0/task:0/device:GPU:0 with 46704 MB memory:  -> device: 0, name: NVIDIA RTX A6000, pci bus id: 0000:b1:00.0, compute capability: 8.6\n",
      "2023-02-26 23:23:16.999660: I tensorflow/core/common_runtime/gpu/gpu_device.cc:1613] Created device /job:localhost/replica:0/task:0/device:GPU:1 with 46704 MB memory:  -> device: 1, name: NVIDIA RTX A6000, pci bus id: 0000:d9:00.0, compute capability: 8.6\n"
     ]
    },
    {
     "name": "stdout",
     "output_type": "stream",
     "text": [
      "EqualizedOdds 0.7745\n",
      "EqualizedOdds 0.794\n",
      "0.7745\n",
      "0.2875\n",
      "data/datasets/credit_tw/synthetic/gender_flip_labels1.0_version5/\n"
     ]
    },
    {
     "name": "stderr",
     "output_type": "stream",
     "text": [
      "2023-02-26 23:25:52.354249: I tensorflow/core/common_runtime/gpu/gpu_device.cc:1613] Created device /job:localhost/replica:0/task:0/device:GPU:0 with 46704 MB memory:  -> device: 0, name: NVIDIA RTX A6000, pci bus id: 0000:b1:00.0, compute capability: 8.6\n",
      "2023-02-26 23:25:52.354804: I tensorflow/core/common_runtime/gpu/gpu_device.cc:1613] Created device /job:localhost/replica:0/task:0/device:GPU:1 with 46704 MB memory:  -> device: 1, name: NVIDIA RTX A6000, pci bus id: 0000:d9:00.0, compute capability: 8.6\n"
     ]
    },
    {
     "name": "stdout",
     "output_type": "stream",
     "text": [
      "EqualizedOdds 0.785\n",
      "EqualizedOdds 0.7928333333333333\n",
      "0.785\n",
      "0.27366666666666667\n",
      "data/datasets/credit_tw/synthetic/gender_flip_labels1.0_version6/\n"
     ]
    },
    {
     "name": "stderr",
     "output_type": "stream",
     "text": [
      "2023-02-26 23:28:24.627115: I tensorflow/core/common_runtime/gpu/gpu_device.cc:1613] Created device /job:localhost/replica:0/task:0/device:GPU:0 with 46704 MB memory:  -> device: 0, name: NVIDIA RTX A6000, pci bus id: 0000:b1:00.0, compute capability: 8.6\n",
      "2023-02-26 23:28:24.627466: I tensorflow/core/common_runtime/gpu/gpu_device.cc:1613] Created device /job:localhost/replica:0/task:0/device:GPU:1 with 46704 MB memory:  -> device: 1, name: NVIDIA RTX A6000, pci bus id: 0000:d9:00.0, compute capability: 8.6\n"
     ]
    },
    {
     "name": "stdout",
     "output_type": "stream",
     "text": [
      "EqualizedOdds 0.7736666666666666\n",
      "EqualizedOdds 0.8008333333333333\n",
      "0.7738333333333334\n",
      "0.2803333333333333\n",
      "data/datasets/credit_tw/synthetic/gender_flip_labels1.0_version7/\n"
     ]
    },
    {
     "name": "stderr",
     "output_type": "stream",
     "text": [
      "2023-02-26 23:30:52.832389: I tensorflow/core/common_runtime/gpu/gpu_device.cc:1613] Created device /job:localhost/replica:0/task:0/device:GPU:0 with 46704 MB memory:  -> device: 0, name: NVIDIA RTX A6000, pci bus id: 0000:b1:00.0, compute capability: 8.6\n",
      "2023-02-26 23:30:52.832788: I tensorflow/core/common_runtime/gpu/gpu_device.cc:1613] Created device /job:localhost/replica:0/task:0/device:GPU:1 with 46704 MB memory:  -> device: 1, name: NVIDIA RTX A6000, pci bus id: 0000:d9:00.0, compute capability: 8.6\n"
     ]
    },
    {
     "name": "stdout",
     "output_type": "stream",
     "text": [
      "EqualizedOdds 0.7778333333333334\n",
      "EqualizedOdds 0.7943333333333333\n",
      "0.7775\n",
      "0.2748333333333333\n",
      "data/datasets/credit_tw/synthetic/gender_flip_labels1.0_version9/\n"
     ]
    },
    {
     "name": "stderr",
     "output_type": "stream",
     "text": [
      "2023-02-26 23:36:00.809233: I tensorflow/core/common_runtime/gpu/gpu_device.cc:1613] Created device /job:localhost/replica:0/task:0/device:GPU:0 with 46704 MB memory:  -> device: 0, name: NVIDIA RTX A6000, pci bus id: 0000:b1:00.0, compute capability: 8.6\n",
      "2023-02-26 23:36:00.810034: I tensorflow/core/common_runtime/gpu/gpu_device.cc:1613] Created device /job:localhost/replica:0/task:0/device:GPU:1 with 46704 MB memory:  -> device: 1, name: NVIDIA RTX A6000, pci bus id: 0000:d9:00.0, compute capability: 8.6\n"
     ]
    },
    {
     "name": "stdout",
     "output_type": "stream",
     "text": [
      "EqualizedOdds 0.7775\n",
      "EqualizedOdds 0.802\n",
      "0.7776666666666666\n",
      "0.2688333333333333\n"
     ]
    }
   ],
   "source": [
    "for path in paths:\n",
    "    try:\n",
    "        task1(path)\n",
    "    except:\n",
    "        traceback.print_exc()"
   ]
  },
  {
   "cell_type": "code",
   "execution_count": 4,
   "metadata": {},
   "outputs": [],
   "source": [
    "path = 'data/datasets/law_school/'\n",
    "# synthfols = glob(\"data/datasets/law_school/synthetic/*/\")\n",
    "paths = [path]\n",
    "# paths.extend(synthfols)"
   ]
  },
  {
   "cell_type": "code",
   "execution_count": 5,
   "metadata": {},
   "outputs": [],
   "source": [
    "def task2(path):\n",
    "    \n",
    "    if os.path.exists(path+'preds/rocv_pred_average_odds.json') == False:\n",
    "        print(path)\n",
    "\n",
    "        train_df = pd.read_csv(path+'train.csv',header=None)\n",
    "\n",
    "        train_df.columns = ['zfygpa', 'zgpa', 'DOB_yr', 'weighted_lsat_ugpa', 'cluster_tier',\n",
    "           'family_income', 'lsat', 'ugpa', 'isPartTime', 'sex', 'race',\n",
    "           'pass_bar']\n",
    "\n",
    "\n",
    "        train_df.index = train_df['sex']\n",
    "\n",
    "        train_df = train_df.apply(lambda x: x.str.strip() if x.dtype == \"object\" else x)\n",
    "\n",
    "        test_df = pd.read_csv(path+'test.csv',header=None)\n",
    "\n",
    "        test_df.columns = ['zfygpa', 'zgpa', 'DOB_yr', 'weighted_lsat_ugpa', 'cluster_tier',\n",
    "           'family_income', 'lsat', 'ugpa', 'isPartTime', 'sex', 'race',\n",
    "           'pass_bar']\n",
    "\n",
    "\n",
    "        test_df.index = test_df['sex']\n",
    "\n",
    "        test_df = test_df.apply(lambda x: x.str.strip() if x.dtype == \"object\" else x)\n",
    "\n",
    "\n",
    "\n",
    "        X_train = train_df.drop(['pass_bar'],axis=1)\n",
    "        X_test = test_df.drop(['pass_bar'],axis=1)\n",
    "\n",
    "        y_train = pd.Series(train_df['pass_bar'])\n",
    "        y_test = pd.Series(test_df['pass_bar'])\n",
    "\n",
    "        y_train = pd.Series(y_train.factorize(sort=True)[0], index=y_train.index)\n",
    "        y_test = pd.Series(y_test.factorize(sort=True)[0], index=y_test.index)\n",
    "\n",
    "        X_merged = pd.concat([X_train,X_test])\n",
    "\n",
    "        ohe = make_column_transformer(\n",
    "            (OneHotEncoder(sparse=False), X_merged.dtypes == 'object'),\n",
    "            remainder='passthrough', verbose_feature_names_out=False)\n",
    "\n",
    "        X_merged_temp  = pd.DataFrame(ohe.fit_transform(X_merged), columns=ohe.get_feature_names_out(), index=X_merged.index)\n",
    "\n",
    "        X_train  = pd.DataFrame(ohe.transform(X_train), columns=ohe.get_feature_names_out(), index=X_train.index)\n",
    "        X_test = pd.DataFrame(ohe.transform(X_test), columns=ohe.get_feature_names_out(), index=X_test.index)\n",
    "\n",
    "\n",
    "        #### BASELINE\n",
    "        try:\n",
    "            y_pred_baseline = LogisticRegression(solver='liblinear').fit(X_train, y_train).predict(X_test)\n",
    "            writejson(path,y_pred_baseline,'baseline_pred.json')    \n",
    "        except:\n",
    "            traceback.print_exc()\n",
    "\n",
    "\n",
    "        #### Adv. Reweighting (Preproc.)\n",
    "\n",
    "        try:\n",
    "            rew = ReweighingMeta(estimator=LogisticRegression(solver='liblinear'),\n",
    "                         reweigher=Reweighing('sex'))\n",
    "            params = {'estimator__C': [1, 10]}\n",
    "\n",
    "            clf = GridSearchCV(rew, params, scoring='accuracy', cv=5)\n",
    "            clf.fit(X_train, y_train)\n",
    "            y_pred_advrew = clf.predict(X_test)\n",
    "            writejson(path,y_pred_advrew,'adv_rew_pred.json')  \n",
    "        except:\n",
    "            traceback.print_exc()\n",
    "\n",
    "\n",
    "\n",
    "        #### LearnedFairRepresentations (Preproc.)\n",
    "\n",
    "        try:\n",
    "            LFR = LearnedFairRepresentations(prot_attr='sex')\n",
    "            LFR.fit(X_train, y_train)\n",
    "\n",
    "            y_pred_lfr = LFR.predict(X_test)\n",
    "            writejson(path,y_pred_lfr,'lfr_pred.json')  \n",
    "        except:\n",
    "            traceback.print_exc()\n",
    "\n",
    "        #### Adv Deb. (Inproc.)\n",
    "\n",
    "        try:\n",
    "            adv_deb = AdversarialDebiasing(prot_attr='sex')\n",
    "            adv_deb.fit(X_train, y_train)\n",
    "            adv_deb.score(X_test, y_test)\n",
    "\n",
    "            y_pred_adv_deb = adv_deb.predict(X_test)\n",
    "            writejson(path,y_pred_adv_deb,'adv_deb_pred.json')\n",
    "\n",
    "            adv_deb.sess_.close() \n",
    "        except:\n",
    "            traceback.print_exc()\n",
    "\n",
    "\n",
    "\n",
    "        #### ExponentiatedGradientReduction. (Inproc.)\n",
    "\n",
    "        try:\n",
    "            consts = ['EqualizedOdds']#['DemographicParity','EqualizedOdds','TruePositiveRateParity','FalsePositiveRateParity','ErrorRateParity']\n",
    "            for const in consts:\n",
    "                EGR = ExponentiatedGradientReduction(prot_attr=['sex_Female','sex_Male'], estimator=LogisticRegression(solver='liblinear'), constraints = const)\n",
    "                EGR.fit(X_train, y_train)\n",
    "                print(const,EGR.score(X_test, y_test))\n",
    "                y_pred_egr = EGR.predict(X_test)\n",
    "                writejson(path,y_pred_egr,'egr_pred_'+const+'.json')\n",
    "        except:\n",
    "            traceback.print_exc()\n",
    "\n",
    "        #### GridSearchReduction. (Inproc.)\n",
    "\n",
    "        try:\n",
    "            consts = ['EqualizedOdds']#['DemographicParity','EqualizedOdds','TruePositiveRateParity','FalsePositiveRateParity','ErrorRateParity']\n",
    "            for const in consts:\n",
    "                GSR = GridSearchReduction(prot_attr=['sex_Female','sex_Male'], estimator=LogisticRegression(solver='liblinear'), constraints = const)\n",
    "                GSR.fit(X_train, y_train)\n",
    "                print(const,GSR.score(X_test, y_test))\n",
    "                y_pred_gsr = GSR.predict(X_test)\n",
    "                writejson(path,y_pred_gsr,'gsr_pred_'+const+'.json')\n",
    "        except:\n",
    "            traceback.print_exc()\n",
    "\n",
    "\n",
    "\n",
    "        X_train_temp = X_train.set_index(['sex_Male'], drop = False)\n",
    "        y_train_temp = y_train.copy()\n",
    "        y_train_temp.index = X_train_temp.index\n",
    "\n",
    "        X_test_temp = X_test.set_index(['sex_Male'], drop = False)\n",
    "        y_test_temp = y_test.copy()\n",
    "        y_test_temp.index = X_test_temp.index\n",
    "\n",
    "        #### Cal. Eq.Odds (Postproc.)\n",
    "\n",
    "        try:\n",
    "            consts = ['weighted']#['fnr','fpr','weighted']\n",
    "            for const in consts:\n",
    "                cal_eq_odds = CalibratedEqualizedOdds(prot_attr='sex_Male', cost_constraint=const)\n",
    "                postproc = PostProcessingMeta(estimator=LogisticRegression(solver='liblinear'), postprocessor=cal_eq_odds)\n",
    "                postproc.fit(X_train_temp, y_train_temp)\n",
    "                print(accuracy_score(y_test_temp, postproc.predict(X_test_temp)))\n",
    "                y_pred_caleq = postproc.predict(X_test_temp)\n",
    "                writejson(path,y_pred_caleq,'caleq_pred_'+const+'.json')\n",
    "        except:\n",
    "            traceback.print_exc()\n",
    "\n",
    "        #### RejectOptionClassifier (Postproc.)\n",
    "\n",
    "        try:\n",
    "            consts = ['average_odds']#['statistical_parity', 'average_odds', 'equal_opportunity']\n",
    "            for const in consts:\n",
    "                rocv = PostProcessingMeta(LogisticRegression(solver='liblinear'), RejectOptionClassifierCV('sex_Male', scoring=const))\n",
    "                rocv.fit(X_train_temp, y_train_temp)\n",
    "                print(accuracy_score(y_test_temp, rocv.predict(X_test_temp)))\n",
    "                y_pred_rocv = rocv.predict(X_test_temp)\n",
    "                writejson(path,y_pred_rocv,'rocv_pred_'+const+'.json')\n",
    "        except:\n",
    "            traceback.print_exc()  \n",
    "\n",
    "        return path,\"Done\"\n"
   ]
  },
  {
   "cell_type": "code",
   "execution_count": 6,
   "metadata": {
    "scrolled": true
   },
   "outputs": [
    {
     "name": "stdout",
     "output_type": "stream",
     "text": [
      "data/datasets/law_school/\n"
     ]
    },
    {
     "name": "stderr",
     "output_type": "stream",
     "text": [
      "2023-02-28 12:46:04.804846: I tensorflow/core/platform/cpu_feature_guard.cc:193] This TensorFlow binary is optimized with oneAPI Deep Neural Network Library (oneDNN) to use the following CPU instructions in performance-critical operations:  AVX2 AVX512F AVX512_VNNI FMA\n",
      "To enable them in other operations, rebuild TensorFlow with the appropriate compiler flags.\n",
      "2023-02-28 12:46:06.011477: I tensorflow/core/common_runtime/gpu/gpu_device.cc:1613] Created device /job:localhost/replica:0/task:0/device:GPU:0 with 46704 MB memory:  -> device: 0, name: NVIDIA RTX A6000, pci bus id: 0000:b1:00.0, compute capability: 8.6\n",
      "2023-02-28 12:46:06.012136: I tensorflow/core/common_runtime/gpu/gpu_device.cc:1613] Created device /job:localhost/replica:0/task:0/device:GPU:1 with 46704 MB memory:  -> device: 1, name: NVIDIA RTX A6000, pci bus id: 0000:d9:00.0, compute capability: 8.6\n",
      "2023-02-28 12:46:06.447503: I tensorflow/compiler/mlir/mlir_graph_optimization_pass.cc:357] MLIR V1 optimization pass is not enabled\n",
      "2023-02-28 12:46:08.738468: I tensorflow/compiler/xla/stream_executor/cuda/cuda_blas.cc:630] TensorFloat-32 will be used for the matrix multiplication. This will only be logged once.\n"
     ]
    },
    {
     "name": "stdout",
     "output_type": "stream",
     "text": [
      "EqualizedOdds 0.8290340802108831\n",
      "EqualizedOdds 0.822632272641687\n",
      "0.8288457917529656\n",
      "0.8092637921295425\n"
     ]
    }
   ],
   "source": [
    "for path in paths:\n",
    "    try:\n",
    "        task2(path)\n",
    "    except:\n",
    "        traceback.print_exc()"
   ]
  },
  {
   "cell_type": "code",
   "execution_count": null,
   "metadata": {},
   "outputs": [],
   "source": []
  }
 ],
 "metadata": {
  "kernelspec": {
   "display_name": "Python [conda env:pablo]",
   "language": "python",
   "name": "conda-env-pablo-py"
  },
  "language_info": {
   "codemirror_mode": {
    "name": "ipython",
    "version": 3
   },
   "file_extension": ".py",
   "mimetype": "text/x-python",
   "name": "python",
   "nbconvert_exporter": "python",
   "pygments_lexer": "ipython3",
   "version": "3.7.5"
  }
 },
 "nbformat": 4,
 "nbformat_minor": 4
}
