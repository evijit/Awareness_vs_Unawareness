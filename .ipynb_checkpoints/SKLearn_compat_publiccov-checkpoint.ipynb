{
 "cells": [
  {
   "cell_type": "code",
   "execution_count": 1,
   "metadata": {},
   "outputs": [
    {
     "name": "stderr",
     "output_type": "stream",
     "text": [
      "2023-01-22 23:34:31.104251: I tensorflow/core/platform/cpu_feature_guard.cc:193] This TensorFlow binary is optimized with oneAPI Deep Neural Network Library (oneDNN) to use the following CPU instructions in performance-critical operations:  AVX2 AVX512F AVX512_VNNI FMA\n",
      "To enable them in other operations, rebuild TensorFlow with the appropriate compiler flags.\n",
      "2023-01-22 23:34:31.291669: I tensorflow/core/util/port.cc:104] oneDNN custom operations are on. You may see slightly different numerical results due to floating-point round-off errors from different computation orders. To turn them off, set the environment variable `TF_ENABLE_ONEDNN_OPTS=0`.\n",
      "2023-01-22 23:34:34.545209: W tensorflow/compiler/xla/stream_executor/platform/default/dso_loader.cc:64] Could not load dynamic library 'libnvinfer.so.7'; dlerror: libnvinfer.so.7: cannot open shared object file: No such file or directory\n",
      "2023-01-22 23:34:34.545396: W tensorflow/compiler/xla/stream_executor/platform/default/dso_loader.cc:64] Could not load dynamic library 'libnvinfer_plugin.so.7'; dlerror: libnvinfer_plugin.so.7: cannot open shared object file: No such file or directory\n",
      "2023-01-22 23:34:34.545410: W tensorflow/compiler/tf2tensorrt/utils/py_utils.cc:38] TF-TRT Warning: Cannot dlopen some TensorRT libraries. If you would like to use Nvidia GPU with TensorRT, please make sure the missing libraries mentioned above are installed properly.\n"
     ]
    }
   ],
   "source": [
    "%matplotlib inline\n",
    "import matplotlib.pyplot as plt\n",
    "import numpy as np\n",
    "import pandas as pd\n",
    "import tensorflow.compat.v1 as tf\n",
    "tf.disable_eager_execution()\n",
    "tf.logging.set_verbosity(tf.logging.ERROR)\n",
    "\n",
    "import warnings\n",
    "warnings.filterwarnings('ignore')\n",
    "\n",
    "from sklearn.compose import make_column_transformer\n",
    "from sklearn.linear_model import LogisticRegression\n",
    "from sklearn.metrics import accuracy_score\n",
    "from sklearn.model_selection import GridSearchCV, train_test_split\n",
    "from sklearn.preprocessing import OneHotEncoder\n",
    "\n",
    "from aif360.sklearn.preprocessing import Reweighing, ReweighingMeta, FairAdapt, LearnedFairRepresentations\n",
    "from aif360.sklearn.inprocessing import AdversarialDebiasing, ExponentiatedGradientReduction, GridSearchReduction\n",
    "from aif360.sklearn.postprocessing import CalibratedEqualizedOdds, RejectOptionClassifier, PostProcessingMeta, RejectOptionClassifierCV\n",
    "from aif360.sklearn.datasets import fetch_adult\n",
    "from aif360.sklearn.metrics import disparate_impact_ratio, average_odds_error, generalized_fpr\n",
    "from aif360.sklearn.metrics import generalized_fnr, difference\n",
    "\n",
    "# from glob import glob\n",
    "# import json,os"
   ]
  },
  {
   "cell_type": "code",
   "execution_count": 2,
   "metadata": {},
   "outputs": [],
   "source": [
    "import json,os\n",
    "from glob import glob\n",
    "import traceback\n",
    "\n",
    "\n",
    "def writejson(path,arr,name):\n",
    "    try:\n",
    "        os.mkdir(path+'preds/')\n",
    "    except:\n",
    "        pass\n",
    "    f = open(path+'preds/'+name,'w')\n",
    "    json.dump(arr.tolist(),f)\n",
    "    f.close()"
   ]
  },
  {
   "cell_type": "code",
   "execution_count": 3,
   "metadata": {},
   "outputs": [],
   "source": [
    "path = 'data/datasets/uci_adult/'\n",
    "synthfols = glob(\"data/datasets/uci_adult/synthetic/*/\")\n",
    "paths = [path]\n",
    "paths.extend(synthfols)"
   ]
  },
  {
   "cell_type": "code",
   "execution_count": null,
   "metadata": {},
   "outputs": [],
   "source": []
  },
  {
   "cell_type": "code",
   "execution_count": 4,
   "metadata": {},
   "outputs": [],
   "source": [
    "def task(path):\n",
    "    \n",
    "#     if os.path.exists(path+'preds/baseline_pred.json') == False:\n",
    "    print(path)\n",
    "\n",
    "    train_df = pd.read_csv(path+'train.csv',header=None)\n",
    "\n",
    "    train_df.columns = ['age', 'workclass', 'fnlwgt','education', 'education-num', 'marital-status',\n",
    "           'occupation', 'relationship', 'race', 'sex', 'capital-gain',\n",
    "           'capital-loss', 'hours-per-week', 'native-country','income']\n",
    "\n",
    "\n",
    "    train_df.index = train_df['sex']\n",
    "\n",
    "    train_df = train_df.apply(lambda x: x.str.strip() if x.dtype == \"object\" else x)\n",
    "\n",
    "    test_df = pd.read_csv(path+'test.csv',header=None)\n",
    "\n",
    "    test_df.columns = ['age', 'workclass', 'fnlwgt','education', 'education-num', 'marital-status',\n",
    "           'occupation', 'relationship', 'race', 'sex', 'capital-gain',\n",
    "           'capital-loss', 'hours-per-week', 'native-country','income']\n",
    "\n",
    "\n",
    "    test_df.index = test_df['sex']\n",
    "\n",
    "    test_df = test_df.apply(lambda x: x.str.strip() if x.dtype == \"object\" else x)\n",
    "    \n",
    "\n",
    "\n",
    "    X_train = train_df.drop(['income'],axis=1)\n",
    "    X_test = test_df.drop(['income'],axis=1)\n",
    "\n",
    "    y_train = pd.Series(train_df['income'])\n",
    "    y_test = pd.Series(test_df['income'])\n",
    "\n",
    "    y_train = pd.Series(y_train.factorize(sort=True)[0], index=y_train.index)\n",
    "    y_test = pd.Series(y_test.factorize(sort=True)[0], index=y_test.index)\n",
    "\n",
    "    X_merged = pd.concat([X_train,X_test])\n",
    "\n",
    "    ohe = make_column_transformer(\n",
    "        (OneHotEncoder(sparse=False), X_merged.dtypes == 'object'),\n",
    "        remainder='passthrough', verbose_feature_names_out=False)\n",
    "\n",
    "    X_merged_temp  = pd.DataFrame(ohe.fit_transform(X_merged), columns=ohe.get_feature_names_out(), index=X_merged.index)\n",
    "\n",
    "    X_train  = pd.DataFrame(ohe.transform(X_train), columns=ohe.get_feature_names_out(), index=X_train.index)\n",
    "    X_test = pd.DataFrame(ohe.transform(X_test), columns=ohe.get_feature_names_out(), index=X_test.index)\n",
    "    \n",
    "\n",
    "    #### BASELINE\n",
    "    try:\n",
    "        y_pred_baseline = LogisticRegression(solver='liblinear').fit(X_train, y_train).predict(X_test)\n",
    "        writejson(path,y_pred_baseline,'baseline_pred.json')    \n",
    "    except:\n",
    "        traceback.print_exc()\n",
    "    \n",
    "\n",
    "    #### Adv. Reweighting (Preproc.)\n",
    "    \n",
    "    try:\n",
    "        rew = ReweighingMeta(estimator=LogisticRegression(solver='liblinear'),\n",
    "                     reweigher=Reweighing('sex'))\n",
    "        params = {'estimator__C': [1, 10]}\n",
    "\n",
    "        clf = GridSearchCV(rew, params, scoring='accuracy', cv=5)\n",
    "        clf.fit(X_train, y_train)\n",
    "        y_pred_advrew = clf.predict(X_test)\n",
    "        writejson(path,y_pred_advrew,'adv_rew_pred.json')  \n",
    "    except:\n",
    "        traceback.print_exc()\n",
    "\n",
    "    \n",
    "\n",
    "    #### LearnedFairRepresentations (Preproc.)\n",
    "    \n",
    "    try:\n",
    "        LFR = LearnedFairRepresentations(prot_attr='sex')\n",
    "        LFR.fit(X_train, y_train)\n",
    "\n",
    "        y_pred_lfr = LFR.predict(X_test)\n",
    "        writejson(path,y_pred_lfr,'lfr_pred.json')  \n",
    "    except:\n",
    "        traceback.print_exc()\n",
    "\n",
    "    #### Adv Deb. (Inproc.)\n",
    "    \n",
    "    try:\n",
    "        adv_deb = AdversarialDebiasing(prot_attr='sex')\n",
    "        adv_deb.fit(X_train, y_train)\n",
    "        adv_deb.score(X_test, y_test)\n",
    "\n",
    "        y_pred_adv_deb = adv_deb.predict(X_test)\n",
    "        writejson(path,y_pred_adv_deb,'adv_deb_pred.json')\n",
    "\n",
    "        adv_deb.sess_.close() \n",
    "    except:\n",
    "        traceback.print_exc()\n",
    "\n",
    "    \n",
    "\n",
    "    #### ExponentiatedGradientReduction. (Inproc.)\n",
    "    \n",
    "    try:\n",
    "        consts = ['EqualizedOdds']#['DemographicParity','EqualizedOdds','TruePositiveRateParity','FalsePositiveRateParity','ErrorRateParity']\n",
    "        for const in consts:\n",
    "            EGR = ExponentiatedGradientReduction(prot_attr=['sex_Female','sex_Male'], estimator=LogisticRegression(solver='liblinear'), constraints = const)\n",
    "            EGR.fit(X_train, y_train)\n",
    "            print(const,EGR.score(X_test, y_test))\n",
    "            y_pred_egr = EGR.predict(X_test)\n",
    "            writejson(path,y_pred_egr,'egr_pred_'+const+'.json')\n",
    "    except:\n",
    "        traceback.print_exc()\n",
    "\n",
    "    #### GridSearchReduction. (Inproc.)\n",
    "\n",
    "    try:\n",
    "        consts = ['EqualizedOdds']#['DemographicParity','EqualizedOdds','TruePositiveRateParity','FalsePositiveRateParity','ErrorRateParity']\n",
    "        for const in consts:\n",
    "            GSR = GridSearchReduction(prot_attr=['sex_Female','sex_Male'], estimator=LogisticRegression(solver='liblinear'), constraints = const)\n",
    "            GSR.fit(X_train, y_train)\n",
    "            print(const,GSR.score(X_test, y_test))\n",
    "            y_pred_gsr = GSR.predict(X_test)\n",
    "            writejson(path,y_pred_gsr,'gsr_pred_'+const+'.json')\n",
    "    except:\n",
    "        traceback.print_exc()\n",
    "\n",
    "\n",
    "\n",
    "    X_train_temp = X_train.set_index(['sex_Male'], drop = False)\n",
    "    y_train_temp = y_train.copy()\n",
    "    y_train_temp.index = X_train_temp.index\n",
    "\n",
    "    X_test_temp = X_test.set_index(['sex_Male'], drop = False)\n",
    "    y_test_temp = y_test.copy()\n",
    "    y_test_temp.index = X_test_temp.index\n",
    "\n",
    "    #### Cal. Eq.Odds (Postproc.)\n",
    "\n",
    "    try:\n",
    "        consts = ['weighted']#['fnr','fpr','weighted']\n",
    "        for const in consts:\n",
    "            cal_eq_odds = CalibratedEqualizedOdds(prot_attr='sex_Male', cost_constraint=const)\n",
    "            postproc = PostProcessingMeta(estimator=LogisticRegression(solver='liblinear'), postprocessor=cal_eq_odds)\n",
    "            postproc.fit(X_train_temp, y_train_temp)\n",
    "            print(accuracy_score(y_test_temp, postproc.predict(X_test_temp)))\n",
    "            y_pred_caleq = postproc.predict(X_test_temp)\n",
    "            writejson(path,y_pred_caleq,'caleq_pred_'+const+'.json')\n",
    "    except:\n",
    "        traceback.print_exc()\n",
    "\n",
    "    #### RejectOptionClassifier (Postproc.)\n",
    "\n",
    "    try:\n",
    "        consts = ['average_odds']#['statistical_parity', 'average_odds', 'equal_opportunity']\n",
    "        for const in consts:\n",
    "            rocv = PostProcessingMeta(LogisticRegression(solver='liblinear'), RejectOptionClassifierCV('sex_Male', scoring=const))\n",
    "            rocv.fit(X_train_temp, y_train_temp)\n",
    "            print(accuracy_score(y_test_temp, rocv.predict(X_test_temp)))\n",
    "            y_pred_rocv = rocv.predict(X_test_temp)\n",
    "            writejson(path,y_pred_rocv,'rocv_pred_'+const+'.json')\n",
    "    except:\n",
    "        traceback.print_exc()  \n",
    "    \n",
    "    return path,\"Done\"\n"
   ]
  },
  {
   "cell_type": "code",
   "execution_count": null,
   "metadata": {
    "scrolled": true
   },
   "outputs": [
    {
     "name": "stdout",
     "output_type": "stream",
     "text": [
      "data/datasets/uci_adult/\n"
     ]
    },
    {
     "name": "stderr",
     "output_type": "stream",
     "text": [
      "2023-01-22 23:34:57.835825: I tensorflow/core/platform/cpu_feature_guard.cc:193] This TensorFlow binary is optimized with oneAPI Deep Neural Network Library (oneDNN) to use the following CPU instructions in performance-critical operations:  AVX2 AVX512F AVX512_VNNI FMA\n",
      "To enable them in other operations, rebuild TensorFlow with the appropriate compiler flags.\n",
      "2023-01-22 23:34:59.434693: I tensorflow/core/common_runtime/gpu/gpu_device.cc:1613] Created device /job:localhost/replica:0/task:0/device:GPU:0 with 46704 MB memory:  -> device: 0, name: NVIDIA RTX A6000, pci bus id: 0000:b1:00.0, compute capability: 8.6\n",
      "2023-01-22 23:34:59.435506: I tensorflow/core/common_runtime/gpu/gpu_device.cc:1613] Created device /job:localhost/replica:0/task:0/device:GPU:1 with 46704 MB memory:  -> device: 1, name: NVIDIA RTX A6000, pci bus id: 0000:d9:00.0, compute capability: 8.6\n",
      "2023-01-22 23:35:00.082413: I tensorflow/compiler/mlir/mlir_graph_optimization_pass.cc:357] MLIR V1 optimization pass is not enabled\n",
      "2023-01-22 23:35:03.005777: I tensorflow/compiler/xla/stream_executor/cuda/cuda_blas.cc:630] TensorFloat-32 will be used for the matrix multiplication. This will only be logged once.\n"
     ]
    },
    {
     "name": "stdout",
     "output_type": "stream",
     "text": [
      "EqualizedOdds 0.7990909649284442\n",
      "EqualizedOdds 0.7930102573551994\n",
      "0.7995823352373933\n",
      "0.7846569621030649\n",
      "data/datasets/uci_adult/synthetic/gender_flip_labels0.8_version8/\n"
     ]
    },
    {
     "name": "stderr",
     "output_type": "stream",
     "text": [
      "2023-01-22 23:37:07.254952: I tensorflow/core/common_runtime/gpu/gpu_device.cc:1613] Created device /job:localhost/replica:0/task:0/device:GPU:0 with 46704 MB memory:  -> device: 0, name: NVIDIA RTX A6000, pci bus id: 0000:b1:00.0, compute capability: 8.6\n",
      "2023-01-22 23:37:07.255733: I tensorflow/core/common_runtime/gpu/gpu_device.cc:1613] Created device /job:localhost/replica:0/task:0/device:GPU:1 with 46704 MB memory:  -> device: 1, name: NVIDIA RTX A6000, pci bus id: 0000:d9:00.0, compute capability: 8.6\n"
     ]
    },
    {
     "name": "stdout",
     "output_type": "stream",
     "text": [
      "EqualizedOdds 0.7931034482758621\n",
      "EqualizedOdds 0.8126436781609195\n",
      "0.7971264367816092\n",
      "0.7881226053639847\n",
      "data/datasets/uci_adult/synthetic/gender_flip_labels0.8_version9/\n"
     ]
    },
    {
     "name": "stderr",
     "output_type": "stream",
     "text": [
      "2023-01-22 23:39:18.890279: I tensorflow/core/common_runtime/gpu/gpu_device.cc:1613] Created device /job:localhost/replica:0/task:0/device:GPU:0 with 46704 MB memory:  -> device: 0, name: NVIDIA RTX A6000, pci bus id: 0000:b1:00.0, compute capability: 8.6\n",
      "2023-01-22 23:39:18.890717: I tensorflow/core/common_runtime/gpu/gpu_device.cc:1613] Created device /job:localhost/replica:0/task:0/device:GPU:1 with 46704 MB memory:  -> device: 1, name: NVIDIA RTX A6000, pci bus id: 0000:d9:00.0, compute capability: 8.6\n"
     ]
    },
    {
     "name": "stdout",
     "output_type": "stream",
     "text": [
      "EqualizedOdds 0.7910852713178295\n",
      "EqualizedOdds 0.7906976744186046\n",
      "0.7910852713178295\n",
      "0.7910852713178295\n",
      "data/datasets/uci_adult/synthetic/gender_flip_labels0.9_version6/\n"
     ]
    },
    {
     "name": "stderr",
     "output_type": "stream",
     "text": [
      "2023-01-22 23:41:31.893766: I tensorflow/core/common_runtime/gpu/gpu_device.cc:1613] Created device /job:localhost/replica:0/task:0/device:GPU:0 with 46704 MB memory:  -> device: 0, name: NVIDIA RTX A6000, pci bus id: 0000:b1:00.0, compute capability: 8.6\n",
      "2023-01-22 23:41:31.894226: I tensorflow/core/common_runtime/gpu/gpu_device.cc:1613] Created device /job:localhost/replica:0/task:0/device:GPU:1 with 46704 MB memory:  -> device: 1, name: NVIDIA RTX A6000, pci bus id: 0000:d9:00.0, compute capability: 8.6\n"
     ]
    },
    {
     "name": "stdout",
     "output_type": "stream",
     "text": [
      "EqualizedOdds 0.7892067356461757\n",
      "EqualizedOdds 0.7904240210996145\n",
      "0.7898153783728951\n",
      "0.779874213836478\n",
      "data/datasets/uci_adult/synthetic/gender_flip_labels0.9_version7/\n"
     ]
    },
    {
     "name": "stderr",
     "output_type": "stream",
     "text": [
      "2023-01-22 23:43:41.867582: I tensorflow/core/common_runtime/gpu/gpu_device.cc:1613] Created device /job:localhost/replica:0/task:0/device:GPU:0 with 46704 MB memory:  -> device: 0, name: NVIDIA RTX A6000, pci bus id: 0000:b1:00.0, compute capability: 8.6\n",
      "2023-01-22 23:43:41.867950: I tensorflow/core/common_runtime/gpu/gpu_device.cc:1613] Created device /job:localhost/replica:0/task:0/device:GPU:1 with 46704 MB memory:  -> device: 1, name: NVIDIA RTX A6000, pci bus id: 0000:d9:00.0, compute capability: 8.6\n"
     ]
    },
    {
     "name": "stdout",
     "output_type": "stream",
     "text": [
      "EqualizedOdds 0.7915556466489034\n",
      "EqualizedOdds 0.790735806517729\n",
      "0.7899159663865546\n",
      "0.7862266857962698\n",
      "data/datasets/uci_adult/synthetic/gender_flip_labels0.9_version8/\n"
     ]
    },
    {
     "name": "stderr",
     "output_type": "stream",
     "text": [
      "2023-01-22 23:45:55.351530: I tensorflow/core/common_runtime/gpu/gpu_device.cc:1613] Created device /job:localhost/replica:0/task:0/device:GPU:0 with 46704 MB memory:  -> device: 0, name: NVIDIA RTX A6000, pci bus id: 0000:b1:00.0, compute capability: 8.6\n",
      "2023-01-22 23:45:55.351848: I tensorflow/core/common_runtime/gpu/gpu_device.cc:1613] Created device /job:localhost/replica:0/task:0/device:GPU:1 with 46704 MB memory:  -> device: 1, name: NVIDIA RTX A6000, pci bus id: 0000:d9:00.0, compute capability: 8.6\n"
     ]
    },
    {
     "name": "stdout",
     "output_type": "stream",
     "text": [
      "EqualizedOdds 0.7816584967320261\n",
      "EqualizedOdds 0.7830882352941176\n",
      "0.784109477124183\n",
      "0.7826797385620915\n",
      "data/datasets/uci_adult/synthetic/gender_flip_labels0.9_version9/\n"
     ]
    },
    {
     "name": "stderr",
     "output_type": "stream",
     "text": [
      "2023-01-22 23:48:08.288890: I tensorflow/core/common_runtime/gpu/gpu_device.cc:1613] Created device /job:localhost/replica:0/task:0/device:GPU:0 with 46704 MB memory:  -> device: 0, name: NVIDIA RTX A6000, pci bus id: 0000:b1:00.0, compute capability: 8.6\n",
      "2023-01-22 23:48:08.289665: I tensorflow/core/common_runtime/gpu/gpu_device.cc:1613] Created device /job:localhost/replica:0/task:0/device:GPU:1 with 46704 MB memory:  -> device: 1, name: NVIDIA RTX A6000, pci bus id: 0000:d9:00.0, compute capability: 8.6\n"
     ]
    },
    {
     "name": "stdout",
     "output_type": "stream",
     "text": [
      "EqualizedOdds 0.797696038803557\n",
      "EqualizedOdds 0.7991107518189168\n",
      "0.7987065481002426\n",
      "0.8001212611156022\n",
      "data/datasets/uci_adult/synthetic/gender_flip_labels1.0_version0/\n"
     ]
    },
    {
     "name": "stderr",
     "output_type": "stream",
     "text": [
      "2023-01-22 23:50:11.886137: I tensorflow/core/common_runtime/gpu/gpu_device.cc:1613] Created device /job:localhost/replica:0/task:0/device:GPU:0 with 46704 MB memory:  -> device: 0, name: NVIDIA RTX A6000, pci bus id: 0000:b1:00.0, compute capability: 8.6\n",
      "2023-01-22 23:50:11.886478: I tensorflow/core/common_runtime/gpu/gpu_device.cc:1613] Created device /job:localhost/replica:0/task:0/device:GPU:1 with 46704 MB memory:  -> device: 1, name: NVIDIA RTX A6000, pci bus id: 0000:d9:00.0, compute capability: 8.6\n"
     ]
    },
    {
     "name": "stdout",
     "output_type": "stream",
     "text": [
      "EqualizedOdds 0.7999110715873722\n",
      "EqualizedOdds 0.8010226767452201\n",
      "0.8008003557136505\n",
      "0.7952423299244108\n",
      "data/datasets/uci_adult/synthetic/gender_flip_labels1.0_version1/\n"
     ]
    },
    {
     "name": "stderr",
     "output_type": "stream",
     "text": [
      "2023-01-22 23:52:29.627123: I tensorflow/core/common_runtime/gpu/gpu_device.cc:1613] Created device /job:localhost/replica:0/task:0/device:GPU:0 with 46704 MB memory:  -> device: 0, name: NVIDIA RTX A6000, pci bus id: 0000:b1:00.0, compute capability: 8.6\n",
      "2023-01-22 23:52:29.627498: I tensorflow/core/common_runtime/gpu/gpu_device.cc:1613] Created device /job:localhost/replica:0/task:0/device:GPU:1 with 46704 MB memory:  -> device: 1, name: NVIDIA RTX A6000, pci bus id: 0000:d9:00.0, compute capability: 8.6\n"
     ]
    },
    {
     "name": "stdout",
     "output_type": "stream",
     "text": [
      "EqualizedOdds 0.7982785257117634\n",
      "EqualizedOdds 0.8011476495254911\n",
      "0.7982785257117634\n",
      "0.797837122048113\n",
      "data/datasets/uci_adult/synthetic/gender_flip_labels1.0_version2/\n"
     ]
    },
    {
     "name": "stderr",
     "output_type": "stream",
     "text": [
      "2023-01-22 23:54:42.722259: I tensorflow/core/common_runtime/gpu/gpu_device.cc:1613] Created device /job:localhost/replica:0/task:0/device:GPU:0 with 46704 MB memory:  -> device: 0, name: NVIDIA RTX A6000, pci bus id: 0000:b1:00.0, compute capability: 8.6\n",
      "2023-01-22 23:54:42.727586: I tensorflow/core/common_runtime/gpu/gpu_device.cc:1613] Created device /job:localhost/replica:0/task:0/device:GPU:1 with 46704 MB memory:  -> device: 1, name: NVIDIA RTX A6000, pci bus id: 0000:d9:00.0, compute capability: 8.6\n"
     ]
    },
    {
     "name": "stdout",
     "output_type": "stream",
     "text": [
      "EqualizedOdds 0.7845984598459846\n",
      "EqualizedOdds 0.7823982398239824\n",
      "0.7841584158415842\n",
      "0.7801980198019802\n",
      "data/datasets/uci_adult/synthetic/gender_flip_labels1.0_version3/\n"
     ]
    },
    {
     "name": "stderr",
     "output_type": "stream",
     "text": [
      "2023-01-22 23:57:11.053072: I tensorflow/core/common_runtime/gpu/gpu_device.cc:1613] Created device /job:localhost/replica:0/task:0/device:GPU:0 with 46704 MB memory:  -> device: 0, name: NVIDIA RTX A6000, pci bus id: 0000:b1:00.0, compute capability: 8.6\n",
      "2023-01-22 23:57:11.053858: I tensorflow/core/common_runtime/gpu/gpu_device.cc:1613] Created device /job:localhost/replica:0/task:0/device:GPU:1 with 46704 MB memory:  -> device: 1, name: NVIDIA RTX A6000, pci bus id: 0000:d9:00.0, compute capability: 8.6\n"
     ]
    },
    {
     "name": "stdout",
     "output_type": "stream",
     "text": [
      "EqualizedOdds 0.7996108949416343\n",
      "EqualizedOdds 0.7913964548205793\n",
      "0.7991785559878946\n",
      "0.7929096411586684\n",
      "data/datasets/uci_adult/synthetic/gender_flip_labels1.0_version4/\n"
     ]
    },
    {
     "name": "stderr",
     "output_type": "stream",
     "text": [
      "2023-01-22 23:59:36.983714: I tensorflow/core/common_runtime/gpu/gpu_device.cc:1613] Created device /job:localhost/replica:0/task:0/device:GPU:0 with 46704 MB memory:  -> device: 0, name: NVIDIA RTX A6000, pci bus id: 0000:b1:00.0, compute capability: 8.6\n",
      "2023-01-22 23:59:36.984492: I tensorflow/core/common_runtime/gpu/gpu_device.cc:1613] Created device /job:localhost/replica:0/task:0/device:GPU:1 with 46704 MB memory:  -> device: 1, name: NVIDIA RTX A6000, pci bus id: 0000:d9:00.0, compute capability: 8.6\n"
     ]
    },
    {
     "name": "stdout",
     "output_type": "stream",
     "text": [
      "EqualizedOdds 0.8058103975535168\n",
      "EqualizedOdds 0.8036260375709917\n",
      "0.8049366535605068\n",
      "0.799038881607689\n",
      "data/datasets/uci_adult/synthetic/gender_flip_labels1.0_version5/\n"
     ]
    },
    {
     "name": "stderr",
     "output_type": "stream",
     "text": [
      "2023-01-23 00:02:02.431483: I tensorflow/core/common_runtime/gpu/gpu_device.cc:1613] Created device /job:localhost/replica:0/task:0/device:GPU:0 with 46704 MB memory:  -> device: 0, name: NVIDIA RTX A6000, pci bus id: 0000:b1:00.0, compute capability: 8.6\n",
      "2023-01-23 00:02:02.432383: I tensorflow/core/common_runtime/gpu/gpu_device.cc:1613] Created device /job:localhost/replica:0/task:0/device:GPU:1 with 46704 MB memory:  -> device: 1, name: NVIDIA RTX A6000, pci bus id: 0000:d9:00.0, compute capability: 8.6\n"
     ]
    },
    {
     "name": "stdout",
     "output_type": "stream",
     "text": [
      "EqualizedOdds 0.8005021684546907\n",
      "EqualizedOdds 0.7998173932892034\n",
      "0.7986761013467245\n",
      "0.8000456516776991\n",
      "data/datasets/uci_adult/synthetic/gender_flip_labels1.0_version6/\n"
     ]
    },
    {
     "name": "stderr",
     "output_type": "stream",
     "text": [
      "2023-01-23 00:04:27.944101: I tensorflow/core/common_runtime/gpu/gpu_device.cc:1613] Created device /job:localhost/replica:0/task:0/device:GPU:0 with 46704 MB memory:  -> device: 0, name: NVIDIA RTX A6000, pci bus id: 0000:b1:00.0, compute capability: 8.6\n",
      "2023-01-23 00:04:27.945465: I tensorflow/core/common_runtime/gpu/gpu_device.cc:1613] Created device /job:localhost/replica:0/task:0/device:GPU:1 with 46704 MB memory:  -> device: 1, name: NVIDIA RTX A6000, pci bus id: 0000:d9:00.0, compute capability: 8.6\n"
     ]
    },
    {
     "name": "stdout",
     "output_type": "stream",
     "text": [
      "EqualizedOdds 0.7984207062952402\n",
      "EqualizedOdds 0.7964465891642905\n",
      "0.7955692037727572\n",
      "0.7889888133362579\n",
      "data/datasets/uci_adult/synthetic/gender_flip_labels1.0_version7/\n"
     ]
    },
    {
     "name": "stderr",
     "output_type": "stream",
     "text": [
      "2023-01-23 00:06:45.839957: I tensorflow/core/common_runtime/gpu/gpu_device.cc:1613] Created device /job:localhost/replica:0/task:0/device:GPU:0 with 46704 MB memory:  -> device: 0, name: NVIDIA RTX A6000, pci bus id: 0000:b1:00.0, compute capability: 8.6\n",
      "2023-01-23 00:06:45.840737: I tensorflow/core/common_runtime/gpu/gpu_device.cc:1613] Created device /job:localhost/replica:0/task:0/device:GPU:1 with 46704 MB memory:  -> device: 1, name: NVIDIA RTX A6000, pci bus id: 0000:d9:00.0, compute capability: 8.6\n"
     ]
    },
    {
     "name": "stdout",
     "output_type": "stream",
     "text": [
      "EqualizedOdds 0.800491510277033\n",
      "EqualizedOdds 0.8016085790884718\n",
      "0.800491510277033\n",
      "0.7953529937444147\n",
      "data/datasets/uci_adult/synthetic/gender_flip_labels1.0_version8/\n"
     ]
    },
    {
     "name": "stderr",
     "output_type": "stream",
     "text": [
      "2023-01-23 00:09:13.206469: I tensorflow/core/common_runtime/gpu/gpu_device.cc:1613] Created device /job:localhost/replica:0/task:0/device:GPU:0 with 46704 MB memory:  -> device: 0, name: NVIDIA RTX A6000, pci bus id: 0000:b1:00.0, compute capability: 8.6\n",
      "2023-01-23 00:09:13.206847: I tensorflow/core/common_runtime/gpu/gpu_device.cc:1613] Created device /job:localhost/replica:0/task:0/device:GPU:1 with 46704 MB memory:  -> device: 1, name: NVIDIA RTX A6000, pci bus id: 0000:d9:00.0, compute capability: 8.6\n"
     ]
    },
    {
     "name": "stdout",
     "output_type": "stream",
     "text": [
      "EqualizedOdds 0.804701230228471\n",
      "EqualizedOdds 0.8011862917398945\n",
      "0.8038224956063269\n",
      "0.8014059753954306\n",
      "data/datasets/uci_adult/synthetic/gender_flip_labels1.0_version9/\n"
     ]
    },
    {
     "name": "stderr",
     "output_type": "stream",
     "text": [
      "2023-01-23 00:11:42.929574: I tensorflow/core/common_runtime/gpu/gpu_device.cc:1613] Created device /job:localhost/replica:0/task:0/device:GPU:0 with 46704 MB memory:  -> device: 0, name: NVIDIA RTX A6000, pci bus id: 0000:b1:00.0, compute capability: 8.6\n",
      "2023-01-23 00:11:42.934847: I tensorflow/core/common_runtime/gpu/gpu_device.cc:1613] Created device /job:localhost/replica:0/task:0/device:GPU:1 with 46704 MB memory:  -> device: 1, name: NVIDIA RTX A6000, pci bus id: 0000:d9:00.0, compute capability: 8.6\n"
     ]
    },
    {
     "name": "stdout",
     "output_type": "stream",
     "text": [
      "EqualizedOdds 0.801340782122905\n",
      "EqualizedOdds 0.8015642458100559\n",
      "0.8004469273743017\n",
      "0.7984357541899442\n",
      "data/datasets/uci_adult/synthetic/gender_flip_labels0.6_version0/\n"
     ]
    },
    {
     "name": "stderr",
     "output_type": "stream",
     "text": [
      "2023-01-23 00:14:00.133917: I tensorflow/core/common_runtime/gpu/gpu_device.cc:1613] Created device /job:localhost/replica:0/task:0/device:GPU:0 with 46704 MB memory:  -> device: 0, name: NVIDIA RTX A6000, pci bus id: 0000:b1:00.0, compute capability: 8.6\n",
      "2023-01-23 00:14:00.138099: I tensorflow/core/common_runtime/gpu/gpu_device.cc:1613] Created device /job:localhost/replica:0/task:0/device:GPU:1 with 46704 MB memory:  -> device: 1, name: NVIDIA RTX A6000, pci bus id: 0000:d9:00.0, compute capability: 8.6\n"
     ]
    },
    {
     "name": "stdout",
     "output_type": "stream",
     "text": [
      "EqualizedOdds 0.7952002887044388\n",
      "EqualizedOdds 0.7935763262360159\n",
      "0.7795019848430169\n",
      "0.7896066402020931\n",
      "data/datasets/uci_adult/synthetic/gender_flip_labels0.6_version1/\n"
     ]
    },
    {
     "name": "stderr",
     "output_type": "stream",
     "text": [
      "2023-01-23 00:16:21.213288: I tensorflow/core/common_runtime/gpu/gpu_device.cc:1613] Created device /job:localhost/replica:0/task:0/device:GPU:0 with 46704 MB memory:  -> device: 0, name: NVIDIA RTX A6000, pci bus id: 0000:b1:00.0, compute capability: 8.6\n",
      "2023-01-23 00:16:21.213623: I tensorflow/core/common_runtime/gpu/gpu_device.cc:1613] Created device /job:localhost/replica:0/task:0/device:GPU:1 with 46704 MB memory:  -> device: 1, name: NVIDIA RTX A6000, pci bus id: 0000:d9:00.0, compute capability: 8.6\n"
     ]
    },
    {
     "name": "stdout",
     "output_type": "stream",
     "text": [
      "EqualizedOdds 0.8006270748801181\n",
      "EqualizedOdds 0.7980450018443379\n",
      "0.7982294356326078\n",
      "0.7967539653264478\n",
      "data/datasets/uci_adult/synthetic/gender_flip_labels0.6_version2/\n"
     ]
    },
    {
     "name": "stderr",
     "output_type": "stream",
     "text": [
      "2023-01-23 00:18:29.627832: I tensorflow/core/common_runtime/gpu/gpu_device.cc:1613] Created device /job:localhost/replica:0/task:0/device:GPU:0 with 46704 MB memory:  -> device: 0, name: NVIDIA RTX A6000, pci bus id: 0000:b1:00.0, compute capability: 8.6\n",
      "2023-01-23 00:18:29.628271: I tensorflow/core/common_runtime/gpu/gpu_device.cc:1613] Created device /job:localhost/replica:0/task:0/device:GPU:1 with 46704 MB memory:  -> device: 1, name: NVIDIA RTX A6000, pci bus id: 0000:d9:00.0, compute capability: 8.6\n"
     ]
    },
    {
     "name": "stdout",
     "output_type": "stream",
     "text": [
      "EqualizedOdds 0.8006524102935846\n",
      "EqualizedOdds 0.7992026096411743\n",
      "0.7923160565422255\n",
      "0.7959405581732512\n",
      "data/datasets/uci_adult/synthetic/gender_flip_labels0.6_version3/\n"
     ]
    },
    {
     "name": "stderr",
     "output_type": "stream",
     "text": [
      "2023-01-23 00:20:42.612318: I tensorflow/core/common_runtime/gpu/gpu_device.cc:1613] Created device /job:localhost/replica:0/task:0/device:GPU:0 with 46704 MB memory:  -> device: 0, name: NVIDIA RTX A6000, pci bus id: 0000:b1:00.0, compute capability: 8.6\n",
      "2023-01-23 00:20:42.612956: I tensorflow/core/common_runtime/gpu/gpu_device.cc:1613] Created device /job:localhost/replica:0/task:0/device:GPU:1 with 46704 MB memory:  -> device: 1, name: NVIDIA RTX A6000, pci bus id: 0000:d9:00.0, compute capability: 8.6\n"
     ]
    },
    {
     "name": "stdout",
     "output_type": "stream",
     "text": [
      "EqualizedOdds 0.7924735111435879\n",
      "EqualizedOdds 0.7924735111435879\n",
      "0.7911947387650713\n",
      "0.7895506028498356\n",
      "data/datasets/uci_adult/synthetic/gender_flip_labels0.6_version4/\n"
     ]
    },
    {
     "name": "stderr",
     "output_type": "stream",
     "text": [
      "2023-01-23 00:22:44.699671: I tensorflow/core/common_runtime/gpu/gpu_device.cc:1613] Created device /job:localhost/replica:0/task:0/device:GPU:0 with 46704 MB memory:  -> device: 0, name: NVIDIA RTX A6000, pci bus id: 0000:b1:00.0, compute capability: 8.6\n",
      "2023-01-23 00:22:44.700398: I tensorflow/core/common_runtime/gpu/gpu_device.cc:1613] Created device /job:localhost/replica:0/task:0/device:GPU:1 with 46704 MB memory:  -> device: 1, name: NVIDIA RTX A6000, pci bus id: 0000:d9:00.0, compute capability: 8.6\n"
     ]
    },
    {
     "name": "stdout",
     "output_type": "stream",
     "text": [
      "EqualizedOdds 0.8076291294031758\n",
      "EqualizedOdds 0.8037963131958387\n",
      "0.8067165541157145\n",
      "0.8030662529658696\n",
      "data/datasets/uci_adult/synthetic/gender_flip_labels0.6_version5/\n"
     ]
    },
    {
     "name": "stderr",
     "output_type": "stream",
     "text": [
      "2023-01-23 00:24:56.704975: I tensorflow/core/common_runtime/gpu/gpu_device.cc:1613] Created device /job:localhost/replica:0/task:0/device:GPU:0 with 46704 MB memory:  -> device: 0, name: NVIDIA RTX A6000, pci bus id: 0000:b1:00.0, compute capability: 8.6\n",
      "2023-01-23 00:24:56.705301: I tensorflow/core/common_runtime/gpu/gpu_device.cc:1613] Created device /job:localhost/replica:0/task:0/device:GPU:1 with 46704 MB memory:  -> device: 1, name: NVIDIA RTX A6000, pci bus id: 0000:d9:00.0, compute capability: 8.6\n"
     ]
    },
    {
     "name": "stdout",
     "output_type": "stream",
     "text": [
      "EqualizedOdds 0.7926695842450766\n",
      "EqualizedOdds 0.7926695842450766\n",
      "0.7930342815463166\n",
      "0.7895696571845369\n",
      "data/datasets/uci_adult/synthetic/gender_flip_labels0.6_version6/\n"
     ]
    },
    {
     "name": "stderr",
     "output_type": "stream",
     "text": [
      "2023-01-23 00:26:59.079645: I tensorflow/core/common_runtime/gpu/gpu_device.cc:1613] Created device /job:localhost/replica:0/task:0/device:GPU:0 with 46704 MB memory:  -> device: 0, name: NVIDIA RTX A6000, pci bus id: 0000:b1:00.0, compute capability: 8.6\n",
      "2023-01-23 00:26:59.080381: I tensorflow/core/common_runtime/gpu/gpu_device.cc:1613] Created device /job:localhost/replica:0/task:0/device:GPU:1 with 46704 MB memory:  -> device: 1, name: NVIDIA RTX A6000, pci bus id: 0000:d9:00.0, compute capability: 8.6\n"
     ]
    },
    {
     "name": "stdout",
     "output_type": "stream",
     "text": [
      "EqualizedOdds 0.7930530164533821\n",
      "EqualizedOdds 0.793235831809872\n",
      "0.793418647166362\n",
      "0.7882998171846435\n",
      "data/datasets/uci_adult/synthetic/gender_flip_labels0.6_version7/\n"
     ]
    },
    {
     "name": "stderr",
     "output_type": "stream",
     "text": [
      "2023-01-23 00:28:57.153892: I tensorflow/core/common_runtime/gpu/gpu_device.cc:1613] Created device /job:localhost/replica:0/task:0/device:GPU:0 with 46704 MB memory:  -> device: 0, name: NVIDIA RTX A6000, pci bus id: 0000:b1:00.0, compute capability: 8.6\n",
      "2023-01-23 00:28:57.154231: I tensorflow/core/common_runtime/gpu/gpu_device.cc:1613] Created device /job:localhost/replica:0/task:0/device:GPU:1 with 46704 MB memory:  -> device: 1, name: NVIDIA RTX A6000, pci bus id: 0000:d9:00.0, compute capability: 8.6\n"
     ]
    },
    {
     "name": "stdout",
     "output_type": "stream",
     "text": [
      "EqualizedOdds 0.7991161848646658\n",
      "EqualizedOdds 0.7991161848646658\n",
      "0.7856748296814583\n",
      "0.7923034431964647\n",
      "data/datasets/uci_adult/synthetic/gender_flip_labels0.6_version8/\n"
     ]
    },
    {
     "name": "stderr",
     "output_type": "stream",
     "text": [
      "2023-01-23 00:31:00.532306: I tensorflow/core/common_runtime/gpu/gpu_device.cc:1613] Created device /job:localhost/replica:0/task:0/device:GPU:0 with 46704 MB memory:  -> device: 0, name: NVIDIA RTX A6000, pci bus id: 0000:b1:00.0, compute capability: 8.6\n",
      "2023-01-23 00:31:00.532633: I tensorflow/core/common_runtime/gpu/gpu_device.cc:1613] Created device /job:localhost/replica:0/task:0/device:GPU:1 with 46704 MB memory:  -> device: 1, name: NVIDIA RTX A6000, pci bus id: 0000:d9:00.0, compute capability: 8.6\n"
     ]
    },
    {
     "name": "stdout",
     "output_type": "stream",
     "text": [
      "EqualizedOdds 0.7974867965762156\n",
      "EqualizedOdds 0.8016754689491896\n",
      "0.8011291203788017\n",
      "0.7985794937169914\n",
      "data/datasets/uci_adult/synthetic/gender_flip_labels0.6_version9/\n"
     ]
    },
    {
     "name": "stderr",
     "output_type": "stream",
     "text": [
      "2023-01-23 00:32:34.655484: I tensorflow/core/common_runtime/gpu/gpu_device.cc:1613] Created device /job:localhost/replica:0/task:0/device:GPU:0 with 46704 MB memory:  -> device: 0, name: NVIDIA RTX A6000, pci bus id: 0000:b1:00.0, compute capability: 8.6\n",
      "2023-01-23 00:32:34.656654: I tensorflow/core/common_runtime/gpu/gpu_device.cc:1613] Created device /job:localhost/replica:0/task:0/device:GPU:1 with 46704 MB memory:  -> device: 1, name: NVIDIA RTX A6000, pci bus id: 0000:d9:00.0, compute capability: 8.6\n"
     ]
    },
    {
     "name": "stdout",
     "output_type": "stream",
     "text": [
      "EqualizedOdds 0.7958095938246645\n",
      "EqualizedOdds 0.7965447528027936\n",
      "0.7974637015254549\n",
      "0.7857011578753905\n",
      "data/datasets/uci_adult/synthetic/gender_flip_labels0.7_version0/\n"
     ]
    },
    {
     "name": "stderr",
     "output_type": "stream",
     "text": [
      "2023-01-23 00:34:18.210757: I tensorflow/core/common_runtime/gpu/gpu_device.cc:1613] Created device /job:localhost/replica:0/task:0/device:GPU:0 with 46704 MB memory:  -> device: 0, name: NVIDIA RTX A6000, pci bus id: 0000:b1:00.0, compute capability: 8.6\n",
      "2023-01-23 00:34:18.211086: I tensorflow/core/common_runtime/gpu/gpu_device.cc:1613] Created device /job:localhost/replica:0/task:0/device:GPU:1 with 46704 MB memory:  -> device: 1, name: NVIDIA RTX A6000, pci bus id: 0000:d9:00.0, compute capability: 8.6\n"
     ]
    },
    {
     "name": "stdout",
     "output_type": "stream",
     "text": [
      "EqualizedOdds 0.794128646222887\n",
      "EqualizedOdds 0.7922587883320867\n",
      "0.7952505609573672\n",
      "0.7801047120418848\n",
      "data/datasets/uci_adult/synthetic/gender_flip_labels0.7_version1/\n"
     ]
    },
    {
     "name": "stderr",
     "output_type": "stream",
     "text": [
      "2023-01-23 00:36:28.708059: I tensorflow/core/common_runtime/gpu/gpu_device.cc:1613] Created device /job:localhost/replica:0/task:0/device:GPU:0 with 46704 MB memory:  -> device: 0, name: NVIDIA RTX A6000, pci bus id: 0000:b1:00.0, compute capability: 8.6\n",
      "2023-01-23 00:36:28.708448: I tensorflow/core/common_runtime/gpu/gpu_device.cc:1613] Created device /job:localhost/replica:0/task:0/device:GPU:1 with 46704 MB memory:  -> device: 1, name: NVIDIA RTX A6000, pci bus id: 0000:d9:00.0, compute capability: 8.6\n"
     ]
    },
    {
     "name": "stdout",
     "output_type": "stream",
     "text": [
      "EqualizedOdds 0.801258327165063\n",
      "EqualizedOdds 0.8008882309400445\n",
      "0.8010732790525537\n",
      "0.7971872686898593\n",
      "data/datasets/uci_adult/synthetic/gender_flip_labels0.7_version2/\n"
     ]
    },
    {
     "name": "stderr",
     "output_type": "stream",
     "text": [
      "2023-01-23 00:38:42.225392: I tensorflow/core/common_runtime/gpu/gpu_device.cc:1613] Created device /job:localhost/replica:0/task:0/device:GPU:0 with 46704 MB memory:  -> device: 0, name: NVIDIA RTX A6000, pci bus id: 0000:b1:00.0, compute capability: 8.6\n",
      "2023-01-23 00:38:42.225690: I tensorflow/core/common_runtime/gpu/gpu_device.cc:1613] Created device /job:localhost/replica:0/task:0/device:GPU:1 with 46704 MB memory:  -> device: 1, name: NVIDIA RTX A6000, pci bus id: 0000:d9:00.0, compute capability: 8.6\n"
     ]
    },
    {
     "name": "stdout",
     "output_type": "stream",
     "text": [
      "EqualizedOdds 0.8013597941933113\n",
      "EqualizedOdds 0.8013597941933113\n",
      "0.8015435501653804\n",
      "0.8011760382212422\n",
      "data/datasets/uci_adult/synthetic/gender_flip_labels0.7_version3/\n"
     ]
    },
    {
     "name": "stderr",
     "output_type": "stream",
     "text": [
      "2023-01-23 00:40:48.880973: I tensorflow/core/common_runtime/gpu/gpu_device.cc:1613] Created device /job:localhost/replica:0/task:0/device:GPU:0 with 46704 MB memory:  -> device: 0, name: NVIDIA RTX A6000, pci bus id: 0000:b1:00.0, compute capability: 8.6\n",
      "2023-01-23 00:40:48.881336: I tensorflow/core/common_runtime/gpu/gpu_device.cc:1613] Created device /job:localhost/replica:0/task:0/device:GPU:1 with 46704 MB memory:  -> device: 1, name: NVIDIA RTX A6000, pci bus id: 0000:d9:00.0, compute capability: 8.6\n"
     ]
    },
    {
     "name": "stdout",
     "output_type": "stream",
     "text": [
      "EqualizedOdds 0.7958086053412463\n",
      "EqualizedOdds 0.7952522255192879\n",
      "0.7939540059347181\n",
      "0.788946587537092\n",
      "data/datasets/uci_adult/synthetic/gender_flip_labels0.7_version4/\n"
     ]
    },
    {
     "name": "stderr",
     "output_type": "stream",
     "text": [
      "2023-01-23 00:42:56.658233: I tensorflow/core/common_runtime/gpu/gpu_device.cc:1613] Created device /job:localhost/replica:0/task:0/device:GPU:0 with 46704 MB memory:  -> device: 0, name: NVIDIA RTX A6000, pci bus id: 0000:b1:00.0, compute capability: 8.6\n",
      "2023-01-23 00:42:56.658586: I tensorflow/core/common_runtime/gpu/gpu_device.cc:1613] Created device /job:localhost/replica:0/task:0/device:GPU:1 with 46704 MB memory:  -> device: 1, name: NVIDIA RTX A6000, pci bus id: 0000:d9:00.0, compute capability: 8.6\n"
     ]
    },
    {
     "name": "stdout",
     "output_type": "stream",
     "text": [
      "EqualizedOdds 0.7956989247311828\n",
      "EqualizedOdds 0.7969966629588432\n",
      "0.7969966629588432\n",
      "0.7927326659251019\n",
      "data/datasets/uci_adult/synthetic/gender_flip_labels0.7_version5/\n"
     ]
    },
    {
     "name": "stderr",
     "output_type": "stream",
     "text": [
      "2023-01-23 00:45:14.923911: I tensorflow/core/common_runtime/gpu/gpu_device.cc:1613] Created device /job:localhost/replica:0/task:0/device:GPU:0 with 46704 MB memory:  -> device: 0, name: NVIDIA RTX A6000, pci bus id: 0000:b1:00.0, compute capability: 8.6\n",
      "2023-01-23 00:45:14.924296: I tensorflow/core/common_runtime/gpu/gpu_device.cc:1613] Created device /job:localhost/replica:0/task:0/device:GPU:1 with 46704 MB memory:  -> device: 1, name: NVIDIA RTX A6000, pci bus id: 0000:d9:00.0, compute capability: 8.6\n"
     ]
    },
    {
     "name": "stdout",
     "output_type": "stream",
     "text": [
      "EqualizedOdds 0.8016035800857729\n",
      "EqualizedOdds 0.8014171172851017\n",
      "0.8021629684877867\n",
      "0.797501398471005\n",
      "data/datasets/uci_adult/synthetic/gender_flip_labels0.7_version6/\n"
     ]
    },
    {
     "name": "stderr",
     "output_type": "stream",
     "text": [
      "2023-01-23 00:47:16.749931: I tensorflow/core/common_runtime/gpu/gpu_device.cc:1613] Created device /job:localhost/replica:0/task:0/device:GPU:0 with 46704 MB memory:  -> device: 0, name: NVIDIA RTX A6000, pci bus id: 0000:b1:00.0, compute capability: 8.6\n",
      "2023-01-23 00:47:16.752003: I tensorflow/core/common_runtime/gpu/gpu_device.cc:1613] Created device /job:localhost/replica:0/task:0/device:GPU:1 with 46704 MB memory:  -> device: 1, name: NVIDIA RTX A6000, pci bus id: 0000:d9:00.0, compute capability: 8.6\n"
     ]
    },
    {
     "name": "stdout",
     "output_type": "stream",
     "text": [
      "EqualizedOdds 0.7959259259259259\n",
      "EqualizedOdds 0.797037037037037\n",
      "0.7961111111111111\n",
      "0.7933333333333333\n",
      "data/datasets/uci_adult/synthetic/gender_flip_labels0.7_version7/\n"
     ]
    },
    {
     "name": "stderr",
     "output_type": "stream",
     "text": [
      "2023-01-23 00:49:02.613221: I tensorflow/core/common_runtime/gpu/gpu_device.cc:1613] Created device /job:localhost/replica:0/task:0/device:GPU:0 with 46704 MB memory:  -> device: 0, name: NVIDIA RTX A6000, pci bus id: 0000:b1:00.0, compute capability: 8.6\n",
      "2023-01-23 00:49:02.613590: I tensorflow/core/common_runtime/gpu/gpu_device.cc:1613] Created device /job:localhost/replica:0/task:0/device:GPU:1 with 46704 MB memory:  -> device: 1, name: NVIDIA RTX A6000, pci bus id: 0000:d9:00.0, compute capability: 8.6\n"
     ]
    },
    {
     "name": "stdout",
     "output_type": "stream",
     "text": [
      "EqualizedOdds 0.8010412792859799\n",
      "EqualizedOdds 0.8008553365563407\n",
      "0.8006693938267013\n",
      "0.7941613982893269\n",
      "data/datasets/uci_adult/synthetic/gender_flip_labels0.7_version8/\n"
     ]
    },
    {
     "name": "stderr",
     "output_type": "stream",
     "text": [
      "2023-01-23 00:51:06.082444: I tensorflow/core/common_runtime/gpu/gpu_device.cc:1613] Created device /job:localhost/replica:0/task:0/device:GPU:0 with 46704 MB memory:  -> device: 0, name: NVIDIA RTX A6000, pci bus id: 0000:b1:00.0, compute capability: 8.6\n",
      "2023-01-23 00:51:06.082774: I tensorflow/core/common_runtime/gpu/gpu_device.cc:1613] Created device /job:localhost/replica:0/task:0/device:GPU:1 with 46704 MB memory:  -> device: 1, name: NVIDIA RTX A6000, pci bus id: 0000:d9:00.0, compute capability: 8.6\n"
     ]
    },
    {
     "name": "stdout",
     "output_type": "stream",
     "text": [
      "EqualizedOdds 0.7890097524381096\n",
      "EqualizedOdds 0.7882595648912228\n",
      "0.7867591897974494\n",
      "0.7882595648912228\n",
      "data/datasets/uci_adult/synthetic/gender_flip_labels0.7_version9/\n"
     ]
    },
    {
     "name": "stderr",
     "output_type": "stream",
     "text": [
      "2023-01-23 00:52:46.631212: I tensorflow/core/common_runtime/gpu/gpu_device.cc:1613] Created device /job:localhost/replica:0/task:0/device:GPU:0 with 46704 MB memory:  -> device: 0, name: NVIDIA RTX A6000, pci bus id: 0000:b1:00.0, compute capability: 8.6\n",
      "2023-01-23 00:52:46.631785: I tensorflow/core/common_runtime/gpu/gpu_device.cc:1613] Created device /job:localhost/replica:0/task:0/device:GPU:1 with 46704 MB memory:  -> device: 1, name: NVIDIA RTX A6000, pci bus id: 0000:d9:00.0, compute capability: 8.6\n"
     ]
    },
    {
     "name": "stdout",
     "output_type": "stream",
     "text": [
      "EqualizedOdds 0.7855822550831792\n",
      "EqualizedOdds 0.7939001848428835\n",
      "0.7951940850277265\n",
      "0.7914972273567468\n",
      "data/datasets/uci_adult/synthetic/gender_flip_labels0.8_version0/\n"
     ]
    },
    {
     "name": "stderr",
     "output_type": "stream",
     "text": [
      "2023-01-23 00:54:29.414967: I tensorflow/core/common_runtime/gpu/gpu_device.cc:1613] Created device /job:localhost/replica:0/task:0/device:GPU:0 with 46704 MB memory:  -> device: 0, name: NVIDIA RTX A6000, pci bus id: 0000:b1:00.0, compute capability: 8.6\n",
      "2023-01-23 00:54:29.415315: I tensorflow/core/common_runtime/gpu/gpu_device.cc:1613] Created device /job:localhost/replica:0/task:0/device:GPU:1 with 46704 MB memory:  -> device: 1, name: NVIDIA RTX A6000, pci bus id: 0000:d9:00.0, compute capability: 8.6\n"
     ]
    },
    {
     "name": "stdout",
     "output_type": "stream",
     "text": [
      "EqualizedOdds 0.816030534351145\n",
      "EqualizedOdds 0.8101145038167938\n",
      "0.8173664122137405\n",
      "0.8133587786259542\n",
      "data/datasets/uci_adult/synthetic/gender_flip_labels0.8_version1/\n"
     ]
    },
    {
     "name": "stderr",
     "output_type": "stream",
     "text": [
      "2023-01-23 00:56:23.129654: I tensorflow/core/common_runtime/gpu/gpu_device.cc:1613] Created device /job:localhost/replica:0/task:0/device:GPU:0 with 46704 MB memory:  -> device: 0, name: NVIDIA RTX A6000, pci bus id: 0000:b1:00.0, compute capability: 8.6\n",
      "2023-01-23 00:56:23.129968: I tensorflow/core/common_runtime/gpu/gpu_device.cc:1613] Created device /job:localhost/replica:0/task:0/device:GPU:1 with 46704 MB memory:  -> device: 1, name: NVIDIA RTX A6000, pci bus id: 0000:d9:00.0, compute capability: 8.6\n"
     ]
    },
    {
     "name": "stdout",
     "output_type": "stream",
     "text": [
      "EqualizedOdds 0.8069668976135489\n",
      "EqualizedOdds 0.8081216320246344\n",
      "0.8063895304080062\n",
      "0.8035026943802925\n",
      "data/datasets/uci_adult/synthetic/gender_flip_labels0.8_version2/\n"
     ]
    },
    {
     "name": "stderr",
     "output_type": "stream",
     "text": [
      "2023-01-23 00:58:15.835634: I tensorflow/core/common_runtime/gpu/gpu_device.cc:1613] Created device /job:localhost/replica:0/task:0/device:GPU:0 with 46704 MB memory:  -> device: 0, name: NVIDIA RTX A6000, pci bus id: 0000:b1:00.0, compute capability: 8.6\n",
      "2023-01-23 00:58:15.840366: I tensorflow/core/common_runtime/gpu/gpu_device.cc:1613] Created device /job:localhost/replica:0/task:0/device:GPU:1 with 46704 MB memory:  -> device: 1, name: NVIDIA RTX A6000, pci bus id: 0000:d9:00.0, compute capability: 8.6\n"
     ]
    },
    {
     "name": "stdout",
     "output_type": "stream",
     "text": [
      "EqualizedOdds 0.7962533796832754\n",
      "EqualizedOdds 0.7943221320973349\n",
      "0.7943221320973349\n",
      "0.7906527616840479\n",
      "data/datasets/uci_adult/synthetic/gender_flip_labels0.8_version3/\n"
     ]
    },
    {
     "name": "stderr",
     "output_type": "stream",
     "text": [
      "2023-01-23 01:00:53.402084: I tensorflow/core/common_runtime/gpu/gpu_device.cc:1613] Created device /job:localhost/replica:0/task:0/device:GPU:0 with 46704 MB memory:  -> device: 0, name: NVIDIA RTX A6000, pci bus id: 0000:b1:00.0, compute capability: 8.6\n",
      "2023-01-23 01:00:53.402380: I tensorflow/core/common_runtime/gpu/gpu_device.cc:1613] Created device /job:localhost/replica:0/task:0/device:GPU:1 with 46704 MB memory:  -> device: 1, name: NVIDIA RTX A6000, pci bus id: 0000:d9:00.0, compute capability: 8.6\n"
     ]
    },
    {
     "name": "stdout",
     "output_type": "stream",
     "text": [
      "EqualizedOdds 0.7930764717387052\n"
     ]
    }
   ],
   "source": [
    "# #task(paths[0])\n",
    "for path in paths:\n",
    "    try:\n",
    "        task(path)\n",
    "    except:\n",
    "        traceback.print_exc()"
   ]
  },
  {
   "cell_type": "code",
   "execution_count": null,
   "metadata": {},
   "outputs": [],
   "source": [
    "# from multiprocessing.pool import ThreadPool as Pool\n",
    "\n",
    "# pool = Pool(10)\n",
    "# for result in pool.imap_unordered(task, paths):\n",
    "#     print(result)"
   ]
  },
  {
   "cell_type": "markdown",
   "metadata": {},
   "source": [
    "#### FairAdapt (Preproc.)"
   ]
  },
  {
   "cell_type": "code",
   "execution_count": null,
   "metadata": {},
   "outputs": [],
   "source": [
    "# XY_df = pd.concat([X_train, y_train], axis=1)\n",
    "# adj_mat = pd.DataFrame(\n",
    "#     np.zeros((len(train_df.columns), len(train_df.columns)), dtype=int),\n",
    "#     index=train_df.columns.values,\n",
    "#     columns=train_df.columns.values\n",
    "# )\n",
    "\n",
    "# # Construct the adjacency matrix of the causal graph\n",
    "# adj_mat.at[\n",
    "#     [\"sex\", \"age\", \"native-country\"],\n",
    "#     [\"marital-status\", \"education-num\", \"workclass\", \"hours-per-week\",\n",
    "#      \"occupation\", \"annual-income\"]\n",
    "# ] = 1\n",
    "# adj_mat.at[\n",
    "#     \"marital-status\",\n",
    "#     [\"education-num\", \"workclass\", \"hours-per-week\", \"occupation\",\n",
    "#      \"annual-income\"]\n",
    "# ] = 1\n",
    "# adj_mat.at[\n",
    "#     \"education-num\",\n",
    "#     [\"workclass\", \"hours-per-week\", \"occupation\", \"annual-income\"]\n",
    "# ] = 1\n",
    "# adj_mat.at[\n",
    "#     [\"workclass\", \"hours-per-week\", \"occupation\"],\n",
    "#     \"annual-income\"\n",
    "# ] = 1\n",
    "\n",
    "# FA = FairAdapt(prot_attr='sex', adj_mat = adj_mat)\n",
    "\n",
    "\n",
    "# Xf_train, yf_train, Xf_test = FA.fit_transform(X_train, y_train, X_test)\n",
    "# # y_pred_advrew = clf.predict(X_test)\n",
    "# # writejson(y_pred_advrew,'adv_rew_pred.json')\n",
    "\n",
    "\n",
    "#### TAKING TOO LONG TO PROCESS #####"
   ]
  },
  {
   "cell_type": "code",
   "execution_count": null,
   "metadata": {},
   "outputs": [],
   "source": [
    "# set(X_train.columns).intersection(set(X_test.columns))"
   ]
  },
  {
   "cell_type": "code",
   "execution_count": null,
   "metadata": {},
   "outputs": [],
   "source": [
    "# X_test.columns"
   ]
  },
  {
   "cell_type": "code",
   "execution_count": null,
   "metadata": {},
   "outputs": [],
   "source": [
    "# print('still runnung')"
   ]
  },
  {
   "cell_type": "code",
   "execution_count": null,
   "metadata": {},
   "outputs": [],
   "source": [
    "# import aif360"
   ]
  },
  {
   "cell_type": "code",
   "execution_count": null,
   "metadata": {},
   "outputs": [],
   "source": [
    "# aif360.__file__"
   ]
  },
  {
   "cell_type": "code",
   "execution_count": null,
   "metadata": {},
   "outputs": [],
   "source": []
  }
 ],
 "metadata": {
  "kernelspec": {
   "display_name": "Python [conda env:pablo]",
   "language": "python",
   "name": "conda-env-pablo-py"
  },
  "language_info": {
   "codemirror_mode": {
    "name": "ipython",
    "version": 3
   },
   "file_extension": ".py",
   "mimetype": "text/x-python",
   "name": "python",
   "nbconvert_exporter": "python",
   "pygments_lexer": "ipython3",
   "version": "3.7.5"
  }
 },
 "nbformat": 4,
 "nbformat_minor": 4
}
