{
 "cells": [
  {
   "cell_type": "code",
   "execution_count": 2,
   "metadata": {},
   "outputs": [],
   "source": [
    "%matplotlib inline\n",
    "import matplotlib.pyplot as plt\n",
    "import numpy as np\n",
    "import pandas as pd\n",
    "import tensorflow.compat.v1 as tf\n",
    "tf.disable_eager_execution()\n",
    "tf.logging.set_verbosity(tf.logging.ERROR)\n",
    "\n",
    "import warnings\n",
    "warnings.filterwarnings('ignore')\n",
    "\n",
    "from sklearn.compose import make_column_transformer\n",
    "from sklearn.linear_model import LogisticRegression\n",
    "from sklearn.metrics import accuracy_score\n",
    "from sklearn.model_selection import GridSearchCV, train_test_split\n",
    "from sklearn.preprocessing import OneHotEncoder\n",
    "\n",
    "from aif360.sklearn.preprocessing import Reweighing, ReweighingMeta, FairAdapt, LearnedFairRepresentations\n",
    "from aif360.sklearn.inprocessing import AdversarialDebiasing, ExponentiatedGradientReduction, GridSearchReduction\n",
    "from aif360.sklearn.postprocessing import CalibratedEqualizedOdds, RejectOptionClassifier, PostProcessingMeta, RejectOptionClassifierCV\n",
    "from aif360.sklearn.datasets import fetch_adult\n",
    "from aif360.sklearn.metrics import disparate_impact_ratio, average_odds_error, generalized_fpr\n",
    "from aif360.sklearn.metrics import generalized_fnr, difference\n",
    "\n",
    "# from glob import glob\n",
    "# import json,os"
   ]
  },
  {
   "cell_type": "code",
   "execution_count": 4,
   "metadata": {},
   "outputs": [],
   "source": [
    "import json,os\n",
    "from glob import glob\n",
    "import traceback\n",
    "\n",
    "\n",
    "def writejson(path,arr,name):\n",
    "    try:\n",
    "        os.mkdir(path+'preds/')\n",
    "    except:\n",
    "        pass\n",
    "    f = open(path+'preds/'+name,'w')\n",
    "    json.dump(arr.tolist(),f)\n",
    "    f.close()"
   ]
  },
  {
   "cell_type": "code",
   "execution_count": 5,
   "metadata": {},
   "outputs": [],
   "source": [
    "path = 'data/datasets/publiccov_ny/'\n",
    "synthfols = glob(\"data/datasets/publiccov_ny/synthetic/*/\")\n",
    "paths = [path]\n",
    "paths.extend(synthfols)\n",
    "\n",
    "path = 'data/datasets/publiccov_tx/'\n",
    "synthfols = glob(\"data/datasets/publiccov_tx/synthetic/*/\")\n",
    "paths.append(path)\n",
    "paths.extend(synthfols)"
   ]
  },
  {
   "cell_type": "code",
   "execution_count": null,
   "metadata": {},
   "outputs": [],
   "source": []
  },
  {
   "cell_type": "code",
   "execution_count": 6,
   "metadata": {},
   "outputs": [],
   "source": [
    "def task(path):\n",
    "    \n",
    "#     if os.path.exists(path+'preds/baseline_pred.json') == False:\n",
    "    print(path)\n",
    "\n",
    "    train_df = pd.read_csv(path+'train.csv',header=None)\n",
    "\n",
    "    train_df.columns = ['AGEP', 'SCHL', 'MAR', 'SEX', 'DIS', 'ESP', 'CIT', 'MIG', 'MIL', 'ANC',\n",
    "       'NATIVITY', 'DEAR', 'DEYE', 'DREM', 'PINCP', 'ESR', 'FER', 'RAC1P',\n",
    "       'PUBCOV']\n",
    "\n",
    "\n",
    "    train_df.index = train_df['SEX']\n",
    "\n",
    "    train_df = train_df.apply(lambda x: x.str.strip() if x.dtype == \"object\" else x)\n",
    "\n",
    "    test_df = pd.read_csv(path+'test.csv',header=None)\n",
    "\n",
    "    test_df.columns = ['AGEP', 'SCHL', 'MAR', 'SEX', 'DIS', 'ESP', 'CIT', 'MIG', 'MIL', 'ANC',\n",
    "       'NATIVITY', 'DEAR', 'DEYE', 'DREM', 'PINCP', 'ESR', 'FER', 'RAC1P',\n",
    "       'PUBCOV']\n",
    "\n",
    "\n",
    "    test_df.index = test_df['SEX']\n",
    "\n",
    "    test_df = test_df.apply(lambda x: x.str.strip() if x.dtype == \"object\" else x)\n",
    "    \n",
    "\n",
    "\n",
    "    X_train = train_df.drop(['PUBCOV'],axis=1)\n",
    "    X_test = test_df.drop(['PUBCOV'],axis=1)\n",
    "\n",
    "    y_train = pd.Series(train_df['PUBCOV'])\n",
    "    y_test = pd.Series(test_df['PUBCOV'])\n",
    "\n",
    "    y_train = pd.Series(y_train.factorize(sort=True)[0], index=y_train.index)\n",
    "    y_test = pd.Series(y_test.factorize(sort=True)[0], index=y_test.index)\n",
    "\n",
    "    X_merged = pd.concat([X_train,X_test])\n",
    "\n",
    "    ohe = make_column_transformer(\n",
    "        (OneHotEncoder(sparse=False), X_merged.dtypes == 'object'),\n",
    "        remainder='passthrough', verbose_feature_names_out=False)\n",
    "\n",
    "    X_merged_temp  = pd.DataFrame(ohe.fit_transform(X_merged), columns=ohe.get_feature_names_out(), index=X_merged.index)\n",
    "\n",
    "    X_train  = pd.DataFrame(ohe.transform(X_train), columns=ohe.get_feature_names_out(), index=X_train.index)\n",
    "    X_test = pd.DataFrame(ohe.transform(X_test), columns=ohe.get_feature_names_out(), index=X_test.index)\n",
    "    \n",
    "\n",
    "    #### BASELINE\n",
    "    try:\n",
    "        y_pred_baseline = LogisticRegression(solver='liblinear').fit(X_train, y_train).predict(X_test)\n",
    "        writejson(path,y_pred_baseline,'baseline_pred.json')    \n",
    "    except:\n",
    "        traceback.print_exc()\n",
    "    \n",
    "\n",
    "    #### Adv. Reweighting (Preproc.)\n",
    "    \n",
    "    try:\n",
    "        rew = ReweighingMeta(estimator=LogisticRegression(solver='liblinear'),\n",
    "                     reweigher=Reweighing('SEX'))\n",
    "        params = {'estimator__C': [1, 10]}\n",
    "\n",
    "        clf = GridSearchCV(rew, params, scoring='accuracy', cv=5)\n",
    "        clf.fit(X_train, y_train)\n",
    "        y_pred_advrew = clf.predict(X_test)\n",
    "        writejson(path,y_pred_advrew,'adv_rew_pred.json')  \n",
    "    except:\n",
    "        traceback.print_exc()\n",
    "\n",
    "    \n",
    "\n",
    "    #### LearnedFairRepresentations (Preproc.)\n",
    "    \n",
    "    try:\n",
    "        LFR = LearnedFairRepresentations(prot_attr='SEX')\n",
    "        LFR.fit(X_train, y_train)\n",
    "\n",
    "        y_pred_lfr = LFR.predict(X_test)\n",
    "        writejson(path,y_pred_lfr,'lfr_pred.json')  \n",
    "    except:\n",
    "        traceback.print_exc()\n",
    "\n",
    "    #### Adv Deb. (Inproc.)\n",
    "    \n",
    "    try:\n",
    "        adv_deb = AdversarialDebiasing(prot_attr='SEX')\n",
    "        adv_deb.fit(X_train, y_train)\n",
    "        adv_deb.score(X_test, y_test)\n",
    "\n",
    "        y_pred_adv_deb = adv_deb.predict(X_test)\n",
    "        writejson(path,y_pred_adv_deb,'adv_deb_pred.json')\n",
    "\n",
    "        adv_deb.sess_.close() \n",
    "    except:\n",
    "        traceback.print_exc()\n",
    "\n",
    "    \n",
    "\n",
    "    #### ExponentiatedGradientReduction. (Inproc.)\n",
    "    \n",
    "    try:\n",
    "        consts = ['EqualizedOdds']#['DemographicParity','EqualizedOdds','TruePositiveRateParity','FalsePositiveRateParity','ErrorRateParity']\n",
    "        for const in consts:\n",
    "            EGR = ExponentiatedGradientReduction(prot_attr=['SEX_Female','SEX_Male'], estimator=LogisticRegression(solver='liblinear'), constraints = const)\n",
    "            EGR.fit(X_train, y_train)\n",
    "            print(const,EGR.score(X_test, y_test))\n",
    "            y_pred_egr = EGR.predict(X_test)\n",
    "            writejson(path,y_pred_egr,'egr_pred_'+const+'.json')\n",
    "    except:\n",
    "        traceback.print_exc()\n",
    "\n",
    "    #### GridSearchReduction. (Inproc.)\n",
    "\n",
    "    try:\n",
    "        consts = ['EqualizedOdds']#['DemographicParity','EqualizedOdds','TruePositiveRateParity','FalsePositiveRateParity','ErrorRateParity']\n",
    "        for const in consts:\n",
    "            GSR = GridSearchReduction(prot_attr=['SEX_Female','SEX_Male'], estimator=LogisticRegression(solver='liblinear'), constraints = const)\n",
    "            GSR.fit(X_train, y_train)\n",
    "            print(const,GSR.score(X_test, y_test))\n",
    "            y_pred_gsr = GSR.predict(X_test)\n",
    "            writejson(path,y_pred_gsr,'gsr_pred_'+const+'.json')\n",
    "    except:\n",
    "        traceback.print_exc()\n",
    "\n",
    "\n",
    "\n",
    "    X_train_temp = X_train.set_index(['SEX_Male'], drop = False)\n",
    "    y_train_temp = y_train.copy()\n",
    "    y_train_temp.index = X_train_temp.index\n",
    "\n",
    "    X_test_temp = X_test.set_index(['SEX_Male'], drop = False)\n",
    "    y_test_temp = y_test.copy()\n",
    "    y_test_temp.index = X_test_temp.index\n",
    "\n",
    "    #### Cal. Eq.Odds (Postproc.)\n",
    "\n",
    "    try:\n",
    "        consts = ['weighted']#['fnr','fpr','weighted']\n",
    "        for const in consts:\n",
    "            cal_eq_odds = CalibratedEqualizedOdds(prot_attr='SEX_Male', cost_constraint=const)\n",
    "            postproc = PostProcessingMeta(estimator=LogisticRegression(solver='liblinear'), postprocessor=cal_eq_odds)\n",
    "            postproc.fit(X_train_temp, y_train_temp)\n",
    "            print(accuracy_score(y_test_temp, postproc.predict(X_test_temp)))\n",
    "            y_pred_caleq = postproc.predict(X_test_temp)\n",
    "            writejson(path,y_pred_caleq,'caleq_pred_'+const+'.json')\n",
    "    except:\n",
    "        traceback.print_exc()\n",
    "\n",
    "    #### RejectOptionClassifier (Postproc.)\n",
    "\n",
    "    try:\n",
    "        consts = ['average_odds']#['statistical_parity', 'average_odds', 'equal_opportunity']\n",
    "        for const in consts:\n",
    "            rocv = PostProcessingMeta(LogisticRegression(solver='liblinear'), RejectOptionClassifierCV('SEX_Male', scoring=const))\n",
    "            rocv.fit(X_train_temp, y_train_temp)\n",
    "            print(accuracy_score(y_test_temp, rocv.predict(X_test_temp)))\n",
    "            y_pred_rocv = rocv.predict(X_test_temp)\n",
    "            writejson(path,y_pred_rocv,'rocv_pred_'+const+'.json')\n",
    "    except:\n",
    "        traceback.print_exc()  \n",
    "    \n",
    "    return path,\"Done\"\n"
   ]
  },
  {
   "cell_type": "code",
   "execution_count": 7,
   "metadata": {},
   "outputs": [],
   "source": [
    "# task(path)"
   ]
  },
  {
   "cell_type": "code",
   "execution_count": null,
   "metadata": {},
   "outputs": [
    {
     "name": "stdout",
     "output_type": "stream",
     "text": [
      "data/datasets/publiccov_ny/\n"
     ]
    },
    {
     "name": "stderr",
     "output_type": "stream",
     "text": [
      "2023-02-15 16:04:47.009927: I tensorflow/core/platform/cpu_feature_guard.cc:193] This TensorFlow binary is optimized with oneAPI Deep Neural Network Library (oneDNN) to use the following CPU instructions in performance-critical operations:  AVX2 AVX512F AVX512_VNNI FMA\n",
      "To enable them in other operations, rebuild TensorFlow with the appropriate compiler flags.\n",
      "2023-02-15 16:04:48.507581: I tensorflow/core/common_runtime/gpu/gpu_device.cc:1613] Created device /job:localhost/replica:0/task:0/device:GPU:0 with 46704 MB memory:  -> device: 0, name: NVIDIA RTX A6000, pci bus id: 0000:b1:00.0, compute capability: 8.6\n",
      "2023-02-15 16:04:48.508274: I tensorflow/core/common_runtime/gpu/gpu_device.cc:1613] Created device /job:localhost/replica:0/task:0/device:GPU:1 with 46704 MB memory:  -> device: 1, name: NVIDIA RTX A6000, pci bus id: 0000:d9:00.0, compute capability: 8.6\n",
      "2023-02-15 16:04:49.002120: I tensorflow/compiler/mlir/mlir_graph_optimization_pass.cc:357] MLIR V1 optimization pass is not enabled\n",
      "2023-02-15 16:04:51.424799: I tensorflow/compiler/xla/stream_executor/cuda/cuda_blas.cc:630] TensorFloat-32 will be used for the matrix multiplication. This will only be logged once.\n"
     ]
    },
    {
     "name": "stdout",
     "output_type": "stream",
     "text": [
      "EqualizedOdds 0.6900074019245004\n",
      "EqualizedOdds 0.6947446336047373\n",
      "EqualizedOdds 0.6945965951147298\n",
      "0.6934122871946706\n",
      "0.6888971132494448\n",
      "data/datasets/publiccov_ny/synthetic/gender_flip_labels0.1_version1/\n"
     ]
    },
    {
     "name": "stderr",
     "output_type": "stream",
     "text": [
      "2023-02-15 16:11:16.003455: I tensorflow/core/common_runtime/gpu/gpu_device.cc:1613] Created device /job:localhost/replica:0/task:0/device:GPU:0 with 46704 MB memory:  -> device: 0, name: NVIDIA RTX A6000, pci bus id: 0000:b1:00.0, compute capability: 8.6\n",
      "2023-02-15 16:11:16.003759: I tensorflow/core/common_runtime/gpu/gpu_device.cc:1613] Created device /job:localhost/replica:0/task:0/device:GPU:1 with 46704 MB memory:  -> device: 1, name: NVIDIA RTX A6000, pci bus id: 0000:d9:00.0, compute capability: 8.6\n"
     ]
    },
    {
     "name": "stdout",
     "output_type": "stream",
     "text": [
      "EqualizedOdds 0.6924500370096225\n",
      "EqualizedOdds 0.6910436713545521\n",
      "0.691339748334567\n",
      "0.6901554404145078\n",
      "data/datasets/publiccov_ny/synthetic/gender_flip_labels0.1_version2/\n"
     ]
    },
    {
     "name": "stderr",
     "output_type": "stream",
     "text": [
      "2023-02-15 16:14:25.471642: I tensorflow/core/common_runtime/gpu/gpu_device.cc:1613] Created device /job:localhost/replica:0/task:0/device:GPU:0 with 46704 MB memory:  -> device: 0, name: NVIDIA RTX A6000, pci bus id: 0000:b1:00.0, compute capability: 8.6\n",
      "2023-02-15 16:14:25.476825: I tensorflow/core/common_runtime/gpu/gpu_device.cc:1613] Created device /job:localhost/replica:0/task:0/device:GPU:1 with 46704 MB memory:  -> device: 1, name: NVIDIA RTX A6000, pci bus id: 0000:d9:00.0, compute capability: 8.6\n"
     ]
    },
    {
     "name": "stdout",
     "output_type": "stream",
     "text": [
      "EqualizedOdds 0.6980014803849001\n",
      "EqualizedOdds 0.6945965951147298\n",
      "0.692079940784604\n",
      "0.6899333826794967\n",
      "data/datasets/publiccov_ny/synthetic/gender_flip_labels0.1_version3/\n"
     ]
    },
    {
     "name": "stderr",
     "output_type": "stream",
     "text": [
      "2023-02-15 16:17:38.990077: I tensorflow/core/common_runtime/gpu/gpu_device.cc:1613] Created device /job:localhost/replica:0/task:0/device:GPU:0 with 46704 MB memory:  -> device: 0, name: NVIDIA RTX A6000, pci bus id: 0000:b1:00.0, compute capability: 8.6\n",
      "2023-02-15 16:17:38.991704: I tensorflow/core/common_runtime/gpu/gpu_device.cc:1613] Created device /job:localhost/replica:0/task:0/device:GPU:1 with 46704 MB memory:  -> device: 1, name: NVIDIA RTX A6000, pci bus id: 0000:d9:00.0, compute capability: 8.6\n"
     ]
    },
    {
     "name": "stdout",
     "output_type": "stream",
     "text": [
      "EqualizedOdds 0.7057735011102887\n",
      "EqualizedOdds 0.6983715766099186\n",
      "0.6974093264248704\n",
      "0.6936343449296817\n",
      "data/datasets/publiccov_ny/synthetic/gender_flip_labels0.1_version4/\n"
     ]
    },
    {
     "name": "stderr",
     "output_type": "stream",
     "text": [
      "2023-02-15 16:20:55.474528: I tensorflow/core/common_runtime/gpu/gpu_device.cc:1613] Created device /job:localhost/replica:0/task:0/device:GPU:0 with 46704 MB memory:  -> device: 0, name: NVIDIA RTX A6000, pci bus id: 0000:b1:00.0, compute capability: 8.6\n",
      "2023-02-15 16:20:55.474960: I tensorflow/core/common_runtime/gpu/gpu_device.cc:1613] Created device /job:localhost/replica:0/task:0/device:GPU:1 with 46704 MB memory:  -> device: 1, name: NVIDIA RTX A6000, pci bus id: 0000:d9:00.0, compute capability: 8.6\n"
     ]
    },
    {
     "name": "stdout",
     "output_type": "stream",
     "text": [
      "EqualizedOdds 0.6982235381199112\n",
      "EqualizedOdds 0.6953367875647668\n",
      "0.6945965951147298\n",
      "0.689859363434493\n",
      "data/datasets/publiccov_ny/synthetic/gender_flip_labels0.1_version5/\n"
     ]
    },
    {
     "name": "stderr",
     "output_type": "stream",
     "text": [
      "2023-02-15 16:23:49.251058: I tensorflow/core/common_runtime/gpu/gpu_device.cc:1613] Created device /job:localhost/replica:0/task:0/device:GPU:0 with 46704 MB memory:  -> device: 0, name: NVIDIA RTX A6000, pci bus id: 0000:b1:00.0, compute capability: 8.6\n",
      "2023-02-15 16:23:49.253450: I tensorflow/core/common_runtime/gpu/gpu_device.cc:1613] Created device /job:localhost/replica:0/task:0/device:GPU:1 with 46704 MB memory:  -> device: 1, name: NVIDIA RTX A6000, pci bus id: 0000:d9:00.0, compute capability: 8.6\n",
      "2023-02-15 16:27:01.309443: I tensorflow/core/common_runtime/gpu/gpu_device.cc:1613] Created device /job:localhost/replica:0/task:0/device:GPU:0 with 46704 MB memory:  -> device: 0, name: NVIDIA RTX A6000, pci bus id: 0000:b1:00.0, compute capability: 8.6\n",
      "2023-02-15 16:27:01.309843: I tensorflow/core/common_runtime/gpu/gpu_device.cc:1613] Created device /job:localhost/replica:0/task:0/device:GPU:1 with 46704 MB memory:  -> device: 1, name: NVIDIA RTX A6000, pci bus id: 0000:d9:00.0, compute capability: 8.6\n"
     ]
    },
    {
     "name": "stdout",
     "output_type": "stream",
     "text": [
      "EqualizedOdds 0.694818652849741\n",
      "EqualizedOdds 0.6890451517394522\n",
      "0.6879348630643968\n",
      "0.685640266469282\n",
      "data/datasets/publiccov_ny/synthetic/gender_flip_labels0.1_version7/\n"
     ]
    },
    {
     "name": "stderr",
     "output_type": "stream",
     "text": [
      "2023-02-15 16:29:56.326153: I tensorflow/core/common_runtime/gpu/gpu_device.cc:1613] Created device /job:localhost/replica:0/task:0/device:GPU:0 with 46704 MB memory:  -> device: 0, name: NVIDIA RTX A6000, pci bus id: 0000:b1:00.0, compute capability: 8.6\n",
      "2023-02-15 16:29:56.326553: I tensorflow/core/common_runtime/gpu/gpu_device.cc:1613] Created device /job:localhost/replica:0/task:0/device:GPU:1 with 46704 MB memory:  -> device: 1, name: NVIDIA RTX A6000, pci bus id: 0000:d9:00.0, compute capability: 8.6\n"
     ]
    },
    {
     "name": "stdout",
     "output_type": "stream",
     "text": [
      "EqualizedOdds 0.6994078460399704\n",
      "EqualizedOdds 0.6941524796447076\n",
      "0.6963730569948187\n",
      "0.6922279792746114\n",
      "data/datasets/publiccov_ny/synthetic/gender_flip_labels0.1_version8/\n"
     ]
    },
    {
     "name": "stderr",
     "output_type": "stream",
     "text": [
      "2023-02-15 16:32:47.653350: I tensorflow/core/common_runtime/gpu/gpu_device.cc:1613] Created device /job:localhost/replica:0/task:0/device:GPU:0 with 46704 MB memory:  -> device: 0, name: NVIDIA RTX A6000, pci bus id: 0000:b1:00.0, compute capability: 8.6\n",
      "2023-02-15 16:32:47.654149: I tensorflow/core/common_runtime/gpu/gpu_device.cc:1613] Created device /job:localhost/replica:0/task:0/device:GPU:1 with 46704 MB memory:  -> device: 1, name: NVIDIA RTX A6000, pci bus id: 0000:d9:00.0, compute capability: 8.6\n"
     ]
    },
    {
     "name": "stdout",
     "output_type": "stream",
     "text": [
      "EqualizedOdds 0.6927461139896373\n",
      "EqualizedOdds 0.691339748334567\n",
      "0.6868985936343449\n",
      "0.689119170984456\n",
      "data/datasets/publiccov_ny/synthetic/gender_flip_labels0.1_version9/\n"
     ]
    },
    {
     "name": "stderr",
     "output_type": "stream",
     "text": [
      "2023-02-15 16:35:33.824686: I tensorflow/core/common_runtime/gpu/gpu_device.cc:1613] Created device /job:localhost/replica:0/task:0/device:GPU:0 with 46704 MB memory:  -> device: 0, name: NVIDIA RTX A6000, pci bus id: 0000:b1:00.0, compute capability: 8.6\n",
      "2023-02-15 16:35:33.825457: I tensorflow/core/common_runtime/gpu/gpu_device.cc:1613] Created device /job:localhost/replica:0/task:0/device:GPU:1 with 46704 MB memory:  -> device: 1, name: NVIDIA RTX A6000, pci bus id: 0000:d9:00.0, compute capability: 8.6\n"
     ]
    },
    {
     "name": "stdout",
     "output_type": "stream",
     "text": [
      "EqualizedOdds 0.6972612879348631\n",
      "EqualizedOdds 0.6942264988897113\n",
      "0.6770540340488527\n",
      "0.6945225758697261\n",
      "data/datasets/publiccov_ny/synthetic/gender_flip_labels0.2_version0/\n"
     ]
    },
    {
     "name": "stderr",
     "output_type": "stream",
     "text": [
      "2023-02-15 16:38:58.145741: I tensorflow/core/common_runtime/gpu/gpu_device.cc:1613] Created device /job:localhost/replica:0/task:0/device:GPU:0 with 46704 MB memory:  -> device: 0, name: NVIDIA RTX A6000, pci bus id: 0000:b1:00.0, compute capability: 8.6\n",
      "2023-02-15 16:38:58.151071: I tensorflow/core/common_runtime/gpu/gpu_device.cc:1613] Created device /job:localhost/replica:0/task:0/device:GPU:1 with 46704 MB memory:  -> device: 1, name: NVIDIA RTX A6000, pci bus id: 0000:d9:00.0, compute capability: 8.6\n"
     ]
    },
    {
     "name": "stdout",
     "output_type": "stream",
     "text": [
      "EqualizedOdds 0.7026646928201332\n",
      "EqualizedOdds 0.6971132494448556\n",
      "0.6925980754996299\n",
      "0.6894892672094745\n",
      "data/datasets/publiccov_ny/synthetic/gender_flip_labels0.2_version1/\n"
     ]
    },
    {
     "name": "stderr",
     "output_type": "stream",
     "text": [
      "2023-02-15 16:42:21.346645: I tensorflow/core/common_runtime/gpu/gpu_device.cc:1613] Created device /job:localhost/replica:0/task:0/device:GPU:0 with 46704 MB memory:  -> device: 0, name: NVIDIA RTX A6000, pci bus id: 0000:b1:00.0, compute capability: 8.6\n",
      "2023-02-15 16:42:21.351288: I tensorflow/core/common_runtime/gpu/gpu_device.cc:1613] Created device /job:localhost/replica:0/task:0/device:GPU:1 with 46704 MB memory:  -> device: 1, name: NVIDIA RTX A6000, pci bus id: 0000:d9:00.0, compute capability: 8.6\n"
     ]
    },
    {
     "name": "stdout",
     "output_type": "stream",
     "text": [
      "EqualizedOdds 0.7000740192450037\n",
      "EqualizedOdds 0.698741672834937\n",
      "0.6946706143597335\n",
      "0.6927461139896373\n",
      "data/datasets/publiccov_ny/synthetic/gender_flip_labels0.2_version2/\n"
     ]
    },
    {
     "name": "stderr",
     "output_type": "stream",
     "text": [
      "2023-02-15 16:45:56.779160: I tensorflow/core/common_runtime/gpu/gpu_device.cc:1613] Created device /job:localhost/replica:0/task:0/device:GPU:0 with 46704 MB memory:  -> device: 0, name: NVIDIA RTX A6000, pci bus id: 0000:b1:00.0, compute capability: 8.6\n",
      "2023-02-15 16:45:56.780375: I tensorflow/core/common_runtime/gpu/gpu_device.cc:1613] Created device /job:localhost/replica:0/task:0/device:GPU:1 with 46704 MB memory:  -> device: 1, name: NVIDIA RTX A6000, pci bus id: 0000:d9:00.0, compute capability: 8.6\n"
     ]
    },
    {
     "name": "stdout",
     "output_type": "stream",
     "text": [
      "EqualizedOdds 0.6974093264248704\n",
      "EqualizedOdds 0.6967431532198372\n",
      "0.6927461139896373\n",
      "0.6844559585492228\n",
      "data/datasets/publiccov_ny/synthetic/gender_flip_labels0.2_version3/\n"
     ]
    },
    {
     "name": "stderr",
     "output_type": "stream",
     "text": [
      "2023-02-15 16:48:58.830793: I tensorflow/core/common_runtime/gpu/gpu_device.cc:1613] Created device /job:localhost/replica:0/task:0/device:GPU:0 with 46704 MB memory:  -> device: 0, name: NVIDIA RTX A6000, pci bus id: 0000:b1:00.0, compute capability: 8.6\n",
      "2023-02-15 16:48:58.831322: I tensorflow/core/common_runtime/gpu/gpu_device.cc:1613] Created device /job:localhost/replica:0/task:0/device:GPU:1 with 46704 MB memory:  -> device: 1, name: NVIDIA RTX A6000, pci bus id: 0000:d9:00.0, compute capability: 8.6\n"
     ]
    },
    {
     "name": "stdout",
     "output_type": "stream",
     "text": [
      "EqualizedOdds 0.6966691339748334\n",
      "EqualizedOdds 0.6938564026646928\n",
      "0.6908216136195411\n",
      "0.6910436713545521\n",
      "data/datasets/publiccov_ny/synthetic/gender_flip_labels0.2_version4/\n"
     ]
    },
    {
     "name": "stderr",
     "output_type": "stream",
     "text": [
      "2023-02-15 16:52:09.117258: I tensorflow/core/common_runtime/gpu/gpu_device.cc:1613] Created device /job:localhost/replica:0/task:0/device:GPU:0 with 46704 MB memory:  -> device: 0, name: NVIDIA RTX A6000, pci bus id: 0000:b1:00.0, compute capability: 8.6\n",
      "2023-02-15 16:52:09.117631: I tensorflow/core/common_runtime/gpu/gpu_device.cc:1613] Created device /job:localhost/replica:0/task:0/device:GPU:1 with 46704 MB memory:  -> device: 1, name: NVIDIA RTX A6000, pci bus id: 0000:d9:00.0, compute capability: 8.6\n"
     ]
    },
    {
     "name": "stdout",
     "output_type": "stream",
     "text": [
      "EqualizedOdds 0.694300518134715\n",
      "EqualizedOdds 0.689119170984456\n",
      "0.6879348630643968\n",
      "0.6900814211695041\n",
      "data/datasets/publiccov_ny/synthetic/gender_flip_labels0.2_version5/\n"
     ]
    },
    {
     "name": "stderr",
     "output_type": "stream",
     "text": [
      "2023-02-15 16:55:22.624840: I tensorflow/core/common_runtime/gpu/gpu_device.cc:1613] Created device /job:localhost/replica:0/task:0/device:GPU:0 with 46704 MB memory:  -> device: 0, name: NVIDIA RTX A6000, pci bus id: 0000:b1:00.0, compute capability: 8.6\n",
      "2023-02-15 16:55:22.625214: I tensorflow/core/common_runtime/gpu/gpu_device.cc:1613] Created device /job:localhost/replica:0/task:0/device:GPU:1 with 46704 MB memory:  -> device: 1, name: NVIDIA RTX A6000, pci bus id: 0000:d9:00.0, compute capability: 8.6\n"
     ]
    },
    {
     "name": "stdout",
     "output_type": "stream",
     "text": [
      "EqualizedOdds 0.6919319022945966\n",
      "EqualizedOdds 0.6897113249444856\n",
      "0.6882309400444115\n",
      "0.687860843819393\n",
      "data/datasets/publiccov_ny/synthetic/gender_flip_labels0.2_version6/\n"
     ]
    },
    {
     "name": "stderr",
     "output_type": "stream",
     "text": [
      "2023-02-15 16:58:32.451768: I tensorflow/core/common_runtime/gpu/gpu_device.cc:1613] Created device /job:localhost/replica:0/task:0/device:GPU:0 with 46704 MB memory:  -> device: 0, name: NVIDIA RTX A6000, pci bus id: 0000:b1:00.0, compute capability: 8.6\n",
      "2023-02-15 16:58:32.452138: I tensorflow/core/common_runtime/gpu/gpu_device.cc:1613] Created device /job:localhost/replica:0/task:0/device:GPU:1 with 46704 MB memory:  -> device: 1, name: NVIDIA RTX A6000, pci bus id: 0000:d9:00.0, compute capability: 8.6\n"
     ]
    },
    {
     "name": "stdout",
     "output_type": "stream",
     "text": [
      "EqualizedOdds 0.694300518134715\n",
      "EqualizedOdds 0.68860103626943\n",
      "0.6896373056994819\n",
      "0.6935603256846781\n",
      "data/datasets/publiccov_ny/synthetic/gender_flip_labels0.2_version7/\n"
     ]
    },
    {
     "name": "stderr",
     "output_type": "stream",
     "text": [
      "2023-02-15 17:01:34.855975: I tensorflow/core/common_runtime/gpu/gpu_device.cc:1613] Created device /job:localhost/replica:0/task:0/device:GPU:0 with 46704 MB memory:  -> device: 0, name: NVIDIA RTX A6000, pci bus id: 0000:b1:00.0, compute capability: 8.6\n",
      "2023-02-15 17:01:34.856466: I tensorflow/core/common_runtime/gpu/gpu_device.cc:1613] Created device /job:localhost/replica:0/task:0/device:GPU:1 with 46704 MB memory:  -> device: 1, name: NVIDIA RTX A6000, pci bus id: 0000:d9:00.0, compute capability: 8.6\n"
     ]
    },
    {
     "name": "stdout",
     "output_type": "stream",
     "text": [
      "EqualizedOdds 0.688378978534419\n",
      "EqualizedOdds 0.6857883049592894\n",
      "0.6876387860843819\n",
      "0.6853441894892672\n",
      "data/datasets/publiccov_ny/synthetic/gender_flip_labels0.2_version8/\n"
     ]
    },
    {
     "name": "stderr",
     "output_type": "stream",
     "text": [
      "2023-02-15 17:04:19.385441: I tensorflow/core/common_runtime/gpu/gpu_device.cc:1613] Created device /job:localhost/replica:0/task:0/device:GPU:0 with 46704 MB memory:  -> device: 0, name: NVIDIA RTX A6000, pci bus id: 0000:b1:00.0, compute capability: 8.6\n",
      "2023-02-15 17:04:19.387521: I tensorflow/core/common_runtime/gpu/gpu_device.cc:1613] Created device /job:localhost/replica:0/task:0/device:GPU:1 with 46704 MB memory:  -> device: 1, name: NVIDIA RTX A6000, pci bus id: 0000:d9:00.0, compute capability: 8.6\n"
     ]
    },
    {
     "name": "stdout",
     "output_type": "stream",
     "text": [
      "EqualizedOdds 0.6997039230199852\n",
      "EqualizedOdds 0.6952627683197632\n",
      "0.6939304219096966\n",
      "0.6912657290895633\n",
      "data/datasets/publiccov_ny/synthetic/gender_flip_labels0.2_version9/\n"
     ]
    },
    {
     "name": "stderr",
     "output_type": "stream",
     "text": [
      "2023-02-15 17:07:15.807112: I tensorflow/core/common_runtime/gpu/gpu_device.cc:1613] Created device /job:localhost/replica:0/task:0/device:GPU:0 with 46704 MB memory:  -> device: 0, name: NVIDIA RTX A6000, pci bus id: 0000:b1:00.0, compute capability: 8.6\n",
      "2023-02-15 17:07:15.807781: I tensorflow/core/common_runtime/gpu/gpu_device.cc:1613] Created device /job:localhost/replica:0/task:0/device:GPU:1 with 46704 MB memory:  -> device: 1, name: NVIDIA RTX A6000, pci bus id: 0000:d9:00.0, compute capability: 8.6\n"
     ]
    },
    {
     "name": "stdout",
     "output_type": "stream",
     "text": [
      "EqualizedOdds 0.694818652849741\n",
      "EqualizedOdds 0.694818652849741\n",
      "0.7018504811250925\n",
      "0.6975573649148779\n",
      "data/datasets/publiccov_ny/synthetic/gender_flip_labels0.3_version0/\n"
     ]
    },
    {
     "name": "stderr",
     "output_type": "stream",
     "text": [
      "2023-02-15 17:10:40.341431: I tensorflow/core/common_runtime/gpu/gpu_device.cc:1613] Created device /job:localhost/replica:0/task:0/device:GPU:0 with 46704 MB memory:  -> device: 0, name: NVIDIA RTX A6000, pci bus id: 0000:b1:00.0, compute capability: 8.6\n",
      "2023-02-15 17:10:40.342132: I tensorflow/core/common_runtime/gpu/gpu_device.cc:1613] Created device /job:localhost/replica:0/task:0/device:GPU:1 with 46704 MB memory:  -> device: 1, name: NVIDIA RTX A6000, pci bus id: 0000:d9:00.0, compute capability: 8.6\n"
     ]
    },
    {
     "name": "stdout",
     "output_type": "stream",
     "text": [
      "EqualizedOdds 0.6946706143597335\n",
      "EqualizedOdds 0.6906735751295336\n",
      "0.6936343449296817\n",
      "0.6911176905995559\n",
      "data/datasets/publiccov_ny/synthetic/gender_flip_labels0.3_version1/\n"
     ]
    },
    {
     "name": "stderr",
     "output_type": "stream",
     "text": [
      "2023-02-15 17:13:48.143631: I tensorflow/core/common_runtime/gpu/gpu_device.cc:1613] Created device /job:localhost/replica:0/task:0/device:GPU:0 with 46704 MB memory:  -> device: 0, name: NVIDIA RTX A6000, pci bus id: 0000:b1:00.0, compute capability: 8.6\n",
      "2023-02-15 17:13:48.144045: I tensorflow/core/common_runtime/gpu/gpu_device.cc:1613] Created device /job:localhost/replica:0/task:0/device:GPU:1 with 46704 MB memory:  -> device: 1, name: NVIDIA RTX A6000, pci bus id: 0000:d9:00.0, compute capability: 8.6\n"
     ]
    },
    {
     "name": "stdout",
     "output_type": "stream",
     "text": [
      "EqualizedOdds 0.6948926720947446\n",
      "EqualizedOdds 0.6915618060695781\n",
      "0.6865284974093264\n",
      "0.6930421909696521\n",
      "data/datasets/publiccov_ny/synthetic/gender_flip_labels0.3_version2/\n"
     ]
    },
    {
     "name": "stderr",
     "output_type": "stream",
     "text": [
      "2023-02-15 17:17:23.147043: I tensorflow/core/common_runtime/gpu/gpu_device.cc:1613] Created device /job:localhost/replica:0/task:0/device:GPU:0 with 46704 MB memory:  -> device: 0, name: NVIDIA RTX A6000, pci bus id: 0000:b1:00.0, compute capability: 8.6\n",
      "2023-02-15 17:17:23.153488: I tensorflow/core/common_runtime/gpu/gpu_device.cc:1613] Created device /job:localhost/replica:0/task:0/device:GPU:1 with 46704 MB memory:  -> device: 1, name: NVIDIA RTX A6000, pci bus id: 0000:d9:00.0, compute capability: 8.6\n"
     ]
    },
    {
     "name": "stdout",
     "output_type": "stream",
     "text": [
      "EqualizedOdds 0.6967431532198372\n",
      "EqualizedOdds 0.6925980754996299\n",
      "0.6874167283493708\n",
      "0.6968171724648409\n",
      "data/datasets/publiccov_ny/synthetic/gender_flip_labels0.3_version3/\n"
     ]
    },
    {
     "name": "stderr",
     "output_type": "stream",
     "text": [
      "2023-02-15 17:20:32.999344: I tensorflow/core/common_runtime/gpu/gpu_device.cc:1613] Created device /job:localhost/replica:0/task:0/device:GPU:0 with 46704 MB memory:  -> device: 0, name: NVIDIA RTX A6000, pci bus id: 0000:b1:00.0, compute capability: 8.6\n",
      "2023-02-15 17:20:32.999766: I tensorflow/core/common_runtime/gpu/gpu_device.cc:1613] Created device /job:localhost/replica:0/task:0/device:GPU:1 with 46704 MB memory:  -> device: 1, name: NVIDIA RTX A6000, pci bus id: 0000:d9:00.0, compute capability: 8.6\n"
     ]
    },
    {
     "name": "stdout",
     "output_type": "stream",
     "text": [
      "EqualizedOdds 0.6956328645447817\n",
      "EqualizedOdds 0.6956328645447817\n",
      "0.6936343449296817\n",
      "0.6975573649148779\n",
      "data/datasets/publiccov_ny/synthetic/gender_flip_labels0.3_version4/\n"
     ]
    },
    {
     "name": "stderr",
     "output_type": "stream",
     "text": [
      "2023-02-15 17:23:52.862731: I tensorflow/core/common_runtime/gpu/gpu_device.cc:1613] Created device /job:localhost/replica:0/task:0/device:GPU:0 with 46704 MB memory:  -> device: 0, name: NVIDIA RTX A6000, pci bus id: 0000:b1:00.0, compute capability: 8.6\n",
      "2023-02-15 17:23:52.863059: I tensorflow/core/common_runtime/gpu/gpu_device.cc:1613] Created device /job:localhost/replica:0/task:0/device:GPU:1 with 46704 MB memory:  -> device: 1, name: NVIDIA RTX A6000, pci bus id: 0000:d9:00.0, compute capability: 8.6\n"
     ]
    },
    {
     "name": "stdout",
     "output_type": "stream",
     "text": [
      "EqualizedOdds 0.7013323464100666\n",
      "EqualizedOdds 0.6963730569948187\n",
      "0.6985936343449297\n",
      "0.6900074019245004\n",
      "data/datasets/publiccov_ny/synthetic/gender_flip_labels0.3_version5/\n"
     ]
    },
    {
     "name": "stderr",
     "output_type": "stream",
     "text": [
      "2023-02-15 17:27:05.104448: I tensorflow/core/common_runtime/gpu/gpu_device.cc:1613] Created device /job:localhost/replica:0/task:0/device:GPU:0 with 46704 MB memory:  -> device: 0, name: NVIDIA RTX A6000, pci bus id: 0000:b1:00.0, compute capability: 8.6\n",
      "2023-02-15 17:27:05.104852: I tensorflow/core/common_runtime/gpu/gpu_device.cc:1613] Created device /job:localhost/replica:0/task:0/device:GPU:1 with 46704 MB memory:  -> device: 1, name: NVIDIA RTX A6000, pci bus id: 0000:d9:00.0, compute capability: 8.6\n"
     ]
    },
    {
     "name": "stdout",
     "output_type": "stream",
     "text": [
      "EqualizedOdds 0.7011843079200593\n",
      "EqualizedOdds 0.6958549222797927\n",
      "0.6994078460399704\n",
      "0.6984455958549223\n",
      "data/datasets/publiccov_ny/synthetic/gender_flip_labels0.3_version6/\n"
     ]
    },
    {
     "name": "stderr",
     "output_type": "stream",
     "text": [
      "2023-02-15 17:29:46.641604: I tensorflow/core/common_runtime/gpu/gpu_device.cc:1613] Created device /job:localhost/replica:0/task:0/device:GPU:0 with 46704 MB memory:  -> device: 0, name: NVIDIA RTX A6000, pci bus id: 0000:b1:00.0, compute capability: 8.6\n",
      "2023-02-15 17:29:46.642213: I tensorflow/core/common_runtime/gpu/gpu_device.cc:1613] Created device /job:localhost/replica:0/task:0/device:GPU:1 with 46704 MB memory:  -> device: 1, name: NVIDIA RTX A6000, pci bus id: 0000:d9:00.0, compute capability: 8.6\n"
     ]
    },
    {
     "name": "stdout",
     "output_type": "stream",
     "text": [
      "EqualizedOdds 0.695040710584752\n",
      "EqualizedOdds 0.695780903034789\n",
      "0.6938564026646928\n",
      "0.6820873427091043\n",
      "data/datasets/publiccov_ny/synthetic/gender_flip_labels0.3_version7/\n"
     ]
    },
    {
     "name": "stderr",
     "output_type": "stream",
     "text": [
      "2023-02-15 17:33:38.465510: I tensorflow/core/common_runtime/gpu/gpu_device.cc:1613] Created device /job:localhost/replica:0/task:0/device:GPU:0 with 46704 MB memory:  -> device: 0, name: NVIDIA RTX A6000, pci bus id: 0000:b1:00.0, compute capability: 8.6\n",
      "2023-02-15 17:33:38.466469: I tensorflow/core/common_runtime/gpu/gpu_device.cc:1613] Created device /job:localhost/replica:0/task:0/device:GPU:1 with 46704 MB memory:  -> device: 1, name: NVIDIA RTX A6000, pci bus id: 0000:d9:00.0, compute capability: 8.6\n"
     ]
    },
    {
     "name": "stdout",
     "output_type": "stream",
     "text": [
      "EqualizedOdds 0.6961509992598075\n",
      "EqualizedOdds 0.6963730569948187\n",
      "0.6962990377498149\n",
      "0.6906735751295336\n",
      "data/datasets/publiccov_ny/synthetic/gender_flip_labels0.3_version8/\n"
     ]
    },
    {
     "name": "stderr",
     "output_type": "stream",
     "text": [
      "2023-02-15 17:36:52.260290: I tensorflow/core/common_runtime/gpu/gpu_device.cc:1613] Created device /job:localhost/replica:0/task:0/device:GPU:0 with 46704 MB memory:  -> device: 0, name: NVIDIA RTX A6000, pci bus id: 0000:b1:00.0, compute capability: 8.6\n",
      "2023-02-15 17:36:52.261024: I tensorflow/core/common_runtime/gpu/gpu_device.cc:1613] Created device /job:localhost/replica:0/task:0/device:GPU:1 with 46704 MB memory:  -> device: 1, name: NVIDIA RTX A6000, pci bus id: 0000:d9:00.0, compute capability: 8.6\n"
     ]
    },
    {
     "name": "stdout",
     "output_type": "stream",
     "text": [
      "EqualizedOdds 0.6985936343449297\n",
      "EqualizedOdds 0.6937083641746854\n",
      "0.6931162102146559\n",
      "0.6926720947446336\n",
      "data/datasets/publiccov_ny/synthetic/gender_flip_labels0.3_version9/\n"
     ]
    },
    {
     "name": "stderr",
     "output_type": "stream",
     "text": [
      "2023-02-15 17:40:15.186720: I tensorflow/core/common_runtime/gpu/gpu_device.cc:1613] Created device /job:localhost/replica:0/task:0/device:GPU:0 with 46704 MB memory:  -> device: 0, name: NVIDIA RTX A6000, pci bus id: 0000:b1:00.0, compute capability: 8.6\n",
      "2023-02-15 17:40:15.187147: I tensorflow/core/common_runtime/gpu/gpu_device.cc:1613] Created device /job:localhost/replica:0/task:0/device:GPU:1 with 46704 MB memory:  -> device: 1, name: NVIDIA RTX A6000, pci bus id: 0000:d9:00.0, compute capability: 8.6\n"
     ]
    },
    {
     "name": "stdout",
     "output_type": "stream",
     "text": [
      "EqualizedOdds 0.6940044411547002\n",
      "EqualizedOdds 0.6937083641746854\n",
      "0.6825314581791265\n",
      "0.6829015544041451\n",
      "data/datasets/publiccov_ny/synthetic/gender_flip_labels0.4_version0/\n"
     ]
    },
    {
     "name": "stderr",
     "output_type": "stream",
     "text": [
      "2023-02-15 17:43:51.277635: I tensorflow/core/common_runtime/gpu/gpu_device.cc:1613] Created device /job:localhost/replica:0/task:0/device:GPU:0 with 46704 MB memory:  -> device: 0, name: NVIDIA RTX A6000, pci bus id: 0000:b1:00.0, compute capability: 8.6\n",
      "2023-02-15 17:43:51.278633: I tensorflow/core/common_runtime/gpu/gpu_device.cc:1613] Created device /job:localhost/replica:0/task:0/device:GPU:1 with 46704 MB memory:  -> device: 1, name: NVIDIA RTX A6000, pci bus id: 0000:d9:00.0, compute capability: 8.6\n"
     ]
    },
    {
     "name": "stdout",
     "output_type": "stream",
     "text": [
      "EqualizedOdds 0.7011843079200593\n",
      "EqualizedOdds 0.7006661732050333\n",
      "0.6983715766099186\n",
      "0.6960029607698002\n",
      "data/datasets/publiccov_ny/synthetic/gender_flip_labels0.4_version1/\n",
      "EqualizedOdds 0.6965951147298297\n",
      "0.6939304219096966\n",
      "0.6766839378238342\n",
      "data/datasets/publiccov_ny/synthetic/gender_flip_labels0.6_version8/\n"
     ]
    },
    {
     "name": "stderr",
     "output_type": "stream",
     "text": [
      "2023-02-15 19:21:58.482873: I tensorflow/core/common_runtime/gpu/gpu_device.cc:1613] Created device /job:localhost/replica:0/task:0/device:GPU:0 with 46704 MB memory:  -> device: 0, name: NVIDIA RTX A6000, pci bus id: 0000:b1:00.0, compute capability: 8.6\n",
      "2023-02-15 19:21:58.483632: I tensorflow/core/common_runtime/gpu/gpu_device.cc:1613] Created device /job:localhost/replica:0/task:0/device:GPU:1 with 46704 MB memory:  -> device: 1, name: NVIDIA RTX A6000, pci bus id: 0000:d9:00.0, compute capability: 8.6\n"
     ]
    },
    {
     "name": "stdout",
     "output_type": "stream",
     "text": [
      "EqualizedOdds 0.6984455958549223\n",
      "EqualizedOdds 0.6934122871946706\n",
      "0.6888971132494448\n",
      "0.685418208734271\n",
      "data/datasets/publiccov_ny/synthetic/gender_flip_labels0.6_version9/\n"
     ]
    },
    {
     "name": "stderr",
     "output_type": "stream",
     "text": [
      "2023-02-15 19:25:34.343501: I tensorflow/core/common_runtime/gpu/gpu_device.cc:1613] Created device /job:localhost/replica:0/task:0/device:GPU:0 with 46704 MB memory:  -> device: 0, name: NVIDIA RTX A6000, pci bus id: 0000:b1:00.0, compute capability: 8.6\n",
      "2023-02-15 19:25:34.343870: I tensorflow/core/common_runtime/gpu/gpu_device.cc:1613] Created device /job:localhost/replica:0/task:0/device:GPU:1 with 46704 MB memory:  -> device: 1, name: NVIDIA RTX A6000, pci bus id: 0000:d9:00.0, compute capability: 8.6\n"
     ]
    },
    {
     "name": "stdout",
     "output_type": "stream",
     "text": [
      "EqualizedOdds 0.6940044411547002\n",
      "EqualizedOdds 0.6956328645447817\n",
      "0.6941524796447076\n",
      "0.686380458919319\n",
      "data/datasets/publiccov_ny/synthetic/gender_flip_labels0.7_version0/\n"
     ]
    },
    {
     "name": "stderr",
     "output_type": "stream",
     "text": [
      "2023-02-15 19:29:02.289430: I tensorflow/core/common_runtime/gpu/gpu_device.cc:1613] Created device /job:localhost/replica:0/task:0/device:GPU:0 with 46704 MB memory:  -> device: 0, name: NVIDIA RTX A6000, pci bus id: 0000:b1:00.0, compute capability: 8.6\n",
      "2023-02-15 19:29:02.289750: I tensorflow/core/common_runtime/gpu/gpu_device.cc:1613] Created device /job:localhost/replica:0/task:0/device:GPU:1 with 46704 MB memory:  -> device: 1, name: NVIDIA RTX A6000, pci bus id: 0000:d9:00.0, compute capability: 8.6\n"
     ]
    },
    {
     "name": "stdout",
     "output_type": "stream",
     "text": [
      "EqualizedOdds 0.6925980754996299\n",
      "EqualizedOdds 0.6901554404145078\n",
      "0.6925980754996299\n",
      "0.6832716506291636\n",
      "data/datasets/publiccov_ny/synthetic/gender_flip_labels0.7_version1/\n"
     ]
    },
    {
     "name": "stderr",
     "output_type": "stream",
     "text": [
      "2023-02-15 19:32:24.021856: I tensorflow/core/common_runtime/gpu/gpu_device.cc:1613] Created device /job:localhost/replica:0/task:0/device:GPU:0 with 46704 MB memory:  -> device: 0, name: NVIDIA RTX A6000, pci bus id: 0000:b1:00.0, compute capability: 8.6\n",
      "2023-02-15 19:32:24.022196: I tensorflow/core/common_runtime/gpu/gpu_device.cc:1613] Created device /job:localhost/replica:0/task:0/device:GPU:1 with 46704 MB memory:  -> device: 1, name: NVIDIA RTX A6000, pci bus id: 0000:d9:00.0, compute capability: 8.6\n"
     ]
    },
    {
     "name": "stdout",
     "output_type": "stream",
     "text": [
      "EqualizedOdds 0.691857883049593\n",
      "EqualizedOdds 0.6921539600296077\n",
      "0.681939304219097\n",
      "0.6829015544041451\n",
      "data/datasets/publiccov_ny/synthetic/gender_flip_labels0.7_version2/\n"
     ]
    },
    {
     "name": "stderr",
     "output_type": "stream",
     "text": [
      "2023-02-15 19:36:03.142611: I tensorflow/core/common_runtime/gpu/gpu_device.cc:1613] Created device /job:localhost/replica:0/task:0/device:GPU:0 with 46704 MB memory:  -> device: 0, name: NVIDIA RTX A6000, pci bus id: 0000:b1:00.0, compute capability: 8.6\n",
      "2023-02-15 19:36:03.142969: I tensorflow/core/common_runtime/gpu/gpu_device.cc:1613] Created device /job:localhost/replica:0/task:0/device:GPU:1 with 46704 MB memory:  -> device: 1, name: NVIDIA RTX A6000, pci bus id: 0000:d9:00.0, compute capability: 8.6\n"
     ]
    },
    {
     "name": "stdout",
     "output_type": "stream",
     "text": [
      "EqualizedOdds 0.6969652109548483\n",
      "EqualizedOdds 0.68860103626943\n",
      "0.6773501110288676\n",
      "0.682679496669134\n",
      "data/datasets/publiccov_ny/synthetic/gender_flip_labels0.7_version4/\n"
     ]
    },
    {
     "name": "stderr",
     "output_type": "stream",
     "text": [
      "2023-02-15 19:43:05.176727: I tensorflow/core/common_runtime/gpu/gpu_device.cc:1613] Created device /job:localhost/replica:0/task:0/device:GPU:0 with 46704 MB memory:  -> device: 0, name: NVIDIA RTX A6000, pci bus id: 0000:b1:00.0, compute capability: 8.6\n",
      "2023-02-15 19:43:05.177402: I tensorflow/core/common_runtime/gpu/gpu_device.cc:1613] Created device /job:localhost/replica:0/task:0/device:GPU:1 with 46704 MB memory:  -> device: 1, name: NVIDIA RTX A6000, pci bus id: 0000:d9:00.0, compute capability: 8.6\n"
     ]
    },
    {
     "name": "stdout",
     "output_type": "stream",
     "text": [
      "EqualizedOdds 0.6880088823094005\n",
      "EqualizedOdds 0.689341228719467\n",
      "0.6903774981495189\n",
      "0.6706143597335307\n",
      "data/datasets/publiccov_ny/synthetic/gender_flip_labels0.7_version5/\n"
     ]
    },
    {
     "name": "stderr",
     "output_type": "stream",
     "text": [
      "2023-02-15 19:46:54.194772: I tensorflow/core/common_runtime/gpu/gpu_device.cc:1613] Created device /job:localhost/replica:0/task:0/device:GPU:0 with 46704 MB memory:  -> device: 0, name: NVIDIA RTX A6000, pci bus id: 0000:b1:00.0, compute capability: 8.6\n",
      "2023-02-15 19:46:54.195132: I tensorflow/core/common_runtime/gpu/gpu_device.cc:1613] Created device /job:localhost/replica:0/task:0/device:GPU:1 with 46704 MB memory:  -> device: 1, name: NVIDIA RTX A6000, pci bus id: 0000:d9:00.0, compute capability: 8.6\n"
     ]
    },
    {
     "name": "stdout",
     "output_type": "stream",
     "text": [
      "EqualizedOdds 0.6939304219096966\n",
      "EqualizedOdds 0.6932642487046632\n",
      "0.6958549222797927\n",
      "0.6782383419689119\n",
      "data/datasets/publiccov_ny/synthetic/gender_flip_labels0.7_version6/\n"
     ]
    },
    {
     "name": "stderr",
     "output_type": "stream",
     "text": [
      "2023-02-15 19:50:34.342689: I tensorflow/core/common_runtime/gpu/gpu_device.cc:1613] Created device /job:localhost/replica:0/task:0/device:GPU:0 with 46704 MB memory:  -> device: 0, name: NVIDIA RTX A6000, pci bus id: 0000:b1:00.0, compute capability: 8.6\n",
      "2023-02-15 19:50:34.348207: I tensorflow/core/common_runtime/gpu/gpu_device.cc:1613] Created device /job:localhost/replica:0/task:0/device:GPU:1 with 46704 MB memory:  -> device: 1, name: NVIDIA RTX A6000, pci bus id: 0000:d9:00.0, compute capability: 8.6\n"
     ]
    },
    {
     "name": "stdout",
     "output_type": "stream",
     "text": [
      "EqualizedOdds 0.6954108068097705\n",
      "EqualizedOdds 0.6954108068097705\n",
      "0.6920059215396003\n",
      "0.686380458919319\n",
      "data/datasets/publiccov_ny/synthetic/gender_flip_labels0.7_version7/\n"
     ]
    },
    {
     "name": "stderr",
     "output_type": "stream",
     "text": [
      "2023-02-15 19:54:09.522039: I tensorflow/core/common_runtime/gpu/gpu_device.cc:1613] Created device /job:localhost/replica:0/task:0/device:GPU:0 with 46704 MB memory:  -> device: 0, name: NVIDIA RTX A6000, pci bus id: 0000:b1:00.0, compute capability: 8.6\n",
      "2023-02-15 19:54:09.522762: I tensorflow/core/common_runtime/gpu/gpu_device.cc:1613] Created device /job:localhost/replica:0/task:0/device:GPU:1 with 46704 MB memory:  -> device: 1, name: NVIDIA RTX A6000, pci bus id: 0000:d9:00.0, compute capability: 8.6\n"
     ]
    },
    {
     "name": "stdout",
     "output_type": "stream",
     "text": [
      "EqualizedOdds 0.6908216136195411\n",
      "EqualizedOdds 0.6904515173945226\n",
      "0.6846039970392302\n",
      "0.6720947446336047\n",
      "data/datasets/publiccov_ny/synthetic/gender_flip_labels0.7_version8/\n"
     ]
    },
    {
     "name": "stderr",
     "output_type": "stream",
     "text": [
      "2023-02-15 19:58:06.849222: I tensorflow/core/common_runtime/gpu/gpu_device.cc:1613] Created device /job:localhost/replica:0/task:0/device:GPU:0 with 46704 MB memory:  -> device: 0, name: NVIDIA RTX A6000, pci bus id: 0000:b1:00.0, compute capability: 8.6\n",
      "2023-02-15 19:58:06.853235: I tensorflow/core/common_runtime/gpu/gpu_device.cc:1613] Created device /job:localhost/replica:0/task:0/device:GPU:1 with 46704 MB memory:  -> device: 1, name: NVIDIA RTX A6000, pci bus id: 0000:d9:00.0, compute capability: 8.6\n"
     ]
    },
    {
     "name": "stdout",
     "output_type": "stream",
     "text": [
      "EqualizedOdds 0.6921539600296077\n",
      "EqualizedOdds 0.6920059215396003\n",
      "0.6860103626943005\n",
      "0.6849740932642487\n",
      "data/datasets/publiccov_ny/synthetic/gender_flip_labels0.7_version9/\n"
     ]
    },
    {
     "name": "stderr",
     "output_type": "stream",
     "text": [
      "2023-02-15 20:01:52.758475: I tensorflow/core/common_runtime/gpu/gpu_device.cc:1613] Created device /job:localhost/replica:0/task:0/device:GPU:0 with 46704 MB memory:  -> device: 0, name: NVIDIA RTX A6000, pci bus id: 0000:b1:00.0, compute capability: 8.6\n",
      "2023-02-15 20:01:52.763126: I tensorflow/core/common_runtime/gpu/gpu_device.cc:1613] Created device /job:localhost/replica:0/task:0/device:GPU:1 with 46704 MB memory:  -> device: 1, name: NVIDIA RTX A6000, pci bus id: 0000:d9:00.0, compute capability: 8.6\n"
     ]
    },
    {
     "name": "stdout",
     "output_type": "stream",
     "text": [
      "EqualizedOdds 0.6876387860843819\n",
      "EqualizedOdds 0.6861584011843079\n",
      "0.6843079200592154\n",
      "0.6789045151739452\n",
      "data/datasets/publiccov_ny/synthetic/gender_flip_labels0.8_version0/\n"
     ]
    },
    {
     "name": "stderr",
     "output_type": "stream",
     "text": [
      "2023-02-15 20:05:41.862194: I tensorflow/core/common_runtime/gpu/gpu_device.cc:1613] Created device /job:localhost/replica:0/task:0/device:GPU:0 with 46704 MB memory:  -> device: 0, name: NVIDIA RTX A6000, pci bus id: 0000:b1:00.0, compute capability: 8.6\n",
      "2023-02-15 20:05:41.867254: I tensorflow/core/common_runtime/gpu/gpu_device.cc:1613] Created device /job:localhost/replica:0/task:0/device:GPU:1 with 46704 MB memory:  -> device: 1, name: NVIDIA RTX A6000, pci bus id: 0000:d9:00.0, compute capability: 8.6\n"
     ]
    },
    {
     "name": "stdout",
     "output_type": "stream",
     "text": [
      "EqualizedOdds 0.6997039230199852\n",
      "EqualizedOdds 0.6984455958549223\n",
      "0.6960029607698002\n",
      "0.6794226498889712\n",
      "data/datasets/publiccov_ny/synthetic/gender_flip_labels0.8_version1/\n"
     ]
    },
    {
     "name": "stderr",
     "output_type": "stream",
     "text": [
      "2023-02-15 20:09:31.977028: I tensorflow/core/common_runtime/gpu/gpu_device.cc:1613] Created device /job:localhost/replica:0/task:0/device:GPU:0 with 46704 MB memory:  -> device: 0, name: NVIDIA RTX A6000, pci bus id: 0000:b1:00.0, compute capability: 8.6\n",
      "2023-02-15 20:09:31.977380: I tensorflow/core/common_runtime/gpu/gpu_device.cc:1613] Created device /job:localhost/replica:0/task:0/device:GPU:1 with 46704 MB memory:  -> device: 1, name: NVIDIA RTX A6000, pci bus id: 0000:d9:00.0, compute capability: 8.6\n"
     ]
    },
    {
     "name": "stdout",
     "output_type": "stream",
     "text": [
      "EqualizedOdds 0.6984455958549223\n",
      "EqualizedOdds 0.6951887490747595\n",
      "0.6940784603997039\n",
      "0.6854922279792746\n",
      "data/datasets/publiccov_ny/synthetic/gender_flip_labels0.8_version2/\n"
     ]
    },
    {
     "name": "stderr",
     "output_type": "stream",
     "text": [
      "2023-02-15 20:13:09.066655: I tensorflow/core/common_runtime/gpu/gpu_device.cc:1613] Created device /job:localhost/replica:0/task:0/device:GPU:0 with 46704 MB memory:  -> device: 0, name: NVIDIA RTX A6000, pci bus id: 0000:b1:00.0, compute capability: 8.6\n",
      "2023-02-15 20:13:09.067223: I tensorflow/core/common_runtime/gpu/gpu_device.cc:1613] Created device /job:localhost/replica:0/task:0/device:GPU:1 with 46704 MB memory:  -> device: 1, name: NVIDIA RTX A6000, pci bus id: 0000:d9:00.0, compute capability: 8.6\n"
     ]
    },
    {
     "name": "stdout",
     "output_type": "stream",
     "text": [
      "EqualizedOdds 0.6977054034048853\n",
      "EqualizedOdds 0.6975573649148779\n",
      "0.6916358253145818\n",
      "0.6866025166543301\n",
      "data/datasets/publiccov_ny/synthetic/gender_flip_labels0.8_version3/\n"
     ]
    },
    {
     "name": "stderr",
     "output_type": "stream",
     "text": [
      "2023-02-15 20:16:34.425510: I tensorflow/core/common_runtime/gpu/gpu_device.cc:1613] Created device /job:localhost/replica:0/task:0/device:GPU:0 with 46704 MB memory:  -> device: 0, name: NVIDIA RTX A6000, pci bus id: 0000:b1:00.0, compute capability: 8.6\n",
      "2023-02-15 20:16:34.425857: I tensorflow/core/common_runtime/gpu/gpu_device.cc:1613] Created device /job:localhost/replica:0/task:0/device:GPU:1 with 46704 MB memory:  -> device: 1, name: NVIDIA RTX A6000, pci bus id: 0000:d9:00.0, compute capability: 8.6\n"
     ]
    },
    {
     "name": "stdout",
     "output_type": "stream",
     "text": [
      "EqualizedOdds 0.6943745373797188\n",
      "0.6996299037749815\n",
      "0.6911176905995559\n",
      "data/datasets/publiccov_ny/synthetic/gender_flip_labels0.8_version4/\n"
     ]
    },
    {
     "name": "stderr",
     "output_type": "stream",
     "text": [
      "2023-02-15 20:19:27.969698: I tensorflow/core/common_runtime/gpu/gpu_device.cc:1613] Created device /job:localhost/replica:0/task:0/device:GPU:0 with 46704 MB memory:  -> device: 0, name: NVIDIA RTX A6000, pci bus id: 0000:b1:00.0, compute capability: 8.6\n",
      "2023-02-15 20:19:27.970350: I tensorflow/core/common_runtime/gpu/gpu_device.cc:1613] Created device /job:localhost/replica:0/task:0/device:GPU:1 with 46704 MB memory:  -> device: 1, name: NVIDIA RTX A6000, pci bus id: 0000:d9:00.0, compute capability: 8.6\n"
     ]
    },
    {
     "name": "stdout",
     "output_type": "stream",
     "text": [
      "EqualizedOdds 0.691857883049593\n",
      "EqualizedOdds 0.6890451517394522\n",
      "0.6923760177646188\n",
      "0.6797927461139897\n",
      "data/datasets/publiccov_ny/synthetic/gender_flip_labels0.8_version5/\n"
     ]
    },
    {
     "name": "stderr",
     "output_type": "stream",
     "text": [
      "2023-02-15 20:23:08.871281: I tensorflow/core/common_runtime/gpu/gpu_device.cc:1613] Created device /job:localhost/replica:0/task:0/device:GPU:0 with 46704 MB memory:  -> device: 0, name: NVIDIA RTX A6000, pci bus id: 0000:b1:00.0, compute capability: 8.6\n",
      "2023-02-15 20:23:08.871985: I tensorflow/core/common_runtime/gpu/gpu_device.cc:1613] Created device /job:localhost/replica:0/task:0/device:GPU:1 with 46704 MB memory:  -> device: 1, name: NVIDIA RTX A6000, pci bus id: 0000:d9:00.0, compute capability: 8.6\n"
     ]
    },
    {
     "name": "stdout",
     "output_type": "stream",
     "text": [
      "EqualizedOdds 0.6999259807549963\n",
      "EqualizedOdds 0.6971132494448556\n",
      "0.6997039230199852\n",
      "0.6601776461880089\n",
      "data/datasets/publiccov_ny/synthetic/gender_flip_labels0.8_version6/\n"
     ]
    },
    {
     "name": "stderr",
     "output_type": "stream",
     "text": [
      "2023-02-15 20:26:11.344989: I tensorflow/core/common_runtime/gpu/gpu_device.cc:1613] Created device /job:localhost/replica:0/task:0/device:GPU:0 with 46704 MB memory:  -> device: 0, name: NVIDIA RTX A6000, pci bus id: 0000:b1:00.0, compute capability: 8.6\n",
      "2023-02-15 20:26:11.347854: I tensorflow/core/common_runtime/gpu/gpu_device.cc:1613] Created device /job:localhost/replica:0/task:0/device:GPU:1 with 46704 MB memory:  -> device: 1, name: NVIDIA RTX A6000, pci bus id: 0000:d9:00.0, compute capability: 8.6\n"
     ]
    },
    {
     "name": "stdout",
     "output_type": "stream",
     "text": [
      "EqualizedOdds 0.6988897113249445\n",
      "EqualizedOdds 0.681939304219097\n",
      "0.6830495928941525\n",
      "0.6502590673575129\n",
      "data/datasets/publiccov_ny/synthetic/gender_flip_labels0.8_version7/\n"
     ]
    },
    {
     "name": "stderr",
     "output_type": "stream",
     "text": [
      "2023-02-15 20:29:13.250529: I tensorflow/core/common_runtime/gpu/gpu_device.cc:1613] Created device /job:localhost/replica:0/task:0/device:GPU:0 with 46704 MB memory:  -> device: 0, name: NVIDIA RTX A6000, pci bus id: 0000:b1:00.0, compute capability: 8.6\n",
      "2023-02-15 20:29:13.250918: I tensorflow/core/common_runtime/gpu/gpu_device.cc:1613] Created device /job:localhost/replica:0/task:0/device:GPU:1 with 46704 MB memory:  -> device: 1, name: NVIDIA RTX A6000, pci bus id: 0000:d9:00.0, compute capability: 8.6\n"
     ]
    },
    {
     "name": "stdout",
     "output_type": "stream",
     "text": [
      "EqualizedOdds 0.6900074019245004\n",
      "EqualizedOdds 0.6855662472242783\n",
      "0.6887490747594375\n",
      "0.6764618800888231\n",
      "data/datasets/publiccov_ny/synthetic/gender_flip_labels0.8_version8/\n"
     ]
    },
    {
     "name": "stderr",
     "output_type": "stream",
     "text": [
      "2023-02-15 20:32:19.262107: I tensorflow/core/common_runtime/gpu/gpu_device.cc:1613] Created device /job:localhost/replica:0/task:0/device:GPU:0 with 46704 MB memory:  -> device: 0, name: NVIDIA RTX A6000, pci bus id: 0000:b1:00.0, compute capability: 8.6\n",
      "2023-02-15 20:32:19.262734: I tensorflow/core/common_runtime/gpu/gpu_device.cc:1613] Created device /job:localhost/replica:0/task:0/device:GPU:1 with 46704 MB memory:  -> device: 1, name: NVIDIA RTX A6000, pci bus id: 0000:d9:00.0, compute capability: 8.6\n"
     ]
    },
    {
     "name": "stdout",
     "output_type": "stream",
     "text": [
      "EqualizedOdds 0.7006661732050333\n",
      "EqualizedOdds 0.6903034789045152\n",
      "0.6986676535899334\n",
      "0.6908216136195411\n",
      "data/datasets/publiccov_ny/synthetic/gender_flip_labels0.8_version9/\n"
     ]
    },
    {
     "name": "stderr",
     "output_type": "stream",
     "text": [
      "2023-02-15 20:35:26.556878: I tensorflow/core/common_runtime/gpu/gpu_device.cc:1613] Created device /job:localhost/replica:0/task:0/device:GPU:0 with 46704 MB memory:  -> device: 0, name: NVIDIA RTX A6000, pci bus id: 0000:b1:00.0, compute capability: 8.6\n",
      "2023-02-15 20:35:26.557238: I tensorflow/core/common_runtime/gpu/gpu_device.cc:1613] Created device /job:localhost/replica:0/task:0/device:GPU:1 with 46704 MB memory:  -> device: 1, name: NVIDIA RTX A6000, pci bus id: 0000:d9:00.0, compute capability: 8.6\n"
     ]
    },
    {
     "name": "stdout",
     "output_type": "stream",
     "text": [
      "EqualizedOdds 0.6976313841598816\n",
      "EqualizedOdds 0.6972612879348631\n",
      "0.6857883049592894\n",
      "0.6797927461139897\n",
      "data/datasets/publiccov_ny/synthetic/gender_flip_labels0.9_version0/\n"
     ]
    },
    {
     "name": "stderr",
     "output_type": "stream",
     "text": [
      "2023-02-15 20:39:23.298929: I tensorflow/core/common_runtime/gpu/gpu_device.cc:1613] Created device /job:localhost/replica:0/task:0/device:GPU:0 with 46704 MB memory:  -> device: 0, name: NVIDIA RTX A6000, pci bus id: 0000:b1:00.0, compute capability: 8.6\n",
      "2023-02-15 20:39:23.302759: I tensorflow/core/common_runtime/gpu/gpu_device.cc:1613] Created device /job:localhost/replica:0/task:0/device:GPU:1 with 46704 MB memory:  -> device: 1, name: NVIDIA RTX A6000, pci bus id: 0000:d9:00.0, compute capability: 8.6\n"
     ]
    },
    {
     "name": "stdout",
     "output_type": "stream",
     "text": [
      "EqualizedOdds 0.6948926720947446\n",
      "EqualizedOdds 0.6877868245743893\n",
      "0.6891931902294597\n",
      "0.6570688378978534\n",
      "data/datasets/publiccov_ny/synthetic/gender_flip_labels0.9_version1/\n"
     ]
    },
    {
     "name": "stderr",
     "output_type": "stream",
     "text": [
      "2023-02-15 20:42:28.325044: I tensorflow/core/common_runtime/gpu/gpu_device.cc:1613] Created device /job:localhost/replica:0/task:0/device:GPU:0 with 46704 MB memory:  -> device: 0, name: NVIDIA RTX A6000, pci bus id: 0000:b1:00.0, compute capability: 8.6\n",
      "2023-02-15 20:42:28.325385: I tensorflow/core/common_runtime/gpu/gpu_device.cc:1613] Created device /job:localhost/replica:0/task:0/device:GPU:1 with 46704 MB memory:  -> device: 1, name: NVIDIA RTX A6000, pci bus id: 0000:d9:00.0, compute capability: 8.6\n"
     ]
    },
    {
     "name": "stdout",
     "output_type": "stream",
     "text": [
      "EqualizedOdds 0.708438193930422\n",
      "EqualizedOdds 0.7045151739452258\n",
      "0.6997779422649889\n",
      "0.6846780162842339\n",
      "data/datasets/publiccov_ny/synthetic/gender_flip_labels0.9_version2/\n"
     ]
    },
    {
     "name": "stderr",
     "output_type": "stream",
     "text": [
      "2023-02-15 20:45:38.178725: I tensorflow/core/common_runtime/gpu/gpu_device.cc:1613] Created device /job:localhost/replica:0/task:0/device:GPU:0 with 46704 MB memory:  -> device: 0, name: NVIDIA RTX A6000, pci bus id: 0000:b1:00.0, compute capability: 8.6\n",
      "2023-02-15 20:45:38.179126: I tensorflow/core/common_runtime/gpu/gpu_device.cc:1613] Created device /job:localhost/replica:0/task:0/device:GPU:1 with 46704 MB memory:  -> device: 1, name: NVIDIA RTX A6000, pci bus id: 0000:d9:00.0, compute capability: 8.6\n"
     ]
    },
    {
     "name": "stdout",
     "output_type": "stream",
     "text": [
      "EqualizedOdds 0.7022945965951147\n",
      "EqualizedOdds 0.7022945965951147\n",
      "0.6979274611398963\n",
      "0.6816432272390822\n",
      "data/datasets/publiccov_ny/synthetic/gender_flip_labels0.9_version3/\n"
     ]
    },
    {
     "name": "stderr",
     "output_type": "stream",
     "text": [
      "2023-02-15 20:48:41.607903: I tensorflow/core/common_runtime/gpu/gpu_device.cc:1613] Created device /job:localhost/replica:0/task:0/device:GPU:0 with 46704 MB memory:  -> device: 0, name: NVIDIA RTX A6000, pci bus id: 0000:b1:00.0, compute capability: 8.6\n",
      "2023-02-15 20:48:41.608326: I tensorflow/core/common_runtime/gpu/gpu_device.cc:1613] Created device /job:localhost/replica:0/task:0/device:GPU:1 with 46704 MB memory:  -> device: 1, name: NVIDIA RTX A6000, pci bus id: 0000:d9:00.0, compute capability: 8.6\n"
     ]
    },
    {
     "name": "stdout",
     "output_type": "stream",
     "text": [
      "EqualizedOdds 0.7010362694300518\n",
      "EqualizedOdds 0.6983715766099186\n",
      "0.6986676535899334\n",
      "0.6521095484826055\n",
      "data/datasets/publiccov_ny/synthetic/gender_flip_labels0.9_version4/\n"
     ]
    },
    {
     "name": "stderr",
     "output_type": "stream",
     "text": [
      "2023-02-15 20:51:55.427501: I tensorflow/core/common_runtime/gpu/gpu_device.cc:1613] Created device /job:localhost/replica:0/task:0/device:GPU:0 with 46704 MB memory:  -> device: 0, name: NVIDIA RTX A6000, pci bus id: 0000:b1:00.0, compute capability: 8.6\n",
      "2023-02-15 20:51:55.427909: I tensorflow/core/common_runtime/gpu/gpu_device.cc:1613] Created device /job:localhost/replica:0/task:0/device:GPU:1 with 46704 MB memory:  -> device: 1, name: NVIDIA RTX A6000, pci bus id: 0000:d9:00.0, compute capability: 8.6\n"
     ]
    },
    {
     "name": "stdout",
     "output_type": "stream",
     "text": [
      "EqualizedOdds 0.689119170984456\n",
      "EqualizedOdds 0.691339748334567\n",
      "0.6879348630643968\n",
      "0.6827535159141377\n",
      "data/datasets/publiccov_ny/synthetic/gender_flip_labels0.9_version5/\n"
     ]
    },
    {
     "name": "stderr",
     "output_type": "stream",
     "text": [
      "2023-02-15 20:55:17.328335: I tensorflow/core/common_runtime/gpu/gpu_device.cc:1613] Created device /job:localhost/replica:0/task:0/device:GPU:0 with 46704 MB memory:  -> device: 0, name: NVIDIA RTX A6000, pci bus id: 0000:b1:00.0, compute capability: 8.6\n",
      "2023-02-15 20:55:17.328730: I tensorflow/core/common_runtime/gpu/gpu_device.cc:1613] Created device /job:localhost/replica:0/task:0/device:GPU:1 with 46704 MB memory:  -> device: 1, name: NVIDIA RTX A6000, pci bus id: 0000:d9:00.0, compute capability: 8.6\n"
     ]
    },
    {
     "name": "stdout",
     "output_type": "stream",
     "text": [
      "EqualizedOdds 0.6940784603997039\n",
      "EqualizedOdds 0.6896373056994819\n",
      "0.6868245743893412\n",
      "0.6806809770540341\n",
      "data/datasets/publiccov_ny/synthetic/gender_flip_labels0.9_version6/\n"
     ]
    },
    {
     "name": "stderr",
     "output_type": "stream",
     "text": [
      "2023-02-15 20:58:46.658823: I tensorflow/core/common_runtime/gpu/gpu_device.cc:1613] Created device /job:localhost/replica:0/task:0/device:GPU:0 with 46704 MB memory:  -> device: 0, name: NVIDIA RTX A6000, pci bus id: 0000:b1:00.0, compute capability: 8.6\n",
      "2023-02-15 20:58:46.659199: I tensorflow/core/common_runtime/gpu/gpu_device.cc:1613] Created device /job:localhost/replica:0/task:0/device:GPU:1 with 46704 MB memory:  -> device: 1, name: NVIDIA RTX A6000, pci bus id: 0000:d9:00.0, compute capability: 8.6\n"
     ]
    },
    {
     "name": "stdout",
     "output_type": "stream",
     "text": [
      "EqualizedOdds 0.698519615099926\n",
      "EqualizedOdds 0.6965951147298297\n",
      "0.6945225758697261\n",
      "0.6827535159141377\n",
      "data/datasets/publiccov_ny/synthetic/gender_flip_labels0.9_version7/\n"
     ]
    },
    {
     "name": "stderr",
     "output_type": "stream",
     "text": [
      "2023-02-15 21:02:25.475322: I tensorflow/core/common_runtime/gpu/gpu_device.cc:1613] Created device /job:localhost/replica:0/task:0/device:GPU:0 with 46704 MB memory:  -> device: 0, name: NVIDIA RTX A6000, pci bus id: 0000:b1:00.0, compute capability: 8.6\n",
      "2023-02-15 21:02:25.475762: I tensorflow/core/common_runtime/gpu/gpu_device.cc:1613] Created device /job:localhost/replica:0/task:0/device:GPU:1 with 46704 MB memory:  -> device: 1, name: NVIDIA RTX A6000, pci bus id: 0000:d9:00.0, compute capability: 8.6\n"
     ]
    },
    {
     "name": "stdout",
     "output_type": "stream",
     "text": [
      "EqualizedOdds 0.6991857883049593\n",
      "EqualizedOdds 0.6978534418948926\n",
      "0.6925240562546262\n",
      "0.6847520355292376\n",
      "data/datasets/publiccov_ny/synthetic/gender_flip_labels0.9_version8/\n"
     ]
    },
    {
     "name": "stderr",
     "output_type": "stream",
     "text": [
      "2023-02-15 21:06:15.447856: I tensorflow/core/common_runtime/gpu/gpu_device.cc:1613] Created device /job:localhost/replica:0/task:0/device:GPU:0 with 46704 MB memory:  -> device: 0, name: NVIDIA RTX A6000, pci bus id: 0000:b1:00.0, compute capability: 8.6\n",
      "2023-02-15 21:06:15.448212: I tensorflow/core/common_runtime/gpu/gpu_device.cc:1613] Created device /job:localhost/replica:0/task:0/device:GPU:1 with 46704 MB memory:  -> device: 1, name: NVIDIA RTX A6000, pci bus id: 0000:d9:00.0, compute capability: 8.6\n"
     ]
    },
    {
     "name": "stdout",
     "output_type": "stream",
     "text": [
      "EqualizedOdds 0.6952627683197632\n",
      "EqualizedOdds 0.6936343449296817\n",
      "0.6919319022945966\n",
      "0.6823094004441155\n",
      "data/datasets/publiccov_ny/synthetic/gender_flip_labels0.9_version9/\n"
     ]
    },
    {
     "name": "stderr",
     "output_type": "stream",
     "text": [
      "2023-02-15 21:09:58.982095: I tensorflow/core/common_runtime/gpu/gpu_device.cc:1613] Created device /job:localhost/replica:0/task:0/device:GPU:0 with 46704 MB memory:  -> device: 0, name: NVIDIA RTX A6000, pci bus id: 0000:b1:00.0, compute capability: 8.6\n",
      "2023-02-15 21:09:58.982758: I tensorflow/core/common_runtime/gpu/gpu_device.cc:1613] Created device /job:localhost/replica:0/task:0/device:GPU:1 with 46704 MB memory:  -> device: 1, name: NVIDIA RTX A6000, pci bus id: 0000:d9:00.0, compute capability: 8.6\n"
     ]
    },
    {
     "name": "stdout",
     "output_type": "stream",
     "text": [
      "EqualizedOdds 0.6968171724648409\n",
      "EqualizedOdds 0.6891931902294597\n",
      "0.6964470762398224\n",
      "0.6871946706143597\n",
      "data/datasets/publiccov_ny/synthetic/gender_flip_labels1.0_version0/\n"
     ]
    },
    {
     "name": "stderr",
     "output_type": "stream",
     "text": [
      "2023-02-15 21:13:00.450453: I tensorflow/core/common_runtime/gpu/gpu_device.cc:1613] Created device /job:localhost/replica:0/task:0/device:GPU:0 with 46704 MB memory:  -> device: 0, name: NVIDIA RTX A6000, pci bus id: 0000:b1:00.0, compute capability: 8.6\n",
      "2023-02-15 21:13:00.450957: I tensorflow/core/common_runtime/gpu/gpu_device.cc:1613] Created device /job:localhost/replica:0/task:0/device:GPU:1 with 46704 MB memory:  -> device: 1, name: NVIDIA RTX A6000, pci bus id: 0000:d9:00.0, compute capability: 8.6\n"
     ]
    },
    {
     "name": "stdout",
     "output_type": "stream",
     "text": [
      "EqualizedOdds 0.6956328645447817\n",
      "EqualizedOdds 0.6906735751295336\n",
      "0.67920059215396\n",
      "0.6797187268689859\n",
      "data/datasets/publiccov_ny/synthetic/gender_flip_labels1.0_version1/\n"
     ]
    },
    {
     "name": "stderr",
     "output_type": "stream",
     "text": [
      "2023-02-15 21:16:15.594899: I tensorflow/core/common_runtime/gpu/gpu_device.cc:1613] Created device /job:localhost/replica:0/task:0/device:GPU:0 with 46704 MB memory:  -> device: 0, name: NVIDIA RTX A6000, pci bus id: 0000:b1:00.0, compute capability: 8.6\n",
      "2023-02-15 21:16:15.595255: I tensorflow/core/common_runtime/gpu/gpu_device.cc:1613] Created device /job:localhost/replica:0/task:0/device:GPU:1 with 46704 MB memory:  -> device: 1, name: NVIDIA RTX A6000, pci bus id: 0000:d9:00.0, compute capability: 8.6\n"
     ]
    },
    {
     "name": "stdout",
     "output_type": "stream",
     "text": [
      "EqualizedOdds 0.6908216136195411\n",
      "EqualizedOdds 0.6882309400444115\n",
      "0.688378978534419\n",
      "0.6772760917838638\n",
      "data/datasets/publiccov_ny/synthetic/gender_flip_labels1.0_version2/\n"
     ]
    },
    {
     "name": "stderr",
     "output_type": "stream",
     "text": [
      "2023-02-15 21:19:35.304038: I tensorflow/core/common_runtime/gpu/gpu_device.cc:1613] Created device /job:localhost/replica:0/task:0/device:GPU:0 with 46704 MB memory:  -> device: 0, name: NVIDIA RTX A6000, pci bus id: 0000:b1:00.0, compute capability: 8.6\n",
      "2023-02-15 21:19:35.304383: I tensorflow/core/common_runtime/gpu/gpu_device.cc:1613] Created device /job:localhost/replica:0/task:0/device:GPU:1 with 46704 MB memory:  -> device: 1, name: NVIDIA RTX A6000, pci bus id: 0000:d9:00.0, compute capability: 8.6\n"
     ]
    },
    {
     "name": "stdout",
     "output_type": "stream",
     "text": [
      "EqualizedOdds 0.6880088823094005\n",
      "EqualizedOdds 0.6872686898593634\n",
      "0.6874167283493708\n",
      "0.6844559585492228\n",
      "data/datasets/publiccov_ny/synthetic/gender_flip_labels1.0_version3/\n"
     ]
    },
    {
     "name": "stderr",
     "output_type": "stream",
     "text": [
      "2023-02-15 21:22:32.504633: I tensorflow/core/common_runtime/gpu/gpu_device.cc:1613] Created device /job:localhost/replica:0/task:0/device:GPU:0 with 46704 MB memory:  -> device: 0, name: NVIDIA RTX A6000, pci bus id: 0000:b1:00.0, compute capability: 8.6\n",
      "2023-02-15 21:22:32.505269: I tensorflow/core/common_runtime/gpu/gpu_device.cc:1613] Created device /job:localhost/replica:0/task:0/device:GPU:1 with 46704 MB memory:  -> device: 1, name: NVIDIA RTX A6000, pci bus id: 0000:d9:00.0, compute capability: 8.6\n"
     ]
    },
    {
     "name": "stdout",
     "output_type": "stream",
     "text": [
      "EqualizedOdds 0.7005181347150259\n",
      "EqualizedOdds 0.6905995558845299\n",
      "0.6954108068097705\n",
      "0.6433012583271651\n",
      "data/datasets/publiccov_ny/synthetic/gender_flip_labels1.0_version4/\n"
     ]
    },
    {
     "name": "stderr",
     "output_type": "stream",
     "text": [
      "2023-02-15 21:25:19.916452: I tensorflow/core/common_runtime/gpu/gpu_device.cc:1613] Created device /job:localhost/replica:0/task:0/device:GPU:0 with 46704 MB memory:  -> device: 0, name: NVIDIA RTX A6000, pci bus id: 0000:b1:00.0, compute capability: 8.6\n",
      "2023-02-15 21:25:19.916865: I tensorflow/core/common_runtime/gpu/gpu_device.cc:1613] Created device /job:localhost/replica:0/task:0/device:GPU:1 with 46704 MB memory:  -> device: 1, name: NVIDIA RTX A6000, pci bus id: 0000:d9:00.0, compute capability: 8.6\n"
     ]
    },
    {
     "name": "stdout",
     "output_type": "stream",
     "text": [
      "EqualizedOdds 0.6911917098445596\n",
      "EqualizedOdds 0.6906735751295336\n",
      "0.6891931902294597\n",
      "0.6714285714285714\n",
      "data/datasets/publiccov_ny/synthetic/gender_flip_labels1.0_version5/\n"
     ]
    },
    {
     "name": "stderr",
     "output_type": "stream",
     "text": [
      "2023-02-15 21:28:43.530330: I tensorflow/core/common_runtime/gpu/gpu_device.cc:1613] Created device /job:localhost/replica:0/task:0/device:GPU:0 with 46704 MB memory:  -> device: 0, name: NVIDIA RTX A6000, pci bus id: 0000:b1:00.0, compute capability: 8.6\n",
      "2023-02-15 21:28:43.530750: I tensorflow/core/common_runtime/gpu/gpu_device.cc:1613] Created device /job:localhost/replica:0/task:0/device:GPU:1 with 46704 MB memory:  -> device: 1, name: NVIDIA RTX A6000, pci bus id: 0000:d9:00.0, compute capability: 8.6\n"
     ]
    },
    {
     "name": "stdout",
     "output_type": "stream",
     "text": [
      "EqualizedOdds 0.6982975573649148\n",
      "EqualizedOdds 0.6941524796447076\n",
      "0.6930421909696521\n",
      "0.6547742413027388\n",
      "data/datasets/publiccov_ny/synthetic/gender_flip_labels1.0_version6/\n"
     ]
    },
    {
     "name": "stderr",
     "output_type": "stream",
     "text": [
      "2023-02-15 21:31:50.816676: I tensorflow/core/common_runtime/gpu/gpu_device.cc:1613] Created device /job:localhost/replica:0/task:0/device:GPU:0 with 46704 MB memory:  -> device: 0, name: NVIDIA RTX A6000, pci bus id: 0000:b1:00.0, compute capability: 8.6\n",
      "2023-02-15 21:31:50.817080: I tensorflow/core/common_runtime/gpu/gpu_device.cc:1613] Created device /job:localhost/replica:0/task:0/device:GPU:1 with 46704 MB memory:  -> device: 1, name: NVIDIA RTX A6000, pci bus id: 0000:d9:00.0, compute capability: 8.6\n"
     ]
    },
    {
     "name": "stdout",
     "output_type": "stream",
     "text": [
      "EqualizedOdds 0.6904515173945226\n",
      "EqualizedOdds 0.6871946706143597\n",
      "0.6875647668393783\n",
      "0.655440414507772\n",
      "data/datasets/publiccov_ny/synthetic/gender_flip_labels1.0_version7/\n"
     ]
    },
    {
     "name": "stderr",
     "output_type": "stream",
     "text": [
      "2023-02-15 21:35:10.902305: I tensorflow/core/common_runtime/gpu/gpu_device.cc:1613] Created device /job:localhost/replica:0/task:0/device:GPU:0 with 46704 MB memory:  -> device: 0, name: NVIDIA RTX A6000, pci bus id: 0000:b1:00.0, compute capability: 8.6\n",
      "2023-02-15 21:35:10.902696: I tensorflow/core/common_runtime/gpu/gpu_device.cc:1613] Created device /job:localhost/replica:0/task:0/device:GPU:1 with 46704 MB memory:  -> device: 1, name: NVIDIA RTX A6000, pci bus id: 0000:d9:00.0, compute capability: 8.6\n"
     ]
    },
    {
     "name": "stdout",
     "output_type": "stream",
     "text": [
      "EqualizedOdds 0.6989637305699482\n",
      "EqualizedOdds 0.6988156920799408\n",
      "0.6954108068097705\n",
      "0.6881569207994078\n",
      "data/datasets/publiccov_ny/synthetic/gender_flip_labels1.0_version8/\n"
     ]
    },
    {
     "name": "stderr",
     "output_type": "stream",
     "text": [
      "2023-02-15 21:38:57.002948: I tensorflow/core/common_runtime/gpu/gpu_device.cc:1613] Created device /job:localhost/replica:0/task:0/device:GPU:0 with 46704 MB memory:  -> device: 0, name: NVIDIA RTX A6000, pci bus id: 0000:b1:00.0, compute capability: 8.6\n",
      "2023-02-15 21:38:57.003590: I tensorflow/core/common_runtime/gpu/gpu_device.cc:1613] Created device /job:localhost/replica:0/task:0/device:GPU:1 with 46704 MB memory:  -> device: 1, name: NVIDIA RTX A6000, pci bus id: 0000:d9:00.0, compute capability: 8.6\n"
     ]
    },
    {
     "name": "stdout",
     "output_type": "stream",
     "text": [
      "EqualizedOdds 0.695558845299778\n",
      "EqualizedOdds 0.6897113249444856\n",
      "0.6888971132494448\n",
      "0.6777942264988898\n",
      "data/datasets/publiccov_ny/synthetic/gender_flip_labels1.0_version9/\n"
     ]
    },
    {
     "name": "stderr",
     "output_type": "stream",
     "text": [
      "2023-02-15 21:42:46.946245: I tensorflow/core/common_runtime/gpu/gpu_device.cc:1613] Created device /job:localhost/replica:0/task:0/device:GPU:0 with 46704 MB memory:  -> device: 0, name: NVIDIA RTX A6000, pci bus id: 0000:b1:00.0, compute capability: 8.6\n",
      "2023-02-15 21:42:46.946653: I tensorflow/core/common_runtime/gpu/gpu_device.cc:1613] Created device /job:localhost/replica:0/task:0/device:GPU:1 with 46704 MB memory:  -> device: 1, name: NVIDIA RTX A6000, pci bus id: 0000:d9:00.0, compute capability: 8.6\n"
     ]
    },
    {
     "name": "stdout",
     "output_type": "stream",
     "text": [
      "EqualizedOdds 0.6962250185048112\n",
      "EqualizedOdds 0.6944485566247224\n",
      "0.695780903034789\n",
      "0.6684678016284233\n",
      "data/datasets/publiccov_tx/\n"
     ]
    },
    {
     "name": "stderr",
     "output_type": "stream",
     "text": [
      "2023-02-15 21:46:07.018798: I tensorflow/core/common_runtime/gpu/gpu_device.cc:1613] Created device /job:localhost/replica:0/task:0/device:GPU:0 with 46704 MB memory:  -> device: 0, name: NVIDIA RTX A6000, pci bus id: 0000:b1:00.0, compute capability: 8.6\n",
      "2023-02-15 21:46:07.019296: I tensorflow/core/common_runtime/gpu/gpu_device.cc:1613] Created device /job:localhost/replica:0/task:0/device:GPU:1 with 46704 MB memory:  -> device: 1, name: NVIDIA RTX A6000, pci bus id: 0000:d9:00.0, compute capability: 8.6\n"
     ]
    },
    {
     "name": "stdout",
     "output_type": "stream",
     "text": [
      "EqualizedOdds 0.8450419488527241\n",
      "EqualizedOdds 0.8438795107651875\n",
      "0.8381684019003336\n",
      "0.7951581926614778\n",
      "data/datasets/publiccov_tx/synthetic/gender_flip_labels0.1_version0/\n"
     ]
    },
    {
     "name": "stderr",
     "output_type": "stream",
     "text": [
      "2023-02-15 21:50:13.284026: I tensorflow/core/common_runtime/gpu/gpu_device.cc:1613] Created device /job:localhost/replica:0/task:0/device:GPU:0 with 46704 MB memory:  -> device: 0, name: NVIDIA RTX A6000, pci bus id: 0000:b1:00.0, compute capability: 8.6\n",
      "2023-02-15 21:50:13.284374: I tensorflow/core/common_runtime/gpu/gpu_device.cc:1613] Created device /job:localhost/replica:0/task:0/device:GPU:1 with 46704 MB memory:  -> device: 1, name: NVIDIA RTX A6000, pci bus id: 0000:d9:00.0, compute capability: 8.6\n"
     ]
    },
    {
     "name": "stdout",
     "output_type": "stream",
     "text": [
      "EqualizedOdds 0.8195188517133326\n",
      "0.8383705650459922\n",
      "0.8152734256545032\n",
      "data/datasets/publiccov_tx/synthetic/gender_flip_labels0.1_version1/\n"
     ]
    },
    {
     "name": "stderr",
     "output_type": "stream",
     "text": [
      "2023-02-15 21:54:23.604254: I tensorflow/core/common_runtime/gpu/gpu_device.cc:1613] Created device /job:localhost/replica:0/task:0/device:GPU:0 with 46704 MB memory:  -> device: 0, name: NVIDIA RTX A6000, pci bus id: 0000:b1:00.0, compute capability: 8.6\n",
      "2023-02-15 21:54:23.609037: I tensorflow/core/common_runtime/gpu/gpu_device.cc:1613] Created device /job:localhost/replica:0/task:0/device:GPU:1 with 46704 MB memory:  -> device: 1, name: NVIDIA RTX A6000, pci bus id: 0000:d9:00.0, compute capability: 8.6\n"
     ]
    },
    {
     "name": "stdout",
     "output_type": "stream",
     "text": [
      "EqualizedOdds 0.8412008490852118\n",
      "EqualizedOdds 0.8277569998989184\n",
      "0.8380673203275043\n",
      "0.8215910239563328\n",
      "data/datasets/publiccov_tx/synthetic/gender_flip_labels0.1_version2/\n"
     ]
    },
    {
     "name": "stderr",
     "output_type": "stream",
     "text": [
      "2023-02-15 21:58:31.535572: I tensorflow/core/common_runtime/gpu/gpu_device.cc:1613] Created device /job:localhost/replica:0/task:0/device:GPU:0 with 46704 MB memory:  -> device: 0, name: NVIDIA RTX A6000, pci bus id: 0000:b1:00.0, compute capability: 8.6\n",
      "2023-02-15 21:58:31.536356: I tensorflow/core/common_runtime/gpu/gpu_device.cc:1613] Created device /job:localhost/replica:0/task:0/device:GPU:1 with 46704 MB memory:  -> device: 1, name: NVIDIA RTX A6000, pci bus id: 0000:d9:00.0, compute capability: 8.6\n"
     ]
    },
    {
     "name": "stdout",
     "output_type": "stream",
     "text": [
      "EqualizedOdds 0.8408470635803094\n",
      "EqualizedOdds 0.8119882745375518\n",
      "0.8362478520165774\n",
      "0.810017183867381\n",
      "data/datasets/publiccov_tx/synthetic/gender_flip_labels0.1_version3/\n"
     ]
    },
    {
     "name": "stderr",
     "output_type": "stream",
     "text": [
      "2023-02-15 22:03:18.279976: I tensorflow/core/common_runtime/gpu/gpu_device.cc:1613] Created device /job:localhost/replica:0/task:0/device:GPU:0 with 46704 MB memory:  -> device: 0, name: NVIDIA RTX A6000, pci bus id: 0000:b1:00.0, compute capability: 8.6\n",
      "2023-02-15 22:03:18.280377: I tensorflow/core/common_runtime/gpu/gpu_device.cc:1613] Created device /job:localhost/replica:0/task:0/device:GPU:1 with 46704 MB memory:  -> device: 1, name: NVIDIA RTX A6000, pci bus id: 0000:d9:00.0, compute capability: 8.6\n"
     ]
    },
    {
     "name": "stdout",
     "output_type": "stream",
     "text": [
      "EqualizedOdds 0.8412513898716264\n",
      "EqualizedOdds 0.8288183564136258\n",
      "0.8353381178611139\n",
      "0.8102698877994542\n",
      "data/datasets/publiccov_tx/synthetic/gender_flip_labels0.1_version4/\n"
     ]
    },
    {
     "name": "stderr",
     "output_type": "stream",
     "text": [
      "2023-02-15 22:07:42.598595: I tensorflow/core/common_runtime/gpu/gpu_device.cc:1613] Created device /job:localhost/replica:0/task:0/device:GPU:0 with 46704 MB memory:  -> device: 0, name: NVIDIA RTX A6000, pci bus id: 0000:b1:00.0, compute capability: 8.6\n",
      "2023-02-15 22:07:42.598916: I tensorflow/core/common_runtime/gpu/gpu_device.cc:1613] Created device /job:localhost/replica:0/task:0/device:GPU:1 with 46704 MB memory:  -> device: 1, name: NVIDIA RTX A6000, pci bus id: 0000:d9:00.0, compute capability: 8.6\n"
     ]
    },
    {
     "name": "stdout",
     "output_type": "stream",
     "text": [
      "EqualizedOdds 0.8445365409885778\n",
      "EqualizedOdds 0.8417062569493581\n",
      "0.8395835439199434\n",
      "0.8275042959668453\n",
      "data/datasets/publiccov_tx/synthetic/gender_flip_labels0.1_version5/\n"
     ]
    },
    {
     "name": "stderr",
     "output_type": "stream",
     "text": [
      "2023-02-15 22:12:01.979455: I tensorflow/core/common_runtime/gpu/gpu_device.cc:1613] Created device /job:localhost/replica:0/task:0/device:GPU:0 with 46704 MB memory:  -> device: 0, name: NVIDIA RTX A6000, pci bus id: 0000:b1:00.0, compute capability: 8.6\n",
      "2023-02-15 22:12:01.979806: I tensorflow/core/common_runtime/gpu/gpu_device.cc:1613] Created device /job:localhost/replica:0/task:0/device:GPU:1 with 46704 MB memory:  -> device: 1, name: NVIDIA RTX A6000, pci bus id: 0000:d9:00.0, compute capability: 8.6\n"
     ]
    },
    {
     "name": "stdout",
     "output_type": "stream",
     "text": [
      "EqualizedOdds 0.8387243505508946\n",
      "EqualizedOdds 0.8129990902658445\n",
      "0.8398362478520166\n",
      "0.821692105529162\n",
      "data/datasets/publiccov_tx/synthetic/gender_flip_labels0.1_version6/\n"
     ]
    },
    {
     "name": "stderr",
     "output_type": "stream",
     "text": [
      "2023-02-15 22:16:54.194698: I tensorflow/core/common_runtime/gpu/gpu_device.cc:1613] Created device /job:localhost/replica:0/task:0/device:GPU:0 with 46704 MB memory:  -> device: 0, name: NVIDIA RTX A6000, pci bus id: 0000:b1:00.0, compute capability: 8.6\n",
      "2023-02-15 22:16:54.195041: I tensorflow/core/common_runtime/gpu/gpu_device.cc:1613] Created device /job:localhost/replica:0/task:0/device:GPU:1 with 46704 MB memory:  -> device: 1, name: NVIDIA RTX A6000, pci bus id: 0000:d9:00.0, compute capability: 8.6\n"
     ]
    },
    {
     "name": "stdout",
     "output_type": "stream",
     "text": [
      "EqualizedOdds 0.8458000606489438\n",
      "EqualizedOdds 0.8185585767714546\n",
      "0.8405943596482361\n",
      "0.8246740119276256\n",
      "data/datasets/publiccov_tx/synthetic/gender_flip_labels0.1_version7/\n"
     ]
    },
    {
     "name": "stderr",
     "output_type": "stream",
     "text": [
      "2023-02-15 22:21:17.411850: I tensorflow/core/common_runtime/gpu/gpu_device.cc:1613] Created device /job:localhost/replica:0/task:0/device:GPU:0 with 46704 MB memory:  -> device: 0, name: NVIDIA RTX A6000, pci bus id: 0000:b1:00.0, compute capability: 8.6\n",
      "2023-02-15 22:21:17.412204: I tensorflow/core/common_runtime/gpu/gpu_device.cc:1613] Created device /job:localhost/replica:0/task:0/device:GPU:1 with 46704 MB memory:  -> device: 1, name: NVIDIA RTX A6000, pci bus id: 0000:d9:00.0, compute capability: 8.6\n"
     ]
    },
    {
     "name": "stdout",
     "output_type": "stream",
     "text": [
      "EqualizedOdds 0.8405438188618215\n",
      "EqualizedOdds 0.8385727281916506\n",
      "0.8338218942686748\n",
      "0.7855554432426969\n",
      "data/datasets/publiccov_tx/synthetic/gender_flip_labels0.1_version8/\n"
     ]
    },
    {
     "name": "stderr",
     "output_type": "stream",
     "text": [
      "2023-02-15 22:25:23.432881: I tensorflow/core/common_runtime/gpu/gpu_device.cc:1613] Created device /job:localhost/replica:0/task:0/device:GPU:0 with 46704 MB memory:  -> device: 0, name: NVIDIA RTX A6000, pci bus id: 0000:b1:00.0, compute capability: 8.6\n",
      "2023-02-15 22:25:23.433810: I tensorflow/core/common_runtime/gpu/gpu_device.cc:1613] Created device /job:localhost/replica:0/task:0/device:GPU:1 with 46704 MB memory:  -> device: 1, name: NVIDIA RTX A6000, pci bus id: 0000:d9:00.0, compute capability: 8.6\n"
     ]
    },
    {
     "name": "stdout",
     "output_type": "stream",
     "text": [
      "EqualizedOdds 0.8372081269584555\n",
      "EqualizedOdds 0.8355402810067725\n",
      "0.8366521783078945\n",
      "0.7970282017588194\n",
      "data/datasets/publiccov_tx/synthetic/gender_flip_labels0.1_version9/\n"
     ]
    },
    {
     "name": "stderr",
     "output_type": "stream",
     "text": [
      "2023-02-15 22:29:45.483655: I tensorflow/core/common_runtime/gpu/gpu_device.cc:1613] Created device /job:localhost/replica:0/task:0/device:GPU:0 with 46704 MB memory:  -> device: 0, name: NVIDIA RTX A6000, pci bus id: 0000:b1:00.0, compute capability: 8.6\n",
      "2023-02-15 22:29:45.484205: I tensorflow/core/common_runtime/gpu/gpu_device.cc:1613] Created device /job:localhost/replica:0/task:0/device:GPU:1 with 46704 MB memory:  -> device: 1, name: NVIDIA RTX A6000, pci bus id: 0000:d9:00.0, compute capability: 8.6\n"
     ]
    },
    {
     "name": "stdout",
     "output_type": "stream",
     "text": [
      "EqualizedOdds 0.8377640756090164\n",
      "EqualizedOdds 0.8376629940361872\n",
      "0.8332659456181138\n",
      "0.7969271201859901\n",
      "data/datasets/publiccov_tx/synthetic/gender_flip_labels0.2_version0/\n"
     ]
    },
    {
     "name": "stderr",
     "output_type": "stream",
     "text": [
      "2023-02-15 22:33:52.288702: I tensorflow/core/common_runtime/gpu/gpu_device.cc:1613] Created device /job:localhost/replica:0/task:0/device:GPU:0 with 46704 MB memory:  -> device: 0, name: NVIDIA RTX A6000, pci bus id: 0000:b1:00.0, compute capability: 8.6\n",
      "2023-02-15 22:33:52.289077: I tensorflow/core/common_runtime/gpu/gpu_device.cc:1613] Created device /job:localhost/replica:0/task:0/device:GPU:1 with 46704 MB memory:  -> device: 1, name: NVIDIA RTX A6000, pci bus id: 0000:d9:00.0, compute capability: 8.6\n"
     ]
    },
    {
     "name": "stdout",
     "output_type": "stream",
     "text": [
      "EqualizedOdds 0.8415040938036996\n",
      "EqualizedOdds 0.8233094106944304\n",
      "0.8369048822399676\n",
      "0.8214394015970888\n",
      "data/datasets/publiccov_tx/synthetic/gender_flip_labels0.2_version1/\n"
     ]
    },
    {
     "name": "stderr",
     "output_type": "stream",
     "text": [
      "2023-02-15 22:38:10.461877: I tensorflow/core/common_runtime/gpu/gpu_device.cc:1613] Created device /job:localhost/replica:0/task:0/device:GPU:0 with 46704 MB memory:  -> device: 0, name: NVIDIA RTX A6000, pci bus id: 0000:b1:00.0, compute capability: 8.6\n",
      "2023-02-15 22:38:10.469377: I tensorflow/core/common_runtime/gpu/gpu_device.cc:1613] Created device /job:localhost/replica:0/task:0/device:GPU:1 with 46704 MB memory:  -> device: 1, name: NVIDIA RTX A6000, pci bus id: 0000:d9:00.0, compute capability: 8.6\n"
     ]
    },
    {
     "name": "stdout",
     "output_type": "stream",
     "text": [
      "EqualizedOdds 0.841453553017285\n",
      "EqualizedOdds 0.8422116648135045\n",
      "0.8378146163954311\n",
      "0.820175881936723\n",
      "data/datasets/publiccov_tx/synthetic/gender_flip_labels0.2_version2/\n"
     ]
    },
    {
     "name": "stderr",
     "output_type": "stream",
     "text": [
      "2023-02-15 22:42:36.182935: I tensorflow/core/common_runtime/gpu/gpu_device.cc:1613] Created device /job:localhost/replica:0/task:0/device:GPU:0 with 46704 MB memory:  -> device: 0, name: NVIDIA RTX A6000, pci bus id: 0000:b1:00.0, compute capability: 8.6\n",
      "2023-02-15 22:42:36.183272: I tensorflow/core/common_runtime/gpu/gpu_device.cc:1613] Created device /job:localhost/replica:0/task:0/device:GPU:1 with 46704 MB memory:  -> device: 1, name: NVIDIA RTX A6000, pci bus id: 0000:d9:00.0, compute capability: 8.6\n"
     ]
    },
    {
     "name": "stdout",
     "output_type": "stream",
     "text": [
      "EqualizedOdds 0.8436268068331143\n",
      "EqualizedOdds 0.8425149095319924\n",
      "0.8411503082987971\n",
      "0.8214394015970888\n",
      "data/datasets/publiccov_tx/synthetic/gender_flip_labels0.2_version3/\n"
     ]
    },
    {
     "name": "stderr",
     "output_type": "stream",
     "text": [
      "2023-02-15 22:46:55.187586: I tensorflow/core/common_runtime/gpu/gpu_device.cc:1613] Created device /job:localhost/replica:0/task:0/device:GPU:0 with 46704 MB memory:  -> device: 0, name: NVIDIA RTX A6000, pci bus id: 0000:b1:00.0, compute capability: 8.6\n",
      "2023-02-15 22:46:55.187910: I tensorflow/core/common_runtime/gpu/gpu_device.cc:1613] Created device /job:localhost/replica:0/task:0/device:GPU:1 with 46704 MB memory:  -> device: 1, name: NVIDIA RTX A6000, pci bus id: 0000:d9:00.0, compute capability: 8.6\n"
     ]
    },
    {
     "name": "stdout",
     "output_type": "stream",
     "text": [
      "EqualizedOdds 0.8384716466188213\n",
      "EqualizedOdds 0.8354897402203578\n",
      "0.8375113716769433\n",
      "0.8207823713736986\n",
      "data/datasets/publiccov_tx/synthetic/gender_flip_labels0.2_version4/\n"
     ]
    },
    {
     "name": "stderr",
     "output_type": "stream",
     "text": [
      "2023-02-15 22:51:27.304762: I tensorflow/core/common_runtime/gpu/gpu_device.cc:1613] Created device /job:localhost/replica:0/task:0/device:GPU:0 with 46704 MB memory:  -> device: 0, name: NVIDIA RTX A6000, pci bus id: 0000:b1:00.0, compute capability: 8.6\n",
      "2023-02-15 22:51:27.305096: I tensorflow/core/common_runtime/gpu/gpu_device.cc:1613] Created device /job:localhost/replica:0/task:0/device:GPU:1 with 46704 MB memory:  -> device: 1, name: NVIDIA RTX A6000, pci bus id: 0000:d9:00.0, compute capability: 8.6\n"
     ]
    },
    {
     "name": "stdout",
     "output_type": "stream",
     "text": [
      "EqualizedOdds 0.8449914080663095\n",
      "EqualizedOdds 0.8321540483169918\n",
      "0.8394824623471141\n",
      "0.8242191448498939\n",
      "data/datasets/publiccov_tx/synthetic/gender_flip_labels0.2_version5/\n"
     ]
    },
    {
     "name": "stderr",
     "output_type": "stream",
     "text": [
      "2023-02-15 22:55:45.730583: I tensorflow/core/common_runtime/gpu/gpu_device.cc:1613] Created device /job:localhost/replica:0/task:0/device:GPU:0 with 46704 MB memory:  -> device: 0, name: NVIDIA RTX A6000, pci bus id: 0000:b1:00.0, compute capability: 8.6\n",
      "2023-02-15 22:55:45.730943: I tensorflow/core/common_runtime/gpu/gpu_device.cc:1613] Created device /job:localhost/replica:0/task:0/device:GPU:1 with 46704 MB memory:  -> device: 1, name: NVIDIA RTX A6000, pci bus id: 0000:d9:00.0, compute capability: 8.6\n"
     ]
    },
    {
     "name": "stdout",
     "output_type": "stream",
     "text": [
      "EqualizedOdds 0.8416557161629435\n",
      "EqualizedOdds 0.8373092085312848\n",
      "EqualizedOdds 0.8359951480845041\n",
      "0.832406752249065\n",
      "0.8212877792378449\n",
      "data/datasets/publiccov_tx/synthetic/gender_flip_labels0.2_version7/\n"
     ]
    },
    {
     "name": "stderr",
     "output_type": "stream",
     "text": [
      "2023-02-15 23:04:15.122605: I tensorflow/core/common_runtime/gpu/gpu_device.cc:1613] Created device /job:localhost/replica:0/task:0/device:GPU:0 with 46704 MB memory:  -> device: 0, name: NVIDIA RTX A6000, pci bus id: 0000:b1:00.0, compute capability: 8.6\n",
      "2023-02-15 23:04:15.122928: I tensorflow/core/common_runtime/gpu/gpu_device.cc:1613] Created device /job:localhost/replica:0/task:0/device:GPU:1 with 46704 MB memory:  -> device: 1, name: NVIDIA RTX A6000, pci bus id: 0000:d9:00.0, compute capability: 8.6\n"
     ]
    },
    {
     "name": "stdout",
     "output_type": "stream",
     "text": [
      "EqualizedOdds 0.839785707065602\n",
      "EqualizedOdds 0.8306378247245527\n",
      "0.8367532598807238\n",
      "0.8186091175578692\n",
      "data/datasets/publiccov_tx/synthetic/gender_flip_labels0.2_version8/\n"
     ]
    },
    {
     "name": "stderr",
     "output_type": "stream",
     "text": [
      "2023-02-15 23:08:26.604400: I tensorflow/core/common_runtime/gpu/gpu_device.cc:1613] Created device /job:localhost/replica:0/task:0/device:GPU:0 with 46704 MB memory:  -> device: 0, name: NVIDIA RTX A6000, pci bus id: 0000:b1:00.0, compute capability: 8.6\n",
      "2023-02-15 23:08:26.604949: I tensorflow/core/common_runtime/gpu/gpu_device.cc:1613] Created device /job:localhost/replica:0/task:0/device:GPU:1 with 46704 MB memory:  -> device: 1, name: NVIDIA RTX A6000, pci bus id: 0000:d9:00.0, compute capability: 8.6\n"
     ]
    },
    {
     "name": "stdout",
     "output_type": "stream",
     "text": [
      "EqualizedOdds 0.8370565045992115\n",
      "EqualizedOdds 0.8291721419185283\n",
      "0.835894066511675\n",
      "0.8130496310522591\n",
      "data/datasets/publiccov_tx/synthetic/gender_flip_labels0.2_version9/\n"
     ]
    },
    {
     "name": "stderr",
     "output_type": "stream",
     "text": [
      "2023-02-15 23:12:39.894248: I tensorflow/core/common_runtime/gpu/gpu_device.cc:1613] Created device /job:localhost/replica:0/task:0/device:GPU:0 with 46704 MB memory:  -> device: 0, name: NVIDIA RTX A6000, pci bus id: 0000:b1:00.0, compute capability: 8.6\n",
      "2023-02-15 23:12:39.894853: I tensorflow/core/common_runtime/gpu/gpu_device.cc:1613] Created device /job:localhost/replica:0/task:0/device:GPU:1 with 46704 MB memory:  -> device: 1, name: NVIDIA RTX A6000, pci bus id: 0000:d9:00.0, compute capability: 8.6\n"
     ]
    },
    {
     "name": "stdout",
     "output_type": "stream",
     "text": [
      "EqualizedOdds 0.8413524714444557\n",
      "EqualizedOdds 0.8214394015970888\n",
      "0.8344283837056504\n",
      "0.8221469726068937\n",
      "data/datasets/publiccov_tx/synthetic/gender_flip_labels0.3_version0/\n"
     ]
    },
    {
     "name": "stderr",
     "output_type": "stream",
     "text": [
      "2023-02-15 23:17:00.589986: I tensorflow/core/common_runtime/gpu/gpu_device.cc:1613] Created device /job:localhost/replica:0/task:0/device:GPU:0 with 46704 MB memory:  -> device: 0, name: NVIDIA RTX A6000, pci bus id: 0000:b1:00.0, compute capability: 8.6\n",
      "2023-02-15 23:17:00.590368: I tensorflow/core/common_runtime/gpu/gpu_device.cc:1613] Created device /job:localhost/replica:0/task:0/device:GPU:1 with 46704 MB memory:  -> device: 1, name: NVIDIA RTX A6000, pci bus id: 0000:d9:00.0, compute capability: 8.6\n"
     ]
    },
    {
     "name": "stdout",
     "output_type": "stream",
     "text": [
      "EqualizedOdds 0.8407965227938947\n",
      "EqualizedOdds 0.8331143232588699\n",
      "0.8405438188618215\n",
      "0.8248761750732841\n",
      "data/datasets/publiccov_tx/synthetic/gender_flip_labels0.3_version1/\n"
     ]
    },
    {
     "name": "stderr",
     "output_type": "stream",
     "text": [
      "2023-02-15 23:21:01.965151: I tensorflow/core/common_runtime/gpu/gpu_device.cc:1613] Created device /job:localhost/replica:0/task:0/device:GPU:0 with 46704 MB memory:  -> device: 0, name: NVIDIA RTX A6000, pci bus id: 0000:b1:00.0, compute capability: 8.6\n",
      "2023-02-15 23:21:01.966370: I tensorflow/core/common_runtime/gpu/gpu_device.cc:1613] Created device /job:localhost/replica:0/task:0/device:GPU:1 with 46704 MB memory:  -> device: 1, name: NVIDIA RTX A6000, pci bus id: 0000:d9:00.0, compute capability: 8.6\n"
     ]
    },
    {
     "name": "stdout",
     "output_type": "stream",
     "text": [
      "EqualizedOdds 0.8341251389871627\n",
      "EqualizedOdds 0.8352875770746993\n",
      "0.8332659456181138\n",
      "0.8130496310522591\n",
      "data/datasets/publiccov_tx/synthetic/gender_flip_labels0.3_version2/\n"
     ]
    },
    {
     "name": "stderr",
     "output_type": "stream",
     "text": [
      "2023-02-15 23:25:12.160446: I tensorflow/core/common_runtime/gpu/gpu_device.cc:1613] Created device /job:localhost/replica:0/task:0/device:GPU:0 with 46704 MB memory:  -> device: 0, name: NVIDIA RTX A6000, pci bus id: 0000:b1:00.0, compute capability: 8.6\n",
      "2023-02-15 23:25:12.160784: I tensorflow/core/common_runtime/gpu/gpu_device.cc:1613] Created device /job:localhost/replica:0/task:0/device:GPU:1 with 46704 MB memory:  -> device: 1, name: NVIDIA RTX A6000, pci bus id: 0000:d9:00.0, compute capability: 8.6\n"
     ]
    },
    {
     "name": "stdout",
     "output_type": "stream",
     "text": [
      "EqualizedOdds 0.8377135348226018\n",
      "EqualizedOdds 0.8372081269584555\n",
      "0.8416557161629435\n",
      "0.8198726372182351\n",
      "data/datasets/publiccov_tx/synthetic/gender_flip_labels0.3_version3/\n"
     ]
    },
    {
     "name": "stderr",
     "output_type": "stream",
     "text": [
      "2023-02-15 23:29:54.274324: I tensorflow/core/common_runtime/gpu/gpu_device.cc:1613] Created device /job:localhost/replica:0/task:0/device:GPU:0 with 46704 MB memory:  -> device: 0, name: NVIDIA RTX A6000, pci bus id: 0000:b1:00.0, compute capability: 8.6\n",
      "2023-02-15 23:29:54.274976: I tensorflow/core/common_runtime/gpu/gpu_device.cc:1613] Created device /job:localhost/replica:0/task:0/device:GPU:1 with 46704 MB memory:  -> device: 1, name: NVIDIA RTX A6000, pci bus id: 0000:d9:00.0, compute capability: 8.6\n"
     ]
    },
    {
     "name": "stdout",
     "output_type": "stream",
     "text": [
      "EqualizedOdds 0.8436268068331143\n",
      "EqualizedOdds 0.8405438188618215\n",
      "0.8391792176286264\n",
      "0.8169918123926009\n",
      "data/datasets/publiccov_tx/synthetic/gender_flip_labels0.3_version4/\n"
     ]
    },
    {
     "name": "stderr",
     "output_type": "stream",
     "text": [
      "2023-02-15 23:34:19.666933: I tensorflow/core/common_runtime/gpu/gpu_device.cc:1613] Created device /job:localhost/replica:0/task:0/device:GPU:0 with 46704 MB memory:  -> device: 0, name: NVIDIA RTX A6000, pci bus id: 0000:b1:00.0, compute capability: 8.6\n",
      "2023-02-15 23:34:19.667521: I tensorflow/core/common_runtime/gpu/gpu_device.cc:1613] Created device /job:localhost/replica:0/task:0/device:GPU:1 with 46704 MB memory:  -> device: 1, name: NVIDIA RTX A6000, pci bus id: 0000:d9:00.0, compute capability: 8.6\n"
     ]
    },
    {
     "name": "stdout",
     "output_type": "stream",
     "text": [
      "EqualizedOdds 0.8477711513191145\n",
      "EqualizedOdds 0.8430203173961387\n",
      "0.8422116648135045\n",
      "0.8163853229556252\n",
      "data/datasets/publiccov_tx/synthetic/gender_flip_labels0.3_version5/\n"
     ]
    },
    {
     "name": "stderr",
     "output_type": "stream",
     "text": [
      "2023-02-15 23:38:22.173980: I tensorflow/core/common_runtime/gpu/gpu_device.cc:1613] Created device /job:localhost/replica:0/task:0/device:GPU:0 with 46704 MB memory:  -> device: 0, name: NVIDIA RTX A6000, pci bus id: 0000:b1:00.0, compute capability: 8.6\n",
      "2023-02-15 23:38:22.174330: I tensorflow/core/common_runtime/gpu/gpu_device.cc:1613] Created device /job:localhost/replica:0/task:0/device:GPU:1 with 46704 MB memory:  -> device: 1, name: NVIDIA RTX A6000, pci bus id: 0000:d9:00.0, compute capability: 8.6\n"
     ]
    },
    {
     "name": "stdout",
     "output_type": "stream",
     "text": [
      "EqualizedOdds 0.8482765591832608\n",
      "EqualizedOdds 0.8482765591832608\n",
      "0.8432730213282119\n",
      "0.827251592034772\n",
      "data/datasets/publiccov_tx/synthetic/gender_flip_labels0.3_version6/\n"
     ]
    },
    {
     "name": "stderr",
     "output_type": "stream",
     "text": [
      "2023-02-15 23:43:17.854977: I tensorflow/core/common_runtime/gpu/gpu_device.cc:1613] Created device /job:localhost/replica:0/task:0/device:GPU:0 with 46704 MB memory:  -> device: 0, name: NVIDIA RTX A6000, pci bus id: 0000:b1:00.0, compute capability: 8.6\n",
      "2023-02-15 23:43:17.855353: I tensorflow/core/common_runtime/gpu/gpu_device.cc:1613] Created device /job:localhost/replica:0/task:0/device:GPU:1 with 46704 MB memory:  -> device: 1, name: NVIDIA RTX A6000, pci bus id: 0000:d9:00.0, compute capability: 8.6\n"
     ]
    },
    {
     "name": "stdout",
     "output_type": "stream",
     "text": [
      "EqualizedOdds 0.8424138279591631\n",
      "EqualizedOdds 0.8340240574143334\n",
      "0.8380167795410897\n",
      "0.8190639846356009\n",
      "data/datasets/publiccov_tx/synthetic/gender_flip_labels0.3_version7/\n"
     ]
    },
    {
     "name": "stderr",
     "output_type": "stream",
     "text": [
      "2023-02-15 23:47:50.327782: I tensorflow/core/common_runtime/gpu/gpu_device.cc:1613] Created device /job:localhost/replica:0/task:0/device:GPU:0 with 46704 MB memory:  -> device: 0, name: NVIDIA RTX A6000, pci bus id: 0000:b1:00.0, compute capability: 8.6\n",
      "2023-02-15 23:47:50.328533: I tensorflow/core/common_runtime/gpu/gpu_device.cc:1613] Created device /job:localhost/replica:0/task:0/device:GPU:1 with 46704 MB memory:  -> device: 1, name: NVIDIA RTX A6000, pci bus id: 0000:d9:00.0, compute capability: 8.6\n"
     ]
    },
    {
     "name": "stdout",
     "output_type": "stream",
     "text": [
      "EqualizedOdds 0.8407459820074801\n",
      "EqualizedOdds 0.832406752249065\n",
      "0.834630546851309\n",
      "0.8225512988982109\n",
      "data/datasets/publiccov_tx/synthetic/gender_flip_labels0.3_version8/\n"
     ]
    },
    {
     "name": "stderr",
     "output_type": "stream",
     "text": [
      "2023-02-15 23:51:46.373857: I tensorflow/core/common_runtime/gpu/gpu_device.cc:1613] Created device /job:localhost/replica:0/task:0/device:GPU:0 with 46704 MB memory:  -> device: 0, name: NVIDIA RTX A6000, pci bus id: 0000:b1:00.0, compute capability: 8.6\n",
      "2023-02-15 23:51:46.374229: I tensorflow/core/common_runtime/gpu/gpu_device.cc:1613] Created device /job:localhost/replica:0/task:0/device:GPU:1 with 46704 MB memory:  -> device: 1, name: NVIDIA RTX A6000, pci bus id: 0000:d9:00.0, compute capability: 8.6\n"
     ]
    },
    {
     "name": "stdout",
     "output_type": "stream",
     "text": [
      "EqualizedOdds 0.8433235621146266\n",
      "EqualizedOdds 0.8406449004346508\n",
      "0.8430708581825533\n",
      "0.8233094106944304\n",
      "data/datasets/publiccov_tx/synthetic/gender_flip_labels0.3_version9/\n"
     ]
    },
    {
     "name": "stderr",
     "output_type": "stream",
     "text": [
      "2023-02-15 23:55:55.010830: I tensorflow/core/common_runtime/gpu/gpu_device.cc:1613] Created device /job:localhost/replica:0/task:0/device:GPU:0 with 46704 MB memory:  -> device: 0, name: NVIDIA RTX A6000, pci bus id: 0000:b1:00.0, compute capability: 8.6\n",
      "2023-02-15 23:55:55.011603: I tensorflow/core/common_runtime/gpu/gpu_device.cc:1613] Created device /job:localhost/replica:0/task:0/device:GPU:1 with 46704 MB memory:  -> device: 1, name: NVIDIA RTX A6000, pci bus id: 0000:d9:00.0, compute capability: 8.6\n"
     ]
    },
    {
     "name": "stdout",
     "output_type": "stream",
     "text": [
      "EqualizedOdds 0.8441827554836753\n",
      "EqualizedOdds 0.8403416557161629\n",
      "0.8469119579500657\n",
      "0.8222985949661377\n",
      "data/datasets/publiccov_tx/synthetic/gender_flip_labels0.4_version0/\n"
     ]
    },
    {
     "name": "stderr",
     "output_type": "stream",
     "text": [
      "2023-02-16 00:00:02.116719: I tensorflow/core/common_runtime/gpu/gpu_device.cc:1613] Created device /job:localhost/replica:0/task:0/device:GPU:0 with 46704 MB memory:  -> device: 0, name: NVIDIA RTX A6000, pci bus id: 0000:b1:00.0, compute capability: 8.6\n",
      "2023-02-16 00:00:02.117055: I tensorflow/core/common_runtime/gpu/gpu_device.cc:1613] Created device /job:localhost/replica:0/task:0/device:GPU:1 with 46704 MB memory:  -> device: 1, name: NVIDIA RTX A6000, pci bus id: 0000:d9:00.0, compute capability: 8.6\n"
     ]
    },
    {
     "name": "stdout",
     "output_type": "stream",
     "text": [
      "EqualizedOdds 0.8453957343576266\n",
      "EqualizedOdds 0.839634084706358\n",
      "0.8451430304255534\n",
      "0.8124936824016982\n",
      "data/datasets/publiccov_tx/synthetic/gender_flip_labels0.4_version1/\n"
     ]
    },
    {
     "name": "stderr",
     "output_type": "stream",
     "text": [
      "2023-02-16 00:04:53.695014: I tensorflow/core/common_runtime/gpu/gpu_device.cc:1613] Created device /job:localhost/replica:0/task:0/device:GPU:0 with 46704 MB memory:  -> device: 0, name: NVIDIA RTX A6000, pci bus id: 0000:b1:00.0, compute capability: 8.6\n",
      "2023-02-16 00:04:53.701798: I tensorflow/core/common_runtime/gpu/gpu_device.cc:1613] Created device /job:localhost/replica:0/task:0/device:GPU:1 with 46704 MB memory:  -> device: 1, name: NVIDIA RTX A6000, pci bus id: 0000:d9:00.0, compute capability: 8.6\n"
     ]
    },
    {
     "name": "stdout",
     "output_type": "stream",
     "text": [
      "EqualizedOdds 0.8487819670474073\n",
      "EqualizedOdds 0.8462043869402608\n",
      "0.844789244920651\n",
      "0.826847265743455\n",
      "data/datasets/publiccov_tx/synthetic/gender_flip_labels0.4_version2/\n"
     ]
    },
    {
     "name": "stderr",
     "output_type": "stream",
     "text": [
      "2023-02-16 00:09:32.793044: I tensorflow/core/common_runtime/gpu/gpu_device.cc:1613] Created device /job:localhost/replica:0/task:0/device:GPU:0 with 46704 MB memory:  -> device: 0, name: NVIDIA RTX A6000, pci bus id: 0000:b1:00.0, compute capability: 8.6\n",
      "2023-02-16 00:09:32.793673: I tensorflow/core/common_runtime/gpu/gpu_device.cc:1613] Created device /job:localhost/replica:0/task:0/device:GPU:1 with 46704 MB memory:  -> device: 1, name: NVIDIA RTX A6000, pci bus id: 0000:d9:00.0, compute capability: 8.6\n"
     ]
    },
    {
     "name": "stdout",
     "output_type": "stream",
     "text": [
      "EqualizedOdds 0.8439805923380168\n",
      "EqualizedOdds 0.8388759729101385\n",
      "0.8409986859395532\n",
      "0.8305872839381381\n",
      "data/datasets/publiccov_tx/synthetic/gender_flip_labels0.4_version3/\n"
     ]
    },
    {
     "name": "stderr",
     "output_type": "stream",
     "text": [
      "2023-02-16 00:13:45.215650: I tensorflow/core/common_runtime/gpu/gpu_device.cc:1613] Created device /job:localhost/replica:0/task:0/device:GPU:0 with 46704 MB memory:  -> device: 0, name: NVIDIA RTX A6000, pci bus id: 0000:b1:00.0, compute capability: 8.6\n",
      "2023-02-16 00:13:45.215991: I tensorflow/core/common_runtime/gpu/gpu_device.cc:1613] Created device /job:localhost/replica:0/task:0/device:GPU:1 with 46704 MB memory:  -> device: 1, name: NVIDIA RTX A6000, pci bus id: 0000:d9:00.0, compute capability: 8.6\n"
     ]
    },
    {
     "name": "stdout",
     "output_type": "stream",
     "text": [
      "EqualizedOdds 0.8425149095319924\n",
      "EqualizedOdds 0.8379156979682604\n",
      "0.841453553017285\n",
      "0.8195188517133326\n",
      "data/datasets/publiccov_tx/synthetic/gender_flip_labels0.4_version4/\n"
     ]
    },
    {
     "name": "stderr",
     "output_type": "stream",
     "text": [
      "2023-02-16 00:18:04.264073: I tensorflow/core/common_runtime/gpu/gpu_device.cc:1613] Created device /job:localhost/replica:0/task:0/device:GPU:0 with 46704 MB memory:  -> device: 0, name: NVIDIA RTX A6000, pci bus id: 0000:b1:00.0, compute capability: 8.6\n",
      "2023-02-16 00:18:04.268453: I tensorflow/core/common_runtime/gpu/gpu_device.cc:1613] Created device /job:localhost/replica:0/task:0/device:GPU:1 with 46704 MB memory:  -> device: 1, name: NVIDIA RTX A6000, pci bus id: 0000:d9:00.0, compute capability: 8.6\n"
     ]
    }
   ],
   "source": [
    "for path in paths:\n",
    "    try:\n",
    "        task(path)\n",
    "    except:\n",
    "        traceback.print_exc()"
   ]
  },
  {
   "cell_type": "code",
   "execution_count": null,
   "metadata": {},
   "outputs": [],
   "source": [
    "# from multiprocessing.pool import ThreadPool as Pool\n",
    "\n",
    "# pool = Pool(10)\n",
    "# for result in pool.imap_unordered(task, paths):\n",
    "#     print(result)"
   ]
  },
  {
   "cell_type": "code",
   "execution_count": null,
   "metadata": {},
   "outputs": [],
   "source": []
  },
  {
   "cell_type": "code",
   "execution_count": null,
   "metadata": {},
   "outputs": [],
   "source": []
  }
 ],
 "metadata": {
  "kernelspec": {
   "display_name": "Python [conda env:pablo]",
   "language": "python",
   "name": "conda-env-pablo-py"
  },
  "language_info": {
   "codemirror_mode": {
    "name": "ipython",
    "version": 3
   },
   "file_extension": ".py",
   "mimetype": "text/x-python",
   "name": "python",
   "nbconvert_exporter": "python",
   "pygments_lexer": "ipython3",
   "version": "3.7.5"
  }
 },
 "nbformat": 4,
 "nbformat_minor": 4
}
